{
 "cells": [
  {
   "cell_type": "markdown",
   "metadata": {},
   "source": [
    "# Building an intelligent LLM Routing System using Strands Agent SDK\n",
    "\n",
    "This notebook demonstrates how to build an LLM workflow using [Strands Agent](https://github.com/strands-agents) for intelligent routing. \n",
    "\n",
    "## Use Case\n",
    "Sales and marketing teams face diverse processing needs—from creative content generation to data-driven analysis to customer communications. Each of these tasks benefits from models with different strengths. Rather than using a one-size-fits-all approach, our routing system will analyze incoming requests, categorize them, and direct them to specialized models that excel at specific tasks.\n",
    "\n",
    "Using Strands Agent, we'll be enable an LLM workflow that perform the following:\n",
    "\n",
    "- Classify incoming requests by type and intent\n",
    "- Create a decision framework that maps request categories to appropriate models\n",
    "- Implement routing logic that directs requests to the optimal model\n",
    "\n",
    "The following diagram depicts the overall architecture and the worklfow:\n",
    "\n",
    "<img src=\"../../imgs/lab3-prompt-routing-architecture.png\" width=\"800\"> "
   ]
  },
  {
   "cell_type": "markdown",
   "metadata": {},
   "source": [
    "## Environment Setup\n",
    "\n",
    "Installing Strands Agents, loading environment variables & initiate Strands Agent libraries"
   ]
  },
  {
   "cell_type": "code",
   "execution_count": 1,
   "metadata": {
    "execution": {
     "iopub.execute_input": "2025-08-22T14:59:58.866004Z",
     "iopub.status.busy": "2025-08-22T14:59:58.865705Z",
     "iopub.status.idle": "2025-08-22T15:00:01.190757Z",
     "shell.execute_reply": "2025-08-22T15:00:01.189937Z",
     "shell.execute_reply.started": "2025-08-22T14:59:58.865975Z"
    }
   },
   "outputs": [
    {
     "name": "stdout",
     "output_type": "stream",
     "text": [
      "Note: you may need to restart the kernel to use updated packages.\n"
     ]
    }
   ],
   "source": [
    "%pip install strands-agents strands-agents-tools -Uq"
   ]
  },
  {
   "cell_type": "code",
   "execution_count": 2,
   "metadata": {
    "execution": {
     "iopub.execute_input": "2025-08-22T15:00:02.807814Z",
     "iopub.status.busy": "2025-08-22T15:00:02.807491Z",
     "iopub.status.idle": "2025-08-22T15:00:03.273919Z",
     "shell.execute_reply": "2025-08-22T15:00:03.273270Z",
     "shell.execute_reply.started": "2025-08-22T15:00:02.807787Z"
    }
   },
   "outputs": [
    {
     "name": "stdout",
     "output_type": "stream",
     "text": [
      "Using AWS region: us-east-1\n"
     ]
    }
   ],
   "source": [
    "from strands import Agent\n",
    "import boto3\n",
    "\n",
    "# Set up AWS session\n",
    "session = boto3.session.Session()\n",
    "region = session.region_name\n",
    "print(f\"Using AWS region: {region}\")\n",
    "\n",
    "# Define model IDs for our routing system\n",
    "classifier_model = \"us.amazon.nova-micro-v1:0\"  # For classification\n",
    "strategy_model = \"us.anthropic.claude-3-7-sonnet-20250219-v1:0\"  # For strategy tasks\n",
    "social_model = \"us.amazon.nova-lite-v1:0\" # For social media tasks"
   ]
  },
  {
   "cell_type": "markdown",
   "metadata": {},
   "source": [
    "Setting up logger"
   ]
  },
  {
   "cell_type": "code",
   "execution_count": 3,
   "metadata": {
    "execution": {
     "iopub.execute_input": "2025-08-22T15:00:04.183174Z",
     "iopub.status.busy": "2025-08-22T15:00:04.182775Z",
     "iopub.status.idle": "2025-08-22T15:00:04.187385Z",
     "shell.execute_reply": "2025-08-22T15:00:04.186619Z",
     "shell.execute_reply.started": "2025-08-22T15:00:04.183150Z"
    }
   },
   "outputs": [],
   "source": [
    "import logging\n",
    "\n",
    "# Configure the root strands logger\n",
    "logging.getLogger(\"strands\").setLevel(logging.INFO)\n",
    "\n",
    "# Add a handler to see the logs\n",
    "logging.basicConfig(\n",
    "    format=\"%(levelname)s | %(name)s | %(message)s\", \n",
    "    handlers=[logging.StreamHandler()])"
   ]
  },
  {
   "cell_type": "markdown",
   "metadata": {},
   "source": [
    "## Agents creation\n",
    "The following code block creates three specialized agents\n",
    "- Classifier agent to classify the marketing requests\n",
    "- Strategy agent to provide comprehensive strategic response to the requests\n",
    "- Social Media agent to create social media posts with hashtags to the requests"
   ]
  },
  {
   "cell_type": "code",
   "execution_count": 4,
   "metadata": {
    "execution": {
     "iopub.execute_input": "2025-08-22T15:00:04.778216Z",
     "iopub.status.busy": "2025-08-22T15:00:04.777886Z",
     "iopub.status.idle": "2025-08-22T15:00:04.986801Z",
     "shell.execute_reply": "2025-08-22T15:00:04.986150Z",
     "shell.execute_reply.started": "2025-08-22T15:00:04.778193Z"
    }
   },
   "outputs": [],
   "source": [
    "# Create agents for different tasks\n",
    "classifier_agent = Agent(\n",
    "    model=classifier_model,\n",
    "    system_prompt=\"\"\"You are a specialized routing assistant for a Media & Entertainment marketing team.\n",
    "    \n",
    "Your job is to classify incoming marketing requests into one of these categories:\n",
    "\n",
    "1. STRATEGY - Questions about developing marketing strategies, campaign planning, audience targeting, \n",
    "   marketing analytics, ROI assessment, or long-term marketing plans\n",
    "   \n",
    "2. SOCIAL_MEDIA - Requests for creating social media posts, captions, hashtags, or content for specific platforms\n",
    "\n",
    "Analyze the request carefully and classify it as either \"strategy\" or \"social_media\".\n",
    "Respond with ONLY the classification word, either \"strategy\" or \"social_media\".\n",
    "\"\"\"\n",
    ")\n",
    "\n",
    "strategy_agent = Agent(\n",
    "    model=strategy_model,\n",
    "    system_prompt=\"\"\"You are a marketing strategy expert for Media & Entertainment companies.\n",
    "    \n",
    "When responding to requests:\n",
    "- Develop comprehensive strategic responses with actionable insights\n",
    "- Include audience targeting recommendations\n",
    "- Provide campaign planning frameworks\n",
    "- Suggest ROI measurement approaches\n",
    "- Consider industry trends and competitive landscape\n",
    "- Structure your responses with clear sections and bullet points\n",
    "\"\"\"\n",
    ")\n",
    "\n",
    "social_media_agent = Agent(\n",
    "    model=social_model,  # Reusing the classifier model for social media tasks\n",
    "    system_prompt=\"\"\"You are a social media expert for Media & Entertainment companies.\n",
    "    \n",
    "When responding to requests:\n",
    "- Create engaging social media content tailored to the platform\n",
    "- Include creative captions that grab attention\n",
    "- Suggest relevant hashtags to increase visibility\n",
    "- Provide platform-specific tips for optimal engagement\n",
    "- Consider current trends and best practices\n",
    "- Format your content for easy copy-and-paste use\n",
    "\"\"\"\n",
    ")"
   ]
  },
  {
   "cell_type": "markdown",
   "metadata": {},
   "source": [
    "The below code will route the user query to the appropriate agent based on the response from classifier agent"
   ]
  },
  {
   "cell_type": "code",
   "execution_count": 5,
   "metadata": {
    "execution": {
     "iopub.execute_input": "2025-08-22T15:00:05.761364Z",
     "iopub.status.busy": "2025-08-22T15:00:05.761043Z",
     "iopub.status.idle": "2025-08-22T15:00:05.766794Z",
     "shell.execute_reply": "2025-08-22T15:00:05.766055Z",
     "shell.execute_reply.started": "2025-08-22T15:00:05.761339Z"
    }
   },
   "outputs": [],
   "source": [
    "def route_request(user_query):\n",
    "    \"\"\"Route the user query to the appropriate agent based on classification\"\"\"\n",
    "    \n",
    "    print(f\"📝 User Query: {user_query}\\n\")\n",
    "    \n",
    "    # Step 1: Classify the request\n",
    "    print(\"🔍 Classifying request...\")\n",
    "    classification = classifier_agent(f\"Classify this request: '{user_query}'\")\n",
    "    response_text = str(classification.message).lower()\n",
    "    \n",
    "    # Determine category\n",
    "    if \"strategy\" in response_text:\n",
    "        category = \"strategy\"\n",
    "    else:\n",
    "        category = \"social_media\"\n",
    "        \n",
    "    print(f\"✅ Request classified as: {category.upper()}\\n\")\n",
    "    \n",
    "    # Step 2: Route to the appropriate agent\n",
    "    if category == \"strategy\":\n",
    "        print(\"🧠 Routing to Strategy Agent (Claude 3.5 Sonnet)...\\n\")\n",
    "        response = strategy_agent(user_query)\n",
    "    else:  # social_media\n",
    "        print(\"📱 Routing to Social Media Agent (Claude 3 Haiku)...\\n\")\n",
    "        response = social_media_agent(user_query)\n",
    "    \n",
    "    response_text = str(response.message)\n",
    "    \n",
    "    print(\"\\n\" + \"-\"*50 + \"\\n\")\n",
    "    print(f\"🤖 Response:\\n\\n{response_text}\")\n",
    "    print(\"\\n\" + \"-\"*50)\n",
    "    \n",
    "    return {\"category\": category, \"response\": response_text}"
   ]
  },
  {
   "cell_type": "markdown",
   "metadata": {},
   "source": [
    "### Validation"
   ]
  },
  {
   "cell_type": "code",
   "execution_count": 6,
   "metadata": {
    "execution": {
     "iopub.execute_input": "2025-08-22T15:00:06.442970Z",
     "iopub.status.busy": "2025-08-22T15:00:06.442509Z",
     "iopub.status.idle": "2025-08-22T15:00:25.681684Z",
     "shell.execute_reply": "2025-08-22T15:00:25.681075Z",
     "shell.execute_reply.started": "2025-08-22T15:00:06.442945Z"
    }
   },
   "outputs": [
    {
     "name": "stderr",
     "output_type": "stream",
     "text": [
      "INFO | strands.telemetry.metrics | Creating Strands MetricsClient\n"
     ]
    },
    {
     "name": "stdout",
     "output_type": "stream",
     "text": [
      "📝 User Query: We need to analyze the ROI of our summer blockbuster campaign across different marketing channels. Can you develop a framework for measuring effectiveness?\n",
      "\n",
      "🔍 Classifying request...\n",
      "strategy✅ Request classified as: STRATEGY\n",
      "\n",
      "🧠 Routing to Strategy Agent (Claude 3.5 Sonnet)...\n",
      "\n",
      "# Blockbuster Movie Marketing ROI Framework\n",
      "\n",
      "## Campaign Effectiveness Measurement Structure\n",
      "\n",
      "### Pre-Campaign Baseline Metrics\n",
      "- **Box Office Projections:** Establish baseline expectations based on genre, cast appeal, and similar releases\n",
      "- **Audience Awareness:** Conduct pre-campaign surveys measuring title recognition and intent-to-view\n",
      "- **Social Media Benchmarks:** Document follower counts, engagement rates, and sentiment across platforms\n",
      "- **Search Volume Analysis:** Record pre-campaign search trends for film title and related keywords\n",
      "\n",
      "### Channel-Specific ROI Measurement\n",
      "\n",
      "**Traditional Media**\n",
      "- **TV Advertising:**\n",
      "  * Cost per impression (CPM) compared to audience reach\n",
      "  * Correlation between ad spot timing and ticket pre-sales\n",
      "  * Attribution modeling using unique landing page URLs or promo codes\n",
      "  \n",
      "- **OOH & Print:**\n",
      "  * Geospatial analysis comparing local impressions to regional ticket sales\n",
      "  * QR code scans or unique URLs to track engagement\n",
      "\n",
      "**Digital Channels**\n",
      "- **Social Media:**\n",
      "  * Platform-specific engagement-to-conversion ratios\n",
      "  * Influencer campaign metrics (engagement rate, click-through, conversion)\n",
      "  * A/B testing of creative assets and audience targeting parameters\n",
      "  \n",
      "- **Paid Search & Display:**\n",
      "  * ROAS (Return on Ad Spend) tracking through Google Analytics\n",
      "  * First-touch vs. multi-touch attribution modeling\n",
      "  * Heat mapping of digital assets to optimize conversion paths\n",
      "\n",
      "**PR & Partnerships**\n",
      "- **Press Coverage:**\n",
      "  * PR value equivalent (earned media value calculation)\n",
      "  * Sentiment analysis of coverage and correlation to ticket sales\n",
      "  * Traffic spikes following major press moments\n",
      "\n",
      "## Advanced Analytics Implementation\n",
      "\n",
      "1. **Attribution Modeling:** Implement cross-channel attribution to understand the customer journey from awareness to ticket purchase\n",
      "   \n",
      "2. **Incrementality Testing:** Hold out specific regions/audiences from certain channels to measure the true incremental impact\n",
      "\n",
      "3. **Lifetime Value Analysis:** Track moviegoer behavior beyond initial release (merchandise, streaming, sequels)\n",
      "\n",
      "4. **Audience Segmentation:**\n",
      "   - Segment ROI analysis by demographic targets\n",
      "   - Compare acquisition costs across different audience segments\n",
      "\n",
      "## ROI Calculation Framework\n",
      "\n",
      "```\n",
      "Channel ROI = (Revenue Attributed to Channel - Channel Cost) / Channel Cost\n",
      "\n",
      "Where:\n",
      "- Revenue Attributed = Tickets Sold × Average Ticket Price × Attribution %\n",
      "- Channel Cost = Media Spend + Production Costs + Agency Fees\n",
      "```\n",
      "\n",
      "## Reporting & Optimization Structure\n",
      "- Weekly campaign performance dashboards during release window\n",
      "- Mid-campaign optimization opportunities identified by channel\n",
      "- Post-campaign analysis with recommendations for future releases\n",
      "\n",
      "Would you like me to elaborate on any specific component of this framework or discuss real-time optimization strategies during the campaign?\n",
      "--------------------------------------------------\n",
      "\n",
      "🤖 Response:\n",
      "\n",
      "{'role': 'assistant', 'content': [{'text': '# Blockbuster Movie Marketing ROI Framework\\n\\n## Campaign Effectiveness Measurement Structure\\n\\n### Pre-Campaign Baseline Metrics\\n- **Box Office Projections:** Establish baseline expectations based on genre, cast appeal, and similar releases\\n- **Audience Awareness:** Conduct pre-campaign surveys measuring title recognition and intent-to-view\\n- **Social Media Benchmarks:** Document follower counts, engagement rates, and sentiment across platforms\\n- **Search Volume Analysis:** Record pre-campaign search trends for film title and related keywords\\n\\n### Channel-Specific ROI Measurement\\n\\n**Traditional Media**\\n- **TV Advertising:**\\n  * Cost per impression (CPM) compared to audience reach\\n  * Correlation between ad spot timing and ticket pre-sales\\n  * Attribution modeling using unique landing page URLs or promo codes\\n  \\n- **OOH & Print:**\\n  * Geospatial analysis comparing local impressions to regional ticket sales\\n  * QR code scans or unique URLs to track engagement\\n\\n**Digital Channels**\\n- **Social Media:**\\n  * Platform-specific engagement-to-conversion ratios\\n  * Influencer campaign metrics (engagement rate, click-through, conversion)\\n  * A/B testing of creative assets and audience targeting parameters\\n  \\n- **Paid Search & Display:**\\n  * ROAS (Return on Ad Spend) tracking through Google Analytics\\n  * First-touch vs. multi-touch attribution modeling\\n  * Heat mapping of digital assets to optimize conversion paths\\n\\n**PR & Partnerships**\\n- **Press Coverage:**\\n  * PR value equivalent (earned media value calculation)\\n  * Sentiment analysis of coverage and correlation to ticket sales\\n  * Traffic spikes following major press moments\\n\\n## Advanced Analytics Implementation\\n\\n1. **Attribution Modeling:** Implement cross-channel attribution to understand the customer journey from awareness to ticket purchase\\n   \\n2. **Incrementality Testing:** Hold out specific regions/audiences from certain channels to measure the true incremental impact\\n\\n3. **Lifetime Value Analysis:** Track moviegoer behavior beyond initial release (merchandise, streaming, sequels)\\n\\n4. **Audience Segmentation:**\\n   - Segment ROI analysis by demographic targets\\n   - Compare acquisition costs across different audience segments\\n\\n## ROI Calculation Framework\\n\\n```\\nChannel ROI = (Revenue Attributed to Channel - Channel Cost) / Channel Cost\\n\\nWhere:\\n- Revenue Attributed = Tickets Sold × Average Ticket Price × Attribution %\\n- Channel Cost = Media Spend + Production Costs + Agency Fees\\n```\\n\\n## Reporting & Optimization Structure\\n- Weekly campaign performance dashboards during release window\\n- Mid-campaign optimization opportunities identified by channel\\n- Post-campaign analysis with recommendations for future releases\\n\\nWould you like me to elaborate on any specific component of this framework or discuss real-time optimization strategies during the campaign?'}]}\n",
      "\n",
      "--------------------------------------------------\n"
     ]
    },
    {
     "data": {
      "text/plain": [
       "{'category': 'strategy',\n",
       " 'response': \"{'role': 'assistant', 'content': [{'text': '# Blockbuster Movie Marketing ROI Framework\\\\n\\\\n## Campaign Effectiveness Measurement Structure\\\\n\\\\n### Pre-Campaign Baseline Metrics\\\\n- **Box Office Projections:** Establish baseline expectations based on genre, cast appeal, and similar releases\\\\n- **Audience Awareness:** Conduct pre-campaign surveys measuring title recognition and intent-to-view\\\\n- **Social Media Benchmarks:** Document follower counts, engagement rates, and sentiment across platforms\\\\n- **Search Volume Analysis:** Record pre-campaign search trends for film title and related keywords\\\\n\\\\n### Channel-Specific ROI Measurement\\\\n\\\\n**Traditional Media**\\\\n- **TV Advertising:**\\\\n  * Cost per impression (CPM) compared to audience reach\\\\n  * Correlation between ad spot timing and ticket pre-sales\\\\n  * Attribution modeling using unique landing page URLs or promo codes\\\\n  \\\\n- **OOH & Print:**\\\\n  * Geospatial analysis comparing local impressions to regional ticket sales\\\\n  * QR code scans or unique URLs to track engagement\\\\n\\\\n**Digital Channels**\\\\n- **Social Media:**\\\\n  * Platform-specific engagement-to-conversion ratios\\\\n  * Influencer campaign metrics (engagement rate, click-through, conversion)\\\\n  * A/B testing of creative assets and audience targeting parameters\\\\n  \\\\n- **Paid Search & Display:**\\\\n  * ROAS (Return on Ad Spend) tracking through Google Analytics\\\\n  * First-touch vs. multi-touch attribution modeling\\\\n  * Heat mapping of digital assets to optimize conversion paths\\\\n\\\\n**PR & Partnerships**\\\\n- **Press Coverage:**\\\\n  * PR value equivalent (earned media value calculation)\\\\n  * Sentiment analysis of coverage and correlation to ticket sales\\\\n  * Traffic spikes following major press moments\\\\n\\\\n## Advanced Analytics Implementation\\\\n\\\\n1. **Attribution Modeling:** Implement cross-channel attribution to understand the customer journey from awareness to ticket purchase\\\\n   \\\\n2. **Incrementality Testing:** Hold out specific regions/audiences from certain channels to measure the true incremental impact\\\\n\\\\n3. **Lifetime Value Analysis:** Track moviegoer behavior beyond initial release (merchandise, streaming, sequels)\\\\n\\\\n4. **Audience Segmentation:**\\\\n   - Segment ROI analysis by demographic targets\\\\n   - Compare acquisition costs across different audience segments\\\\n\\\\n## ROI Calculation Framework\\\\n\\\\n```\\\\nChannel ROI = (Revenue Attributed to Channel - Channel Cost) / Channel Cost\\\\n\\\\nWhere:\\\\n- Revenue Attributed = Tickets Sold × Average Ticket Price × Attribution %\\\\n- Channel Cost = Media Spend + Production Costs + Agency Fees\\\\n```\\\\n\\\\n## Reporting & Optimization Structure\\\\n- Weekly campaign performance dashboards during release window\\\\n- Mid-campaign optimization opportunities identified by channel\\\\n- Post-campaign analysis with recommendations for future releases\\\\n\\\\nWould you like me to elaborate on any specific component of this framework or discuss real-time optimization strategies during the campaign?'}]}\"}"
      ]
     },
     "execution_count": 6,
     "metadata": {},
     "output_type": "execute_result"
    }
   ],
   "source": [
    "# Test with a strategy request\n",
    "strategy_query = \"We need to analyze the ROI of our summer blockbuster campaign across different marketing channels. Can you develop a framework for measuring effectiveness?\"\n",
    "route_request(strategy_query)"
   ]
  },
  {
   "cell_type": "code",
   "execution_count": 7,
   "metadata": {
    "execution": {
     "iopub.execute_input": "2025-08-22T15:00:25.683247Z",
     "iopub.status.busy": "2025-08-22T15:00:25.682934Z",
     "iopub.status.idle": "2025-08-22T15:00:30.435568Z",
     "shell.execute_reply": "2025-08-22T15:00:30.434969Z",
     "shell.execute_reply.started": "2025-08-22T15:00:25.683226Z"
    }
   },
   "outputs": [
    {
     "name": "stdout",
     "output_type": "stream",
     "text": [
      "📝 User Query: We need 5 Instagram post ideas for the premiere of our new sci-fi series 'Nexus Point.' Please include caption text and hashtag suggestions.\n",
      "\n",
      "🔍 Classifying request...\n",
      "social_media✅ Request classified as: SOCIAL_MEDIA\n",
      "\n",
      "📱 Routing to Social Media Agent (Claude 3 Haiku)...\n",
      "\n",
      "Absolutely! Here are five Instagram post ideas for the premiere of your new sci-fi series 'Nexus Point':\n",
      "\n",
      "### Post 1: Teaser Trailer Reveal\n",
      "\n",
      "**Image/Video:** A dynamic, eye-catching frame from the trailer with a futuristic cityscape in the background.\n",
      "\n",
      "**Caption:**\n",
      "\"🌌 Dive into the unknown with 'Nexus Point'! 🚀 Our new sci-fi series premieres [Date]. Are you ready to explore the cosmos? 🌠 #NexusPoint #SciFiAdventure #PremiereAlert\"\n",
      "\n",
      "**Hashtags:** #NexusPoint #SciFiSeries #PremiereNight #FuturisticAdventure #SpaceExploration\n",
      "\n",
      "### Post 2: Character Introduction\n",
      "\n",
      "**Image/Video:** A high-quality image of a main character in a dramatic pose.\n",
      "\n",
      "**Caption:**\n",
      "\"Meet [Character Name], the hero of 'Nexus Point'. 🌟 Will they save the universe or face its greatest challenges? Find out when the series premieres! 🌌✨ #NexusPoint #CharacterReveal #SciFiHeroes #ComingSoon\"\n",
      "\n",
      "**Hashtags:** #NexusPoint #SciFiCharacters #HeroJourney #CharacterSpotlight #SeriesPremiere\n",
      "\n",
      "### Post 3: Behind-the-Scenes\n",
      "\n",
      "**Image/Video:** A behind-the-scenes photo or video of the cast and crew working on set.\n",
      "\n",
      "**Caption:**\n",
      "\"Ever wondered what goes into making a sci-fi masterpiece? 🌠 Here’s a sneak peek behind the scenes of 'Nexus Point'. Premieres [Date]! #NexusPoint #BehindTheScenes #SciFiMagic #MakingOf\"\n",
      "\n",
      "**Hashtags:** #NexusPoint #BTS #SciFiSeries #BehindTheScenes #SeriesPremiere\n",
      "\n",
      "### Post 4: Interactive Poll\n",
      "\n",
      "**Image/Video:** A split image or carousel with multiple character choices.\n",
      "\n",
      "**Caption:**\n",
      "\"Who’s your favorite 'Nexus Point' character? 🌌 Cast your vote and let us know who you’re rooting for! Premieres [Date]. 🚀 #NexusPoint #CharacterPoll #SciFiFans #VoteNow\"\n",
      "\n",
      "**Hashtags:** #NexusPoint #CharacterPoll #SciFiFans #InteractivePost #SeriesPremiere\n",
      "\n",
      "### Post 5: Premiere Night Countdown\n",
      "\n",
      "**Image/Video:** A countdown graphic with a futuristic theme.\n",
      "\n",
      "**Caption:**\n",
      "\"The countdown to 'Nexus Point' has begun! ⏳ Only [X] days left until we blast off into the unknown. Are you ready? #NexusPoint #CountdownToPremiere #SciFiSeries #ComingSoon\"\n",
      "\n",
      "**Hashtags:** #NexusPoint #Countdown #SciFiSeries #PremiereCountdown #SpaceAdventure\n",
      "\n",
      "---\n",
      "\n",
      "**Platform-Specific Tips:**\n",
      "\n",
      "1. **Instagram Stories:** Use polls, quizzes, and countdown stickers to engage your audience.\n",
      "2. **Instagram Reels:** Create short, engaging clips from the series, possibly with trending music to increase visibility.\n",
      "3. **Instagram Posts:** Ensure high-quality visuals and use engaging captions to capture attention.\n",
      "4. **Instagram IGTV:** Share longer clips, such as extended trailers or behind-the-scenes footage.\n",
      "5. **Hashtags:** Use a mix of trending and niche-specific hashtags to reach a broader audience while targeting sci-fi enthusiasts.\n",
      "\n",
      "Feel free to copy and paste these ideas directly into your Instagram content creation workflow!\n",
      "--------------------------------------------------\n",
      "\n",
      "🤖 Response:\n",
      "\n",
      "{'role': 'assistant', 'content': [{'text': 'Absolutely! Here are five Instagram post ideas for the premiere of your new sci-fi series \\'Nexus Point\\':\\n\\n### Post 1: Teaser Trailer Reveal\\n\\n**Image/Video:** A dynamic, eye-catching frame from the trailer with a futuristic cityscape in the background.\\n\\n**Caption:**\\n\"🌌 Dive into the unknown with \\'Nexus Point\\'! 🚀 Our new sci-fi series premieres [Date]. Are you ready to explore the cosmos? 🌠 #NexusPoint #SciFiAdventure #PremiereAlert\"\\n\\n**Hashtags:** #NexusPoint #SciFiSeries #PremiereNight #FuturisticAdventure #SpaceExploration\\n\\n### Post 2: Character Introduction\\n\\n**Image/Video:** A high-quality image of a main character in a dramatic pose.\\n\\n**Caption:**\\n\"Meet [Character Name], the hero of \\'Nexus Point\\'. 🌟 Will they save the universe or face its greatest challenges? Find out when the series premieres! 🌌✨ #NexusPoint #CharacterReveal #SciFiHeroes #ComingSoon\"\\n\\n**Hashtags:** #NexusPoint #SciFiCharacters #HeroJourney #CharacterSpotlight #SeriesPremiere\\n\\n### Post 3: Behind-the-Scenes\\n\\n**Image/Video:** A behind-the-scenes photo or video of the cast and crew working on set.\\n\\n**Caption:**\\n\"Ever wondered what goes into making a sci-fi masterpiece? 🌠 Here’s a sneak peek behind the scenes of \\'Nexus Point\\'. Premieres [Date]! #NexusPoint #BehindTheScenes #SciFiMagic #MakingOf\"\\n\\n**Hashtags:** #NexusPoint #BTS #SciFiSeries #BehindTheScenes #SeriesPremiere\\n\\n### Post 4: Interactive Poll\\n\\n**Image/Video:** A split image or carousel with multiple character choices.\\n\\n**Caption:**\\n\"Who’s your favorite \\'Nexus Point\\' character? 🌌 Cast your vote and let us know who you’re rooting for! Premieres [Date]. 🚀 #NexusPoint #CharacterPoll #SciFiFans #VoteNow\"\\n\\n**Hashtags:** #NexusPoint #CharacterPoll #SciFiFans #InteractivePost #SeriesPremiere\\n\\n### Post 5: Premiere Night Countdown\\n\\n**Image/Video:** A countdown graphic with a futuristic theme.\\n\\n**Caption:**\\n\"The countdown to \\'Nexus Point\\' has begun! ⏳ Only [X] days left until we blast off into the unknown. Are you ready? #NexusPoint #CountdownToPremiere #SciFiSeries #ComingSoon\"\\n\\n**Hashtags:** #NexusPoint #Countdown #SciFiSeries #PremiereCountdown #SpaceAdventure\\n\\n---\\n\\n**Platform-Specific Tips:**\\n\\n1. **Instagram Stories:** Use polls, quizzes, and countdown stickers to engage your audience.\\n2. **Instagram Reels:** Create short, engaging clips from the series, possibly with trending music to increase visibility.\\n3. **Instagram Posts:** Ensure high-quality visuals and use engaging captions to capture attention.\\n4. **Instagram IGTV:** Share longer clips, such as extended trailers or behind-the-scenes footage.\\n5. **Hashtags:** Use a mix of trending and niche-specific hashtags to reach a broader audience while targeting sci-fi enthusiasts.\\n\\nFeel free to copy and paste these ideas directly into your Instagram content creation workflow!'}]}\n",
      "\n",
      "--------------------------------------------------\n"
     ]
    },
    {
     "data": {
      "text/plain": [
       "{'category': 'social_media',\n",
       " 'response': '{\\'role\\': \\'assistant\\', \\'content\\': [{\\'text\\': \\'Absolutely! Here are five Instagram post ideas for the premiere of your new sci-fi series \\\\\\'Nexus Point\\\\\\':\\\\n\\\\n### Post 1: Teaser Trailer Reveal\\\\n\\\\n**Image/Video:** A dynamic, eye-catching frame from the trailer with a futuristic cityscape in the background.\\\\n\\\\n**Caption:**\\\\n\"🌌 Dive into the unknown with \\\\\\'Nexus Point\\\\\\'! 🚀 Our new sci-fi series premieres [Date]. Are you ready to explore the cosmos? 🌠 #NexusPoint #SciFiAdventure #PremiereAlert\"\\\\n\\\\n**Hashtags:** #NexusPoint #SciFiSeries #PremiereNight #FuturisticAdventure #SpaceExploration\\\\n\\\\n### Post 2: Character Introduction\\\\n\\\\n**Image/Video:** A high-quality image of a main character in a dramatic pose.\\\\n\\\\n**Caption:**\\\\n\"Meet [Character Name], the hero of \\\\\\'Nexus Point\\\\\\'. 🌟 Will they save the universe or face its greatest challenges? Find out when the series premieres! 🌌✨ #NexusPoint #CharacterReveal #SciFiHeroes #ComingSoon\"\\\\n\\\\n**Hashtags:** #NexusPoint #SciFiCharacters #HeroJourney #CharacterSpotlight #SeriesPremiere\\\\n\\\\n### Post 3: Behind-the-Scenes\\\\n\\\\n**Image/Video:** A behind-the-scenes photo or video of the cast and crew working on set.\\\\n\\\\n**Caption:**\\\\n\"Ever wondered what goes into making a sci-fi masterpiece? 🌠 Here’s a sneak peek behind the scenes of \\\\\\'Nexus Point\\\\\\'. Premieres [Date]! #NexusPoint #BehindTheScenes #SciFiMagic #MakingOf\"\\\\n\\\\n**Hashtags:** #NexusPoint #BTS #SciFiSeries #BehindTheScenes #SeriesPremiere\\\\n\\\\n### Post 4: Interactive Poll\\\\n\\\\n**Image/Video:** A split image or carousel with multiple character choices.\\\\n\\\\n**Caption:**\\\\n\"Who’s your favorite \\\\\\'Nexus Point\\\\\\' character? 🌌 Cast your vote and let us know who you’re rooting for! Premieres [Date]. 🚀 #NexusPoint #CharacterPoll #SciFiFans #VoteNow\"\\\\n\\\\n**Hashtags:** #NexusPoint #CharacterPoll #SciFiFans #InteractivePost #SeriesPremiere\\\\n\\\\n### Post 5: Premiere Night Countdown\\\\n\\\\n**Image/Video:** A countdown graphic with a futuristic theme.\\\\n\\\\n**Caption:**\\\\n\"The countdown to \\\\\\'Nexus Point\\\\\\' has begun! ⏳ Only [X] days left until we blast off into the unknown. Are you ready? #NexusPoint #CountdownToPremiere #SciFiSeries #ComingSoon\"\\\\n\\\\n**Hashtags:** #NexusPoint #Countdown #SciFiSeries #PremiereCountdown #SpaceAdventure\\\\n\\\\n---\\\\n\\\\n**Platform-Specific Tips:**\\\\n\\\\n1. **Instagram Stories:** Use polls, quizzes, and countdown stickers to engage your audience.\\\\n2. **Instagram Reels:** Create short, engaging clips from the series, possibly with trending music to increase visibility.\\\\n3. **Instagram Posts:** Ensure high-quality visuals and use engaging captions to capture attention.\\\\n4. **Instagram IGTV:** Share longer clips, such as extended trailers or behind-the-scenes footage.\\\\n5. **Hashtags:** Use a mix of trending and niche-specific hashtags to reach a broader audience while targeting sci-fi enthusiasts.\\\\n\\\\nFeel free to copy and paste these ideas directly into your Instagram content creation workflow!\\'}]}'}"
      ]
     },
     "execution_count": 7,
     "metadata": {},
     "output_type": "execute_result"
    }
   ],
   "source": [
    "# Test with a social media request\n",
    "social_media_query = \"We need 5 Instagram post ideas for the premiere of our new sci-fi series 'Nexus Point.' Please include caption text and hashtag suggestions.\"\n",
    "route_request(social_media_query)"
   ]
  },
  {
   "cell_type": "markdown",
   "metadata": {},
   "source": [
    "## Benefits of This Simplified Routing Approach\n",
    "\n",
    "- **Reduced Code**: Eliminated custom tools and complex response handling\n",
    "- **Resource Efficiency**: Reuses the same model for classification and social media tasks\n",
    "- **Simplified Classification**: Direct prompt engineering instead of structured output\n",
    "- **Maintainability**: Fewer components and dependencies\n",
    "- **Robustness**: Based on validated model compatibility and response handling"
   ]
  }
 ],
 "metadata": {
  "kernelspec": {
   "display_name": "Python 3 (ipykernel)",
   "language": "python",
   "name": "python3"
  },
  "language_info": {
   "codemirror_mode": {
    "name": "ipython",
    "version": 3
   },
   "file_extension": ".py",
   "mimetype": "text/x-python",
   "name": "python",
   "nbconvert_exporter": "python",
   "pygments_lexer": "ipython3",
   "version": "3.12.9"
  }
 },
 "nbformat": 4,
 "nbformat_minor": 4
}
