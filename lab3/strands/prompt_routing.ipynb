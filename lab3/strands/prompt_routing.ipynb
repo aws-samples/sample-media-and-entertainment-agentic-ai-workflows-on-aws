{
 "cells": [
  {
   "cell_type": "markdown",
   "metadata": {},
   "source": [
    "# Building an intelligent LLM Routing System using Strands Agent SDK\n",
    "\n",
    "This notebook demonstrates how to build an LLM workflow using [Strands Agent](https://github.com/strands-agents) for intelligent routing. \n",
    "\n",
    "## Use Case\n",
    "Sales and marketing teams face diverse processing needs—from creative content generation to data-driven analysis to customer communications. Each of these tasks benefits from models with different strengths. Rather than using a one-size-fits-all approach, our routing system will analyze incoming requests, categorize them, and direct them to specialized models that excel at specific tasks.\n",
    "\n",
    "Using Strands Agent, we'll be enable an LLM workflow that perform the following:\n",
    "\n",
    "- Classify incoming requests by type and intent\n",
    "- Create a decision framework that maps request categories to appropriate models\n",
    "- Implement routing logic that directs requests to the optimal model\n",
    "\n",
    "The following diagram depicts the overall architecture and the worklfow:\n",
    "\n",
    "<img src=\"../../imgs/lab3-prompt-routing-architecture.png\" width=\"800\"> "
   ]
  },
  {
   "cell_type": "markdown",
   "metadata": {},
   "source": [
    "## Environment Setup\n",
    "\n",
    "Installing Strands Agents, loading environment variables & initiate Strands Agent libraries"
   ]
  },
  {
   "cell_type": "code",
   "execution_count": null,
   "metadata": {},
   "outputs": [],
   "source": [
    "%pip install strands-agents strands-agents-tools -Uq"
   ]
  },
  {
   "cell_type": "code",
   "execution_count": null,
   "metadata": {},
   "outputs": [],
   "source": [
    "from strands import Agent\n",
    "import boto3\n",
    "\n",
    "# Set up AWS session\n",
    "session = boto3.session.Session()\n",
    "region = session.region_name\n",
    "print(f\"Using AWS region: {region}\")\n",
    "\n",
    "# Define model IDs for our routing system\n",
    "classifier_model = \"us.amazon.nova-micro-v1:0\"  # For classification\n",
    "strategy_model = \"us.anthropic.claude-3-7-sonnet-20250219-v1:0\"  # For strategy tasks\n",
    "social_model = \"us.amazon.nova-lite-v1:0\" # For social media tasks"
   ]
  },
  {
   "cell_type": "markdown",
   "metadata": {},
   "source": [
    "Setting up logger"
   ]
  },
  {
   "cell_type": "code",
   "execution_count": null,
   "metadata": {},
   "outputs": [],
   "source": [
    "import logging\n",
    "\n",
    "# Configure the root strands logger\n",
    "logging.getLogger(\"strands\").setLevel(logging.DEBUG)\n",
    "\n",
    "# Add a handler to see the logs\n",
    "logging.basicConfig(\n",
    "    format=\"%(levelname)s | %(name)s | %(message)s\", \n",
    "    handlers=[logging.StreamHandler()])"
   ]
  },
  {
   "cell_type": "markdown",
   "metadata": {},
   "source": [
    "## Agents creation\n",
    "The following code block creates three specialized agents\n",
    "- Classifier agent to classify the marketing requests\n",
    "- Strategy agent to provide comprehensive strategic response to the requests\n",
    "- Social Media agent to create social media posts with hashtags to the requests"
   ]
  },
  {
   "cell_type": "code",
   "execution_count": null,
   "metadata": {},
   "outputs": [],
   "source": [
    "# Create agents for different tasks\n",
    "classifier_agent = Agent(\n",
    "    model=classifier_model,\n",
    "    system_prompt=\"\"\"You are a specialized routing assistant for a Media & Entertainment marketing team.\n",
    "    \n",
    "Your job is to classify incoming marketing requests into one of these categories:\n",
    "\n",
    "1. STRATEGY - Questions about developing marketing strategies, campaign planning, audience targeting, \n",
    "   marketing analytics, ROI assessment, or long-term marketing plans\n",
    "   \n",
    "2. SOCIAL_MEDIA - Requests for creating social media posts, captions, hashtags, or content for specific platforms\n",
    "\n",
    "Analyze the request carefully and classify it as either \"strategy\" or \"social_media\".\n",
    "Respond with ONLY the classification word, either \"strategy\" or \"social_media\".\n",
    "\"\"\"\n",
    ")\n",
    "\n",
    "strategy_agent = Agent(\n",
    "    model=strategy_model,\n",
    "    system_prompt=\"\"\"You are a marketing strategy expert for Media & Entertainment companies.\n",
    "    \n",
    "When responding to requests:\n",
    "- Develop comprehensive strategic responses with actionable insights\n",
    "- Include audience targeting recommendations\n",
    "- Provide campaign planning frameworks\n",
    "- Suggest ROI measurement approaches\n",
    "- Consider industry trends and competitive landscape\n",
    "- Structure your responses with clear sections and bullet points\n",
    "\"\"\"\n",
    ")\n",
    "\n",
    "social_media_agent = Agent(\n",
    "    model=social_model,  # Reusing the classifier model for social media tasks\n",
    "    system_prompt=\"\"\"You are a social media expert for Media & Entertainment companies.\n",
    "    \n",
    "When responding to requests:\n",
    "- Create engaging social media content tailored to the platform\n",
    "- Include creative captions that grab attention\n",
    "- Suggest relevant hashtags to increase visibility\n",
    "- Provide platform-specific tips for optimal engagement\n",
    "- Consider current trends and best practices\n",
    "- Format your content for easy copy-and-paste use\n",
    "\"\"\"\n",
    ")"
   ]
  },
  {
   "cell_type": "markdown",
   "metadata": {},
   "source": [
    "The below code will route the user query to the appropriate agent based on the response from classifier agent"
   ]
  },
  {
   "cell_type": "code",
   "execution_count": null,
   "metadata": {},
   "outputs": [],
   "source": [
    "def route_request(user_query):\n",
    "    \"\"\"Route the user query to the appropriate agent based on classification\"\"\"\n",
    "    \n",
    "    print(f\"📝 User Query: {user_query}\\n\")\n",
    "    \n",
    "    # Step 1: Classify the request\n",
    "    print(\"🔍 Classifying request...\")\n",
    "    classification = classifier_agent(f\"Classify this request: '{user_query}'\")\n",
    "    response_text = str(classification.message).lower()\n",
    "    \n",
    "    # Determine category\n",
    "    if \"strategy\" in response_text:\n",
    "        category = \"strategy\"\n",
    "    else:\n",
    "        category = \"social_media\"\n",
    "        \n",
    "    print(f\"✅ Request classified as: {category.upper()}\\n\")\n",
    "    \n",
    "    # Step 2: Route to the appropriate agent\n",
    "    if category == \"strategy\":\n",
    "        print(\"🧠 Routing to Strategy Agent (Claude 3.5 Sonnet)...\\n\")\n",
    "        response = strategy_agent(user_query)\n",
    "    else:  # social_media\n",
    "        print(\"📱 Routing to Social Media Agent (Claude 3 Haiku)...\\n\")\n",
    "        response = social_media_agent(user_query)\n",
    "    \n",
    "    response_text = str(response.message)\n",
    "    \n",
    "    print(\"\\n\" + \"-\"*50 + \"\\n\")\n",
    "    print(f\"🤖 Response:\\n\\n{response_text}\")\n",
    "    print(\"\\n\" + \"-\"*50)\n",
    "    \n",
    "    return {\"category\": category, \"response\": response_text}"
   ]
  },
  {
   "cell_type": "markdown",
   "metadata": {},
   "source": [
    "### Validation"
   ]
  },
  {
   "cell_type": "code",
   "execution_count": null,
   "metadata": {},
   "outputs": [],
   "source": [
    "# Test with a strategy request\n",
    "strategy_query = \"We need to analyze the ROI of our summer blockbuster campaign across different marketing channels. Can you develop a framework for measuring effectiveness?\"\n",
    "route_request(strategy_query)"
   ]
  },
  {
   "cell_type": "code",
   "execution_count": null,
   "metadata": {},
   "outputs": [],
   "source": [
    "# Test with a social media request\n",
    "social_media_query = \"We need 5 Instagram post ideas for the premiere of our new sci-fi series 'Nexus Point.' Please include caption text and hashtag suggestions.\"\n",
    "route_request(social_media_query)"
   ]
  },
  {
   "cell_type": "markdown",
   "metadata": {},
   "source": [
    "## Benefits of This Simplified Routing Approach\n",
    "\n",
    "- **Reduced Code**: Eliminated custom tools and complex response handling\n",
    "- **Resource Efficiency**: Reuses the same model for classification and social media tasks\n",
    "- **Simplified Classification**: Direct prompt engineering instead of structured output\n",
    "- **Maintainability**: Fewer components and dependencies\n",
    "- **Robustness**: Based on validated model compatibility and response handling"
   ]
  }
 ],
 "metadata": {
  "kernelspec": {
   "display_name": "Python 3",
   "language": "python",
   "name": "python3"
  },
  "language_info": {
   "codemirror_mode": {
    "name": "ipython",
    "version": 3
   },
   "file_extension": ".py",
   "mimetype": "text/x-python",
   "name": "python",
   "nbconvert_exporter": "python",
   "pygments_lexer": "ipython3",
   "version": "3.12.0"
  }
 },
 "nbformat": 4,
 "nbformat_minor": 2
}
