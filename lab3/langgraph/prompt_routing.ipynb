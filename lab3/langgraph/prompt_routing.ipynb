{
 "cells": [
  {
   "cell_type": "markdown",
   "metadata": {},
   "source": [
    "# Building an intelligent LLM Routing System using Langgraph\n",
    "\n",
    "This notebook demonstrates how to build an LLM workflow using [Langgraph](https://github.com/langchain-ai/langgraph) for intelligent routing. \n",
    "\n",
    "## Use Case\n",
    "Sales and marketing teams face diverse processing needs—from creative content generation to data-driven analysis to customer communications. Each of these tasks benefits from models with different strengths. Rather than using a one-size-fits-all approach, our routing system will analyze incoming requests, categorize them, and direct them to specialized models that excel at specific tasks.\n",
    "\n",
    "Using langgraph, we'll be enable an LLM workflow that perform the following:\n",
    "\n",
    "- Classify incoming requests by type and intent\n",
    "- Create a decision framework that maps request categories to appropriate models\n",
    "- Implement routing logic that directs requests to the optimal model\n",
    "\n",
    "The following diagram depicts the overall architecture and the worklfow:\n",
    "\n",
    "<img src=\"../../imgs/lab3-prompt-routing-architecture.png\" width=\"800\"> "
   ]
  },
  {
   "cell_type": "markdown",
   "metadata": {},
   "source": [
    "## Core Dependencies\n",
    "\n",
    "We import the essential LangGraph and LangChain components for building our intelligent routing workflow:\n",
    "- `entrypoint`, `task`: LangGraph decorators for defining workflow steps\n",
    "- `BaseModel`: Pydantic for structured data validation\n",
    "- `ChatBedrockConverse`: AWS Bedrock integration for LLM interactions"
   ]
  },
  {
   "cell_type": "code",
   "execution_count": 13,
   "metadata": {},
   "outputs": [],
   "source": [
    "from typing_extensions import Literal\n",
    "from pydantic import BaseModel, Field\n",
    "from langchain_core.messages import HumanMessage, SystemMessage\n",
    "from langchain_aws import ChatBedrockConverse\n",
    "import boto3\n",
    "from langgraph.func import entrypoint, task"
   ]
  },
  {
   "cell_type": "markdown",
   "metadata": {},
   "source": [
    "## Environment and AWS Configuration\n",
    "\n",
    "Setting up the AWS session and defining the specific models we'll use for different tasks. Each model is optimized for its specific role in the routing workflow."
   ]
  },
  {
   "cell_type": "code",
   "execution_count": 59,
   "metadata": {},
   "outputs": [],
   "source": [
    "session = boto3.session.Session()\n",
    "region = session.region_name\n",
    "bedrock_client = boto3.client('bedrock-runtime', region)\n",
    "\n",
    "router_model_id = \"us.amazon.nova-micro-v1:0\"\n",
    "strategy_model_id = \"us.anthropic.claude-3-5-sonnet-20241022-v2:0\"\n",
    "social_media_model_id = \"us.amazon.nova-lite-v1:0\"\n"
   ]
  },
  {
   "cell_type": "markdown",
   "metadata": {},
   "source": [
    "## Routing Schema Definition\n",
    "\n",
    "This Pydantic model defines the structured output format for our routing logic, ensuring consistent and predictable routing decisions."
   ]
  },
  {
   "cell_type": "code",
   "execution_count": 60,
   "metadata": {},
   "outputs": [],
   "source": [
    "# Schema for structured output to use as routing logic\n",
    "class Route(BaseModel):\n",
    "    step: Literal[\"strategy\", \"social_media\"] = Field(\n",
    "        None, description=\"The` next step in the routing process\"\n",
    "    )\n"
   ]
  },
  {
   "cell_type": "markdown",
   "metadata": {},
   "source": [
    "## Router LLM Setup\n",
    "\n",
    "The router uses a lightweight, fast model (Nova Micro) optimized for classification tasks. Low temperature ensures consistent routing decisions."
   ]
  },
  {
   "cell_type": "code",
   "execution_count": 61,
   "metadata": {},
   "outputs": [],
   "source": [
    "router_llm = ChatBedrockConverse(\n",
    "    model=router_model_id,  # or another Claude model\n",
    "    temperature=0.1,\n",
    "    max_tokens=None,\n",
    "    client=bedrock_client,\n",
    ")"
   ]
  },
  {
   "cell_type": "code",
   "execution_count": 62,
   "metadata": {},
   "outputs": [],
   "source": [
    "# Augment the LLM with schema for structured output\n",
    "router = router_llm.with_structured_output(Route)"
   ]
  },
  {
   "cell_type": "markdown",
   "metadata": {},
   "source": [
    "## Strategy LLM Configuration\n",
    "\n",
    "For strategy tasks, we use Claude 3.5 Sonnet - a more powerful model optimized for complex reasoning, analysis, and strategic thinking. Higher temperature allows for more creative strategic responses."
   ]
  },
  {
   "cell_type": "code",
   "execution_count": 63,
   "metadata": {},
   "outputs": [],
   "source": [
    "strategy_llm = ChatBedrockConverse(\n",
    "    model=strategy_model_id,  # or another Claude model\n",
    "    temperature=1.0,\n",
    "    max_tokens=None,\n",
    "    client=bedrock_client,\n",
    ")"
   ]
  },
  {
   "cell_type": "markdown",
   "metadata": {},
   "source": [
    "## Strategy Task Implementation\n",
    "\n",
    "This task function handles complex marketing strategy requests, providing comprehensive analysis and actionable recommendations using the specialized strategy model."
   ]
  },
  {
   "cell_type": "code",
   "execution_count": 64,
   "metadata": {},
   "outputs": [],
   "source": [
    "@task\n",
    "def llm_call_strategy(user_query: str):\n",
    "    \"\"\"A marketing strategy expert in Media & Entertainment that develops comprehensive strategy for the given request. \"\"\"\n",
    "    prompt_template = \"You are a marketing strategy expert for Media & Entertainment companies. Please develop a comprehensive strategic response to this request:{{user_query}}. Include actionable insights on audience targeting, campaign planning, and ROI measurement.\"\n",
    "    prompt = prompt_template.replace(\"{{user_query}}\", user_query)\n",
    "    result = strategy_llm.invoke(prompt)\n",
    "    return result.content"
   ]
  },
  {
   "cell_type": "markdown",
   "metadata": {},
   "source": [
    "## Social Media LLM Configuration\n",
    "\n",
    "For social media content creation, we use Nova Lite - a model optimized for creative, engaging content generation while being cost-effective for high-volume social media tasks."
   ]
  },
  {
   "cell_type": "code",
   "execution_count": 65,
   "metadata": {},
   "outputs": [],
   "source": [
    "social_media_llm = ChatBedrockConverse(\n",
    "    model=social_media_model_id,  # or another Claude model\n",
    "    temperature=1.0,\n",
    "    max_tokens=None,\n",
    "    client=bedrock_client,\n",
    ")"
   ]
  },
  {
   "cell_type": "markdown",
   "metadata": {},
   "source": [
    "## Social Media Task Implementation\n",
    "\n",
    "This task specializes in creating engaging, platform-specific social media content with the creative flair needed for viral marketing campaigns."
   ]
  },
  {
   "cell_type": "code",
   "execution_count": 66,
   "metadata": {},
   "outputs": [],
   "source": [
    "@task\n",
    "def llm_call_social_media(user_query: str):\n",
    "    \"\"\"A social media expert for Media & Entertainment that create engaging social media content.\"\"\"\n",
    "    prompt_template = \"\"\"You are a social media expert for Media & Entertainment companies. Create engaging social media content for this request:{{user_query}}. Include creative captions, relevant hashtags, and platform-specific tips.\"\"\"\n",
    "    prompt = prompt_template.replace(\"{{user_query}}\", user_query)\n",
    "    result = social_media_llm.invoke(prompt)\n",
    "    return result.content"
   ]
  },
  {
   "cell_type": "markdown",
   "metadata": {},
   "source": [
    "## Router Logic Implementation\n",
    "\n",
    "The core routing function that analyzes incoming requests and directs them to the appropriate specialized handler based on content type and intent."
   ]
  },
  {
   "cell_type": "code",
   "execution_count": 67,
   "metadata": {},
   "outputs": [],
   "source": [
    "llm_router_system_prompt = \"\"\"You are a specialized routing assistant for a Media & Entertainment marketing team. Your job is to classify incoming marketing requests into one of these categories: 1. STRATEGY - Questions about developing comprehensive marketing strategies, campaign planning, narratives, audience targeting, marketing analytics, ROI assessment, or long-term marketing plans 2. SOCIAL_MEDIA - Requests for creating social media posts, captions, hashtags, or content for specific platforms. Only respond with exactly one category label: either \"strategy\" or \"social_media\".\"\"\"\n",
    "def llm_call_router(input_: str):\n",
    "    \"\"\"Route the input to the appropriate node\"\"\"\n",
    "    # Run the augmented LLM with structured output to serve as routing logic\n",
    "    decision = router.invoke(\n",
    "        [\n",
    "            SystemMessage(\n",
    "                content=llm_router_system_prompt\n",
    "            ),\n",
    "            HumanMessage(content=input_),\n",
    "        ]\n",
    "    )\n",
    "    return decision.step"
   ]
  },
  {
   "cell_type": "markdown",
   "metadata": {},
   "source": [
    "## Workflow Orchestration\n",
    "\n",
    "The main workflow entry point that coordinates the routing decision and task execution. LangGraph's `@entrypoint` decorator makes this the main execution point for our routing system."
   ]
  },
  {
   "cell_type": "code",
   "execution_count": 68,
   "metadata": {},
   "outputs": [],
   "source": [
    "# Create workflow\n",
    "@entrypoint()\n",
    "def router_workflow(input_: str):\n",
    "    next_step = llm_call_router(input_)\n",
    "    if next_step == \"strategy\":\n",
    "        llm_call = llm_call_strategy\n",
    "    elif next_step == \"social_media\":\n",
    "        llm_call = llm_call_social_media\n",
    "\n",
    "    return llm_call(input_).result()"
   ]
  },
  {
   "cell_type": "markdown",
   "metadata": {},
   "source": [
    "## Testing Framework\n",
    "\n",
    "This utility function enables us to observe the workflow execution in real-time, showing how requests flow through the routing system and which specialized handlers are activated."
   ]
  },
  {
   "cell_type": "code",
   "execution_count": 72,
   "metadata": {},
   "outputs": [],
   "source": [
    "def invoke(query):\n",
    "    for step in router_workflow.stream(query, stream_mode=\"updates\"):\n",
    "        print(step)\n",
    "        print(\"\\n\")"
   ]
  },
  {
   "cell_type": "markdown",
   "metadata": {},
   "source": [
    "## Comprehensive Testing\n",
    "\n",
    "We test the routing system with diverse marketing scenarios to validate that it correctly classifies and routes different types of requests to their optimal handlers."
   ]
  },
  {
   "cell_type": "code",
   "execution_count": null,
   "metadata": {},
   "outputs": [],
   "source": [
    "# Invoke\n",
    "queries = [ \n",
    "    \"\"\"We need to analyze the ROI of our summer blockbuster campaign across different marketing channels. Can you develop a framework for measuring effectiveness and determining which platforms delivered the best returns?\"\"\",\n",
    "    \"\"\"Our new documentary series appeals to both environmental activists and mainstream viewers. How should we develop a segmented marketing strategy that effectively targets these different audience groups while maximizing our limited budget?\"\"\",\n",
    "    \"\"\"We're repositioning our streaming service to compete with larger players. Can you outline a 12-month marketing strategy that builds brand recognition and emphasizes our unique content library to drive subscriber growth?\"\"\",\n",
    "    \"\"\"We need 5 Instagram post ideas for the premiere of our new sci-fi series \"Nexus Point.\" Please include caption text and hashtag suggestions that will appeal to genre fans.\"\"\",\n",
    "    \"\"\"Create a viral TikTok challenge concept for promoting our new teen comedy movie. Include sample captions, music suggestions, and a catchy hashtag that could encourage user participation.\"\"\"\n",
    "]   \n",
    "\n",
    "for query in queries:    \n",
    "    invoke(query)\n",
    "\n"
   ]
  },
  {
   "cell_type": "markdown",
   "metadata": {},
   "source": [
    "## Key Advantages of This LangGraph Approach\n",
    "\n",
    "- **Structured Routing**: Pydantic schemas ensure reliable routing decisions\n",
    "- **Task Specialization**: Different models optimized for specific marketing functions  \n",
    "- **Real-time Observability**: Stream mode provides visibility into workflow execution\n",
    "- **Scalable Architecture**: Easy to add new categories and specialized handlers\n",
    "- **Cost Optimization**: Uses appropriate model complexity for each task type"
   ]
  }
 ],
 "metadata": {
  "kernelspec": {
   "display_name": "agent",
   "language": "python",
   "name": "python3"
  },
  "language_info": {
   "codemirror_mode": {
    "name": "ipython",
    "version": 3
   },
   "file_extension": ".py",
   "mimetype": "text/x-python",
   "name": "python",
   "nbconvert_exporter": "python",
   "pygments_lexer": "ipython3",
   "version": "3.12.0"
  }
 },
 "nbformat": 4,
 "nbformat_minor": 2
}
