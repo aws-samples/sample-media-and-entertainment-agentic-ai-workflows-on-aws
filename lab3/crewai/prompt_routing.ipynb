{
 "cells": [
  {
   "cell_type": "markdown",
   "metadata": {},
   "source": [
    "# Building an intelligent LLM Routing System using CrewAI\n",
    "\n",
    "This notebook demonstrates how to build an LLM workflow using [CrewAI](https://docs.crewai.com/) for intelligent routing. \n",
    "\n",
    "## Use Case\n",
    "Sales and marketing teams face diverse processing needs—from creative content generation to data-driven analysis to customer communications. Each of these tasks benefits from models with different strengths. Rather than using a one-size-fits-all approach, our routing system will analyze incoming requests, categorize them, and direct them to specialized models that excel at specific tasks.\n",
    "\n",
    "Using langgraph, we'll be enable an LLM workflow that perform the following:\n",
    "\n",
    "- Classify incoming requests by type and intent\n",
    "- Create a decision framework that maps request categories to appropriate models\n",
    "- Implement routing logic that directs requests to the optimal model\n",
    "\n",
    "The following diagram depicts the overall architecture and the worklfow:\n",
    "\n",
    "<img src=\"../../imgs/lab3-prompt-routing-architecture.png\" width=\"800\"> "
   ]
  },
  {
   "cell_type": "markdown",
   "metadata": {},
   "source": [
    "## Environment Setup\n",
    "\n",
    "First, we'll load the environment variables and import the necessary libraries for building our CrewAI flow."
   ]
  },
  {
   "cell_type": "code",
   "execution_count": 2,
   "metadata": {},
   "outputs": [],
   "source": [
    "from crewai.flow.flow import Flow, listen, router, start\n",
    "from pydantic import BaseModel\n",
    "from crewai import LLM"
   ]
  },
  {
   "cell_type": "markdown",
   "metadata": {},
   "source": [
    "## State Management\n",
    "\n",
    "The `AgentState` class defines the data structure that will be passed between different steps in our flow. This ensures consistent state management throughout the routing process."
   ]
  },
  {
   "cell_type": "code",
   "execution_count": 20,
   "metadata": {},
   "outputs": [],
   "source": [
    "class AgentState(BaseModel):\n",
    "    user_query: str = None\n",
    "    task_type: str = \"\""
   ]
  },
  {
   "cell_type": "markdown",
   "metadata": {},
   "source": [
    "## RouterFlow Implementation\n",
    "\n",
    "This class implements the core routing logic with three main components:\n",
    "\n",
    "1. **Classification Step** (`start_method`): Analyzes the user query and determines the task type\n",
    "2. **Routing Logic** (`router_step`): Directs the flow to the appropriate specialized handler  \n",
    "3. **Specialized Handlers**: Execute task-specific processing using optimized models which handles 2 different task types: `strategy` and `social_media`"
   ]
  },
  {
   "cell_type": "code",
   "execution_count": 21,
   "metadata": {},
   "outputs": [],
   "source": [
    "import random \n",
    "\n",
    "class RouterFlow(Flow[AgentState]):\n",
    "\n",
    "    @start()\n",
    "    def start_method(self):\n",
    "        print(\"Starting the Flow\")\n",
    "        system_prompt = \"\"\"You are a specialized routing assistant for a Media & Entertainment marketing team. Your job is to classify incoming marketing requests into one of these categories: 1. STRATEGY - Questions about developing comprehensive marketing strategies, campaign planning, narratives, audience targeting, marketing analytics, ROI assessment, or long-term marketing plans 2. SOCIAL_MEDIA - Requests for creating social media posts, captions, hashtags, or content for specific platforms. Only respond with exactly one category label: either \"strategy\" or \"social_media\".\"\"\"\n",
    "        messages = [\n",
    "            {\"role\": \"system\", \"content\": system_prompt},\n",
    "            {\"role\": \"user\", \"content\": self.state.user_query}\n",
    "        ]\n",
    "        llm = LLM(model=\"bedrock/us.amazon.nova-premier-v1:0\")\n",
    "        response = llm.call(messages=messages)\n",
    "        self.state.task_type = response.lower()\n",
    "\n",
    "    @router(start_method)\n",
    "    def router_step(self):\n",
    "        print(\"Router Step\")\n",
    "        if self.state.task_type == \"strategy\":\n",
    "            return \"strategy\"\n",
    "        elif self.state.task_type == \"social_media\":\n",
    "            return \"social_media\"\n",
    "\n",
    "    @listen(\"strategy\")\n",
    "    def strategy_step(self):\n",
    "        print(\"Strategy Step\")\n",
    "        llm = LLM(model=\"us.anthropic.claude-3-5-sonnet-20241022-v2:0\")\n",
    "        strategy_prompt = f\"You are a marketing strategy expert for Media & Entertainment companies. Please develop a comprehensive strategic response to this request:{self.state.user_query}. Include actionable insights on audience targeting, campaign planning, and ROI measurement.\"\n",
    "        response = llm.call(strategy_prompt)\n",
    "        return response\n",
    "    \n",
    "        \n",
    "    @listen(\"social_media\")\n",
    "    def social_media_step(self):\n",
    "        print(\"Social Media Step\")\n",
    "        llm = LLM(model=\"us.amazon.nova-lite-v1:0\")\n",
    "        social_media_prompt = f\"\"\"You are a social media expert for Media & Entertainment companies. Create engaging social media content for this request:{self.state.user_query}. Include creative captions, relevant hashtags, and platform-specific tips.\"\"\"\n",
    "        response = llm.call(social_media_prompt)\n",
    "        return response"
   ]
  },
  {
   "cell_type": "markdown",
   "metadata": {},
   "source": [
    "## Testing the Router\n",
    "\n",
    "Let's test our routing system with a strategy-focused query to see how it classifies and processes the request through the appropriate workflow."
   ]
  },
  {
   "cell_type": "code",
   "execution_count": null,
   "metadata": {},
   "outputs": [],
   "source": [
    "user_query = \"\"\"We need to analyze the ROI of our summer blockbuster campaign across different marketing channels. Can you develop a framework for measuring effectiveness and determining which platforms delivered the best returns?\"\"\"\n",
    "response = await RouterFlow().kickoff_async(inputs = { \"user_query\" : user_query})\n",
    "print(response)"
   ]
  },
  {
   "cell_type": "markdown",
   "metadata": {},
   "source": [
    "## Key Benefits of This Approach\n",
    "\n",
    "- **Intelligent Routing**: Automatically directs requests to models optimized for specific tasks\n",
    "- **Cost Optimization**: Uses lighter models for simpler tasks, more powerful models for complex analysis\n",
    "- **Scalability**: Easy to add new categories and specialized handlers\n",
    "- **Maintainability**: Clear separation between routing logic and task execution"
   ]
  }
 ],
 "metadata": {
  "kernelspec": {
   "display_name": "agent",
   "language": "python",
   "name": "python3"
  },
  "language_info": {
   "codemirror_mode": {
    "name": "ipython",
    "version": 3
   },
   "file_extension": ".py",
   "mimetype": "text/x-python",
   "name": "python",
   "nbconvert_exporter": "python",
   "pygments_lexer": "ipython3",
   "version": "3.12.0"
  }
 },
 "nbformat": 4,
 "nbformat_minor": 2
}
