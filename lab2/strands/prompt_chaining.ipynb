{
 "cells": [
  {
   "cell_type": "markdown",
   "metadata": {},
   "source": [
    "# Build a Prompt Chaining Agentic Workflow Using Strands Agent\n",
    "\n",
    "In this lab, we will build a chained prompts workflow using Strands Agent to intelligently process a legal contract, draft an email with concerns in the contract, and finally provide feedback on the email. Chaining prompts, which involves using the output of one prompt as input to another, offers several advantages when working with Large Language Models (LLMs).\n",
    "\n",
    "## What is Prompt Chaining\n",
    "Prompt chaining is a technique that involves breaking down a workflow into a series of known steps. Then orchestrates each step (typically involve an LLM invocation) to handle the output generated from the previous step. Within the worklow, there could be one or more conditional steps which determines the the trajectory of the workflow based on the given state.\n",
    "\n",
    "## Architecture Diagram\n",
    "<img src=\"../../imgs/prompt-chaining-architecture.png\" width=800>\n",
    "\n",
    "Let's get started!\n",
    "\n",
    "\n"
   ]
  },
  {
   "cell_type": "code",
   "execution_count": null,
   "metadata": {},
   "outputs": [],
   "source": [
    "%pip install strands-agents strands-agents-tools -Uq"
   ]
  },
  {
   "cell_type": "markdown",
   "metadata": {
    "vscode": {
     "languageId": "raw"
    }
   },
   "source": [
    "### Import Required Libraries and Configure Logging\n",
    "\n",
    "Import the necessary libraries including Strands Agent, JSON for data handling, and configure logging with INFO level to track the workflow progress with timestamps."
   ]
  },
  {
   "cell_type": "code",
   "execution_count": 3,
   "metadata": {},
   "outputs": [],
   "source": [
    "from strands import Agent\n",
    "import json\n",
    "import logging\n",
    "\n",
    "# Configure logging\n",
    "logging.basicConfig(\n",
    "    level=logging.INFO,\n",
    "    format='%(asctime)s - %(levelname)s - %(message)s',\n",
    "    datefmt='%Y-%m-%d %H:%M:%S'\n",
    ")\n",
    "logger = logging.getLogger(__name__)"
   ]
  },
  {
   "cell_type": "markdown",
   "metadata": {
    "vscode": {
     "languageId": "raw"
    }
   },
   "source": [
    "### Configure Model\n",
    "\n",
    "Set the Amazon Nova model ID that will be used by all agents in our prompt chaining workflow.\n"
   ]
  },
  {
   "cell_type": "code",
   "execution_count": 16,
   "metadata": {},
   "outputs": [],
   "source": [
    "import boto3\n",
    "import os\n",
    "import time\n",
    "\n",
    "sts_client = boto3.client('sts')\n",
    "session = boto3.session.Session()\n",
    "\n",
    "account_id = sts_client.get_caller_identity()[\"Account\"]\n",
    "region = session.region_name\n",
    "\n",
    "model_id = \"us.amazon.nova-micro-v1:0\"\n",
    "default_bucket_name = f\"labs-bucket-{region}-{account_id}\" # replace the bucket name if running outside of the AWS facilitated environment."
   ]
  },
  {
   "cell_type": "markdown",
   "metadata": {
    "vscode": {
     "languageId": "raw"
    }
   },
   "source": [
    "### Create Concern Finder Agent\n",
    "\n",
    "Initialize the first Strands agent in our chain - the Chief Legal Officer agent that reviews contracts for risks, focusing on data privacy, SLAs, and liability caps. This agent outputs findings in structured XML format.\n"
   ]
  },
  {
   "cell_type": "code",
   "execution_count": null,
   "metadata": {},
   "outputs": [],
   "source": [
    "# Create specialized agents\n",
    "concern_finder_system_prompt = \"\"\"You’re our Chief Legal Officer. You are given a contract to review for risks, focusing on data privacy, SLAs, and liability caps.\n",
    "\n",
    "Output your findings in <risks> XML tags.\n",
    "\"\"\"\n",
    "concernFinderAgent = Agent(model=model_id, system_prompt=concern_finder_system_prompt, callback_handler=None)"
   ]
  },
  {
   "cell_type": "markdown",
   "metadata": {
    "vscode": {
     "languageId": "raw"
    }
   },
   "source": [
    "### Create Email Writer Agent\n",
    "\n",
    "Initialize the second Strands agent in our chain - an expert email writer that takes the legal concerns identified by the previous agent and drafts a professional corporate email to Frost Technologies outlining the concerns and proposing contract changes.\n"
   ]
  },
  {
   "cell_type": "code",
   "execution_count": null,
   "metadata": {},
   "outputs": [],
   "source": [
    "emailWriterAgent_system_prompt = \"\"\"You are an expert at writing corporate legal emails. You are given the concerns from a contract in <risk> XML tag. Your task is to draft an email to Frost Technologies outlining the following concerns and proposing changes to a contract.\n",
    "\"\"\"\n",
    "emailWriterAgent = Agent(model=model_id, system_prompt=emailWriterAgent_system_prompt, callback_handler=None)"
   ]
  },
  {
   "cell_type": "markdown",
   "metadata": {
    "vscode": {
     "languageId": "raw"
    }
   },
   "source": [
    "### Create Email Reviewer Agent\n",
    "\n",
    "Initialize the third Strands agent in our chain - a professional email reviewer that analyzes the draft email and provides feedback on tone, clarity, and professionalism to ensure the communication meets corporate standards.\n"
   ]
  },
  {
   "cell_type": "code",
   "execution_count": null,
   "metadata": {},
   "outputs": [],
   "source": [
    "emailReviewerAgent_system_prompt = \"\"\"You are a professional email reviewer. You are given an email content in <email> XML tag. Your task is to review an email and provide feedback. \n",
    "Give feedback on tone, clarity, and professionalism.\n",
    "\"\"\"\n",
    "emailReviewerAgent = Agent(model=model_id, system_prompt=emailReviewerAgent_system_prompt, callback_handler=None)"
   ]
  },
  {
   "cell_type": "markdown",
   "metadata": {
    "vscode": {
     "languageId": "raw"
    }
   },
   "source": [
    "### Create Email Rewriter Agent\n",
    "\n",
    "Initialize the final Strands agent in our chain - a professional email writer that takes the original email and the reviewer's feedback to produce an improved, polished version of the email that incorporates all suggested improvements.\n"
   ]
  },
  {
   "cell_type": "code",
   "execution_count": null,
   "metadata": {},
   "outputs": [],
   "source": [
    "emailRewriterAgent_system_prompt = \"\"\"You are a professional email writer. You are given an original email content in <email> XML tag, and the feedback from a reviewer in <feedback> XML tag. Your task is to incorporate the feedback and rewrite the email from the orignial email.\n",
    "Put your rewritten email in the <rewritten_email> XML tag.\n",
    "\"\"\"\n",
    "emailRewriterAgent = Agent(model=model_id, system_prompt=emailRewriterAgent_system_prompt, callback_handler=None)"
   ]
  },
  {
   "cell_type": "markdown",
   "metadata": {},
   "source": [
    "### S3 Document Retrieval Function\n",
    "\n",
    "Define a function to retrieve contract documents from Amazon S3. This function handles AWS S3 operations with proper error handling and logging for any issues that might occur during document retrieval.\n"
   ]
  },
  {
   "cell_type": "code",
   "execution_count": 9,
   "metadata": {},
   "outputs": [],
   "source": [
    "import boto3\n",
    "from botocore.exceptions import ClientError\n",
    "\n",
    "def retrieve_from_s3(bucket_name, contract_name):\n",
    "    \"\"\"\n",
    "    Retrieve a contract document from S3\n",
    "    \n",
    "    Args:\n",
    "        bucket_name (str): Name of the S3 bucket\n",
    "        contract_name (str): Key/filename of the contract in S3\n",
    "    \n",
    "    Returns:\n",
    "        str: Content of the contract document\n",
    "    \"\"\"\n",
    "    try:\n",
    "        # Create S3 client\n",
    "        s3_client = boto3.client('s3')\n",
    "        \n",
    "        # Get the object from S3\n",
    "        response = s3_client.get_object(Bucket=bucket_name, Key=contract_name)\n",
    "        \n",
    "        # Read and decode the content\n",
    "        contract_content = response['Body'].read().decode('utf-8')\n",
    "        \n",
    "        return contract_content\n",
    "        \n",
    "    except ClientError as e:\n",
    "        logger.error(f\"Error retrieving contract from S3: {e}\")\n",
    "        return None\n",
    "    except Exception as e:\n",
    "        logger.error(f\"Unexpected error: {e}\")\n",
    "        return None"
   ]
  },
  {
   "cell_type": "markdown",
   "metadata": {},
   "source": [
    "### Main Prompt Chaining Workflow Function\n",
    "\n",
    "Define the main workflow function that orchestrates the entire prompt chaining process:\n",
    "1. Retrieves contract from S3\n",
    "2. Analyzes contract for legal concerns\n",
    "3. Drafts an email based on concerns\n",
    "4. Reviews the email for improvements\n",
    "5. Rewrites the email incorporating feedback\n",
    "\n",
    "This demonstrates the core concept of prompt chaining where each agent's output becomes the input for the next agent in the sequence.\n"
   ]
  },
  {
   "cell_type": "code",
   "execution_count": 14,
   "metadata": {},
   "outputs": [],
   "source": [
    "def contract_moderation_email_workflow(contract_key_dict):\n",
    "    try:\n",
    "        contract_data_dict = json.loads(contract_key_dict)\n",
    "        if \"s3_bucket_name\" in contract_data_dict:\n",
    "            bucket_name = contract_data_dict[\"s3_bucket_name\"]\n",
    "        else:\n",
    "            bucket_name = default_bucket_name\n",
    "        contract_s3_key = contract_data_dict[\"s3_object_key\"]\n",
    "        contract_data = retrieve_from_s3(bucket_name, contract_s3_key)\n",
    "        formatted_contract_data = f\"<contract>\\n{contract_data}\\n</contract>\"\n",
    "        concernFinderAgent_response = concernFinderAgent(prompt=formatted_contract_data)\n",
    "        concernFinderAgent_response_str = concernFinderAgent_response.message['content'][0]['text']\n",
    "        logger.info(\"CONTRACT CONCERN FINDER RESPONSE:\")\n",
    "        logger.info(concernFinderAgent_response_str)       \n",
    "\n",
    "        emailWriterAgent_response = emailWriterAgent(concernFinderAgent_response_str)\n",
    "        emailWriterAgent_response_str = emailWriterAgent_response.message['content'][0]['text']\n",
    "        formatted_emailWriterAgent_response_str = f\"<email>\\n{emailWriterAgent_response_str}\\n<email>\"\n",
    "        logger.info(\"EMAIL WRITER AGENT RESPONSE:\")\n",
    "        logger.info(emailWriterAgent_response_str)\n",
    "\n",
    "        emailReviewerAgent_response = emailReviewerAgent(formatted_emailWriterAgent_response_str)\n",
    "        emailReviewerAgent_response_str = emailReviewerAgent_response.message['content'][0]['text']\n",
    "        logger.info(\"EMAIL REVIEWER AGENT RESPONSE:\")\n",
    "        logger.info(emailReviewerAgent_response_str)\n",
    "        formatted_emailReviewerAgent_response_str = f\"<email>{emailWriterAgent_response_str}</email>\\n<feedback>\\n{emailReviewerAgent_response_str}\\n</feedback>\\n\"\n",
    "        \n",
    "        emailRewriterAgent_response = emailRewriterAgent(formatted_emailReviewerAgent_response_str)\n",
    "        emailRewriterAgent_response_str = emailRewriterAgent_response.message['content'][0]['text']\n",
    "        logger.info(\"EMAIL REWRIER AGENT RESPONSE:\")\n",
    "        logger.info(emailRewriterAgent_response_str)\n",
    "        return emailRewriterAgent_response_str\n",
    "    except Exception as e:\n",
    "        logger.error(f\"Error in contract moderation email workflow: {e}\")\n",
    "    \n",
    "\n"
   ]
  },
  {
   "cell_type": "markdown",
   "metadata": {},
   "source": [
    "### Execute Prompt Chaining Workflow\n",
    "\n",
    "Run the complete prompt chaining workflow with a test contract from S3. This demonstrates the end-to-end process of:\n",
    "- Starting with a legal contract document\n",
    "- Chaining through multiple AI agents\n",
    "- Producing a refined, professional email output\n",
    "\n",
    "The logging will show each step of the process with timestamps, demonstrating how the output of each agent flows to the next.\n"
   ]
  },
  {
   "cell_type": "code",
   "execution_count": null,
   "metadata": {},
   "outputs": [],
   "source": [
    "logger.info(\"Starting contract analysis workflow...\")\n",
    "test_input_data = {\n",
    "    \"s3_object_key\" : \"data/agents/contract.txt\"\n",
    "}\n",
    "contract_moderation_email_response = contract_moderation_email_workflow(json.dumps(test_input_data))\n",
    "logger.info(\"FINAL CONTRACT MODERATION EMAIL:\")\n",
    "logger.info(contract_moderation_email_response)"
   ]
  },
  {
   "cell_type": "markdown",
   "metadata": {},
   "source": [
    "## Summary: Prompt Chaining Agentic Workflow\n",
    "\n",
    "### What We Accomplished\n",
    "\n",
    "In this lab, we successfully implemented a **prompt chaining agentic workflow** using Strands Agent to process legal contracts and generate professional email communications. This demonstrates how multiple AI agents can work together in sequence, with each agent's output serving as input to the next agent in the chain.\n",
    "\n",
    "### Key Components Built\n",
    "\n",
    "**Four Specialized Agents:**\n",
    "   - **Concern Finder Agent** - Analyzes contracts for risks in data privacy, SLAs, and liability caps\n",
    "   - **Email Writer Agent** - Drafts professional corporate emails based on legal concerns\n",
    "   - **Email Reviewer Agent** - Reviews emails for tone, clarity, and professionalism\n",
    "   - **Email Rewriter Agent** - Incorporates feedback to produce polished final emails\n",
    "\n",
    "### Workflow Process\n",
    "\n",
    "The prompt chaining workflow follows this sequence:\n",
    "\n",
    "```\n",
    "Legal Contract (S3) → Concern Analysis → Email Draft → Email Review → Final Email\n",
    "```\n",
    "\n",
    "1. **Document Retrieval**: Contract is fetched from S3 storage\n",
    "2. **Risk Analysis**: Legal concerns are identified and structured in XML format\n",
    "3. **Email Drafting**: Professional email is created based on identified concerns\n",
    "4. **Quality Review**: Email is analyzed for improvements in tone and clarity\n",
    "5. **Final Refinement**: Email is rewritten incorporating all feedback\n",
    "\n",
    "### Key Benefits of Prompt Chaining\n",
    "\n",
    "- **Specialization**: Each agent focuses on a specific task, leading to higher quality outputs\n",
    "- **Iterative Improvement**: Multiple rounds of refinement produce superior final results\n",
    "- **Modularity**: Individual agents can be modified or replaced without affecting the entire workflow\n",
    "- **Transparency**: Each step is logged and visible, making the process auditable\n",
    "- **Scalability**: Additional agents can be easily added to extend the workflow\n",
    "\n",
    "### Technical Highlights\n",
    "\n",
    "- **Structured Data Flow**: XML tags ensure consistent data formatting between agents\n",
    "- **Error Resilience**: Comprehensive error handling prevents workflow failures\n",
    "- **Logging Integration**: INFO-level logging provides detailed workflow visibility\n",
    "- **AWS Integration**: Seamless S3 document retrieval with proper authentication\n",
    "- **Model Flexibility**: Uses Amazon Nova models but can be adapted for other LLMs\n",
    "\n",
    "### Real-World Applications\n",
    "\n",
    "This pattern can be applied to various business scenarios:\n",
    "- **Contract Analysis**: Legal document review and risk assessment\n",
    "- **Content Creation**: Multi-stage content development and refinement\n",
    "- **Customer Communications**: Automated professional correspondence\n",
    "- **Document Processing**: Complex document transformation workflows\n",
    "- **Quality Assurance**: Multi-layered review and improvement processes\n",
    "\n",
    "This lab demonstrates the power of breaking complex tasks into specialized, chained operations that leverage the strengths of multiple AI agents working in concert."
   ]
  }
 ],
 "metadata": {
  "kernelspec": {
   "display_name": "agent",
   "language": "python",
   "name": "python3"
  },
  "language_info": {
   "codemirror_mode": {
    "name": "ipython",
    "version": 3
   },
   "file_extension": ".py",
   "mimetype": "text/x-python",
   "name": "python",
   "nbconvert_exporter": "python",
   "pygments_lexer": "ipython3",
   "version": "3.12.0"
  }
 },
 "nbformat": 4,
 "nbformat_minor": 2
}
