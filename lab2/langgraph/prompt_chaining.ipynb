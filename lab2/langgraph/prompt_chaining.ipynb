{
 "cells": [
  {
   "cell_type": "markdown",
   "id": "17251868",
   "metadata": {},
   "source": [
    "# Build a Prompt Chaining Agentic Workflow Using Langgraph\n",
    "\n",
    "In this lab, we will build a chained prompts workflow using Langgraph Agentic Framework to intelligently process a legal contract, draft an email with concerns in the contract, and finally provide feedback on the email. Chaining prompts, which involves using the output of one prompt as input to another, offers several advantages when working with Large Language Models (LLMs).\n",
    "\n",
    "## What is Prompt Chaining\n",
    "Prompt chaining is a technique that involves breaking down a workflow into a series of known steps. Then orchestrates each step (typically involve an LLM invocation) to handle the output generated from the previous step. Within the worklow, there could be one or more conditional steps which determines the the trajectory of the workflow based on the given state.\n",
    "\n",
    "## Architecture Diagram\n",
    "<img src=\"../../imgs/prompt-chaining-architecture.png\" width=800>\n",
    "\n",
    "Let's get started!"
   ]
  },
  {
   "cell_type": "markdown",
   "id": "43aaedb5",
   "metadata": {},
   "source": [
    "## Import Dependencies and Configure Logging\n",
    "Set up logging configuration and import required libraries for the prompt chaining workflow."
   ]
  },
  {
   "cell_type": "code",
   "execution_count": null,
   "id": "0a909041",
   "metadata": {},
   "outputs": [],
   "source": [
    "import json\n",
    "import logging\n",
    "\n",
    "# Configure logging\n",
    "logging.basicConfig(\n",
    "    level=logging.INFO,\n",
    "    format='%(asctime)s - %(levelname)s - %(message)s',\n",
    "    datefmt='%Y-%m-%d %H:%M:%S'\n",
    ")\n",
    "logger = logging.getLogger(__name__)"
   ]
  },
  {
   "cell_type": "markdown",
   "id": "8809c905",
   "metadata": {},
   "source": [
    "## AWS Services Initialization\n",
    "Initialize AWS clients and services including Bedrock, S3, and configure regional settings."
   ]
  },
  {
   "cell_type": "code",
   "execution_count": null,
   "id": "45137701",
   "metadata": {},
   "outputs": [],
   "source": [
    "import boto3\n",
    "from langchain_aws import ChatBedrockConverse\n",
    "from typing_extensions import TypedDict\n",
    "from langgraph.graph import StateGraph, START, END\n",
    "from IPython.display import Image, display\n",
    "\n",
    "\n",
    "sts_client = boto3.client('sts')\n",
    "session = boto3.session.Session()\n",
    "\n",
    "account_id = sts_client.get_caller_identity()[\"Account\"]\n",
    "region = session.region_name\n",
    "\n",
    "s3_client = boto3.client('s3', region)\n",
    "bedrock_client = boto3.client('bedrock-runtime', region)\n",
    "default_bucket_name = f\"labs-bucket-{region}-{account_id}\" # replace the bucket name if running outside of the AWS facilitated environment."
   ]
  },
  {
   "cell_type": "markdown",
   "id": "61ddb543",
   "metadata": {},
   "source": [
    "Define a helper function to retrieve contract documents from S3 for processing."
   ]
  },
  {
   "cell_type": "code",
   "execution_count": null,
   "id": "ae3132a8",
   "metadata": {},
   "outputs": [],
   "source": [
    "import boto3\n",
    "from botocore.exceptions import ClientError\n",
    "\n",
    "def retrieve_from_s3(bucket_name, contract_name):\n",
    "    \"\"\"\n",
    "    Retrieve a contract document from S3\n",
    "    \n",
    "    Args:\n",
    "        bucket_name (str): Name of the S3 bucket\n",
    "        contract_name (str): Key/filename of the contract in S3\n",
    "    \n",
    "    Returns:\n",
    "        str: Content of the contract document\n",
    "    \"\"\"\n",
    "    try:\n",
    "        # Create S3 client\n",
    "        s3_client = boto3.client('s3')\n",
    "        \n",
    "        # Get the object from S3\n",
    "        response = s3_client.get_object(Bucket=bucket_name, Key=contract_name)\n",
    "        \n",
    "        # Read and decode the content\n",
    "        contract_content = response['Body'].read().decode('utf-8')\n",
    "        \n",
    "        return contract_content\n",
    "        \n",
    "    except ClientError as e:\n",
    "        logger.error(f\"Error retrieving contract from S3: {e}\")\n",
    "        return None\n",
    "    except Exception as e:\n",
    "        logger.error(f\"Unexpected error: {e}\")\n",
    "        return None"
   ]
  },
  {
   "cell_type": "markdown",
   "id": "64f88b66",
   "metadata": {},
   "source": [
    "## LLM Setup and State Definition\n",
    "Configure the Language Model and define the state structure for the workflow."
   ]
  },
  {
   "cell_type": "code",
   "execution_count": null,
   "id": "477d1ed5",
   "metadata": {},
   "outputs": [],
   "source": [
    "model_id = \"us.amazon.nova-micro-v1:0\"\n",
    "llm = ChatBedrockConverse(\n",
    "    model=model_id,  # or another Claude model\n",
    "    temperature=0.3,\n",
    "    max_tokens=None,\n",
    "    client=bedrock_client,\n",
    ")\n",
    "\n",
    "# Graph state\n",
    "class State(TypedDict):\n",
    "    s3_bucket_name : str\n",
    "    s3_object_key: str\n",
    "    email_concerns: str\n",
    "    email_content: str\n",
    "    email_review_feedback: str\n",
    "    rewritten_email: str"
   ]
  },
  {
   "cell_type": "markdown",
   "id": "f0812f5f",
   "metadata": {},
   "source": [
    "## Step 1: Concern Finder Function\n",
    "Define the first step in the chain that analyzes the contract and identifies legal risks and concerns."
   ]
  },
  {
   "cell_type": "code",
   "execution_count": null,
   "id": "f4588d75",
   "metadata": {},
   "outputs": [],
   "source": [
    "def concern_finder(state: State):\n",
    "    system_prompt = \"\"\"You’re our Chief Legal Officer. You are given a contract to review for risks, focusing on data privacy, SLAs, and liability caps.\n",
    "\n",
    "Output your findings in <risks> XML tags.\n",
    "\"\"\"\n",
    "\n",
    "    contract_s3_key = state[\"s3_object_key\"]\n",
    "    bucket_name = state[\"s3_bucket_name\"]\n",
    "    contract_data = retrieve_from_s3(bucket_name, contract_s3_key)\n",
    "    formatted_contract_data = f\"<contract>\\n{contract_data}\\n</contract>\"\n",
    "    messages = [ (\"system\", system_prompt), (\"human\", formatted_contract_data)]\n",
    "\n",
    "    email_concerns = llm.invoke(messages)\n",
    "    return {\"email_concerns\": email_concerns.content}"
   ]
  },
  {
   "cell_type": "markdown",
   "id": "9d0138f7",
   "metadata": {},
   "source": [
    "## Step 2: Email Writer Function\n",
    "Define the second step that drafts a professional email based on the identified contract concerns."
   ]
  },
  {
   "cell_type": "code",
   "execution_count": null,
   "id": "71a0df54",
   "metadata": {},
   "outputs": [],
   "source": [
    "def email_writer(state: State):\n",
    "    system_prompt = \"\"\"You are an expert at writing corporate legal emails. You are given the concerns from a contract in <risk> XML tag. Your task is to draft an email to Frost Technologies outlining the following concerns and proposing changes to a contract.\n",
    "\"\"\"\n",
    "    messages = [ (\"system\", system_prompt), (\"human\", state[\"email_concerns\"])]\n",
    "    email_content = llm.invoke(messages)\n",
    "    return {\"email_content\": email_content.content}"
   ]
  },
  {
   "cell_type": "markdown",
   "id": "1c8e3b03",
   "metadata": {},
   "source": [
    "## Step 3: Email Reviewer Function\n",
    "Define the third step that reviews the drafted email and provides feedback on tone, clarity, and professionalism."
   ]
  },
  {
   "cell_type": "code",
   "execution_count": null,
   "id": "388b3b61",
   "metadata": {},
   "outputs": [],
   "source": [
    "def email_reviewer(state: State):\n",
    "    system_prompt = \"\"\"You are a professional email reviewer. You are given an email content in <email> XML tag. Your task is to review an email and provide feedback. \n",
    "Give feedback on tone, clarity, and professionalism.\n",
    "\"\"\"\n",
    "    messages = [ (\"system\", system_prompt), (\"human\", f\"<email>{state['email_content']}</email>\")]\n",
    "    email_review_feedback = llm.invoke(messages)\n",
    "    return {\"email_review_feedback\": email_review_feedback.content}"
   ]
  },
  {
   "cell_type": "markdown",
   "id": "3e2ecb86",
   "metadata": {},
   "source": [
    "## Step 4: Email Rewriter Function\n",
    "Define the final step that incorporates the reviewer feedback and rewrites the email for improved quality."
   ]
  },
  {
   "cell_type": "code",
   "execution_count": null,
   "id": "f30d3a08",
   "metadata": {},
   "outputs": [],
   "source": [
    "def email_rewriter(state: State):\n",
    "    system_prompt = \"\"\"You are a professional email writer. You are given an original email content in <email> XML tag, and the feedback from a reviewer in <feedback> XML tag. Your task is to incorporate the feedback and rewrite the email from the orignial email.\n",
    "Put your rewritten email in the <rewritten_email> XML tag. Do not provide any explainations.\n",
    "\"\"\"\n",
    "    messages = [ (\"system\", system_prompt), (\"human\", f\"<email>{state['email_content']}</email>\\n<feedback>{state['email_review_feedback']}</feedback>\")]\n",
    "    rewritten_email = llm.invoke(messages)\n",
    "    return {\"rewritten_email\": rewritten_email.content}\n"
   ]
  },
  {
   "cell_type": "markdown",
   "id": "ef5a7b27",
   "metadata": {},
   "source": [
    "## Workflow Construction and Execution\n",
    "Build the LangGraph workflow by connecting all the functions in sequence and execute the prompt chaining pipeline."
   ]
  },
  {
   "cell_type": "code",
   "execution_count": null,
   "id": "b5163429",
   "metadata": {},
   "outputs": [],
   "source": [
    "# Build workflow\n",
    "workflow = StateGraph(State)\n",
    "\n",
    "# Add nodes\n",
    "workflow.add_node(\"concern_finder\", concern_finder)\n",
    "workflow.add_node(\"email_writer\", email_writer)\n",
    "workflow.add_node(\"email_reviewer\", email_reviewer)\n",
    "workflow.add_node(\"email_rewriter\", email_rewriter)\n",
    "# workflow.add_node(\"improve_joke\", improve_joke)\n",
    "# workflow.add_node(\"polish_joke\", polish_joke)\n",
    "\n",
    "# Add edges to connect nodes\n",
    "workflow.add_edge(START, \"concern_finder\")\n",
    "workflow.add_edge(\"concern_finder\", \"email_writer\")\n",
    "workflow.add_edge(\"email_writer\", \"email_reviewer\")\n",
    "workflow.add_edge(\"email_reviewer\", \"email_rewriter\")\n",
    "workflow.add_edge(\"email_rewriter\", END)\n",
    "\n",
    "# Compile\n",
    "chain = workflow.compile()\n",
    "\n",
    "# Show workflow\n",
    "display(Image(chain.get_graph().draw_mermaid_png()))"
   ]
  },
  {
   "cell_type": "markdown",
   "id": "3c196636",
   "metadata": {},
   "source": [
    "## Testing the Workflow"
   ]
  },
  {
   "cell_type": "code",
   "execution_count": null,
   "id": "4e6d2259",
   "metadata": {},
   "outputs": [],
   "source": [
    "test_input_data = {\n",
    "    \"s3_object_key\" : \"data/agents/contract.txt\",\n",
    "    \"s3_bucket_name\" : default_bucket_name\n",
    "    \n",
    "}\n",
    "# Invoke\n",
    "state = chain.invoke(test_input_data)"
   ]
  },
  {
   "cell_type": "markdown",
   "id": "bbae77e4",
   "metadata": {},
   "source": [
    "Print out the output for each step in the workflow"
   ]
  },
  {
   "cell_type": "code",
   "execution_count": null,
   "id": "7e8e707d",
   "metadata": {},
   "outputs": [],
   "source": [
    "print(f\"concern finder results: {state['email_concerns']}\")"
   ]
  },
  {
   "cell_type": "code",
   "execution_count": null,
   "id": "360f736e",
   "metadata": {},
   "outputs": [],
   "source": [
    "print(f\"email writer results: {state['email_content']}\")"
   ]
  },
  {
   "cell_type": "code",
   "execution_count": null,
   "id": "fe880776",
   "metadata": {},
   "outputs": [],
   "source": [
    "print(f\"email reviewer feedback results: {state['email_review_feedback']}\")"
   ]
  },
  {
   "cell_type": "code",
   "execution_count": null,
   "id": "b4e8a270",
   "metadata": {},
   "outputs": [],
   "source": [
    "print(f\"email rewriter results: {state['rewritten_email']}\")"
   ]
  },
  {
   "cell_type": "markdown",
   "id": "2e201534",
   "metadata": {},
   "source": [
    "## Summary\n",
    "This notebook demonstrates how to build an intelligent prompt chaining workflow using the LangGraph framework to automate legal contract analysis and professional email generation. The workflow processes a legal contract stored in S3, identifies potential risks and concerns, drafts a professional email outlining these issues, reviews the email for quality, and produces a refined final version.\n"
   ]
  }
 ],
 "metadata": {
  "kernelspec": {
   "display_name": "agent",
   "language": "python",
   "name": "python3"
  },
  "language_info": {
   "codemirror_mode": {
    "name": "ipython",
    "version": 3
   },
   "file_extension": ".py",
   "mimetype": "text/x-python",
   "name": "python",
   "nbconvert_exporter": "python",
   "pygments_lexer": "ipython3",
   "version": "3.12.0"
  }
 },
 "nbformat": 4,
 "nbformat_minor": 5
}
