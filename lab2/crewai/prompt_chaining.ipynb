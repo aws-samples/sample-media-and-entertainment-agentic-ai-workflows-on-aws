{
 "cells": [
  {
   "cell_type": "markdown",
   "id": "fc6b00e3",
   "metadata": {},
   "source": [
    "# Build a Prompt Chaining Agentic Workflow Using CrewAI\n",
    "\n",
    "In this lab, we will build a chained prompts workflow using CrewAI Agentic Framework to intelligently process a legal contract, draft an email with concerns in the contract, and finally provide feedback on the email. Chaining prompts, which involves using the output of one prompt as input to another, offers several advantages when working with Large Language Models (LLMs).\n",
    "\n",
    "## What is Prompt Chaining\n",
    "Prompt chaining is a technique that involves breaking down a workflow into a series of known steps. Then orchestrates each step (typically involve an LLM invocation) to handle the output generated from the previous step. Within the worklow, there could be one or more conditional steps which determines the the trajectory of the workflow based on the given state.\n",
    "\n",
    "## Architecture Diagram\n",
    "<img src=\"../../imgs/prompt-chaining-architecture.png\" width=800>\n",
    "\n",
    "Let's get started!"
   ]
  },
  {
   "cell_type": "markdown",
   "id": "ea32d48e",
   "metadata": {},
   "source": [
    "## Import Required Libraries\n",
    "We start by importing the necessary libraries for our prompt chaining workflow:\n",
    "Flow, listen, start from CrewAI for building the workflow\n",
    "BaseModel from Pydantic for data modeling\n",
    "LLM from CrewAI for language model interactions"
   ]
  },
  {
   "cell_type": "code",
   "execution_count": null,
   "id": "865604fb",
   "metadata": {},
   "outputs": [],
   "source": [
    "from crewai.flow.flow import Flow, listen, start\n",
    "from pydantic import BaseModel\n",
    "from crewai import LLM"
   ]
  },
  {
   "cell_type": "markdown",
   "id": "227a0461",
   "metadata": {},
   "source": [
    "## Configure Logging\n",
    "Set up logging configuration to track the execution of our workflow. This will help us monitor the progress and debug any issues that might arise during the contract analysis process."
   ]
  },
  {
   "cell_type": "code",
   "execution_count": null,
   "id": "5cc84891",
   "metadata": {},
   "outputs": [],
   "source": [
    "import logging\n",
    "\n",
    "# Configure logging\n",
    "logging.basicConfig(\n",
    "    level=logging.INFO,\n",
    "    format='%(asctime)s - %(levelname)s - %(message)s',\n",
    "    datefmt='%Y-%m-%d %H:%M:%S'\n",
    ")\n",
    "logger = logging.getLogger(__name__)"
   ]
  },
  {
   "cell_type": "markdown",
   "id": "bdfefbab",
   "metadata": {},
   "source": [
    "Define helper functions"
   ]
  },
  {
   "cell_type": "code",
   "execution_count": null,
   "id": "c9e5c5da",
   "metadata": {},
   "outputs": [],
   "source": [
    "import boto3\n",
    "from botocore.exceptions import ClientError\n",
    "\n",
    "def retrieve_from_s3(bucket_name, contract_name):\n",
    "    \"\"\"\n",
    "    Retrieve a contract document from S3\n",
    "    \n",
    "    Args:\n",
    "        bucket_name (str): Name of the S3 bucket\n",
    "        contract_name (str): Key/filename of the contract in S3\n",
    "    \n",
    "    Returns:\n",
    "        str: Content of the contract document\n",
    "    \"\"\"\n",
    "    try:\n",
    "        # Create S3 client\n",
    "        s3_client = boto3.client('s3')\n",
    "        \n",
    "        # Get the object from S3\n",
    "        response = s3_client.get_object(Bucket=bucket_name, Key=contract_name)\n",
    "        \n",
    "        # Read and decode the content\n",
    "        contract_content = response['Body'].read().decode('utf-8')\n",
    "        \n",
    "        return contract_content\n",
    "        \n",
    "    except ClientError as e:\n",
    "        logger.error(f\"Error retrieving contract from S3: {e}\")\n",
    "        return None\n",
    "    except Exception as e:\n",
    "        logger.error(f\"Unexpected error: {e}\")\n",
    "        return None"
   ]
  },
  {
   "cell_type": "markdown",
   "id": "d39f94ed",
   "metadata": {},
   "source": [
    "## Define Agent State and LLM Configuration\n",
    "Create the data model that will hold the state throughout our workflow. The AgentState class tracks:\n",
    "\n",
    "- S3 bucket and object information for the contract\n",
    "- Email concerns identified from the contract\n",
    "- Generated email content\n",
    "- Email review feedback\n",
    "- We also configure the LLM (e.g. Amazon Nova Micro) and set the default S3 bucket for our lab.\n"
   ]
  },
  {
   "cell_type": "code",
   "execution_count": null,
   "id": "3fedf40d",
   "metadata": {},
   "outputs": [],
   "source": [
    "import boto3 \n",
    "\n",
    "class AgentState(BaseModel):\n",
    "    s3_bucket_name: str = None\n",
    "    s3_object_key: str = None\n",
    "    email_concerns: str = \"\"\n",
    "    email_content: str = \"\"\n",
    "    email_review_feedback: str = \"\"\n",
    "\n",
    "sts_client = boto3.client('sts')\n",
    "session = boto3.session.Session()\n",
    "\n",
    "account_id = sts_client.get_caller_identity()[\"Account\"]\n",
    "region = session.region_name\n",
    "    \n",
    "llm = LLM(model=\"bedrock/us.amazon.nova-micro-v1:0\")\n",
    "default_bucket_name = f\"labs-bucket-{region}-{account_id}\" # replace the bucket name if running outside of the AWS facilitated environment."
   ]
  },
  {
   "cell_type": "markdown",
   "id": "fc3e48f5",
   "metadata": {},
   "source": [
    "## Contract Analysis Workflow Implementation\n",
    "This is the core of our prompt chaining workflow. The ContractAnalysisFlow class defines a sequential flow with four stages:\n",
    "\n",
    "1. Concern Finder: Acts as a Chief Legal Officer to identify risks in the contract (data privacy, SLAs, liability caps)\n",
    "2. Email Writer: Drafts a professional email to outline the identified concerns\n",
    "3. Email Reviewer: Reviews the drafted email and provides feedback on tone, clarity, and professionalism\n",
    "4. Email Rewriter: Incorporates the feedback to produce a final, improved version of the email\n",
    "\n",
    "Each step uses the @listen decorator to ensure proper sequencing, with each step waiting for the previous one to complete.\n"
   ]
  },
  {
   "cell_type": "code",
   "execution_count": null,
   "id": "47e2e377",
   "metadata": {},
   "outputs": [],
   "source": [
    "class ContractAnalysisFlow(Flow[AgentState]):\n",
    "\n",
    "    @start()\n",
    "    def concern_finder(self):\n",
    "        system_prompt = \"\"\"You are our Chief Legal Officer. You are given a contract to review for risks, focusing on data privacy, SLAs, and liability caps.\n",
    "\n",
    "Output your findings in <risks> XML tags.\n",
    "\"\"\"\n",
    "        contract_s3_key = self.state.s3_object_key\n",
    "        bucket_name = self.state.s3_bucket_name\n",
    "        contract_data = retrieve_from_s3(bucket_name, contract_s3_key)\n",
    "        formatted_contract_data = f\"<contract>\\n{contract_data}\\n</contract>\"\n",
    "    \n",
    "        messages = [\n",
    "            {\"role\": \"system\", \"content\": system_prompt},\n",
    "            {\"role\": \"user\", \"content\": formatted_contract_data}\n",
    "        ]\n",
    "        \n",
    "        response = llm.call(messages=messages)\n",
    "        self.state.email_concerns = response\n",
    "        \n",
    "    @listen(concern_finder)\n",
    "    def email_writer(self):\n",
    "        system_prompt = \"\"\"You are an expert at writing corporate legal emails. You are given the concerns from a contract in <risk> XML tag. Your task is to draft an email to Frost Technologies outlining the following concerns and proposing changes to a contract.\n",
    "\"\"\"\n",
    "        concerns = self.state.email_concerns\n",
    "        messages = [\n",
    "            {\"role\": \"system\", \"content\": system_prompt},\n",
    "            {\"role\": \"user\", \"content\": concerns}\n",
    "        ]\n",
    "        \n",
    "        response = llm.call(messages=messages)\n",
    "        self.state.email_content = response\n",
    "        \n",
    "    @listen(email_writer)\n",
    "    def email_reviewer(self):\n",
    "        system_prompt = \"\"\"You are a professional email reviewer. You are given an email content in <email> XML tag. Your task is to review an email and provide feedback. \n",
    "Give feedback on tone, clarity, and professionalism.\n",
    "\"\"\"     \n",
    "        email_content = self.state.email_content\n",
    "        messages = [\n",
    "            {\"role\": \"system\", \"content\": system_prompt},\n",
    "            {\"role\": \"user\", \"content\": f\"<email>{email_content}</email>\"}\n",
    "        ]\n",
    "        response = llm.call(messages=messages)\n",
    "        self.state.email_review_feedback = response\n",
    "        \n",
    "    \n",
    "    @listen(email_reviewer)\n",
    "    def email_rewriter(self):\n",
    "        system_prompt = \"\"\"You are a professional email writer. You are given an original email content in <email> XML tag, and the feedback from a reviewer in <feedback> XML tag. Your task is to incorporate the feedback and rewrite the email from the orignial email.\n",
    "Put your rewritten email in the <rewritten_email> XML tag. Do not provide any explainations.\n",
    "\"\"\"     \n",
    "        review_feedback = self.state.email_review_feedback\n",
    "        email_content = self.state.email_content\n",
    "        messages = [\n",
    "            {\"role\": \"system\", \"content\": system_prompt},\n",
    "            {\"role\": \"user\", \"content\": f\"<email>{email_content}</email>\\n<feedback>{review_feedback}</feedback>\"}\n",
    "        ]\n",
    "        response = llm.call(messages=messages) \n",
    "        return { \"rewritten_email\" : response }\n"
   ]
  },
  {
   "cell_type": "markdown",
   "id": "1ba1b2c1",
   "metadata": {},
   "source": [
    "## Execute the Workflow\n",
    "Run the contract analysis workflow by providing the S3 bucket and contract file location. The workflow will execute asynchronously through all four stages and return the final result containing the rewritten email."
   ]
  },
  {
   "cell_type": "code",
   "execution_count": null,
   "id": "43e705ed",
   "metadata": {},
   "outputs": [],
   "source": [
    "response = await ContractAnalysisFlow().kickoff_async(inputs = {\n",
    "    \"s3_object_key\" : \"contract.txt\",\n",
    "    \"s3_bucket_name\" : default_bucket_name })\n",
    "print(response)"
   ]
  },
  {
   "cell_type": "markdown",
   "id": "814ac50e",
   "metadata": {},
   "source": [
    "## Summary\n",
    "This notebook demonstrates a complete prompt chaining workflow using CrewAI for contract analysis and email generation. The workflow showcases several key concepts:\n",
    "\n",
    "### Key Components:\n",
    "- Sequential Processing: Each step builds upon the output of the previous step\n",
    "- Specialized Roles: Different LLM personas (Legal Officer, Email Writer, Reviewer, Rewriter)\n",
    "- State Management: Persistent state tracking across all workflow steps\n",
    "\n",
    "### Workflow Stages:\n",
    "- Contract Risk Analysis: Identifies legal concerns in contracts\n",
    "- Email Drafting: Creates professional correspondence based on identified risks\n",
    "- Quality Review: Evaluates email quality and professionalism\n",
    "- Content Refinement: Produces final polished communication"
   ]
  },
  {
   "cell_type": "code",
   "execution_count": null,
   "id": "4dde504c-a6be-4af5-93b7-c86d7b78b6ef",
   "metadata": {},
   "outputs": [],
   "source": []
  }
 ],
 "metadata": {
  "kernelspec": {
   "display_name": "Python 3 (ipykernel)",
   "language": "python",
   "name": "python3"
  },
  "language_info": {
   "codemirror_mode": {
    "name": "ipython",
    "version": 3
   },
   "file_extension": ".py",
   "mimetype": "text/x-python",
   "name": "python",
   "nbconvert_exporter": "python",
   "pygments_lexer": "ipython3",
   "version": "3.12.9"
  }
 },
 "nbformat": 4,
 "nbformat_minor": 5
}
