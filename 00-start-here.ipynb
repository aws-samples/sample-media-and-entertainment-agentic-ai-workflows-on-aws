{
 "cells": [
  {
   "cell_type": "markdown",
   "metadata": {},
   "source": [
    "# Setup\n",
    "Welcome to the Agentic AI Workshop for Media and Entertainment. \n",
    "\n",
    "This notebook constains the initialization steps/processes required to complete all the labs created for this workshop."
   ]
  },
  {
   "cell_type": "code",
   "execution_count": 2,
   "metadata": {},
   "outputs": [
    {
     "name": "stdout",
     "output_type": "stream",
     "text": [
      "Requirement already satisfied: boto3>=1.35.74 in /Users/weteh/miniconda3/envs/megs-agentic-workshop/lib/python3.12/site-packages (from -r requirements.txt (line 1)) (1.37.24)\n",
      "Requirement already satisfied: awscli>=1.36.15 in /Users/weteh/miniconda3/envs/megs-agentic-workshop/lib/python3.12/site-packages (from -r requirements.txt (line 2)) (1.38.24)\n",
      "Requirement already satisfied: botocore>=1.35.74 in /Users/weteh/miniconda3/envs/megs-agentic-workshop/lib/python3.12/site-packages (from -r requirements.txt (line 3)) (1.37.24)\n",
      "Requirement already satisfied: opensearch-py in /Users/weteh/miniconda3/envs/megs-agentic-workshop/lib/python3.12/site-packages (from -r requirements.txt (line 4)) (2.8.0)\n",
      "Requirement already satisfied: retrying in /Users/weteh/miniconda3/envs/megs-agentic-workshop/lib/python3.12/site-packages (from -r requirements.txt (line 5)) (1.3.4)\n",
      "Requirement already satisfied: termcolor in /Users/weteh/miniconda3/envs/megs-agentic-workshop/lib/python3.12/site-packages (from -r requirements.txt (line 6)) (3.0.0)\n",
      "Requirement already satisfied: rich in /Users/weteh/miniconda3/envs/megs-agentic-workshop/lib/python3.12/site-packages (from -r requirements.txt (line 7)) (14.0.0)\n",
      "Requirement already satisfied: events in /Users/weteh/miniconda3/envs/megs-agentic-workshop/lib/python3.12/site-packages (from -r requirements.txt (line 8)) (0.5)\n",
      "Requirement already satisfied: matplotlib in /Users/weteh/miniconda3/envs/megs-agentic-workshop/lib/python3.12/site-packages (from -r requirements.txt (line 9)) (3.10.1)\n",
      "Requirement already satisfied: requests in /Users/weteh/miniconda3/envs/megs-agentic-workshop/lib/python3.12/site-packages (from -r requirements.txt (line 10)) (2.32.3)\n",
      "Collecting python-dotenv (from -r requirements.txt (line 11))\n",
      "  Using cached python_dotenv-1.1.0-py3-none-any.whl.metadata (24 kB)\n",
      "Requirement already satisfied: jmespath<2.0.0,>=0.7.1 in /Users/weteh/miniconda3/envs/megs-agentic-workshop/lib/python3.12/site-packages (from boto3>=1.35.74->-r requirements.txt (line 1)) (1.0.1)\n",
      "Requirement already satisfied: s3transfer<0.12.0,>=0.11.0 in /Users/weteh/miniconda3/envs/megs-agentic-workshop/lib/python3.12/site-packages (from boto3>=1.35.74->-r requirements.txt (line 1)) (0.11.4)\n",
      "Requirement already satisfied: docutils<0.17,>=0.10 in /Users/weteh/miniconda3/envs/megs-agentic-workshop/lib/python3.12/site-packages (from awscli>=1.36.15->-r requirements.txt (line 2)) (0.16)\n",
      "Requirement already satisfied: PyYAML<6.1,>=3.10 in /Users/weteh/miniconda3/envs/megs-agentic-workshop/lib/python3.12/site-packages (from awscli>=1.36.15->-r requirements.txt (line 2)) (6.0.2)\n",
      "Requirement already satisfied: colorama<0.4.7,>=0.2.5 in /Users/weteh/miniconda3/envs/megs-agentic-workshop/lib/python3.12/site-packages (from awscli>=1.36.15->-r requirements.txt (line 2)) (0.4.6)\n",
      "Requirement already satisfied: rsa<4.8,>=3.1.2 in /Users/weteh/miniconda3/envs/megs-agentic-workshop/lib/python3.12/site-packages (from awscli>=1.36.15->-r requirements.txt (line 2)) (4.7.2)\n",
      "Requirement already satisfied: python-dateutil<3.0.0,>=2.1 in /Users/weteh/miniconda3/envs/megs-agentic-workshop/lib/python3.12/site-packages (from botocore>=1.35.74->-r requirements.txt (line 3)) (2.9.0.post0)\n",
      "Requirement already satisfied: urllib3!=2.2.0,<3,>=1.25.4 in /Users/weteh/miniconda3/envs/megs-agentic-workshop/lib/python3.12/site-packages (from botocore>=1.35.74->-r requirements.txt (line 3)) (2.3.0)\n",
      "Requirement already satisfied: certifi>=2024.07.04 in /Users/weteh/miniconda3/envs/megs-agentic-workshop/lib/python3.12/site-packages (from opensearch-py->-r requirements.txt (line 4)) (2025.1.31)\n",
      "Requirement already satisfied: six>=1.7.0 in /Users/weteh/miniconda3/envs/megs-agentic-workshop/lib/python3.12/site-packages (from retrying->-r requirements.txt (line 5)) (1.17.0)\n",
      "Requirement already satisfied: markdown-it-py>=2.2.0 in /Users/weteh/miniconda3/envs/megs-agentic-workshop/lib/python3.12/site-packages (from rich->-r requirements.txt (line 7)) (3.0.0)\n",
      "Requirement already satisfied: pygments<3.0.0,>=2.13.0 in /Users/weteh/miniconda3/envs/megs-agentic-workshop/lib/python3.12/site-packages (from rich->-r requirements.txt (line 7)) (2.19.1)\n",
      "Requirement already satisfied: contourpy>=1.0.1 in /Users/weteh/miniconda3/envs/megs-agentic-workshop/lib/python3.12/site-packages (from matplotlib->-r requirements.txt (line 9)) (1.3.1)\n",
      "Requirement already satisfied: cycler>=0.10 in /Users/weteh/miniconda3/envs/megs-agentic-workshop/lib/python3.12/site-packages (from matplotlib->-r requirements.txt (line 9)) (0.12.1)\n",
      "Requirement already satisfied: fonttools>=4.22.0 in /Users/weteh/miniconda3/envs/megs-agentic-workshop/lib/python3.12/site-packages (from matplotlib->-r requirements.txt (line 9)) (4.56.0)\n",
      "Requirement already satisfied: kiwisolver>=1.3.1 in /Users/weteh/miniconda3/envs/megs-agentic-workshop/lib/python3.12/site-packages (from matplotlib->-r requirements.txt (line 9)) (1.4.8)\n",
      "Requirement already satisfied: numpy>=1.23 in /Users/weteh/miniconda3/envs/megs-agentic-workshop/lib/python3.12/site-packages (from matplotlib->-r requirements.txt (line 9)) (2.2.4)\n",
      "Requirement already satisfied: packaging>=20.0 in /Users/weteh/miniconda3/envs/megs-agentic-workshop/lib/python3.12/site-packages (from matplotlib->-r requirements.txt (line 9)) (24.2)\n",
      "Requirement already satisfied: pillow>=8 in /Users/weteh/miniconda3/envs/megs-agentic-workshop/lib/python3.12/site-packages (from matplotlib->-r requirements.txt (line 9)) (11.1.0)\n",
      "Requirement already satisfied: pyparsing>=2.3.1 in /Users/weteh/miniconda3/envs/megs-agentic-workshop/lib/python3.12/site-packages (from matplotlib->-r requirements.txt (line 9)) (3.2.3)\n",
      "Requirement already satisfied: charset-normalizer<4,>=2 in /Users/weteh/miniconda3/envs/megs-agentic-workshop/lib/python3.12/site-packages (from requests->-r requirements.txt (line 10)) (3.4.1)\n",
      "Requirement already satisfied: idna<4,>=2.5 in /Users/weteh/miniconda3/envs/megs-agentic-workshop/lib/python3.12/site-packages (from requests->-r requirements.txt (line 10)) (3.10)\n",
      "Requirement already satisfied: mdurl~=0.1 in /Users/weteh/miniconda3/envs/megs-agentic-workshop/lib/python3.12/site-packages (from markdown-it-py>=2.2.0->rich->-r requirements.txt (line 7)) (0.1.2)\n",
      "Requirement already satisfied: pyasn1>=0.1.3 in /Users/weteh/miniconda3/envs/megs-agentic-workshop/lib/python3.12/site-packages (from rsa<4.8,>=3.1.2->awscli>=1.36.15->-r requirements.txt (line 2)) (0.6.1)\n",
      "Using cached python_dotenv-1.1.0-py3-none-any.whl (20 kB)\n",
      "Installing collected packages: python-dotenv\n",
      "Successfully installed python-dotenv-1.1.0\n",
      "Note: you may need to restart the kernel to use updated packages.\n"
     ]
    }
   ],
   "source": [
    "%pip install -r requirements.txt"
   ]
  }
 ],
 "metadata": {
  "kernelspec": {
   "display_name": "megs-agentic-workshop",
   "language": "python",
   "name": "python3"
  },
  "language_info": {
   "codemirror_mode": {
    "name": "ipython",
    "version": 3
   },
   "file_extension": ".py",
   "mimetype": "text/x-python",
   "name": "python",
   "nbconvert_exporter": "python",
   "pygments_lexer": "ipython3",
   "version": "3.12.9"
  }
 },
 "nbformat": 4,
 "nbformat_minor": 2
}
