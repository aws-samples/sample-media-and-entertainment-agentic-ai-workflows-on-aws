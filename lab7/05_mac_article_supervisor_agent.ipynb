{
 "cells": [
  {
   "cell_type": "markdown",
   "metadata": {},
   "source": [
    "## Article Generation Supervisor Agent\n",
    "\n",
    "In the previous notebooks, we built two specialized agents:\n",
    "\n",
    "1. **Article Generation Agent** (Notebook 01): An expert content creator that writes high-quality news, sports, and entertainment articles following detailed journalistic guidelines. This agent focuses on clarity, accuracy, engagement, structure, balance, and technical excellence.\n",
    "2. **Article Reviewer Agent** (Notebook 02): A professional reviewer that analyzes articles across multiple dimensions including readability, factual accuracy, engagement, fairness, context, and ethical considerations. This agent provides detailed, constructive feedback with specific improvement suggestions.\n",
    "\n",
    "In this notebook, we'll implement a **Multi-Agent Collaboration** pattern by creating a supervisor agent that orchestrates these two specialized agents to work together iteratively. This pattern enables a powerful feedback loop where content is continuously refined through expert review cycles.\n",
    "\n",
    "## Multi-Agent Collaboration Pattern\n",
    "\n",
    "[Multi-agent Collaboration](https://docs.aws.amazon.com/bedrock/latest/userguide/agents-multi-agents-collaboration.html) is an Amazon Bedrock Agents capability that enables hierarchical collaboration between agents. This pattern allows:\n",
    "\n",
    "- A supervisor agent to coordinate specialized sub-agents\n",
    "- Delegation of specific tasks to agents with specialized expertise\n",
    "- Iterative improvement through feedback loops\n",
    "- Complex workflows that leverage multiple AI capabilities\n",
    "\n",
    "The supervisor agent we'll create will:\n",
    "1. Receive the initial article request from the user\n",
    "2. Delegate article creation to the Article Generation Agent\n",
    "3. Send the draft to the Article Reviewer Agent for critique\n",
    "4. Return the draft to the Article Generation Agent with feedback\n",
    "5. Repeat steps 2-4 up to three times to refine the article\n",
    "6. Deliver the final polished article to the user\n",
    "   \n",
    "The following architecture diagram illustrates this multi-agent collaboration workflow:\n",
    "\n",
    "<img src=\"../imgs/article_generation_supervisor_agent.png\" width=\"600\">\n",
    "\n",
    "Let's get started!"
   ]
  },
  {
   "cell_type": "markdown",
   "metadata": {},
   "source": [
    "First we restore the variables from the previous notebook"
   ]
  },
  {
   "cell_type": "code",
   "execution_count": 1,
   "metadata": {},
   "outputs": [],
   "source": [
    "%store -r"
   ]
  },
  {
   "cell_type": "markdown",
   "metadata": {},
   "source": [
    "## Create a Article Generation Supervisor agent using Amazon Bedrock Agent\n",
    "On this section we declare global variables that will be act as helpers during entire notebook."
   ]
  },
  {
   "cell_type": "code",
   "execution_count": null,
   "metadata": {},
   "outputs": [],
   "source": [
    "import boto3\n",
    "import json\n",
    "import uuid\n",
    "\n",
    "sts_client = boto3.client('sts')\n",
    "session = boto3.session.Session()\n",
    "\n",
    "account_id = sts_client.get_caller_identity()[\"Account\"]\n",
    "region = session.region_name\n",
    "\n",
    "s3_client = boto3.client('s3', region)\n",
    "bedrock_client = boto3.client('bedrock-runtime', region)\n",
    "\n",
    "agent_foundation_model = [\n",
    "    'us.amazon.nova-pro-v1:0'\n",
    "]"
   ]
  },
  {
   "cell_type": "markdown",
   "metadata": {},
   "source": [
    "## Importing helper functions\n",
    "On following section, we're adding bedrock_agent_helper.py and knowledge_base_helper on Python path, so the files can be recognized and their functionalities can be invoked.\n",
    "\n",
    "In general, the helper functions handle common tasks including agent creation, knowledge bases for bedrock creation and accessing data on S3."
   ]
  },
  {
   "cell_type": "code",
   "execution_count": 3,
   "metadata": {},
   "outputs": [],
   "source": [
    "import sys\n",
    "\n",
    "sys.path.insert(0, \".\")\n",
    "sys.path.insert(1, \"..\")\n",
    "\n",
    "from utils.bedrock_agent_helper import (\n",
    "    AgentsForAmazonBedrock\n",
    ")\n",
    "\n",
    "agents = AgentsForAmazonBedrock()"
   ]
  },
  {
   "cell_type": "markdown",
   "metadata": {},
   "source": [
    "## Article Generation Supervisor Agent\n",
    "Create a supervisor agent to connect the Artcle Generation and Reviewer agents to iteratively improve the quality of the article. \n",
    "\n",
    "We will provide the following instructions to our agent:\n",
    "```\n",
    "You are a supervisor AI agent. You are given 2 agents capable of following tasks:\n",
    "\n",
    "1. Article Generation agent - Writes a draft of article based on the given instructions and/or recommendations.\n",
    "\n",
    "2. Article Reviewer agent - Reviews the article generated by the Article Generation agent to provide recommendation to improve the article.\n",
    "\n",
    "You are to leverage both the agents to work collaboratively and iteratively to arrive at the best version of the article. \n",
    "\n",
    "Here are the guidelines:\n",
    "- You should only iterate the draft and review iterations for maximum of 3 time before returning the final version of the article to the user. \n",
    "\n",
    "The final draft of the article must be a complete version formatted in markdown in the final response. Do not provide any explanation in the final response, return only the final article in markdown format.\n",
    "```"
   ]
  },
  {
   "cell_type": "code",
   "execution_count": 4,
   "metadata": {},
   "outputs": [],
   "source": [
    "article_supervisor_agent_name = \"article_supervisor_agent\"\n",
    "supervisor_agent = agents.create_agent(\n",
    "    article_supervisor_agent_name,\n",
    "    \"\"\"You are a supervisor AI agent that creates a high quality PR articles based on user input. \n",
    "\"\"\",\n",
    "    \"\"\"You are a supervisor AI agent. You are given 2 agents capable of following tasks:\n",
    "\n",
    "1. Article Generation agent - Writes a draft of article based on the given instructions and/or recommendations.\n",
    "\n",
    "2. Article Reviewer agent - Reviews the article generated by the Article Generation agent to provide recommendation to improve the article.\n",
    "\n",
    "You are to leverage both the agents to work collaboratively and iteratively to arrive at the best version of the article. \n",
    "\n",
    "Here are the guidelines:\n",
    "- You should only iterate the draft and review iterations for maximum of 3 time before returning the final version of the article to the user. \n",
    "\n",
    "The final draft of the article must be a complete version formatted in markdown in the final response. Do not provide any explanation in the final response, return only the final article in markdown format.\n",
    "\"\"\",\n",
    "    agent_foundation_model,\n",
    "    agent_collaboration='SUPERVISOR'\n",
    ")"
   ]
  },
  {
   "cell_type": "code",
   "execution_count": 5,
   "metadata": {},
   "outputs": [],
   "source": [
    "article_supervisor_agent_id = supervisor_agent[0]"
   ]
  },
  {
   "cell_type": "markdown",
   "metadata": {},
   "source": [
    "### Associate Collaborators\n",
    "\n",
    "On this section, we're going to recover alias_id from previous agents (sub-agents) to add all of them inside energy one (which is multi-agent collaborator)."
   ]
  },
  {
   "cell_type": "code",
   "execution_count": 6,
   "metadata": {},
   "outputs": [],
   "source": [
    "sub_agents_list = [\n",
    "    {\n",
    "        'sub_agent_alias_arn': article_generation_agent_alias_arn,\n",
    "        'sub_agent_instruction': \"\"\"Delegate article writing task to the Article Generation Agent, ensuring adherence to its specific protocols and capabilities.\"\"\",\n",
    "        'sub_agent_association_name': 'ArticleGenerationAgent',\n",
    "        'relay_conversation_history': 'TO_COLLABORATOR'\n",
    "    },\n",
    "    {\n",
    "        'sub_agent_alias_arn': article_reviewer_agent_alias_arn,\n",
    "        'sub_agent_instruction': \"\"\"Delegate article review task to the Article Reviewer Agent, ensuring most helpful feedback is given by the agent.\"\"\",\n",
    "        'sub_agent_association_name': 'ArticleReviewerAgent',\n",
    "        'relay_conversation_history': 'TO_COLLABORATOR'\n",
    "    }\n",
    "]"
   ]
  },
  {
   "cell_type": "markdown",
   "metadata": {},
   "source": [
    "Associate all sub-agents with this one (main one)."
   ]
  },
  {
   "cell_type": "code",
   "execution_count": null,
   "metadata": {},
   "outputs": [],
   "source": [
    "article_supervisor_agent_alias_id, article_supervisor_agent_alias_arn = agents.associate_sub_agents(\n",
    "    article_supervisor_agent_id, sub_agents_list\n",
    ")"
   ]
  },
  {
   "cell_type": "markdown",
   "metadata": {},
   "source": [
    "## Invoking multi-agent Collaborator\n",
    "\n",
    "With our supervisor agent created and connected to both specialized agents, we can now demonstrate the power of multi-agent collaboration. The supervisor agent will orchestrate the entire workflow:\n",
    "\n",
    "1. It will first delegate the article creation task to the Article Generation Agent\n",
    "2. Then send the draft to the Article Reviewer Agent for detailed feedback\n",
    "3. Return the draft with feedback to the Article Generation Agent for refinement\n",
    "4. Repeat this cycle up to three times to continuously improve the article quality\n",
    "5. Finally deliver the polished article to the user\n",
    "\n",
    "This collaborative approach combines the strengths of both specialized agents - the creative writing capabilities of the Article Generation Agent and the critical analysis skills of the Article Reviewer Agent - resulting in higher quality content than either agent could produce independently."
   ]
  },
  {
   "cell_type": "markdown",
   "metadata": {},
   "source": [
    "We can now set a dictionary with agents names for better visualization of the traces"
   ]
  },
  {
   "cell_type": "code",
   "execution_count": 8,
   "metadata": {},
   "outputs": [],
   "source": [
    "multi_agent_names = {\n",
    "    f\"{article_generation_agent_id}/{article_generation_alias_id}\": article_generation_agent_name,\n",
    "    f\"{article_reviewer_agent_id}/{article_reviewer_agent_alias_id}\": article_reviewer_agent_name,\n",
    "    f\"{article_supervisor_agent_id}/{article_supervisor_agent_alias_id}\": article_supervisor_agent_name\n",
    "}"
   ]
  },
  {
   "cell_type": "markdown",
   "metadata": {},
   "source": [
    "Let's test this multi-agent system by providing a prompt to create a high-quality article based on specific requirements."
   ]
  },
  {
   "cell_type": "code",
   "execution_count": null,
   "metadata": {},
   "outputs": [],
   "source": [
    "# Load the research data from the JSON file\n",
    "with open('sample_output_from_research.json', 'r') as f:\n",
    "    research_data = json.load(f)\n",
    "\n",
    "# Format the research data for the prompt\n",
    "research_details = \"Research Information:\\n\"\n",
    "for entity in research_data[\"entities\"]:\n",
    "    research_details += f\"\\n{entity['name']} ({entity['type']}):\\n\"\n",
    "    for bg in entity['background']:\n",
    "        research_details += f\"- {bg}\\n\"\n",
    "\n",
    "print(research_details)"
   ]
  },
  {
   "cell_type": "code",
   "execution_count": null,
   "metadata": {},
   "outputs": [],
   "source": [
    "article_query_prompt = f\"\"\"\n",
    "Write a business news article about NeuraHealth Solutions and their AI-driven healthcare innovations based on the following research data:\n",
    "\n",
    "{research_details}\n",
    "\n",
    "Focus on the company's leadership, their products (especially MediScan), and the regulatory environment they operate in. \n",
    "Include quotes from the executives and discuss the company's market position and future prospects.\n",
    "The article should be informative, balanced, and suitable for a business publication.\n",
    "\"\"\"\n",
    "\n",
    "article_query_prompt"
   ]
  },
  {
   "cell_type": "code",
   "execution_count": null,
   "metadata": {},
   "outputs": [],
   "source": [
    "%%time\n",
    "session_id:str = str(uuid.uuid4())\n",
    "\n",
    "\n",
    "article_supervisor_agent_response = agents.invoke(\n",
    "    article_query_prompt,\n",
    "    article_supervisor_agent_id,\n",
    "    session_id=session_id,\n",
    "    enable_trace=True,\n",
    "    trace_level = \"all\",\n",
    "    multi_agent_names=multi_agent_names\n",
    ")"
   ]
  },
  {
   "cell_type": "code",
   "execution_count": null,
   "metadata": {},
   "outputs": [],
   "source": [
    "print(article_supervisor_agent_response)"
   ]
  },
  {
   "cell_type": "markdown",
   "metadata": {},
   "source": [
    "# Summary\n",
    "\n",
    "In this lab, we demonstrated how to implement a powerful **Multi-Agent Collaboration** pattern using Amazon Bedrock Agents. This pattern enables complex workflows through the orchestration of specialized agents working together to achieve superior results.\n",
    "\n",
    "Our implementation consisted of three key components:\n",
    "\n",
    "1. **Article Generation Agent**: A specialized content creator that produces high-quality articles following detailed journalistic guidelines across multiple dimensions including clarity, accuracy, engagement, structure, and technical excellence.\n",
    "\n",
    "2. **Article Reviewer Agent**: A professional reviewer that analyzes content across multiple dimensions and provides detailed, constructive feedback with specific improvement suggestions.\n",
    "\n",
    "3. **Article Supervisor Agent**: The orchestrator that coordinates the collaboration between the specialized agents, managing the iterative feedback loop to continuously refine the article quality.\n",
    "\n",
    "The multi-agent collaboration pattern demonstrated several key advantages:\n",
    "\n",
    "- **Specialized Expertise**: Each agent focuses on its core competency - content creation or critical review\n",
    "- **Iterative Improvement**: The feedback loop enables continuous refinement of the content\n",
    "- **Workflow Automation**: The supervisor agent manages the entire process without requiring user intervention\n",
    "- **Quality Enhancement**: The final output benefits from multiple perspectives and expertise\n",
    "\n",
    "This pattern can be extended to many other domains where complex workflows require different specialized capabilities working in concert. By breaking down complex tasks into specialized roles and establishing clear communication protocols between agents, we can build powerful AI systems that deliver higher quality results than any single agent could achieve independently.\n"
   ]
  },
  {
   "cell_type": "markdown",
   "metadata": {},
   "source": [
    "## Saving information\n",
    "Let's store the environment variables to be used in other notebooks."
   ]
  },
  {
   "cell_type": "code",
   "execution_count": null,
   "metadata": {},
   "outputs": [],
   "source": [
    "%store article_supervisor_agent_alias_id\n",
    "%store article_supervisor_agent_alias_arn\n",
    "%store article_supervisor_agent_id\n",
    "%store article_supervisor_agent_name"
   ]
  }
 ],
 "metadata": {
  "kernelspec": {
   "display_name": "Python 3 (ipykernel)",
   "language": "python",
   "name": "python3"
  },
  "language_info": {
   "codemirror_mode": {
    "name": "ipython",
    "version": 3
   },
   "file_extension": ".py",
   "mimetype": "text/x-python",
   "name": "python",
   "nbconvert_exporter": "python",
   "pygments_lexer": "ipython3",
   "version": "3.12.9"
  }
 },
 "nbformat": 4,
 "nbformat_minor": 4
}
