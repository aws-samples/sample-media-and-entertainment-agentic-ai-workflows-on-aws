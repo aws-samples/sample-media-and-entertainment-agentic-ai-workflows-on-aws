{
 "cells": [
  {
   "cell_type": "markdown",
   "metadata": {},
   "source": [
    "## Interface Supervisor Agent\n",
    "\n",
    "In the previous notebooks, we built three specialized agents and a supervisor agent:\n",
    "\n",
    "1. **Researach Agent** (Notebook 01): An expert at identifying entities in facts gathered from a news event, and then researching the background of those entities to produce data that can assist in writing a news story\n",
    "2. **Article Generation Agent** (Notebook 02): An expert content creator that writes high-quality news, sports, and entertainment articles following detailed journalistic guidelines. This agent focuses on clarity, accuracy, engagement, structure, balance, and technical excellence.\n",
    "3. **Article Reviewer Agent** (Notebook 03): A professional reviewer that analyzes articles across multiple dimensions including readability, factual accuracy, engagement, fairness, context, and ethical considerations. This agent provides detailed, constructive feedback with specific improvement suggestions.\n",
    "4. **Article Supervisor Agent** (Notebook 03): A supervisor agent that orchestrates the article generator and reviewer specialized agents to work together iteratively. This pattern enables a powerful feedback loop where content is continuously refined through expert review cycles.\n",
    "\n",
    "In this notebook, we'll implement an Interface Supervisor agent that applies a multi-agent collaboration pattern to communicate between the user, research agent, and article generation supervisor agent.\n",
    "\n",
    "## Multi-Agent Collaboration Pattern\n",
    "\n",
    "[Multi-agent Collaboration](https://docs.aws.amazon.com/bedrock/latest/userguide/agents-multi-agents-collaboration.html) is an Amazon Bedrock Agents capability that enables hierarchical collaboration between agents. This pattern allows:\n",
    "\n",
    "- A supervisor agent to coordinate specialized sub-agents\n",
    "- Delegation of specific tasks to agents with specialized expertise\n",
    "- Iterative improvement through feedback loops\n",
    "- Complex workflows that leverage multiple AI capabilities\n",
    "\n",
    "The supervisor agent we'll create will:\n",
    "1. Receive the initial news facts regarding a news event from the user\n",
    "2. Delegates verification and research around entities identified in the news facts to the Research Agent\n",
    "2. The output of the research agents is then sent to the Article Generation Supervisor, who uses the reflection pattern to iteratively produce a new story.\n",
    "\n",
    "The following architecture diagram illustrates this multi-agent collaboration workflow:\n",
    "\n",
    "<img src=\"../imgs/mac-news-generation.png\" width=\"800\">\n",
    "\n",
    "Let's get started!"
   ]
  },
  {
   "cell_type": "markdown",
   "metadata": {},
   "source": [
    "First we restore the variables from the previous notebook"
   ]
  },
  {
   "cell_type": "code",
   "execution_count": null,
   "metadata": {},
   "outputs": [],
   "source": [
    "%store -r"
   ]
  },
  {
   "cell_type": "markdown",
   "metadata": {},
   "source": [
    "## Create an Interface Supervisor agent using Amazon Bedrock Agents\n",
    "On this section we declare global variables that will be act as helpers during entire notebook."
   ]
  },
  {
   "cell_type": "code",
   "execution_count": null,
   "metadata": {},
   "outputs": [],
   "source": [
    "import boto3\n",
    "import time\n",
    "import uuid\n",
    "\n",
    "sts_client = boto3.client('sts')\n",
    "session = boto3.session.Session()\n",
    "\n",
    "account_id = sts_client.get_caller_identity()[\"Account\"]\n",
    "region = session.region_name\n",
    "\n",
    "s3_client = boto3.client('s3', region)\n",
    "bedrock_client = boto3.client('bedrock-runtime', region)\n",
    "\n",
    "agent_foundation_model = [\n",
    "    'us.amazon.nova-premier-v1:0'\n",
    "]\n"
   ]
  },
  {
   "cell_type": "markdown",
   "metadata": {},
   "source": [
    "## Importing helper functions\n",
    "On following section, we're adding bedrock_agent_helper.py and knowledge_base_helper on Python path, so the files can be recognized and their functionalities can be invoked.\n",
    "\n",
    "In general, the helper functions handle common tasks including agent creation, knowledge bases for bedrock creation and accessing data on S3."
   ]
  },
  {
   "cell_type": "code",
   "execution_count": null,
   "metadata": {},
   "outputs": [],
   "source": [
    "import sys\n",
    "\n",
    "sys.path.insert(0, \".\")\n",
    "sys.path.insert(1, \"..\")\n",
    "\n",
    "from utils.bedrock_agent_helper import (\n",
    "    AgentsForAmazonBedrock\n",
    ")\n",
    "\n",
    "agents = AgentsForAmazonBedrock()"
   ]
  },
  {
   "cell_type": "markdown",
   "metadata": {},
   "source": [
    "## Article Generation Supervisor Agent\n",
    "Create a supervisor agent which will direct the users input to the Research Agent and then send all the information to the Aritcle Generation Supervisor Agent.\n"
   ]
  },
  {
   "cell_type": "code",
   "execution_count": null,
   "metadata": {},
   "outputs": [],
   "source": [
    "interface_supervisor_agent_name = \"interface_supervisor_agent\"\n",
    "agent_description = \"interfaces between the user, research agent and article generation supervisor\"\n",
    "\n",
    "# In the following instructions note that we are referring to the two collaborate agents by their collaborator names, the collaborators will be added later\n",
    "instruction = \"\"\"You are a supervisor agent responsible for orchestrating a news article generation workflow.\n",
    "You will be provided news facts that have been collected from a news event. \n",
    "Your role is to only coordinate between agents.\n",
    "\n",
    "Here are your primary functions:\n",
    "1. Delegate Research: Pass these news facts unmodified to the researchSupervisor agent. The unmodified output of the researchSupervisor agent should be sent to the generateSupervisor agent.\n",
    "2. Delegate Article Generation: Take the complete output from the researchSupervisor agent and pass it unmodified to the generateSupervisor agent. \n",
    "3. Return final news article: Return the generateSupervisor agent's output to the user without any modifications.\n",
    "\n",
    "Important Guidelines:\n",
    "Do not modify, summarize, or filter the researchSupervisor agent's output before passing it to the generateSupervisor agent.\n",
    "Do not edit, rewrite, or enhance the generateSupervisor agent's output before returning it to the user.\n",
    "Maintain a clear separation between the two stages of the workflow.\n",
    "If any agent returns an error or incomplete output, notify the user with the exact error message.\n",
    "\n",
    "Your function is purely to orchestrate this workflow with complete fidelity to the inputs and outputs of each stage, without adding your own analysis or modifications.\"\"\"\n",
    "\n",
    "supervisor_agent = agents.create_agent(\n",
    "    interface_supervisor_agent_name,\n",
    "    agent_description,\n",
    "    instruction,\n",
    "    agent_foundation_model,\n",
    "    agent_collaboration='SUPERVISOR'\n",
    ")\n",
    "\n",
    "interface_supervisor_agent_id = supervisor_agent[0]\n",
    "interface_supervisor_agent_alias_id = supervisor_agent[1]\n",
    "interface_supervisor_agent_alias_arn = supervisor_agent[2]\n",
    "agent_resourceRoleArn = supervisor_agent[3]"
   ]
  },
  {
   "cell_type": "markdown",
   "metadata": {},
   "source": [
    "### Associate Collaborators\n",
    "\n",
    "In this section, we're going to recover alias Ids of the following agents to add them as collaborators for the Interface Supervisor Agent:\n",
    "1. Research Agent (Notebook 01)\n",
    "2. Article Generation Supervisor (Notebook 05)"
   ]
  },
  {
   "cell_type": "code",
   "execution_count": null,
   "metadata": {},
   "outputs": [],
   "source": [
    "sub_agents_list = [\n",
    "    {\n",
    "        'sub_agent_alias_arn': research_agent_alias_arn,\n",
    "        'sub_agent_instruction': \"\"\"The researchSupervisor can extract entities based on information from a news event, verify those entities exist, and then gather information about those entities.\"\"\",\n",
    "        'sub_agent_association_name': 'researchSupervisor',\n",
    "        'relay_conversation_history': 'TO_COLLABORATOR'\n",
    "    },\n",
    "    {\n",
    "        'sub_agent_alias_arn': article_supervisor_agent_alias_arn,\n",
    "        'sub_agent_instruction': \"\"\"The generateSupervisor agent can generate news articles for news websites given information about a news event.\"\"\",\n",
    "        'sub_agent_association_name': 'generateSupervisor',\n",
    "        'relay_conversation_history': 'TO_COLLABORATOR'\n",
    "    }\n",
    "]"
   ]
  },
  {
   "cell_type": "markdown",
   "metadata": {},
   "source": [
    "Associate all sub-agents with the Interface Supervisor Agent:"
   ]
  },
  {
   "cell_type": "code",
   "execution_count": null,
   "metadata": {},
   "outputs": [],
   "source": [
    "interface_supervisor_agent_alias_id, interface_supervisor_agent_alias_arn = agents.associate_sub_agents(\n",
    "    interface_supervisor_agent_id, sub_agents_list\n",
    ")"
   ]
  },
  {
   "cell_type": "markdown",
   "metadata": {},
   "source": [
    "We update the agent with new default temperature, topP, topK, and maximumLength values\n",
    "\n",
    "Updating an agent requires setting a lot of values, in the cell below we grab the default values to feed them back into the `update_agent` function.\n",
    "\n",
    "Read more about `update_agent` [here](https://boto3.amazonaws.com/v1/documentation/api/latest/reference/services/bedrock-agent/client/update_agent.html) and about Advanced Prompts [here](https://docs.aws.amazon.com/bedrock/latest/userguide/advanced-prompts.html)"
   ]
  },
  {
   "cell_type": "code",
   "execution_count": null,
   "metadata": {},
   "outputs": [],
   "source": [
    "# Sleep to let the agent versioning finish\n",
    "time.sleep(20)\n",
    "\n",
    "bedrock_agent_client = boto3.client('bedrock-agent')\n",
    "\n",
    "# Helper function to find the right basepromptTemplate\n",
    "def find_by_key_value_next(items, key, value):\n",
    "    return next((item for item in items if item[key] == value), None)\n",
    "\n",
    "\n",
    "# This helps us grab the correct basePromptTemplate used for the orchestration step\n",
    "def get_base_prompt_template(promptType, agentId):\n",
    "    # get all the info in the agent at the current state\n",
    "    agent_info = bedrock_agent_client.get_agent(agentId=agentId)\n",
    "\n",
    "    # Go through the results to find the info we need for update agent\n",
    "    # You can see the full response of get_agent here:\n",
    "    # https://boto3.amazonaws.com/v1/documentation/api/latest/reference/services/bedrock-agent/client/get_agent.html\n",
    "    prompt_orchestrations = agent_info['agent']['promptOverrideConfiguration']['promptConfigurations']\n",
    "    return find_by_key_value_next(prompt_orchestrations,\n",
    "                                  'promptType',\n",
    "                                  promptType)['basePromptTemplate']\n",
    "\n",
    "\n",
    "# We have to change the inference values only for the orchestration step\n",
    "prompt_template = get_base_prompt_template('ORCHESTRATION',\n",
    "                                           interface_supervisor_agent_id)\n",
    "\n",
    "response = bedrock_agent_client.update_agent(\n",
    "        agentCollaboration='SUPERVISOR',\n",
    "        agentId=interface_supervisor_agent_id,\n",
    "        agentName=interface_supervisor_agent_name,\n",
    "        description=agent_description,\n",
    "        agentResourceRoleArn=agent_resourceRoleArn,\n",
    "        foundationModel=agent_foundation_model[0],\n",
    "        instruction=instruction,\n",
    "        promptOverrideConfiguration={\n",
    "            \"promptConfigurations\": [\n",
    "                {\n",
    "                    \"inferenceConfiguration\": {\n",
    "                        \"temperature\": 1.0,\n",
    "                        \"topP\": 1.0,\n",
    "                        \"topK\": 1,\n",
    "                        \"maximumLength\": 8192\n",
    "                    },\n",
    "                    'parserMode': 'DEFAULT',\n",
    "                    'promptCreationMode': 'OVERRIDDEN',\n",
    "                    'promptType': 'ORCHESTRATION',\n",
    "                    'promptState': 'ENABLED',\n",
    "                    'basePromptTemplate': prompt_template\n",
    "                }\n",
    "            ]\n",
    "        }\n",
    ")\n",
    "\n",
    "# An agent always has to be prepared after changes\n",
    "bedrock_agent_client.prepare_agent(agentId=interface_supervisor_agent_id)\n",
    "\n",
    "# Sleep to let the agent preparation finish\n",
    "time.sleep(20)"
   ]
  },
  {
   "cell_type": "markdown",
   "metadata": {},
   "source": [
    "## Invoking multi-agent Collaborator\n",
    "\n",
    "With our supervisor agent created and connected to both specialized agents, we can now demonstrate the power of multi-agent collaboration. The supervisor agent will orchestrate the entire workflow:\n",
    "\n",
    "1. It will first send the user input to the Research Agent for entity recognition, verification and additional research\n",
    "2. The results of the research and the original news facts will then be sent to the Generation Supervisor Agent\n",
    "3. The Generation Supervisor Agent will first delegate the article creation task to the Article Generation Agent\n",
    "4. Then send the draft to the Article Reviewer Agent for detailed feedback\n",
    "5. Return the draft with feedback to the Article Generation Agent for refinement\n",
    "6. Repeat this cycle up to three times to continuously improve the article quality\n",
    "7. Finally deliver the polished article to the user\n",
    "\n",
    "This collaborative approach combines the strengths of all specialized agents - the researching capability of the Research Agent, the creative writing capabilities of the Article Generation Agent and the critical analysis skills of the Article Reviewer Agent - resulting in higher quality content than either agent could produce independently."
   ]
  },
  {
   "cell_type": "markdown",
   "metadata": {},
   "source": [
    "We can now set a dictionary with agents names for better visualization of the traces"
   ]
  },
  {
   "cell_type": "code",
   "execution_count": null,
   "metadata": {},
   "outputs": [],
   "source": [
    "multi_agent_names = {\n",
    "    f\"{research_agent_id}/{research_agent_alias_id}\": research_agent_name,\n",
    "    f\"{article_supervisor_agent_id}/{article_supervisor_agent_alias_id}\": article_supervisor_agent_name,\n",
    "    f\"{interface_supervisor_agent_id}/{interface_supervisor_agent_alias_id}\": interface_supervisor_agent_name\n",
    "}"
   ]
  },
  {
   "cell_type": "markdown",
   "metadata": {},
   "source": [
    "## Testing Agent\n",
    "Let's test this multi-agent system by providing the Interface Supervisor Agent with mock news facts that have been collected by a journalist."
   ]
  },
  {
   "cell_type": "code",
   "execution_count": null,
   "metadata": {},
   "outputs": [],
   "source": [
    "news_facts = \"\"\"NeuraHealth Solutions announced its new medical diagnostic platform called \"MediScan\" at their annual developer conference yesterday.\n",
    "The system demonstrated 94% accuracy in early disease detection across a trial of 12,000 patients.\n",
    "Dr. Eliza Chen, Chief Medical Officer at NeuraHealth, revealed the system was trained on 50 million anonymized patient records.\n",
    "NeuraHealth CEO Marcus Williams stated the company invested $450 million in research and development over three years.\n",
    "The platform will be piloted at five major hospital networks starting next month.\n",
    "Senior Vice President of Product Development, Raj Patel, confirmed that FDA approval is expected by the third quarter.\n",
    "Initial focus areas include cardiovascular disease, diabetes, and early cancer detection.\n",
    "\"\"\""
   ]
  },
  {
   "cell_type": "code",
   "execution_count": null,
   "metadata": {},
   "outputs": [],
   "source": [
    "article_query_prompt = news_facts\n",
    "\n",
    "article_query_prompt"
   ]
  },
  {
   "cell_type": "code",
   "execution_count": null,
   "metadata": {},
   "outputs": [],
   "source": [
    "%%time\n",
    "session_id:str = str(uuid.uuid1())\n",
    "\n",
    "interface_supervisor_agent_response = agents.invoke(\n",
    "    article_query_prompt,\n",
    "    interface_supervisor_agent_id,\n",
    "    session_id=session_id,\n",
    "    enable_trace=True,\n",
    "    trace_level = \"all\",\n",
    "    multi_agent_names=multi_agent_names\n",
    ")"
   ]
  },
  {
   "cell_type": "code",
   "execution_count": null,
   "metadata": {},
   "outputs": [],
   "source": [
    "print(interface_supervisor_agent_response)"
   ]
  },
  {
   "cell_type": "markdown",
   "metadata": {},
   "source": [
    "# Summary\n",
    "\n",
    "In this lab, we demonstrated how to implement a powerful **Multi-Agent Collaboration** pattern using Amazon Bedrock Agents. This pattern enables complex workflows through the orchestration of specialized agents working together to achieve superior results.\n",
    "\n",
    "Our implementation consisted of five key components:\n",
    "\n",
    "1. **Research Agent**: A specialized agent which can extract entities from news facts and provide detailed research on each entity to help write a balanced news article.\n",
    "\n",
    "2. **Article Generation Agent**: A specialized content creator that produces high-quality articles following detailed journalistic guidelines across multiple dimensions including clarity, accuracy, engagement, structure, and technical excellence.\n",
    "\n",
    "3. **Article Reviewer Agent**: A professional reviewer that analyzes content across multiple dimensions and provides detailed, constructive feedback with specific improvement suggestions.\n",
    "\n",
    "4. **Article Supervisor Agent**: The orchestrator that coordinates the collaboration between the specialized agents, managing the iterative feedback loop to continuously refine the article quality.\n",
    "\n",
    "5. **Interface Supervisor Agent**: This orchestrates the whole workflow of passing information from the user to the research and generation agents.\n",
    "\n",
    "The multi-agent collaboration pattern demonstrated several key advantages:\n",
    "\n",
    "- **Specialized Expertise**: Each agent focuses on its core competency - content creation or critical review\n",
    "- **Iterative Improvement**: The feedback loop enables continuous refinement of the content\n",
    "- **Workflow Automation**: The supervisor agent manages the entire process without requiring user intervention\n",
    "- **Quality Enhancement**: The final output benefits from multiple perspectives and expertise\n",
    "\n"
   ]
  },
  {
   "cell_type": "code",
   "execution_count": null,
   "metadata": {},
   "outputs": [],
   "source": []
  }
 ],
 "metadata": {
  "kernelspec": {
   "display_name": "Python 3 (ipykernel)",
   "language": "python",
   "name": "python3"
  },
  "language_info": {
   "codemirror_mode": {
    "name": "ipython",
    "version": 3
   },
   "file_extension": ".py",
   "mimetype": "text/x-python",
   "name": "python",
   "nbconvert_exporter": "python",
   "pygments_lexer": "ipython3",
   "version": "3.12.9"
  }
 },
 "nbformat": 4,
 "nbformat_minor": 4
}
