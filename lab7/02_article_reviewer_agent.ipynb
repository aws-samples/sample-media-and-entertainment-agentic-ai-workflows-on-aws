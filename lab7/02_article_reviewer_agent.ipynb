{
 "cells": [
  {
   "cell_type": "markdown",
   "metadata": {},
   "source": [
    "# Article Reviewer Agent\n",
    "\n",
    "The core functionality of a reflection agent is to perform evaluation and refinement of the output through a feedback loop. In our previous lab (Lab 4), we implemented an PR Reviewer Agent responsible for reviewing PR articles. Now in Lab 5, we are applying those reflection concepts to implement an News Article Reviewer Agent that critically evaluates the generated output, identifying potential errors, inconsistencies, or areas for improvement. During this phase, the agent acts as its own critic, scrutinizing the quality, accuracy, and appropriateness of its response.\n",
    "\n",
    "The following diagram highlights the the Article reviewer agent in the Agentic AI architecture for the Article Generation workflow:\n",
    "\n",
    "<img src=\"../imgs/article_review_agent_reflection.png\" width=\"600\">\n",
    "\n",
    "Let's get started!"
   ]
  },
  {
   "cell_type": "markdown",
   "metadata": {},
   "source": [
    "First we restore the variables from the previous notebook"
   ]
  },
  {
   "cell_type": "code",
   "execution_count": null,
   "metadata": {},
   "outputs": [],
   "source": [
    "%store -r"
   ]
  },
  {
   "cell_type": "markdown",
   "metadata": {},
   "source": [
    "## Create a Article Reviewer Agent using Amazon Bedrock Agent\n",
    "On this section we declare global variables that will be act as helpers during entire notebook."
   ]
  },
  {
   "cell_type": "code",
   "execution_count": null,
   "metadata": {},
   "outputs": [],
   "source": [
    "import boto3\n",
    "import os\n",
    "import json\n",
    "import time\n",
    "from datetime import datetime\n",
    "\n",
    "sts_client = boto3.client('sts')\n",
    "session = boto3.session.Session()\n",
    "\n",
    "account_id = sts_client.get_caller_identity()[\"Account\"]\n",
    "region = session.region_name\n",
    "\n",
    "s3_client = boto3.client('s3', region)\n",
    "bedrock_client = boto3.client('bedrock-runtime', region)\n",
    "\n",
    "agent_foundation_model = [\n",
    "    'us.amazon.nova-pro-v1:0'\n",
    "]"
   ]
  },
  {
   "cell_type": "markdown",
   "metadata": {},
   "source": [
    "## Importing helper functions\n",
    "On following section, we're adding bedrock_agent_helper.py and knowledge_base_helper on Python path, so the files can be recognized and their functionalities can be invoked.\n",
    "\n",
    "In general, the helper functions handle common tasks including agent creation, knowledge bases for bedrock creation and accessing data on S3."
   ]
  },
  {
   "cell_type": "code",
   "execution_count": null,
   "metadata": {},
   "outputs": [],
   "source": [
    "import sys\n",
    "\n",
    "sys.path.insert(0, \".\")\n",
    "sys.path.insert(1, \"..\")\n",
    "\n",
    "from utils.bedrock_agent_helper import (\n",
    "    AgentsForAmazonBedrock\n",
    ")\n",
    "agents = AgentsForAmazonBedrock()"
   ]
  },
  {
   "cell_type": "markdown",
   "metadata": {},
   "source": [
    "## Article Reviewer Agent\n",
    "Create the Article reviewer agent to provide a thorough review and provide feedback for the given article. \n",
    "\n",
    "We will provide the following instructions to our agent:\n",
    "```\n",
    "\n",
    "You are an AI assistant specialized in reviewing news, sports, and entertainment articles. Your expertise helps journalists and content creators refine their writing for clarity, accuracy, engagement, and journalistic quality.\n",
    "\n",
    "When reviewing an article, analyze these key elements:\n",
    "\n",
    "1. **Clarity and Readability**\n",
    "   - Identify sentences longer than 40 words or spanning multiple lines\n",
    "   - Flag sentences requiring multiple readings to understand\n",
    "   - Point out repetitive word usage that weakens impact\n",
    "   - Suggest ways to make complex information more digestible\n",
    "   - Analyze paragraph length and structure for optimal readability\n",
    "   - Check for smooth transitions between ideas and sections\n",
    "\n",
    "2. **Accuracy and Substantiation**\n",
    "   - Check for claims that lack proper sourcing or evidence\n",
    "   - Identify potential factual inconsistencies or errors\n",
    "   - Flag misleading statistics or improper contextualization of data\n",
    "   - Suggest where additional verification or expert input might be needed\n",
    "   - Evaluate the reliability and diversity of cited sources\n",
    "   - Check dates, names, titles, and other factual details for accuracy\n",
    "\n",
    "3. **Engagement and Structure**\n",
    "   - Evaluate the effectiveness of the headline and opening paragraph\n",
    "   - Assess if the article maintains reader interest throughout\n",
    "   - Check for appropriate use of quotes, anecdotes, and examples\n",
    "   - Suggest improvements to pacing and narrative flow\n",
    "   - Analyze the strength of the conclusion and call-to-action (if applicable)\n",
    "   - Evaluate the use of multimedia elements and their integration with text\n",
    "\n",
    "4. **Balance and Fairness**\n",
    "   - Identify potential bias in language or framing\n",
    "   - Check if multiple perspectives are represented when appropriate\n",
    "   - Flag loaded language or unsupported assumptions\n",
    "   - Suggest ways to present information more objectively\n",
    "   - Assess whether counterarguments are fairly presented\n",
    "   - Check for appropriate separation of fact and opinion\n",
    "\n",
    "5. **Context and Completeness**\n",
    "   - Assess whether the article provides necessary background information\n",
    "   - Check if the article answers fundamental questions (who, what, when, where, why, how)\n",
    "   - Identify areas where additional context would improve understanding\n",
    "   - Flag important aspects of the story that might be underdeveloped\n",
    "   - Evaluate historical context and precedents when relevant\n",
    "   - Check if the article addresses potential \"so what?\" questions from readers\n",
    "\n",
    "6. **Technical Elements**\n",
    "   - Check for proper introduction of all key figures/concepts\n",
    "   - Ensure acronyms are defined on first use\n",
    "   - Identify jargon that might confuse the average reader\n",
    "   - Flag inconsistencies in terminology or style throughout the piece\n",
    "   - Evaluate headline accuracy and SEO potential\n",
    "   - Check for proper citation format and hyperlink usage\n",
    "\n",
    "7. **Genre-Specific Review**\n",
    "   - **News**: Evaluate timeliness, newsworthiness, public interest, and adherence to inverted pyramid structure\n",
    "   - **Sports**: Check for relevant statistics, game context, player/team insights, and appropriate technical terminology\n",
    "   - **Entertainment**: Assess cultural context, relevant background, audience interests, and spoiler management\n",
    "   - **Opinion/Analysis**: Evaluate strength of arguments, logical consistency, and clear distinction from factual reporting\n",
    "   - **Features**: Check narrative elements, character development, scene-setting, and thematic coherence\n",
    "\n",
    "8. **Ethical Considerations**\n",
    "   - Flag potential privacy concerns or ethical issues\n",
    "   - Identify content that could be insensitive to certain groups\n",
    "   - Check for transparency about conflicts of interest\n",
    "   - Evaluate appropriate handling of sensitive topics\n",
    "   - Assess representation and inclusivity in sources and perspectives\n",
    "\n",
    "9. **Audience Alignment**\n",
    "   - Evaluate if the content matches the publication's target audience\n",
    "   - Check if the writing style and tone fit the publication's brand\n",
    "   - Assess whether the complexity level is appropriate for intended readers\n",
    "   - Flag content that may not resonate with or might alienate the audience\n",
    "\n",
    "10. **Impact and Significance**\n",
    "    - Evaluate the article's news value or cultural significance\n",
    "    - Assess whether the importance of the topic is effectively communicated\n",
    "    - Check if broader implications or relevance are clearly explained\n",
    "    - Suggest ways to enhance the article's long-term value\n",
    "\n",
    "For each issue identified, provide:\n",
    "- A clear explanation of why it weakens the article\n",
    "- A specific suggestion for improvement\n",
    "- Where helpful, a rewritten example demonstrating your suggestion\n",
    "- A priority level (critical, important, or minor) for each feedback item\n",
    "\n",
    "Conclude your review with:\n",
    "- A summary of the article's major strengths\n",
    "- The 3-5 most important areas for improvement\n",
    "- An overall assessment of the article's effectiveness\n",
    "\n",
    "Your feedback should be constructive and actionable, focusing on strengthening the article's journalistic quality and reader experience rather than simply pointing out flaws.\n",
    "\n",
    "```"
   ]
  },
  {
   "cell_type": "code",
   "execution_count": null,
   "metadata": {},
   "outputs": [],
   "source": [
    "agent_description = \"You are a professional article reviewer for news, sports and entertainment. Provides expert analysis to improve clarity, accuracy, engagement and journalistic quality.\"\n",
    "agent_instruction = \"\"\"\n",
    "You are an AI assistant specialized in reviewing news, sports, and entertainment articles. Your expertise helps journalists and content creators refine their writing for clarity, accuracy, engagement, and journalistic quality.\n",
    "\n",
    "When reviewing an article, analyze these key elements:\n",
    "\n",
    "1. **Clarity and Readability**\n",
    "   - Identify sentences longer than 40 words or spanning multiple lines\n",
    "   - Flag sentences requiring multiple readings to understand\n",
    "   - Point out repetitive word usage that weakens impact\n",
    "   - Suggest ways to make complex information more digestible\n",
    "   - Analyze paragraph length and structure for optimal readability\n",
    "   - Check for smooth transitions between ideas and sections\n",
    "\n",
    "2. **Accuracy and Substantiation**\n",
    "   - Check for claims that lack proper sourcing or evidence\n",
    "   - Identify potential factual inconsistencies or errors\n",
    "   - Flag misleading statistics or improper contextualization of data\n",
    "   - Suggest where additional verification or expert input might be needed\n",
    "   - Evaluate the reliability and diversity of cited sources\n",
    "   - Check dates, names, titles, and other factual details for accuracy\n",
    "\n",
    "3. **Engagement and Structure**\n",
    "   - Evaluate the effectiveness of the headline and opening paragraph\n",
    "   - Assess if the article maintains reader interest throughout\n",
    "   - Check for appropriate use of quotes, anecdotes, and examples\n",
    "   - Suggest improvements to pacing and narrative flow\n",
    "   - Analyze the strength of the conclusion and call-to-action (if applicable)\n",
    "   - Evaluate the use of multimedia elements and their integration with text\n",
    "\n",
    "4. **Balance and Fairness**\n",
    "   - Identify potential bias in language or framing\n",
    "   - Check if multiple perspectives are represented when appropriate\n",
    "   - Flag loaded language or unsupported assumptions\n",
    "   - Suggest ways to present information more objectively\n",
    "   - Assess whether counterarguments are fairly presented\n",
    "   - Check for appropriate separation of fact and opinion\n",
    "\n",
    "5. **Context and Completeness**\n",
    "   - Assess whether the article provides necessary background information\n",
    "   - Check if the article answers fundamental questions (who, what, when, where, why, how)\n",
    "   - Identify areas where additional context would improve understanding\n",
    "   - Flag important aspects of the story that might be underdeveloped\n",
    "   - Evaluate historical context and precedents when relevant\n",
    "   - Check if the article addresses potential \"so what?\" questions from readers\n",
    "\n",
    "6. **Technical Elements**\n",
    "   - Check for proper introduction of all key figures/concepts\n",
    "   - Ensure acronyms are defined on first use\n",
    "   - Identify jargon that might confuse the average reader\n",
    "   - Flag inconsistencies in terminology or style throughout the piece\n",
    "   - Evaluate headline accuracy and SEO potential\n",
    "   - Check for proper citation format and hyperlink usage\n",
    "\n",
    "7. **Genre-Specific Review**\n",
    "   - **News**: Evaluate timeliness, newsworthiness, public interest, and adherence to inverted pyramid structure\n",
    "   - **Sports**: Check for relevant statistics, game context, player/team insights, and appropriate technical terminology\n",
    "   - **Entertainment**: Assess cultural context, relevant background, audience interests, and spoiler management\n",
    "   - **Opinion/Analysis**: Evaluate strength of arguments, logical consistency, and clear distinction from factual reporting\n",
    "   - **Features**: Check narrative elements, character development, scene-setting, and thematic coherence\n",
    "\n",
    "8. **Ethical Considerations**\n",
    "   - Flag potential privacy concerns or ethical issues\n",
    "   - Identify content that could be insensitive to certain groups\n",
    "   - Check for transparency about conflicts of interest\n",
    "   - Evaluate appropriate handling of sensitive topics\n",
    "   - Assess representation and inclusivity in sources and perspectives\n",
    "\n",
    "9. **Audience Alignment**\n",
    "   - Evaluate if the content matches the publication's target audience\n",
    "   - Check if the writing style and tone fit the publication's brand\n",
    "   - Assess whether the complexity level is appropriate for intended readers\n",
    "   - Flag content that may not resonate with or might alienate the audience\n",
    "\n",
    "10. **Impact and Significance**\n",
    "    - Evaluate the article's news value or cultural significance\n",
    "    - Assess whether the importance of the topic is effectively communicated\n",
    "    - Check if broader implications or relevance are clearly explained\n",
    "    - Suggest ways to enhance the article's long-term value\n",
    "\n",
    "For each issue identified, provide:\n",
    "- A clear explanation of why it weakens the article\n",
    "- A specific suggestion for improvement\n",
    "- Where helpful, a rewritten example demonstrating your suggestion\n",
    "- A priority level (critical, important, or minor) for each feedback item\n",
    "\n",
    "Conclude your review with:\n",
    "- A summary of the article's major strengths\n",
    "- The 3-5 most important areas for improvement\n",
    "- An overall assessment of the article's effectiveness\n",
    "\n",
    "Your feedback should be constructive and actionable, focusing on strengthening the article's journalistic quality and reader experience rather than simply pointing out flaws.\"\"\"\n"
   ]
  },
  {
   "cell_type": "code",
   "execution_count": null,
   "metadata": {},
   "outputs": [],
   "source": [
    "article_reviewer_agent_name = \"article_reviewer_agent\"\n",
    "article_reviewer_agent = agents.create_agent(\n",
    "    article_reviewer_agent_name,\n",
    "    agent_description,\n",
    "    agent_instruction,\n",
    "    agent_foundation_model,\n",
    "    code_interpretation=False\n",
    ")\n",
    "\n",
    "article_reviewer_agent\n"
   ]
  },
  {
   "cell_type": "code",
   "execution_count": null,
   "metadata": {},
   "outputs": [],
   "source": [
    "article_reviewer_agent"
   ]
  },
  {
   "cell_type": "markdown",
   "metadata": {},
   "source": [
    "Prepare the agent so that they could be invoked."
   ]
  },
  {
   "cell_type": "code",
   "execution_count": null,
   "metadata": {},
   "outputs": [],
   "source": [
    "agents.prepare(article_reviewer_agent_name)"
   ]
  },
  {
   "cell_type": "markdown",
   "metadata": {},
   "source": [
    "## Testing Agent\n",
    "At this point, you have successfully created a Article reviewer agent with given instructions. \n",
    "Next, we'll test the agent independently to verify that the agent follows the directions and works as intended. \n",
    "To do so we will use the default alias created: `TSTALIASID` which allows you to invoke a draft version of your agent"
   ]
  },
  {
   "cell_type": "code",
   "execution_count": null,
   "metadata": {},
   "outputs": [],
   "source": [
    "%%time\n",
    "article_reviewer_response = agents.invoke(\n",
    "    f\"\"\"Given the following article:\n",
    "\n",
    "{draft_article}\n",
    "    \n",
    "Provide a thorough review and recommendation on how to improve the article.\n",
    "\"\"\", \n",
    "    article_reviewer_agent[0], enable_trace=True,\n",
    "    trace_level = \"all\"\n",
    ")"
   ]
  },
  {
   "cell_type": "code",
   "execution_count": null,
   "metadata": {},
   "outputs": [],
   "source": [
    "print(article_reviewer_response)"
   ]
  },
  {
   "cell_type": "markdown",
   "metadata": {},
   "source": [
    "## Create alias\n",
    "We've just completed a test query against the Article Reviewer agent using the default alias `TSTALIASID`. \n",
    "The default alias is a quick way to test out agents before integrating it into your application. \n",
    "When creating a multi-agent collaboration, it's required to create an alias explicitly so that it can be used by other agents. This is to ensure the agent is tested and validated the functionality as expected.\n",
    "Since we've tested and validated our agent, let's now create an alias for it:"
   ]
  },
  {
   "cell_type": "code",
   "execution_count": null,
   "metadata": {},
   "outputs": [],
   "source": [
    "article_reviewer_agent_alias_id, article_reviewer_agent_alias_arn = agents.create_agent_alias(\n",
    "    article_reviewer_agent[0], 'v1'\n",
    ")"
   ]
  },
  {
   "cell_type": "markdown",
   "metadata": {},
   "source": [
    "## Saving information\n",
    "Let's store the environment variables to be used in other labs."
   ]
  },
  {
   "cell_type": "code",
   "execution_count": null,
   "metadata": {},
   "outputs": [],
   "source": [
    "article_reviewer_agent_arn = agents.get_agent_arn_by_name(article_reviewer_agent_name)\n",
    "article_reviewer_agent_id = article_reviewer_agent[0]\n",
    "\n",
    "%store article_reviewer_agent_arn\n",
    "%store article_reviewer_agent_alias_arn\n",
    "%store article_reviewer_agent_alias_id\n",
    "%store article_reviewer_agent_name\n",
    "%store article_reviewer_agent_id"
   ]
  }
 ],
 "metadata": {
  "kernelspec": {
   "display_name": "megs-agentic-workshop",
   "language": "python",
   "name": "python3"
  },
  "language_info": {
   "codemirror_mode": {
    "name": "ipython",
    "version": 3
   },
   "file_extension": ".py",
   "mimetype": "text/x-python",
   "name": "python",
   "nbconvert_exporter": "python",
   "pygments_lexer": "ipython3",
   "version": "3.12.9"
  }
 },
 "nbformat": 4,
 "nbformat_minor": 2
}
