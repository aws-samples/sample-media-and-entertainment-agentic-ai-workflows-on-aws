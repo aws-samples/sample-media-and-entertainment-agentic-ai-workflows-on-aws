{
 "cells": [
  {
   "cell_type": "markdown",
   "id": "92119ada-65c5-45e5-b754-725eff54b54c",
   "metadata": {},
   "source": [
    "# Multi Agent Collaboration - Setup\n",
    "To speed up the lab, we will setup a Bedrock Knowledge Base\n",
    "\n",
    "### Bedrock Knowledge Base\n",
    "This will serve as our mock source for information to gather facts about companies, people, products, etc. In a real-world scenario, this would be replaced by API calls to internal and third-party Information provider like LexisNexis, Thomson Reuters Westlaw, Bloomberg Terminal, Factiva, etc.\n",
    "\n",
    "All the cells in this notebook can take around 10 minutes to execute. Run all cells now and make sure all cells have executed before opening the next notebook.\n"
   ]
  },
  {
   "cell_type": "markdown",
   "id": "09c1f468",
   "metadata": {},
   "source": [
    "## Environment Setup"
   ]
  },
  {
   "cell_type": "markdown",
   "id": "2f1a4d2c-178c-4e01-83de-dc00840a4266",
   "metadata": {},
   "source": [
    "First we ensure that all Python packages required for this notebook are installed, please ignore any errors."
   ]
  },
  {
   "cell_type": "code",
   "execution_count": null,
   "id": "2a067c12-480c-4cd1-a8fd-ee1aaf3eda06",
   "metadata": {},
   "outputs": [],
   "source": [
    "%pip install -r ../../requirements.txt"
   ]
  },
  {
   "cell_type": "markdown",
   "id": "384676bf",
   "metadata": {},
   "source": [
    "### Loading Environment Variables"
   ]
  },
  {
   "cell_type": "code",
   "execution_count": null,
   "id": "eea3c20a",
   "metadata": {},
   "outputs": [],
   "source": [
    "import logging\n",
    "\n",
    "# Configure the root strands logger\n",
    "logging.getLogger(\"strands\").setLevel(logging.INFO)\n",
    "\n",
    "# Add a handler to see the logs\n",
    "logging.basicConfig(\n",
    "    format=\"%(levelname)s | %(name)s | %(message)s\", \n",
    "    handlers=[logging.StreamHandler()])"
   ]
  },
  {
   "cell_type": "markdown",
   "id": "851d6b57",
   "metadata": {},
   "source": [
    "## AWS Service Setup"
   ]
  },
  {
   "cell_type": "markdown",
   "id": "204c0ff4-80f3-43f9-b796-b17839d40caa",
   "metadata": {},
   "source": [
    "Now we setup our SDK to communicate with various AWS services"
   ]
  },
  {
   "cell_type": "code",
   "execution_count": null,
   "id": "dd282e41-a418-4f4d-942a-c443310f88d0",
   "metadata": {},
   "outputs": [],
   "source": [
    "##%%\n",
    "import boto3\n",
    "import json\n",
    "import os\n",
    "import sys\n",
    "\n",
    "sts_client = boto3.client('sts')\n",
    "session = boto3.session.Session()\n",
    "\n",
    "account_id = sts_client.get_caller_identity()[\"Account\"]\n",
    "region = session.region_name\n",
    "\n",
    "s3_client = boto3.client('s3', region)\n",
    "bedrock_client = boto3.client('bedrock-runtime', region)"
   ]
  },
  {
   "cell_type": "markdown",
   "id": "bae21e09-618d-4bf6-b380-b12b09adf9a0",
   "metadata": {},
   "source": [
    "## Knowledge Bases for Bedrock Setup\n",
    "Next we import some of the help functions that have been written to create Bedrock Knowledge Bases\n"
   ]
  },
  {
   "cell_type": "code",
   "execution_count": null,
   "id": "78136c58-9a32-4cd1-859b-0915ced1f6c1",
   "metadata": {},
   "outputs": [],
   "source": [
    "##%%\n",
    "\n",
    "sys.path.insert(0, \".\")\n",
    "sys.path.insert(1, \"..\")\n",
    "sys.path.insert(2, \"../..\")\n",
    "\n",
    "from utils.knowledge_base_helper import (\n",
    "    KnowledgeBasesForAmazonBedrock\n",
    ")\n",
    "\n",
    "kb = KnowledgeBasesForAmazonBedrock()"
   ]
  },
  {
   "cell_type": "markdown",
   "id": "2a338274-808d-479a-884d-e3402dc744ff",
   "metadata": {},
   "source": [
    "### Knowledge Base Configuration\n",
    "Let's start filling information about the Knowledge Base we're about to create"
   ]
  },
  {
   "cell_type": "code",
   "execution_count": null,
   "id": "659fa622-a0e2-4011-8fc6-50a14c84db5c",
   "metadata": {},
   "outputs": [],
   "source": [
    "##%%\n",
    "knowledge_base_name = f'lab7-mac-kb'\n",
    "knowledge_base_description = \"KB containing information about entities like companies, people, and products\"\n",
    "s3_bucket_name = f\"labs-bucket-{region}-{account_id}\"\n",
    "bucket_prefix = \"data/kb/mac/\""
   ]
  },
  {
   "cell_type": "markdown",
   "id": "f6d97d82-e2d3-4e64-a986-c573b2f723a0",
   "metadata": {},
   "source": [
    "Let's make the Knowledge Base, this command can take a while to finish running.\n",
    "Behind the scenes, Bedrock is spinning up:\n",
    "1. OpenSearch Serverless Collection\n",
    "2. OpenSearch Vector Index\n",
    "3. Bedrock Knowledge Base"
   ]
  },
  {
   "cell_type": "code",
   "execution_count": null,
   "id": "e7354b46-62c3-4c29-b3b8-79262540055e",
   "metadata": {},
   "outputs": [],
   "source": [
    "##%%\n",
    "\n",
    "kb_id, ds_id = kb.create_or_retrieve_knowledge_base(\n",
    "    knowledge_base_name,\n",
    "    knowledge_base_description,\n",
    "    s3_bucket_name,\n",
    "    \"amazon.titan-embed-text-v2:0\",\n",
    "    bucket_prefix\n",
    ")\n",
    "\n",
    "print(f\"Knowledge Base ID: {kb_id}\")\n",
    "print(f\"Data Source ID: {ds_id}\")"
   ]
  },
  {
   "cell_type": "markdown",
   "id": "92f65a0a-7f0c-4ded-8af7-ccbbef52d509",
   "metadata": {},
   "source": [
    "We have synthetically generated mock information regarding companies, products, and people to simulate the output you may see from an information service. These have been stored in the `information_sources` directory.\n",
    "\n",
    "We will now upload the mock information to the S3 bucket connected to our knowledge base."
   ]
  },
  {
   "cell_type": "code",
   "execution_count": null,
   "id": "3bf947c3477edd84",
   "metadata": {},
   "outputs": [],
   "source": [
    "def upload_directory(path, bucket_name, bucket_prefix):\n",
    "    for root, dirs, files in os.walk(path):\n",
    "        for file in files:\n",
    "            file_to_upload = os.path.join(root, file)\n",
    "            print(f\"uploading file {file_to_upload} to {bucket_name}\")\n",
    "            s3_client.upload_file(file_to_upload, bucket_name, f\"{bucket_prefix}{file}\")"
   ]
  },
  {
   "cell_type": "code",
   "execution_count": null,
   "id": "4246623dabbd093c",
   "metadata": {},
   "outputs": [],
   "source": [
    "upload_directory(\"../information_sources\", s3_bucket_name, bucket_prefix)"
   ]
  },
  {
   "cell_type": "markdown",
   "id": "c121cc20caa64800",
   "metadata": {},
   "source": [
    "It's time to sync that data and ingest it into the vector store."
   ]
  },
  {
   "cell_type": "code",
   "execution_count": null,
   "id": "42bc6107-77cd-47c1-9608-f64a22f79184",
   "metadata": {},
   "outputs": [],
   "source": [
    "kb.synchronize_data(kb_id, ds_id)"
   ]
  },
  {
   "cell_type": "markdown",
   "id": "81b38608-db0e-433d-8906-422a7d26320a",
   "metadata": {},
   "source": [
    "Let's set up some variables which will be used later"
   ]
  },
  {
   "cell_type": "code",
   "execution_count": null,
   "id": "02822e13-ef48-4c18-9ab6-5b9257230383",
   "metadata": {},
   "outputs": [],
   "source": [
    "kb_info = kb.get_kb(kb_id)\n",
    "kb_arn = kb_info['knowledgeBase']['knowledgeBaseArn']\n",
    "print(kb_id)\n",
    "print(kb_info)"
   ]
  },
  {
   "cell_type": "markdown",
   "id": "3f0ed33f21a61c09",
   "metadata": {},
   "source": [
    "\n",
    "## Saving information\n",
    "Let's store the variables that will be used in other notebooks:"
   ]
  },
  {
   "cell_type": "code",
   "execution_count": null,
   "id": "d5f449ad-b144-47eb-800b-93267bd70803",
   "metadata": {},
   "outputs": [],
   "source": [
    "%store kb_id"
   ]
  },
  {
   "cell_type": "markdown",
   "id": "2a7b4736",
   "metadata": {},
   "source": [
    "## Summary\n",
    "\n",
    "We have established the foundational infrastructure for a multi-agent collaboration News Writer Agent which transforms raw news facts into \n",
    "comprehensive, well-researched articles. The completed tasks include:\n",
    "\n",
    "1.  Created a Bedrock Knowledge Base to serve as an information repository for entities (companies, people, products)\n",
    "1.  Populated the knowledge base with synthetic data that simulates real-world information sources\n",
    "1.  Configured vector embeddings using Amazon Titan for efficient semantic search capabilities\n",
    "1.  Set up data synchronization between S3 storage and the knowledge base\n",
    "\n",
    "### 📋 Next Steps\n",
    "\n",
    "1.  Run the main workflow: Use multi_agent_colloboration.ipynb to execute the multi-agent PR generation\n",
    "1.  Load stored variables: The main notebook will automatically load kb_id and other stored variables\n",
    "1.  Monitor performance: Check  quality and optimize the agents as needed\n"
   ]
  }
 ],
 "metadata": {
  "kernelspec": {
   "display_name": "Python 3 (ipykernel)",
   "language": "python",
   "name": "python3"
  },
  "language_info": {
   "codemirror_mode": {
    "name": "ipython",
    "version": 3
   },
   "file_extension": ".py",
   "mimetype": "text/x-python",
   "name": "python",
   "nbconvert_exporter": "python",
   "pygments_lexer": "ipython3",
   "version": "3.12.9"
  }
 },
 "nbformat": 4,
 "nbformat_minor": 5
}
