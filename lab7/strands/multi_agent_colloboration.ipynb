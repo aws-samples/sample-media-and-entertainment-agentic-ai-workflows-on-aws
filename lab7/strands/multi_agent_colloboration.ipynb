{
 "cells": [
  {
   "cell_type": "markdown",
   "metadata": {},
   "source": [
    "# Multi-agent Collaboration - News Writer\n",
    "When you need more than a single agent to handle a complex task, you can create additional specialized agents to address different aspects of the process. However, managing these agents becomes technically challenging as tasks grow in complexity. As a developer using open source solutions, you may find yourself navigating the complexities of agent orchestration, session handling, memory management, and other technical aspects that require manual implementation.\n",
    "\n",
    "With the multi-agent collaboration capability on Strands Agents SDK, specialized agents work within their domain of expertise, coordinated by a supervisor agent. The supervisor breaks down requests, delegates tasks, and consolidates outputs into a final response. For example, an investment advisory multi-agent system might include agents specialized in financial data analysis, research, forecasting, and investment recommendations. Similarly, a retail operations multi-agent system could handle demand forecasting, inventory allocation, supply chain coordination, and pricing optimization.\n",
    "\n",
    "In this lab, we will build a multi-agent system where facts about a news event collected by a journalist are used to generate a news story. As shown in the diagram below, multiple agents will be responsible for tasks which are orchestrated by the supervisor agent:\n",
    "\n",
    "<img src=\"../../imgs/multi_agent_colloboration_strands.png\" width=\"600\">"
   ]
  },
  {
   "cell_type": "markdown",
   "metadata": {
    "execution": {
     "iopub.execute_input": "2025-06-07T12:07:39.846714Z",
     "iopub.status.busy": "2025-06-07T12:07:39.846390Z",
     "iopub.status.idle": "2025-06-07T12:07:39.852769Z",
     "shell.execute_reply": "2025-06-07T12:07:39.851753Z",
     "shell.execute_reply.started": "2025-06-07T12:07:39.846690Z"
    }
   },
   "source": [
    "The workflow shown in the diagram above is as follows:\n",
    "\n",
    "1. A journalist submits facts to a front-end backed by an LLM (Interface Supervisor)\n",
    "2. The Interface Supervisor agent sends the facts to a Research agent.\n",
    "3. The Research agent is equipped with a Tool that does the following:\n",
    "   1. Entity Extraction: These can be people, companies, products, etc.\n",
    "   2. Gather background information: This uses the Bedrock Knowledge Base we created in the setup phase. If any entity has low confidence scores, i.e. not mentioned anywhere in the Knowledge Base it is discarded.\n",
    "5. The Lambda then returns the research to the Research agent, which returns it to the Interface Supervisor agent.\n",
    "6. Once additional context has been provided by the Research agent, the Interface Supervisor agent sends the research and the facts to the Article Generation agent. This agent is part of a reflection pattern we covered earlier (Lab 5):\n",
    "   1. News Generation agent: This writes the main news article based on the information provided by the Research agent.\n",
    "   2. Article Reviewer agent: This provides feedback to the News Generation agent and together, these agents iteratively improve the quality of the generated article.\n",
    "7. The remainder of the architecture is shown for completeness, and won't be part of this lab. Feel free to implement that if you have time at the end.\n",
    "\n",
    "Please note that this is a simplified architecture to demonstrate multi-agent collaboration, a complete architecture would incorporate storing outputs at every stage for monitoring agents, and more opportunity for human-in-the-loop capability."
   ]
  },
  {
   "cell_type": "markdown",
   "metadata": {
    "execution": {
     "iopub.execute_input": "2025-06-07T12:08:17.726112Z",
     "iopub.status.busy": "2025-06-07T12:08:17.725783Z",
     "iopub.status.idle": "2025-06-07T12:08:17.729218Z",
     "shell.execute_reply": "2025-06-07T12:08:17.728390Z",
     "shell.execute_reply.started": "2025-06-07T12:08:17.726089Z"
    }
   },
   "source": [
    "# Let's get started!"
   ]
  },
  {
   "cell_type": "code",
   "execution_count": null,
   "metadata": {},
   "outputs": [],
   "source": [
    "%store -r"
   ]
  },
  {
   "cell_type": "markdown",
   "metadata": {},
   "source": [
    "<div class=\"alert alert-info\"> 💡 The following cell imports Strands agent packages into the kernel. Sometimes, the library might not be updated from the installation. If you run into any issues with importing the following libraries, simply restart the kernel again and rerun the notebook. \n",
    "</div>"
   ]
  },
  {
   "cell_type": "code",
   "execution_count": null,
   "metadata": {},
   "outputs": [],
   "source": [
    "# Install Strands Agents if not already installed\n",
    "%pip install strands-agents strands-agents-tools -Uq"
   ]
  },
  {
   "cell_type": "markdown",
   "metadata": {},
   "source": [
    "## Importing Strands Agents\n",
    "In the following section, we'll import the necessary modules from Strands Agents to create our article generation agent."
   ]
  },
  {
   "cell_type": "code",
   "execution_count": null,
   "metadata": {},
   "outputs": [],
   "source": [
    "from strands import Agent, tool\n",
    "from strands_tools import retrieve\n",
    "from strands.models import BedrockModel"
   ]
  },
  {
   "cell_type": "code",
   "execution_count": null,
   "metadata": {},
   "outputs": [],
   "source": [
    "import logging\n",
    "\n",
    "# Configure the root strands logger\n",
    "logging.getLogger(\"strands\").setLevel(logging.INFO)\n",
    "\n",
    "# Add a handler to see the logs\n",
    "logging.basicConfig(\n",
    "    format=\"%(levelname)s | %(name)s | %(message)s\", \n",
    "    handlers=[logging.StreamHandler()])"
   ]
  },
  {
   "cell_type": "markdown",
   "metadata": {},
   "source": [
    "## AWS Service Setup"
   ]
  },
  {
   "cell_type": "code",
   "execution_count": null,
   "metadata": {},
   "outputs": [],
   "source": [
    "import boto3\n",
    "import time\n",
    "\n",
    "sts_client = boto3.client('sts')\n",
    "session = boto3.session.Session()\n",
    "\n",
    "account_id = sts_client.get_caller_identity()[\"Account\"]\n",
    "region = session.region_name\n",
    "\n",
    "s3_client = boto3.client('s3', region)\n",
    "bedrock_client = boto3.client('bedrock-runtime', region)\n",
    "bedrock_agent_runtime_client = boto3.client(\"bedrock-agent-runtime\", region)\n"
   ]
  },
  {
   "cell_type": "markdown",
   "metadata": {},
   "source": [
    "# Research Agent Implementation\n",
    "\n",
    "The following code block creates a specialized agent to gather comprehensive research on entities mentioned in news facts. This research agent extracts \n",
    "key entities (people, organizations, products) and retrieves relevant background information from knowledge bases to provide context for article \n",
    "generation.\n",
    "\n",
    "Strands Agent SDK provides a @tool decorator to make it easy for developers to create tools. Detailed descriptions about the tool are embedded in the \n",
    "function description. The description is used by Strands Agent to determine the right tool to invoke within the agent loop. For more information about how\n",
    "to create tools, please refer to this [link](https://strandsagents.com/latest/user-guide/concepts/tools/tools_overview/)"
   ]
  },
  {
   "cell_type": "markdown",
   "metadata": {
    "execution": {
     "iopub.execute_input": "2025-06-07T18:42:08.736834Z",
     "iopub.status.busy": "2025-06-07T18:42:08.736512Z",
     "iopub.status.idle": "2025-06-07T18:42:08.741165Z",
     "shell.execute_reply": "2025-06-07T18:42:08.740296Z",
     "shell.execute_reply.started": "2025-06-07T18:42:08.736811Z"
    }
   },
   "source": [
    "## Entity Extraction Tool for News Research\n",
    "\n",
    "We're building an entity extraction tool that identifies key information from news facts. This specialized component uses the Strands Agent \n",
    "SDK to transform unstructured news content into organized data."
   ]
  },
  {
   "cell_type": "code",
   "execution_count": null,
   "metadata": {},
   "outputs": [],
   "source": [
    "def extract_entities(news_facts: str) -> str:\n",
    "    \"\"\"\n",
    "    Extract entities (people, organizations, products) from news facts.\n",
    "    \n",
    "    Args:\n",
    "        news_facts: The news facts to extract entities from\n",
    "        \n",
    "    Returns:\n",
    "        Extracted entities in markdown format\n",
    "    \"\"\"\n",
    "\n",
    "    # Create a BedrockModel with specific configuration\n",
    "    entity_extraction_model = BedrockModel(\n",
    "        model_id=\"us.amazon.nova-lite-v1:0\",\n",
    "        region_name=region,\n",
    "        temperature=1.0,\n",
    "        max_tokens=2048\n",
    "    )\n",
    "    \n",
    "    extract_agent = Agent(\n",
    "        model=entity_extraction_model,\n",
    "        system_prompt=\"\"\"Your primary function is to extract entities (specifically people, companies/organizations, and products) from news facts collected by a journalist at a news event and output them in consistent markdown format. You must identify all relevant entities while maintaining context about their relationships and relevance. Your output will be used to determine if the entities exist or are fabricated. It is important that your output is in markdown format only.\n",
    "\n",
    "Input Processing:\n",
    "1. Accept text input of any length from journalists\n",
    "2. Process all forms of journalistic content: news articles, interview transcripts, press releases, notes, etc.\n",
    "3. Maintain the original text for reference and context\n",
    "\n",
    "Entity Recognition Methodology:\n",
    "1. Extract full names of people (first, middle, last) where available\n",
    "2. Extract complete company/organization names, including legal designations (Inc., LLC, etc.)\n",
    "3. Recognize and extract aliases, nicknames, and abbreviated forms of entities\n",
    "4. Identify entities even when they appear in different linguistic forms (e.g., possessive, plural)\n",
    "5. Consider contextual information to accurately identify entities (titles, roles, locations)\n",
    "\n",
    "Entity Classification:\n",
    "Categorize each entity as either:\n",
    "PERSON: Individual human beings\n",
    "ORGANIZATION: Companies, corporations, agencies, institutions, etc.\n",
    "PRODUCT: products, items, goods, etc.\n",
    "\n",
    "Assign specific sub-classifications when possible:\n",
    "For PERSON: Political figure, executive, celebrity, expert, etc.\n",
    "For ORGANIZATION: Corporation, government agency, non-profit, educational institution, etc.\n",
    "For PRODUCT: type, industry\n",
    "\n",
    "Contextual Information Extraction:\n",
    "For each entity, extract and preserve:\n",
    "1. Contextual role/title (CEO, President, Senator, etc.)\n",
    "2. Associated organizations (for people)\n",
    "\n",
    "Confidence Scoring:\n",
    "Assign a confidence score (0.0-1.0).\n",
    "\n",
    "Limitations and Boundaries\n",
    "1. Do not attempt to verify entities' existence (this is for the downstream agent)\n",
    "2. Do not add information about entities not present in the input text\n",
    "3. Do not make assumptions about entities beyond what is explicitly or implicitly stated\n",
    "4. Focus only on people and organizations; ignore other entity types\n",
    "\n",
    "Output Format\n",
    "Structure output in two sections in consistent markdown format. The first section will be titled \"Entities\" and it will be a list of the entities that you have identified. Each entity should only have the following attributes:\n",
    "entity_id: unique identifier\n",
    "text: extracted text of the entity\n",
    "type: PERSON or ORGANIZATION or PRODUCT\n",
    "subtype: specific classification\n",
    "confidence: confidence score\n",
    "\n",
    "The second section will be titled \"New Facts\" and will be followed by the original news facts.\n",
    "\n",
    "Do not add preambles to your answer. Make sure your answer is in markdown format.\"\"\"\n",
    "    )\n",
    "    \n",
    "    # Extract entities using the agent\n",
    "    result = extract_agent(news_facts)\n",
    "    return result.message"
   ]
  },
  {
   "cell_type": "markdown",
   "metadata": {},
   "source": [
    "## Research Query Generator for Entity Information\n",
    "\n",
    "We're building an research query generator that transforms extracted entities into optimized knowledge base queries. When the system has identified people, organizations, and products from news facts, this tool steps in to craft effective search queries that will \n",
    "retrieve the most relevant background information. It analyzes the entity list, prioritizes what's important, and formulates queries designed to maximize the quality and relevance of information returned from our knowledge base"
   ]
  },
  {
   "cell_type": "code",
   "execution_count": null,
   "metadata": {},
   "outputs": [],
   "source": [
    "def create_research_query(entities: str) -> str:\n",
    "    \"\"\"\n",
    "    Create a research query for the entities extracted from news facts.\n",
    "    \n",
    "    Args:\n",
    "        entities: The extracted entities in markdown format\n",
    "        \n",
    "    Returns:\n",
    "        A research query for the knowledge base\n",
    "    \"\"\"\n",
    "\n",
    "    # Create a BedrockModel with specific configuration\n",
    "    research_query_generation_model = BedrockModel(\n",
    "        model_id=\"us.amazon.nova-micro-v1:0\",\n",
    "        region_name=region,\n",
    "        temperature=0.0,\n",
    "        top_p=1.0,\n",
    "        max_tokens=4096\n",
    "    )\n",
    "    \n",
    "    research_query_agent = Agent(\n",
    "        model=research_query_generation_model,\n",
    "        system_prompt=\"\"\"You have been provided a list of entities and news facts about a news event. Create a query for an LLM that asks to find research material on the entities indentified in the news facts.\n",
    "\n",
    "Skip the preamble, your output should only include the query and nothing else.\n",
    "\n",
    "Your response must start with:\n",
    "\"Conduct indepth research about only the list of entities under the 'Entities' heading provided in markdown format at the end of this input. Find as much relevant research material of a commercial, personal, financial nature as possible. Focus on all types of information which can help in writing a news article about the entities. Only add information if it is in the knowledge base. If an entity isn't found in your knowledge base, discard it from the output.\"\n",
    "\n",
    "To the start, add the following regarding output format:\n",
    "\"Output Format\n",
    "Structure output in two headings in consistent markdown format. The first heading will be titled \"Researched Entities\" and it will be a list of only those entities for which you found research information. Each entity should only have the following attributes:\n",
    "entity_id: unique identifier\n",
    "text: extracted text of the entity\n",
    "type: PERSON or ORGANIZATION or PRODUCT\n",
    "subtype: specific classification\n",
    "confidence: confidence score\n",
    "research: \n",
    " - research item 1\n",
    " - research item 2\n",
    " - more research items\n",
    "\n",
    "The second heading will be titled \"New Facts\" and will be followed by the original \"News Facts\" that were given to you.\n",
    "\n",
    "Make sure to include proper line breaks by:\n",
    "1. Using a blank line between paragraphs\n",
    "2. Adding two spaces at the end of lines where you want a soft line break\n",
    "3. Using proper markdown syntax for lists, headings, and other elements that require specific line formatting.\"\n",
    "\n",
    "Your output must be limited to the query that you've constructed for the LLM and nothing more. Do not add any preamble.\"\"\"\n",
    "    )\n",
    "    \n",
    "    # Create research query using the agent\n",
    "    result = research_query_agent(entities)\n",
    "    return result.message"
   ]
  },
  {
   "cell_type": "markdown",
   "metadata": {
    "execution": {
     "iopub.execute_input": "2025-06-07T19:24:53.733729Z",
     "iopub.status.busy": "2025-06-07T19:24:53.733424Z",
     "iopub.status.idle": "2025-06-07T19:24:53.736545Z",
     "shell.execute_reply": "2025-06-07T19:24:53.735907Z",
     "shell.execute_reply.started": "2025-06-07T19:24:53.733707Z"
    }
   },
   "source": [
    "## Research Agent\n",
    "\n",
    "Our Research Agent implementation leverages Strands' tool composition pattern to create a specialized agent for news research. The agent uses three key \n",
    "tools working in sequence:\n",
    "\n",
    "1. extract_entities: Parses news facts to identify people, organizations, and products with their associated metadata\n",
    "2. create_research_query: Transforms extracted entities into optimized knowledge base queries\n",
    "3. retrieve: Executes these queries against our knowledge base to gather relevant background information\n",
    "\n",
    "The implementation demonstrates how to use Strands' @tool decorator to create modular components that can be orchestrated by a supervisor agent. We'll \n",
    "show how to properly handle context passing between tools, manage tool dependencies, and structure the final research output for downstream consumption by\n",
    "Article Generation agent.\n"
   ]
  },
  {
   "cell_type": "code",
   "execution_count": null,
   "metadata": {},
   "outputs": [],
   "source": [
    "@tool\n",
    "def research_agent(news_facts: str) -> str:\n",
    "    \"\"\"\n",
    "    Research agent that extracts entities from news facts and gathers background information.\n",
    "    \n",
    "    Use this tool when you need to gather comprehensive research about people, organizations, \n",
    "    and products mentioned in news facts. This tool will extract entities, create optimized\n",
    "    research queries, and retrieve information from knowledge bases to provide context for\n",
    "    article generation.\n",
    "    \n",
    "    Args:\n",
    "        news_facts: The news facts to research (raw text from journalist notes)\n",
    "        \n",
    "    Returns:\n",
    "        Structured research information about entities mentioned in the news facts\n",
    "    \"\"\"\n",
    "    print(\"Research agent processing...\")\n",
    "    \n",
    "    # Get region and account info for KB access\n",
    "    session = boto3.session.Session()\n",
    "    region = session.region_name\n",
    "    account_id = sts_client.get_caller_identity()[\"Account\"]\n",
    "    print(\"STEP 1: EXTRACT ENTITIES\")\n",
    "    extract_entities_response = extract_entities(news_facts)\n",
    "    entities = extract_entities_response['content'][0]['text']\n",
    "    # print(entities)\n",
    "    print(\"\\n\\nSTEP 2: CREATE RESEARCH QUERIES\")\n",
    "    create_research_query_response = create_research_query(entities)\n",
    "    research_query = create_research_query_response['content'][0]['text']\n",
    "    # print(research_query)\n",
    "    research_results_response = bedrock_agent_runtime_client.retrieve_and_generate(\n",
    "        input={ 'text': research_query },\n",
    "        retrieveAndGenerateConfiguration={\n",
    "            'knowledgeBaseConfiguration': {\n",
    "                'knowledgeBaseId': lab7_kb_id,\n",
    "                'modelArn': f\"arn:aws:bedrock:us-east-1:{account_id}:inference-profile/us.amazon.nova-micro-v1:0\",\n",
    "                'retrievalConfiguration': {\n",
    "                    'vectorSearchConfiguration': {\n",
    "                        'numberOfResults': 5,\n",
    "                        'overrideSearchType': 'HYBRID'\n",
    "                    }\n",
    "                }\n",
    "            },\n",
    "            'type': 'KNOWLEDGE_BASE'\n",
    "        }\n",
    "    )\n",
    "    print(\"\\n\\nSTEP 3: RETRIEVE AND GENERATE\")\n",
    "    research_results = research_results_response['output']['text']\n",
    "    print(research_results)\n",
    "    response = f\"<research_results>{research_results}</research_results>\"\n",
    "    return research_results"
   ]
  },
  {
   "cell_type": "markdown",
   "metadata": {},
   "source": [
    "## Testing the Agent\n",
    "With all the components in place, let's test out our Research agent. We'll be using the following mock news facts that have been gathered at a news event."
   ]
  },
  {
   "cell_type": "code",
   "execution_count": null,
   "metadata": {},
   "outputs": [],
   "source": [
    "%%time\n",
    "\n",
    "news_facts = \"\"\"NeuraHealth Solutions announced its new medical diagnostic platform called \"MediScan\" at their annual developer conference yesterday.\n",
    "The system demonstrated 94% accuracy in early disease detection across a trial of 12,000 patients.\n",
    "Dr. Eliza Chen, Chief Medical Officer at NeuraHealth, revealed the system was trained on 50 million anonymized patient records.\n",
    "NeuraHealth CEO Marcus Williams stated the company invested $450 million in research and development over three years.\n",
    "The platform will be piloted at five major hospital networks starting next month.\n",
    "Senior Vice President of Product Development, Raj Patel, confirmed that FDA approval is expected by the third quarter.\n",
    "Initial focus areas include cardiovascular disease, diabetes, and early cancer detection.\"\"\"\n",
    "\n",
    "research_data = research_agent(news_facts)"
   ]
  },
  {
   "cell_type": "markdown",
   "metadata": {},
   "source": [
    "Prints the output from the research agent"
   ]
  },
  {
   "cell_type": "code",
   "execution_count": null,
   "metadata": {},
   "outputs": [],
   "source": [
    "print(research_data)"
   ]
  },
  {
   "cell_type": "markdown",
   "metadata": {},
   "source": [
    "## Article Generation Agent\n",
    "\n",
    "The following code block creates a specialized agent to generate an Article based on provided input, and potential feedback from the Reviewer agent\n",
    "Strands Agent SDK provides a @tool decorator to make it easy for developers to create tools. \n",
    "Detailed descriptions about the tool is embedded in the function description. The description is used by Strands Agent to determine the right tool to invoke within the agent loop. For more information about how to create tools, please refer to this [link](https://strandsagents.com/latest/user-guide/concepts/tools/tools_overview/)"
   ]
  },
  {
   "cell_type": "code",
   "execution_count": null,
   "metadata": {},
   "outputs": [],
   "source": [
    "@tool\n",
    "def article_generation_agent(query: str) -> str:\n",
    "    \"\"\"\n",
    "    Generates a professional news article based on research data and facts.\n",
    "    \n",
    "    Use this tool when you need to write a news article based on research data, or when revising an article\n",
    "    to incorporate feedback from a reviewer.\n",
    "    \n",
    "    Args:\n",
    "        query: The research data, facts, and any feedback for article generation.\n",
    "        \n",
    "    Returns:\n",
    "        A professionally written news article.\n",
    "    \"\"\"\n",
    "    print(\"Article Generation agent processing...\")\n",
    "\n",
    "    # Create a BedrockModel with specific configuration\n",
    "    article_generation_model = BedrockModel(\n",
    "        model_id=\"us.anthropic.claude-3-5-haiku-20241022-v1:0\",\n",
    "        region_name=region,\n",
    "        temperature=1.0,\n",
    "        top_p=1.0,\n",
    "        max_tokens=4096\n",
    "    )\n",
    "    \n",
    "    article_writer = Agent(\n",
    "        model=article_generation_model,\n",
    "        system_prompt=\"\"\"You are an expert article writer creating engaging news, sports, and entertainment content tailored to audiences and publication requirements.\n",
    "\n",
    "## Agent Role\n",
    "You are an expert journalist who transforms raw news facts and related research material into compelling, professionally written news articles. Your articles must be accurate, engaging, and adhere to high journalistic standards.\n",
    "\n",
    "## Input Processing\n",
    "1. Carefully analyze all news facts provided about the event\n",
    "2. Review all contextual research about entities mentioned in the news facts\n",
    "3. Identify key information, connections, and the most newsworthy elements\n",
    "4. Organize information in order of importance (inverted pyramid style)\n",
    "\n",
    "## Article Creation Guidelines\n",
    "1. Create a concise, attention-grabbing headline that accurately represents the story\n",
    "2. Write approximately 800 words (adjust if specifically requested otherwise)\n",
    "3. Begin with a strong lead paragraph that answers the key questions (who, what, when, where, why, how)\n",
    "4. Structure the article with the most important information first, followed by supporting details\n",
    "5. Incorporate relevant context from the research materials where appropriate\n",
    "6. Use direct quotes from sources when available\n",
    "7. Maintain a neutral, objective tone throughout\n",
    "8. Ensure factual accuracy - only use information provided in the input materials\n",
    "9. Avoid speculation, personal opinions, or unsupported claims\n",
    "10. Use concise, clear language accessible to general readers\n",
    "11. Break up text with appropriate paragraphs for readability\n",
    "12. Include a conclusion that ties the story together or points to future developments\n",
    "13. NEVER make up any quotes that is not explicitly said by any individual.\n",
    "\n",
    "## Feedback Integration\n",
    "1. When receiving feedback from review agents, analyze it thoroughly\n",
    "2. Make all requested changes that align with journalistic standards\n",
    "3. Revise for clarity, accuracy, balance, or completeness as directed\n",
    "4. If feedback contains contradictory requests, prioritize factual accuracy and journalistic ethics\n",
    "5. Return the revised article with all improvements implemented\n",
    "\n",
    "## Output Format\n",
    "The output should consist of only:\n",
    "1. A headline\n",
    "2. The article body\n",
    "\n",
    "Do not include:\n",
    "- Tags like \"Headline:\" or \"Article:\"\n",
    "- Explanations about your writing process\n",
    "- Notes about sources or research\n",
    "- Additional formatting markers\n",
    "- Thoughts or reflections on the article\n",
    "- Metadata or structural elements\n",
    "\n",
    "## Example Output Structure:\n",
    "Major Discovery Transforms Scientific Understanding\n",
    "\n",
    "Scientists at Stanford University have announced a breakthrough discovery that challenges existing theories...\n",
    "\n",
    "[Article continues for approximately 800 words]\"\"\",\n",
    "        tools=[], \n",
    "        callback_handler=None\n",
    "    )\n",
    "    response = str(article_writer(query))\n",
    "    formatted_response = f\"<article>{response}</article>\"               \n",
    "    return formatted_response"
   ]
  },
  {
   "cell_type": "markdown",
   "metadata": {},
   "source": [
    "## Testing the agent\n",
    "At this point, you have successfully created an Article Generation agent with given instructions.\n",
    "Next, we'll test the agent independently to verify that the agent follows the directions and works as intended."
   ]
  },
  {
   "cell_type": "code",
   "execution_count": null,
   "metadata": {},
   "outputs": [],
   "source": [
    "research_data"
   ]
  },
  {
   "cell_type": "code",
   "execution_count": null,
   "metadata": {},
   "outputs": [],
   "source": [
    "%%time\n",
    "draft_article = article_generation_agent(research_data)\n",
    "print(draft_article)"
   ]
  },
  {
   "cell_type": "markdown",
   "metadata": {},
   "source": [
    "## Article Reviewer agent\n",
    "\n",
    "The core functionality of a reflection agent is to perform evaluation and refinement of the output through a feedback loop. In a previous lab (Lab 5), we implemented a PR Reviewer Agent responsible for reviewing PR articles. In this section, we are applying those reflection concepts to implement a News Article Reviewer agent that critically evaluates the generated output, identifies potential errors, inconsistencies, or areas for improvement. During this phase, the agent acts as its own critic, scrutinizing the quality, accuracy, and appropriateness of its response."
   ]
  },
  {
   "cell_type": "code",
   "execution_count": null,
   "metadata": {},
   "outputs": [],
   "source": [
    "@tool\n",
    "def article_reviewer_agent(article_text: str) -> str:\n",
    "    \"\"\"\n",
    "    Reviews and provides detailed feedback on news, sports, and entertainment articles.\n",
    "    \n",
    "    Use this tool when you need professional feedback on an article's clarity, accuracy,\n",
    "    engagement, balance, and overall journalistic quality.\n",
    "    \n",
    "    Args:\n",
    "        article_text: The complete article text to be reviewed\n",
    "        \n",
    "    Returns:\n",
    "        Detailed review feedback with specific suggestions for improvement\n",
    "    \"\"\"\n",
    "    print(\"Article Reviewer agent analyzing...\")\n",
    "    \n",
    "    # Create a BedrockModel with specific configuration\n",
    "    article_reviewer_model = BedrockModel(\n",
    "        model_id=\"us.amazon.nova-pro-v1:0\",\n",
    "        region_name=region,\n",
    "        temperature=1.0,\n",
    "        top_p=1.0,\n",
    "        max_tokens=4096\n",
    "    )\n",
    "\n",
    "    article_reviewer = Agent(\n",
    "        model=article_reviewer_model,\n",
    "        system_prompt=\"\"\"You are a professional article reviewer for news, sports and entertainment. Provides expert analysis to improve clarity, accuracy, engagement and journalistic quality.\n",
    "\n",
    "You are an AI assistant specialized in reviewing news, sports, and entertainment articles. Your expertise helps journalists and content creators refine their writing for clarity, engagement, and journalistic quality.\n",
    "\n",
    "You will be provided an article in your input, when reviewing an article, analyze these key elements:\n",
    "\n",
    "1. **Clarity and Readability**\n",
    "   - Identify sentences longer than 40 words or spanning multiple lines\n",
    "   - Flag sentences requiring multiple readings to understand\n",
    "   - Point out repetitive word usage that weakens impact\n",
    "   - Suggest ways to make complex information more digestible\n",
    "   - Analyze paragraph length and structure for optimal readability\n",
    "   - Check for smooth transitions between ideas and sections\n",
    "\n",
    "2. **Accuracy and Substantiation**\n",
    "   - Check for claims that lack proper sourcing or evidence\n",
    "   - Identify potential factual inconsistencies or errors\n",
    "   - Flag misleading statistics or improper contextualization of data\n",
    "   - Suggest where additional verification or expert input might be needed\n",
    "   - Evaluate the reliability and diversity of cited sources\n",
    "   - Check dates, names, titles, and other factual details for accuracy\n",
    "\n",
    "For each issue identified, provide:\n",
    "- A clear explanation of why it weakens the article\n",
    "- A specific suggestion for improvement\n",
    "- Where helpful, a rewritten example demonstrating your suggestion\n",
    "- A priority level (critical, important, or minor) for each feedback item\n",
    "\n",
    "Conclude your review with:\n",
    "- A summary of the article's major strengths\n",
    "- The 3-5 most important areas for improvement\n",
    "- An overall assessment of the article's effectiveness\n",
    "\n",
    "Your feedback should be constructive and actionable, focusing on strengthening the article's journalistic quality and reader experience rather than simply pointing out flaws.\"\"\",\n",
    "        tools=[],\n",
    "        callback_handler=None,\n",
    "    )\n",
    "    \n",
    "    response = str(article_reviewer(article_text))\n",
    "    formatted_response = f\"<review_feedback>{response}</review_feedback>\"\n",
    "    return formatted_response"
   ]
  },
  {
   "cell_type": "code",
   "execution_count": null,
   "metadata": {},
   "outputs": [],
   "source": [
    "%%time \n",
    "review_feedback = article_reviewer_agent(draft_article)\n",
    "print(review_feedback)"
   ]
  },
  {
   "cell_type": "markdown",
   "metadata": {},
   "source": [
    "## Interface Supervisor agent"
   ]
  },
  {
   "cell_type": "code",
   "execution_count": null,
   "metadata": {},
   "outputs": [],
   "source": [
    "def interface_supervisor_agent(news_facts: str) -> str:\n",
    "    \"\"\"\n",
    "    Orchestrates a complete news article generation workflow using specialized agents.\n",
    "    \n",
    "    This tool coordinates between research, article generation, and review agents to produce\n",
    "    high-quality news articles from raw facts. It manages the entire workflow including:\n",
    "    1. Research on entities mentioned in the news facts\n",
    "    2. Article generation based on research and facts\n",
    "    3. Article review and improvement through feedback\n",
    "    \n",
    "    Args:\n",
    "        news_facts: Raw news facts collected by a journalist\n",
    "        \n",
    "    Returns:\n",
    "        A professionally written and reviewed news article\n",
    "    \"\"\"\n",
    "    print(\"Interface Supervisor agent processing...\")\n",
    "\n",
    "    # Create a BedrockModel with specific configuration\n",
    "    interface_supervisor_model = BedrockModel(\n",
    "        model_id=\"us.amazon.nova-premier-v1:0\",\n",
    "        region_name=region,\n",
    "        temperature=1.0,\n",
    "        top_p=1.0,\n",
    "        max_tokens=4096\n",
    "    )\n",
    "    \n",
    "    # Create the interface supervisor agent\n",
    "    interface_supervisor = Agent(\n",
    "        model=interface_supervisor_model,\n",
    "        system_prompt=\"\"\"You are a supervisor agent responsible for orchestrating a news article generation workflow.\n",
    "Your role is to only coordinate between agents.\n",
    "\n",
    "Your task is to carry out an article writing workflow that involves the following:\n",
    "\n",
    "1. You will be provided news facts from a news event about the article to write. Your task is to submit the unmodified facts to the researchAgent. \n",
    "The research agent will provide you with additional research about the entities it identified in the news facts. The result from reseachAgent can be found in the <research_results> XML tag.\n",
    "\n",
    "2. Once the research agent is finished, submit the research information to the articleWritingAgent, which will create an article from the research and news facts. \n",
    "\n",
    "3. The article must be reviewed before returning to the user. The content of the article can be found in <article> XML tag. Use the articleReviewerAgent to perform the review.\n",
    "\n",
    "4. The review feedback can be found in <review_feedback> XML tag. You should perform the article writing and review iteratively until the reviewerAgent is satisfied with the result. \n",
    "\n",
    "Finally, you must return only the final article to the user. Do not provide any preemtive or additional explanation, just return the final article to the user.\n",
    "\n",
    "# Guidelines:\n",
    "- Do not modify, summarize, or filter the researchAgent agent's output before passing it to the articleWritingAgent agent.\n",
    "- When working with the articleReviewAgent, always provide the the article generated by the articleWritingAgent as context without any modifications or summarization.\n",
    "- Do not edit, rewrite, or enhance the articleWritingAgent agent's output before returning it to the user.\n",
    "\n",
    "You should iterate between the writing (articleWritingAgent) and review (articleReviewAgent) process to come up with best article.\n",
    "\n",
    "- You must not iterate the writing and review iteration processes more than 2 times. If you reached the maximum iteration, return the latest draft as the final article.\n",
    "- If any agent returns an error or incomplete output, notify the user with the exact error message.\n",
    "- Write your final draft in <final> XML tag.\n",
    "\"\"\",\n",
    "        tools=[research_agent, article_generation_agent, article_reviewer_agent]\n",
    "    )\n",
    "    # Process the news facts through the complete workflow\n",
    "    result = interface_supervisor(news_facts)\n",
    "    return result.message, interface_supervisor"
   ]
  },
  {
   "cell_type": "markdown",
   "metadata": {},
   "source": [
    "# Testing News Writer\n",
    "\n",
    "Let's test this multi-agent system by providing the Interface Supervisor agent with mock news facts that have been collected by a journalist."
   ]
  },
  {
   "cell_type": "code",
   "execution_count": null,
   "metadata": {},
   "outputs": [],
   "source": [
    "news_facts = \"\"\"NeuraHealth Solutions announced its new medical diagnostic platform called \"MediScan\" at their annual developer conference yesterday.\n",
    "The system demonstrated 94% accuracy in early disease detection across a trial of 12,000 patients.\n",
    "Dr. Eliza Chen, Chief Medical Officer at NeuraHealth, revealed the system was trained on 50 million anonymized patient records.\n",
    "\"\"\""
   ]
  },
  {
   "cell_type": "code",
   "execution_count": null,
   "metadata": {},
   "outputs": [],
   "source": [
    "%%time\n",
    "interface_supervisor_agent_response, interface_supervisor_agent = interface_supervisor_agent(news_facts)"
   ]
  },
  {
   "cell_type": "code",
   "execution_count": null,
   "metadata": {},
   "outputs": [],
   "source": [
    "print(interface_supervisor_agent_response['content'][0]['text'])"
   ]
  },
  {
   "cell_type": "markdown",
   "metadata": {},
   "source": [
    "## Session and State\n",
    "Strands agents maintain conversation context, handle state management, and support persistent sessions across interactions.\n",
    "\n",
    "Strands agents maintain state in several forms:\n",
    "\n",
    "Conversation History: The sequence of messages between the user and the agent\n",
    "Tool State: Information about tool executions and results\n",
    "Request State: Contextual information maintained within a single request\n",
    "\n",
    "The following code block prints the conversation history for the agent interactions processed in the previous step."
   ]
  },
  {
   "cell_type": "code",
   "execution_count": null,
   "metadata": {},
   "outputs": [],
   "source": [
    "interface_supervisor_agent.messages"
   ]
  },
  {
   "cell_type": "markdown",
   "metadata": {},
   "source": [
    "# Summary\n",
    "\n",
    "In this lab, we demonstrated how to implement a powerful **Multi-Agent Collaboration** pattern using Strands SDK. This pattern enables complex workflows through the orchestration of specialized agents working together to achieve superior results.\n",
    "\n",
    "Our implementation consisted of four key components:\n",
    "\n",
    "1. **Research Agent**: A specialized agent which can extract entities from news facts and provide detailed research on each entity to help write a balanced news article.\n",
    "\n",
    "2. **Article Generation Agent**: A specialized content creator that produces high-quality articles following detailed journalistic guidelines across multiple dimensions including clarity, accuracy, engagement, structure, and technical excellence.\n",
    "\n",
    "3. **Article Reviewer Agent**: A professional reviewer that analyzes content across multiple dimensions and provides detailed, constructive feedback with specific improvement suggestions.\n",
    "\n",
    "4. **Interface Supervisor Agent**: This orchestrates the whole workflow of passing information from the user to the research and generation agents.\n",
    "\n",
    "The multi-agent collaboration pattern demonstrated several key advantages:\n",
    "\n",
    "- **Specialized Expertise**: Each agent focuses on its core competency - content creation or critical review\n",
    "- **Iterative Improvement**: The feedback loop enables continuous refinement of the content\n",
    "- **Workflow Automation**: The supervisor agent manages the entire process without requiring user intervention\n",
    "- **Quality Enhancement**: The final output benefits from multiple perspectives and expertise\n",
    "\n"
   ]
  },
  {
   "cell_type": "code",
   "execution_count": null,
   "metadata": {},
   "outputs": [],
   "source": []
  },
  {
   "cell_type": "code",
   "execution_count": null,
   "metadata": {},
   "outputs": [],
   "source": []
  }
 ],
 "metadata": {
  "kernelspec": {
   "display_name": "Python 3 (ipykernel)",
   "language": "python",
   "name": "python3"
  },
  "language_info": {
   "codemirror_mode": {
    "name": "ipython",
    "version": 3
   },
   "file_extension": ".py",
   "mimetype": "text/x-python",
   "name": "python",
   "nbconvert_exporter": "python",
   "pygments_lexer": "ipython3",
   "version": "3.12.9"
  }
 },
 "nbformat": 4,
 "nbformat_minor": 4
}
