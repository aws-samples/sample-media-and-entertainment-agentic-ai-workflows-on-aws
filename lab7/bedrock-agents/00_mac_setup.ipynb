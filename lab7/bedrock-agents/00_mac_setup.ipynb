{
 "cells": [
  {
   "cell_type": "markdown",
   "id": "92119ada-65c5-45e5-b754-725eff54b54c",
   "metadata": {},
   "source": [
    "# Multi Agent Collaboration - Setup\n",
    "To speed up the lab, we will setup some resources. These include:\n",
    "\n",
    "1. A Bedrock Knowledge Base: This will serve as our mock source for information to gather facts about companies, people, products, etc. In a real-world scenario, this would be replaced by API calls to internal and third-party Information provider like LexisNexis, Thomson Reuters Westlaw, Bloomberg Terminal, Factiva, etc.\n",
    "2. A Bedrock Flow: This flow will extract entities from news facts, and use the Knowledge Base to enrich data about the entities via gathering research material. The resulting research should make it easier to write a comprehensive news article.\n",
    "\n",
    "All the cells in this notebook can take around 10 minutes to execute. Run all cells now and make sure all cells have executed before opening the next notebook. To confirm all cells have executed, go right to the bottom and wait for the phrase \"Setup Complete!\" to appear.\n"
   ]
  },
  {
   "cell_type": "markdown",
   "id": "2f1a4d2c-178c-4e01-83de-dc00840a4266",
   "metadata": {},
   "source": [
    "First we ensure that all Python packages required for this notebook are installed, please ignore any errors."
   ]
  },
  {
   "cell_type": "code",
   "execution_count": null,
   "id": "2a067c12-480c-4cd1-a8fd-ee1aaf3eda06",
   "metadata": {},
   "outputs": [],
   "source": [
    "%pip install -r ../../requirements.txt"
   ]
  },
  {
   "cell_type": "markdown",
   "id": "204c0ff4-80f3-43f9-b796-b17839d40caa",
   "metadata": {},
   "source": [
    "Now we setup our SDK to communicate with various AWS services"
   ]
  },
  {
   "cell_type": "code",
   "execution_count": null,
   "id": "dd282e41-a418-4f4d-942a-c443310f88d0",
   "metadata": {},
   "outputs": [],
   "source": [
    "import boto3\n",
    "import json\n",
    "import os\n",
    "import sys\n",
    "\n",
    "sts_client = boto3.client('sts')\n",
    "session = boto3.session.Session()\n",
    "\n",
    "account_id = sts_client.get_caller_identity()[\"Account\"]\n",
    "region = session.region_name\n",
    "\n",
    "s3_client = boto3.client('s3', region)\n",
    "bedrock_client = boto3.client('bedrock-runtime', region)"
   ]
  },
  {
   "cell_type": "markdown",
   "id": "bae21e09-618d-4bf6-b380-b12b09adf9a0",
   "metadata": {},
   "source": [
    "Next we import some of the help functions that have been written to create:\n",
    "1. Bedrock Knowledge Bases\n",
    "2. Bedrock Agents"
   ]
  },
  {
   "cell_type": "code",
   "execution_count": null,
   "id": "78136c58-9a32-4cd1-859b-0915ced1f6c1",
   "metadata": {},
   "outputs": [],
   "source": [
    "sys.path.insert(0, \".\")\n",
    "sys.path.insert(1, \"..\")\n",
    "sys.path.insert(2, \"../..\")\n",
    "\n",
    "from utils.bedrock_agent_helper import (\n",
    "    AgentsForAmazonBedrock\n",
    ")\n",
    "from utils.knowledge_base_helper import (\n",
    "    KnowledgeBasesForAmazonBedrock\n",
    ")\n",
    "from utils.flow_helper import (\n",
    "    load_and_fill_json,\n",
    "    make_connection\n",
    ")\n",
    "agents = AgentsForAmazonBedrock()\n",
    "kb = KnowledgeBasesForAmazonBedrock()"
   ]
  },
  {
   "cell_type": "markdown",
   "id": "2a338274-808d-479a-884d-e3402dc744ff",
   "metadata": {},
   "source": [
    "Let's start filling information about the Knowledge Base we're about to create"
   ]
  },
  {
   "cell_type": "code",
   "execution_count": null,
   "id": "659fa622-a0e2-4011-8fc6-50a14c84db5c",
   "metadata": {},
   "outputs": [],
   "source": [
    "knowledge_base_name = f'lab7-mac-kb'\n",
    "knowledge_base_description = \"KB containing information about entities like companies, people, and products\"\n",
    "s3_bucket_name = f\"labs-bucket-{region}-{account_id}\"\n",
    "bucket_prefix = \"data/kb/mac/\""
   ]
  },
  {
   "cell_type": "markdown",
   "id": "f6d97d82-e2d3-4e64-a986-c573b2f723a0",
   "metadata": {},
   "source": [
    "Let's make the Knowledge Base, this command can take a while to finish running.\n",
    "Behind the scenes, Bedrock is spinning up:\n",
    "1. OpenSearch Serverless Collection\n",
    "2. OpenSearch Vector Index\n",
    "3. Bedrock Knowledge Base"
   ]
  },
  {
   "cell_type": "code",
   "execution_count": null,
   "id": "e7354b46-62c3-4c29-b3b8-79262540055e",
   "metadata": {},
   "outputs": [],
   "source": [
    "kb_id, ds_id = kb.create_or_retrieve_knowledge_base(\n",
    "    knowledge_base_name,\n",
    "    knowledge_base_description,\n",
    "    s3_bucket_name,\n",
    "    \"amazon.titan-embed-text-v2:0\",\n",
    "    bucket_prefix\n",
    ")\n",
    "\n",
    "print(f\"Knowledge Base ID: {kb_id}\")\n",
    "print(f\"Data Source ID: {ds_id}\")"
   ]
  },
  {
   "cell_type": "markdown",
   "id": "92f65a0a-7f0c-4ded-8af7-ccbbef52d509",
   "metadata": {},
   "source": [
    "We have synthetically generated mock information regarding companies, products, and people to simulate the output you may see from an information service. These have been stored in the `information_sources` directory.\n",
    "\n",
    "We will now upload the mock information to the S3 bucket connected to our knowledge base."
   ]
  },
  {
   "cell_type": "code",
   "execution_count": null,
   "id": "3bf947c3477edd84",
   "metadata": {},
   "outputs": [],
   "source": [
    "def upload_directory(path, bucket_name, bucket_prefix):\n",
    "    for root, dirs, files in os.walk(path):\n",
    "        for file in files:\n",
    "            file_to_upload = os.path.join(root, file)\n",
    "            print(f\"uploading file {file_to_upload} to {bucket_name}\")\n",
    "            s3_client.upload_file(file_to_upload, bucket_name, f\"{bucket_prefix}{file}\")"
   ]
  },
  {
   "cell_type": "code",
   "execution_count": null,
   "id": "4246623dabbd093c",
   "metadata": {},
   "outputs": [],
   "source": [
    "upload_directory(\"../information_sources\", s3_bucket_name, bucket_prefix)"
   ]
  },
  {
   "cell_type": "markdown",
   "id": "c121cc20caa64800",
   "metadata": {},
   "source": [
    "It's time to sync that data and ingest it into the vector store."
   ]
  },
  {
   "cell_type": "code",
   "execution_count": null,
   "id": "42bc6107-77cd-47c1-9608-f64a22f79184",
   "metadata": {},
   "outputs": [],
   "source": [
    "kb.synchronize_data(kb_id, ds_id)"
   ]
  },
  {
   "cell_type": "markdown",
   "id": "81b38608-db0e-433d-8906-422a7d26320a",
   "metadata": {},
   "source": [
    "Let's set up some variables which will be used later"
   ]
  },
  {
   "cell_type": "code",
   "execution_count": null,
   "id": "02822e13-ef48-4c18-9ab6-5b9257230383",
   "metadata": {},
   "outputs": [],
   "source": [
    "kb_info = kb.get_kb(kb_id)\n",
    "kb_arn = kb_info['knowledgeBase']['knowledgeBaseArn']\n",
    "print(kb_id)\n",
    "print(kb_info)"
   ]
  },
  {
   "cell_type": "code",
   "execution_count": null,
   "id": "2f51fe97",
   "metadata": {},
   "outputs": [],
   "source": [
    "%store kb_id"
   ]
  },
  {
   "cell_type": "markdown",
   "id": "fbd120d99940c967",
   "metadata": {},
   "source": [
    "Now we will create a Bedrock Flow.\n",
    "\n",
    "This flow will query the Knowledge Base we created earlier and return research material on entities (companies, products, people) that are identified in the news facts.\n",
    "\n",
    "The first step involves creating a flow policy:"
   ]
  },
  {
   "cell_type": "code",
   "execution_count": null,
   "id": "25f318ca-b863-4ba2-994a-7eb0765b179d",
   "metadata": {},
   "outputs": [],
   "source": [
    "iam = boto3.client('iam')\n",
    "\n",
    "# Create or get IAM role\n",
    "role_name = 'BedrockFlowsRole'\n",
    "trust_policy = {\n",
    "    \"Version\": \"2012-10-17\",\n",
    "    \"Statement\": [{\n",
    "        \"Effect\": \"Allow\",\n",
    "        \"Principal\": {\"Service\": \"bedrock.amazonaws.com\"},\n",
    "        \"Action\": \"sts:AssumeRole\"\n",
    "    }]\n",
    "}\n",
    "\n",
    "# Load the policy from the JSON file\n",
    "with open('bedrock-flow-policy.json', 'r') as file:\n",
    "    bedrock_policy = json.load(file)\n",
    "\n",
    "\n",
    "try:\n",
    "    # Try to get existing role\n",
    "    role_response = iam.get_role(RoleName=role_name)\n",
    "    role_arn = role_response['Role']['Arn']\n",
    "    print(f\"Using existing role: {role_arn}\")\n",
    "\n",
    "except iam.exceptions.NoSuchEntityException:\n",
    "    # Role doesn't exist, create it\n",
    "    print(f\"Creating new role: {role_name}\")\n",
    "    role_response = iam.create_role(\n",
    "        RoleName=role_name,\n",
    "        AssumeRolePolicyDocument=json.dumps(trust_policy)\n",
    "    )\n",
    "    role_arn = role_response['Role']['Arn']\n",
    "\n",
    "    # Attach Bedrock policy\n",
    "    policy_name = 'BedrockFlowsPolicy'\n",
    "    iam.put_role_policy(\n",
    "        RoleName=role_name,\n",
    "        PolicyName=policy_name,\n",
    "        PolicyDocument=json.dumps(bedrock_policy)\n",
    "    )\n",
    "\n",
    "    print(f\"Created role: {role_arn}\")\n",
    "\n",
    "except Exception as e:\n",
    "    print(f\"Error handling IAM role: {str(e)}\")\n",
    "    raise e"
   ]
  },
  {
   "cell_type": "markdown",
   "id": "f972c1f9-eb96-4880-a9ae-bde8c13826ce",
   "metadata": {},
   "source": [
    "Now we create the actual Bedrock Flow using the API"
   ]
  },
  {
   "cell_type": "code",
   "execution_count": null,
   "id": "dd0ead9e7da3254a",
   "metadata": {},
   "outputs": [],
   "source": [
    "client = boto3.client(service_name='bedrock-agent')\n",
    "\n",
    "# Replace with the service role that you created. For more information, see\n",
    "# https://docs.aws.amazon.com/bedrock/latest/userguide/flows-permissions.html\n",
    "FLOWS_SERVICE_ROLE = role_arn\n",
    "\n",
    "# Define each node\n",
    "\n",
    "# The input node validates that the content of the InvokeFlow request\n",
    "# is a JSON object.\n",
    "input_node = {\n",
    "    \"type\": \"Input\",\n",
    "    \"name\": \"FlowInputNode\",\n",
    "    \"outputs\": [\n",
    "        {\n",
    "            \"name\": \"document\",\n",
    "            \"type\": \"String\"\n",
    "        }\n",
    "    ]\n",
    "}\n",
    "\n",
    "\n",
    "# Bedrock Flow node definitions can be long. \n",
    "# To reduce the size of this notebook, the nodes we ned have been off-loaded\n",
    "# to JSON files. \n",
    "# Please feel free to open the JSON files to have a look at them.\n",
    "# Helper dictionary to populate the variables defined in the JSON files\n",
    "helper_dict = {\"region\": region,\n",
    "               \"account_id\": account_id,\n",
    "               \"kb_id\": kb_id}\n",
    "\n",
    "prompt_node_extract = load_and_fill_json('flow-extract-node.json', helper_dict)\n",
    "prompt_node_research = load_and_fill_json('flow-research-node.json', helper_dict)\n",
    "kb_node = load_and_fill_json('flow-kb-node.json', helper_dict)\n",
    "\n",
    "\n",
    "# The output node validates that the output from the last node is a string and\n",
    "# returns it as is. The name must be \"document\".\n",
    "output_node = {\n",
    "    \"type\": \"Output\",\n",
    "    \"name\": \"Final_Output\",\n",
    "    \"inputs\": [\n",
    "        {\n",
    "            \"name\": \"document\",\n",
    "            \"type\": \"String\",\n",
    "            \"expression\": \"$.data\"\n",
    "        }\n",
    "    ]\n",
    "}\n",
    "\n",
    "# We now use a helper function to create connections between the nodes\n",
    "connections = []\n",
    "connections.append(make_connection(input_node, prompt_node_extract))\n",
    "connections.append(make_connection(prompt_node_extract, prompt_node_research))\n",
    "connections.append(make_connection(prompt_node_research, kb_node))\n",
    "connections.append(make_connection(kb_node, output_node))\n",
    "\n",
    "\n",
    "# Create the flow from the nodes and connections\n",
    "response = client.create_flow(\n",
    "    name=\"lab-7-flow\",\n",
    "    description=\"A flow that gets info from a knowledge base\",\n",
    "    executionRoleArn=FLOWS_SERVICE_ROLE,\n",
    "    definition={\n",
    "        \"nodes\": [input_node, prompt_node_extract,\n",
    "                  prompt_node_research, kb_node, output_node],\n",
    "        \"connections\": connections\n",
    "    }\n",
    ")\n",
    "\n",
    "flow_id = response.get(\"id\")\n",
    "flow_arn = response.get(\"arn\")"
   ]
  },
  {
   "cell_type": "code",
   "execution_count": null,
   "id": "7c14a4a6-f20f-4f42-94f3-6a3aa5ee2157",
   "metadata": {},
   "outputs": [],
   "source": [
    "print(f\"Flow ARN: {flow_arn}\")\n",
    "print(f\"Flow ID: {flow_id}\")"
   ]
  },
  {
   "cell_type": "markdown",
   "id": "dde5eb60-44e3-4251-a757-fd5b421b6505",
   "metadata": {},
   "source": [
    "If you recall from our architectural diagram, the flow will be called by a Lambda function.\n",
    "\n",
    "A Bedrock Flow needs to be prepared, and we need to create a version and an alias before it can be called by another service (Lambda in our case). "
   ]
  },
  {
   "cell_type": "code",
   "execution_count": null,
   "id": "18ffaf42-969f-48db-b30c-7d7825dbfe75",
   "metadata": {},
   "outputs": [],
   "source": [
    "client.prepare_flow(flowIdentifier=flow_id)"
   ]
  },
  {
   "cell_type": "code",
   "execution_count": null,
   "id": "2bcab89e-f313-4f69-b9b8-ab44980cd938",
   "metadata": {},
   "outputs": [],
   "source": [
    "response = client.create_flow_version(flowIdentifier=flow_id)\n",
    "                                \n",
    "flow_version = response.get(\"version\")"
   ]
  },
  {
   "cell_type": "code",
   "execution_count": null,
   "id": "781d8d9c-581a-4b9c-ad50-075266e00003",
   "metadata": {},
   "outputs": [],
   "source": [
    "response = client.create_flow_alias(\n",
    "    flowIdentifier=flow_id,\n",
    "    name=\"latest\",\n",
    "    description=\"Alias pointing to the latest version of the flow.\",\n",
    "    routingConfiguration=[\n",
    "        {\n",
    "            \"flowVersion\": flow_version\n",
    "        }\n",
    "    ]\n",
    ")\n",
    "\n",
    "flow_alias_arn = response.get(\"arn\")"
   ]
  },
  {
   "cell_type": "code",
   "execution_count": null,
   "id": "ecef8866-2272-441c-b9bd-ede40a0095dd",
   "metadata": {},
   "outputs": [],
   "source": [
    "print(flow_alias_arn)"
   ]
  },
  {
   "cell_type": "markdown",
   "id": "f30bb550-660d-485f-b843-ecffc07c6516",
   "metadata": {},
   "source": [
    "We now modify the Lambda function so that it can call this flow."
   ]
  },
  {
   "cell_type": "code",
   "execution_count": null,
   "id": "c83764bc-c1d5-4036-91e6-b94b71a3aba3",
   "metadata": {},
   "outputs": [],
   "source": [
    "# Set lambda with correct environment variables\n",
    "# Initialize the Lambda client\n",
    "lambda_client = boto3.client('lambda')\n",
    "\n",
    "# List all functions\n",
    "response = lambda_client.list_functions()\n",
    "call_flow_lambda_arn = \"\"\n",
    "call_flow_lambda_name = \"\"\n",
    "\n",
    "# todo: check if we can get this from the cloudformation stack output\n",
    "for function in response['Functions']:\n",
    "    if 'CallFlowLambda' in function['FunctionName']:\n",
    "        call_flow_lambda_name = function['FunctionName']\n",
    "        call_flow_lambda_arn = function['FunctionArn']\n",
    "        env_vars = {\n",
    "            \"FLOW_ARN\": flow_arn,\n",
    "            \"FLOW_ALIAS_ARN\": flow_alias_arn\n",
    "        }\n",
    "        response = lambda_client.update_function_configuration(\n",
    "            FunctionName=function['FunctionName'],\n",
    "            Environment={'Variables': env_vars}\n",
    "        )\n",
    "        break\n",
    "print(\"Setup Complete!\")"
   ]
  },
  {
   "cell_type": "markdown",
   "id": "3f0ed33f21a61c09",
   "metadata": {},
   "source": [
    "Please wait for the above output to finish before proceeding.\n",
    "\n",
    "The last printed statement will be: Setup Complete!\n",
    "\n",
    "## Saving information\n",
    "Let's store the variables that will be used in other notebooks:"
   ]
  },
  {
   "cell_type": "code",
   "execution_count": null,
   "id": "d5f449ad-b144-47eb-800b-93267bd70803",
   "metadata": {},
   "outputs": [],
   "source": [
    "%store call_flow_lambda_arn\n",
    "%store call_flow_lambda_name"
   ]
  },
  {
   "cell_type": "code",
   "execution_count": null,
   "id": "57919761-7391-40db-8c46-54072aa3853a",
   "metadata": {},
   "outputs": [],
   "source": []
  }
 ],
 "metadata": {
  "kernelspec": {
   "display_name": "Python 3 (ipykernel)",
   "language": "python",
   "name": "python3"
  },
  "language_info": {
   "codemirror_mode": {
    "name": "ipython",
    "version": 3
   },
   "file_extension": ".py",
   "mimetype": "text/x-python",
   "name": "python",
   "nbconvert_exporter": "python",
   "pygments_lexer": "ipython3",
   "version": "3.12.9"
  }
 },
 "nbformat": 4,
 "nbformat_minor": 5
}
