{
 "cells": [
  {
   "cell_type": "markdown",
   "id": "fba82deecbecbb15",
   "metadata": {},
   "source": [
    "# Multi-agent Collaboration - News Writer\n",
    "When you need more than a single agent to handle a complex task, you can create additional specialized agents to address different aspects of the process. However, managing these agents becomes technically challenging as tasks grow in complexity. As a developer using open source solutions, you may find yourself navigating the complexities of agent orchestration, session handling, memory management, and other technical aspects that require manual implementation.\n",
    "\n",
    "With the fully managed multi-agent collaboration capability on Amazon Bedrock, specialized agents work within their domain of expertise, coordinated by a supervisor agent. The supervisor breaks down requests, delegates tasks, and consolidates outputs into a final response. For example, an investment advisory multi-agent system might include agents specialized in financial data analysis, research, forecasting, and investment recommendations. Similarly, a retail operations multi-agent system could handle demand forecasting, inventory allocation, supply chain coordination, and pricing optimization.\n",
    "\n",
    "In this lab, we will build a multi-agent system where facts about a news event collected by a journalist are used to generate a news story. As shown in the diagram below, multiple agents will be responsible for tasks which are orchestrated by the supervisor agent:\n",
    "\n",
    "<img src=\"../../imgs/lab7-architecture-diagram.png\" width=\"800\">\n",
    "\n",
    "The workflow shown in the diagram above is as follows:\n",
    "\n",
    "1. A journalist submits facts to a front-end backed by an LLM (Interface Supervisor)\n",
    "2. The Interface Supervisor agent sends the facts to a Research agent.\n",
    "3. The Research agent is equipped with a Tool that triggers a Lambda function.\n",
    "4. The Lambda function calls a Bedrock Flow which does the following:\n",
    "   1. Entity Extraction: These can be people, companies, products, etc.\n",
    "   2. Gather background information: This uses the Bedrock Knowledge Base we created in the setup phase. If any entity has low confidence scores, i.e. not mentioned anywhere in the Knowledge Base it is discarded.\n",
    "5. The Lambda then returns the research to the Research agent, which returns it to the Interface Supervisor agent.\n",
    "6. Once additional context has been provided by the Research agent, the Interface Supervisor agent sends the research and the facts to the Article Generation agent. This agent is part of a reflection pattern we covered earlier (Lab 5):\n",
    "   1. News Generation agent: This writes the main news article based on the information provided by the Research agent.\n",
    "   2. Article Reviewer agent: This provides feedback to the News Generation agent and together, these agents iteratively improve the quality of the generated article.\n",
    "7. The remainder of the architecture is shown for completeness, and won't be part of this lab. Feel free to implement that if you have time at the end.\n",
    "\n",
    "Please note that this is a simplified architecture to demonstrate multi-agent collaboration, a complete architecture would incorporate storing outputs at every stage for monitoring agents, and more opportunity for human-in-the-loop capability.\n",
    "\n",
    "Let's get started!\n",
    "\n",
    "## Amazon Bedrock\n",
    "\n",
    "Amazon Bedrock Agents manages the collaboration, communication, and task delegation behind the scenes. By enabling agents to work together, you can achieve higher task success rates, accuracy, and enhanced productivity. In internal benchmark testing, multi-agent collaboration has shown marked improvements compared to single-agent systems for handling complex, multi-step tasks.\n",
    "\n",
    "Highlights of multi-agent collaboration in Amazon Bedrock\n",
    "A key challenge in building eﬀective multi-agent collaboration systems is managing the complexity and overhead of coordinating multiple specialized agents at scale. Amazon Bedrock simplifies the process of building, deploying, and orchestrating effective multi-agent collaboration systems while addressing efficiency challenges through several key features and optimizations:\n",
    "\n",
    "- __Quick setup__ – Create, deploy, and manage AI agents working together in minutes without the need for complex coding.\n",
    "- __Composability__ – Integrate your existing agents as subagents within a larger agent system, allowing them to seamlessly work together to tackle complex workflows.\n",
    "- __Efficient inter-agent communication__ – The supervisor agent can interact with subagents using a consistent interface, supporting parallel communication for more efficient task completion.\n",
    "- __Optimized collaboration modes__ – Choose between supervisor mode and supervisor with routing mode. With routing mode, the supervisor agent will route simple requests directly to specialized subagents, bypassing full orchestration. For complex queries or when no clear intention is detected, it automatically falls back to the full supervisor mode, where the supervisor agent analyzes, breaks down problems, and coordinates multiple subagents as needed.\n",
    " - __Integrated trace and debug console__ – Visualize and analyze multi-agent interactions behind the scenes using the integrated trace and debug console.\n",
    "\n",
    "These features collectively improve coordination capabilities, communication speed, and overall effectiveness of the multi-agent collaboration framework in tackling complex, real-world problems.\n",
    "\n",
    "## Create a News Research workflow using Amazon Bedrock Agents\n",
    "In this section we declare global variables that will act as helpers during the entire notebook.\n",
    "Here's a diagram that highlights the parts of the Research agent which we are going to build:\n",
    "\n",
    "<img src=\"../../imgs/lab7-architecture-diagram-research-agent.png\" width=\"800\">\n",
    "\n",
    "Note that the Lambda function was created as part of the infrastructure setup of this workshop. Feel free to have a look at it in the Lambda section of the AWS Console.\n",
    "\n",
    "First we restore the variables from the previous notebook:"
   ]
  },
  {
   "cell_type": "code",
   "execution_count": null,
   "id": "929c35862dff6cac",
   "metadata": {},
   "outputs": [],
   "source": [
    "%store -r"
   ]
  },
  {
   "cell_type": "code",
   "execution_count": null,
   "id": "e46c99c3b72ff8bb",
   "metadata": {},
   "outputs": [],
   "source": [
    "import boto3\n",
    "import sys\n",
    "import time\n",
    "import uuid\n",
    "\n",
    "sts_client = boto3.client('sts')\n",
    "session = boto3.session.Session()\n",
    "\n",
    "account_id = sts_client.get_caller_identity()[\"Account\"]\n",
    "region = session.region_name\n",
    "\n",
    "s3_client = boto3.client('s3', region)\n",
    "bedrock_client = boto3.client('bedrock-runtime', region)\n"
   ]
  },
  {
   "cell_type": "markdown",
   "id": "b70430e905f85dd4",
   "metadata": {},
   "source": [
    "## Importing helper functions\n",
    "In following section, we're adding bedrock_agent_helper.py on Python path, so the files can be recognized and their functionalities invoked.\n",
    "\n",
    "In general, the helper functions handle common tasks including agent creation."
   ]
  },
  {
   "cell_type": "code",
   "execution_count": null,
   "id": "81db80b0055cd285",
   "metadata": {},
   "outputs": [],
   "source": [
    "sys.path.insert(0, \".\")\n",
    "sys.path.insert(1, \"..\")\n",
    "sys.path.insert(2, \"../..\")\n",
    "\n",
    "from utils.bedrock_agent_helper import (\n",
    "    AgentsForAmazonBedrock\n",
    ")\n",
    "\n",
    "agents = AgentsForAmazonBedrock()"
   ]
  },
  {
   "cell_type": "markdown",
   "id": "e2ec95e0591498e5",
   "metadata": {},
   "source": [
    "## Creating the Research agent\n",
    "\n",
    "Let's create the Research agent that uses a Lambda tool to get research information from a Bedrock Flow.\n",
    "\n",
    "The role of this agent is pass the facts to the Lambda function, which then passes the facts to a Bedrock Flow. The Bedrock Flow will extract entities, verify, and will return research information about the entities\n",
    "\n",
    "We'll now Create a Bedrock Agent using the agent helper function"
   ]
  },
  {
   "cell_type": "code",
   "execution_count": null,
   "id": "c2d0e6ac3fac00a1",
   "metadata": {},
   "outputs": [],
   "source": [
    "agent_description = \"An agent that gathers research on facts collected regarding a news event\"\n",
    "\n",
    "# This is the instruction we pass to our research agent\n",
    "agent_instruction = \"\"\"You are an AI assistant designed to execute the action_group_research tool and return its exact outputs without any modifications.\n",
    "\n",
    "When a user provides information you must execute the action_group_research tool, follow these exact steps:\n",
    "1. Execute the requested tool call with the parameters provided by the user\n",
    "2. Do not add any introduction, explanation, commentary, or conclusion\n",
    "3. Do not modify, summarize, format, or interpret the tool's response in any way\n",
    "4. Do not add your own thoughts or analysis about the tool's output\n",
    "5. If the tool returns an error, return only that exact error message\n",
    "6. Skip the preamble\n",
    "\n",
    "Your sole purpose is to serve as a direct relay between the user and the tool. The user values receiving the complete, unaltered output exactly as returned by the tool.\n",
    "\n",
    "Even if the tool output seems incomplete, confusing, or could benefit from explanation, do not add anything to it. The user specifically wants only the raw tool output for their own purposes.\"\"\"\n",
    "\n",
    "# Let's declare the foundation model the agent will be using\n",
    "agent_foundation_model = [\n",
    "    'us.amazon.nova-premier-v1:0'\n",
    "]"
   ]
  },
  {
   "cell_type": "code",
   "execution_count": null,
   "id": "ae8853150190600",
   "metadata": {},
   "outputs": [],
   "source": [
    "agent_suffix = str(uuid.uuid4())[:5]\n",
    "research_agent_name = f\"lab-7-research-agent-{agent_suffix}\"\n",
    "\n",
    "research_agent = agents.create_agent(\n",
    "    research_agent_name,\n",
    "    agent_description,\n",
    "    agent_instruction,\n",
    "    agent_foundation_model,\n",
    "    code_interpretation=False\n",
    ")\n",
    "\n",
    "research_agent_id = research_agent[0]\n",
    "research_agent_alias_id = research_agent[1]\n",
    "research_agent_alias_arn = research_agent[2]\n",
    "agent_resourceRoleArn = research_agent[3]\n",
    "\n",
    "research_agent"
   ]
  },
  {
   "cell_type": "markdown",
   "id": "8174de3877f4b554",
   "metadata": {},
   "source": [
    "## Define agent Tools\n",
    "In the context of Bedrock agents, tools are organized as Action Groups. An Action Group defines actions that the agent can perform. For example, you could define an Action Group called `Get background research` that helps gather background research on entities that are provided to it. If the entities don't exist in the database, they will simply be ignored.\n",
    "\n",
    "You create an Action Broup by performing the following steps:\n",
    "\n",
    "1. Define the parameters and information that the agent must elicit from the user for each action in the Action Group to be carried out.\n",
    "2. Decide how the agent handles the parameters and information that it receives from the user and where it sends the information it elicits from the user.\n",
    "\n",
    "To learn more about Action Groups, please refer to this [link](https://docs.aws.amazon.com/bedrock/latest/userguide/agents-action-create.html).\n",
    "\n",
    "The function details consist of a list of parameters, defined by their name, data type (for a list of supported data types, see ParameterDetail), and whether they are required. The agent uses these configurations to determine what information it needs to elicit from the user. You can define the function detail in a JSON file with name, description, parameters, or provide a file in the OpenAPI compatible format.\n",
    "\n",
    "To fulfill the task, you can define a Lambda function to program the business logic for an Action Group. After an Amazon Bedrock agent determines the API operation that it needs to invoke in an Action Group, it sends information from the API schema alongside relevant metadata as an input event to the Lambda function. To write your function, you must understand the following components of the Lambda function:\n",
    "\n",
    "Input event – Contains relevant metadata and populated fields from the request body of the API operation or the function parameters for the action that the agent determines must be called.\n",
    "\n",
    "Response – Contains relevant metadata and populated fields for the response body returned from the API operation or the function.\n",
    "\n",
    "For more information please refer to this [link](https://docs.aws.amazon.com/bedrock/latest/userguide/agents-lambda.html)\n",
    "\n",
    "If a Lambda function is not feasible, another option is to choose to return control to the agent developer by sending the information in the InvokeAgent response. For more information please refer to this [link](https://docs.aws.amazon.com/bedrock/latest/userguide/agents-returncontrol.html)\n",
    "\n",
    "In this lab, we'll define a an Action Group with a Lambda function that simulates an API call. The API returns the research material on news entities, which are obtained from the knowledge bases that the agent can access."
   ]
  },
  {
   "cell_type": "code",
   "execution_count": null,
   "id": "a4737a1db0d7cb14",
   "metadata": {},
   "outputs": [],
   "source": [
    "action_group_name = f\"action_group_research\"\n",
    "action_group_descr = \"Get background research about news entities\"\n",
    "\n",
    "function_defs = [\n",
    "    {\n",
    "        \"name\": \"get_research_information\",\n",
    "        \"description\": \"This function calls a flow to get research information.\",\n",
    "        \"parameters\": {},\n",
    "        \"requireConfirmation\": \"DISABLED\"\n",
    "    }\n",
    "]"
   ]
  },
  {
   "cell_type": "markdown",
   "id": "3f99dddfccc9d914",
   "metadata": {},
   "source": [
    "Create an Action Group and connect it to the Lambda function that has already been written.\n",
    "\n",
    "Feel free to go to the Lambda console to look at the code of the `lab7-lambda-CallFlowLambda` function"
   ]
  },
  {
   "cell_type": "code",
   "execution_count": null,
   "id": "9c1b7a8850f9b213",
   "metadata": {},
   "outputs": [],
   "source": [
    "action_group_arn = agents.add_action_group_with_lambda(research_agent_name,\n",
    "                                        call_flow_lambda_name, call_flow_lambda_arn,\n",
    "                                        function_defs, action_group_name, action_group_descr)"
   ]
  },
  {
   "cell_type": "markdown",
   "id": "f368f10b-7648-4b36-841c-400abaf7e35a",
   "metadata": {},
   "source": [
    "We update the agent with new default temperature, topP, topK, and maximumLength values\n",
    "\n",
    "Updating an agent requires setting a lot of values, in the cell below we grab the default values to feed them back into the `update_agent` function.\n",
    "\n",
    "Read more about `update_agent` [here](https://boto3.amazonaws.com/v1/documentation/api/latest/reference/services/bedrock-agent/client/update_agent.html) and about Advanced Prompts [here](https://docs.aws.amazon.com/bedrock/latest/userguide/advanced-prompts.html)"
   ]
  },
  {
   "cell_type": "code",
   "execution_count": null,
   "id": "6404d497-ff3d-4bb1-b4a1-593ae2d733b0",
   "metadata": {},
   "outputs": [],
   "source": [
    "bedrock_agent_client = boto3.client('bedrock-agent')\n",
    "\n",
    "\n",
    "# Helper function to find the right basepromptTemplate\n",
    "def find_by_key_value_next(items, key, value):\n",
    "    return next((item for item in items if item[key] == value), None)\n",
    "\n",
    "\n",
    "# This helps us grab the correct basePromptTemplate used for the orchestration step\n",
    "def get_base_prompt_template(promptType, agentId):\n",
    "    # get all the info in the agent at the current state\n",
    "    agent_info = bedrock_agent_client.get_agent(agentId=agentId)\n",
    "\n",
    "    # Go through the results to find the info we need for update agent\n",
    "    # You can see the full response of get_agent here:\n",
    "    # https://boto3.amazonaws.com/v1/documentation/api/latest/reference/services/bedrock-agent/client/get_agent.html\n",
    "    prompt_orchestrations = agent_info['agent']['promptOverrideConfiguration']['promptConfigurations']\n",
    "    return find_by_key_value_next(prompt_orchestrations,\n",
    "                                  'promptType',\n",
    "                                  promptType)['basePromptTemplate']\n",
    "\n",
    "# We have to change the inference values only for the orchestration step\n",
    "prompt_template = get_base_prompt_template('ORCHESTRATION',\n",
    "                                           research_agent_id)\n",
    "\n",
    "\n",
    "response = bedrock_agent_client.update_agent(\n",
    "    agentId=research_agent_id,\n",
    "    agentName=research_agent_name,\n",
    "    description=agent_description,\n",
    "    agentResourceRoleArn=agent_resourceRoleArn,\n",
    "    foundationModel=agent_foundation_model[0],\n",
    "    instruction=agent_instruction,\n",
    "    promptOverrideConfiguration={\n",
    "        \"promptConfigurations\": [\n",
    "            {\n",
    "                \"inferenceConfiguration\":  {\n",
    "                    \"temperature\": 0.0,\n",
    "                    \"topP\": 1.0,\n",
    "                    \"topK\": 100,\n",
    "                    \"maximumLength\": 4096\n",
    "                },\n",
    "                'parserMode': 'DEFAULT',\n",
    "                'promptCreationMode': 'OVERRIDDEN',\n",
    "                'promptType': 'ORCHESTRATION',\n",
    "                'promptState': 'ENABLED',\n",
    "                'basePromptTemplate': prompt_template\n",
    "            }\n",
    "        ]\n",
    "    }\n",
    ")\n",
    "\n",
    "# An agent always has to be prepared after changes\n",
    "bedrock_agent_client.prepare_agent(agentId=research_agent_id)\n",
    "\n",
    "# Sleep to let the agent preparation finish\n",
    "time.sleep(20)"
   ]
  },
  {
   "cell_type": "markdown",
   "id": "18e12c285bcc0a08",
   "metadata": {},
   "source": [
    "## Testing the Agent\n",
    "With all the components in place, let's test out our agent. We'll be using the following mock news facts that have been gathered at a news event."
   ]
  },
  {
   "cell_type": "code",
   "execution_count": null,
   "id": "a809ae11965e0e38",
   "metadata": {},
   "outputs": [],
   "source": [
    "%%time\n",
    "\n",
    "news_facts = \"\"\"NeuraHealth Solutions announced its new medical diagnostic platform called \"MediScan\" at their annual developer conference yesterday.\n",
    "The system demonstrated 94% accuracy in early disease detection across a trial of 12,000 patients.\n",
    "Dr. Eliza Chen, Chief Medical Officer at NeuraHealth, revealed the system was trained on 50 million anonymized patient records.\n",
    "NeuraHealth CEO Marcus Williams stated the company invested $450 million in research and development over three years.\n",
    "The platform will be piloted at five major hospital networks starting next month.\n",
    "Senior Vice President of Product Development, Raj Patel, confirmed that FDA approval is expected by the third quarter.\n",
    "Initial focus areas include cardiovascular disease, diabetes, and early cancer detection.\"\"\"\n",
    "\n",
    "response = agents.invoke(\n",
    "        news_facts,\n",
    "        research_agent[0], enable_trace=True,\n",
    "        trace_level=\"all\"\n",
    ")"
   ]
  },
  {
   "cell_type": "markdown",
   "id": "911ea5465b468613",
   "metadata": {},
   "source": [
    "Here's the response from the Research Agent:"
   ]
  },
  {
   "cell_type": "code",
   "execution_count": null,
   "id": "69d7e12ce72e5b63",
   "metadata": {},
   "outputs": [],
   "source": [
    "print(response)"
   ]
  },
  {
   "cell_type": "markdown",
   "id": "835350720c97b168",
   "metadata": {},
   "source": [
    "## Create an Alias\n",
    "We've just completed a test query submitted to the Research agent using it's default Alias.\n",
    "The default Alias is a quick way to test an agent before integrating it into your application.\n",
    "When creating a multi-agent collaboration, it's required to create an Alias explicitly so that it can be used by other agents. This is to ensure the agent is tested and validated the functionality as expected. Read more about aliases and version in the [deploying agents](https://docs.aws.amazon.com/bedrock/latest/userguide/deploy-agent.html) section of our documentation.\n",
    "Since we've tested and validated our agent, let's now create an Alias for it:"
   ]
  },
  {
   "cell_type": "code",
   "execution_count": null,
   "id": "fb5b392dc97c5d64",
   "metadata": {},
   "outputs": [],
   "source": [
    "research_agent_alias_id, research_agent_alias_arn = agents.create_agent_alias(\n",
    "    research_agent_id, 'v1')"
   ]
  },
  {
   "cell_type": "markdown",
   "id": "27cf64cb7a960488",
   "metadata": {},
   "source": [
    "## Saving information\n",
    "Let's store the environment variables to be used in other notebooks"
   ]
  },
  {
   "cell_type": "code",
   "execution_count": null,
   "id": "6b61d373-b5a4-4e22-ade8-d3ade241f9f2",
   "metadata": {},
   "outputs": [],
   "source": [
    "%store call_flow_lambda_arn\n",
    "%store research_agent_name\n",
    "%store research_agent_id\n",
    "%store research_agent_alias_id\n",
    "%store research_agent_alias_arn"
   ]
  },
  {
   "cell_type": "markdown",
   "id": "41e2faf2405aefac",
   "metadata": {},
   "source": [
    "# Next step\n",
    "So far, we have created a Research agent responsible for providing research material about entities it extracted from news facts. In the next notebook, we'll build an agent that generates an article based on the news facts and contextual research provided by the Research agent."
   ]
  }
 ],
 "metadata": {
  "kernelspec": {
   "display_name": "Python 3 (ipykernel)",
   "language": "python",
   "name": "python3"
  },
  "language_info": {
   "codemirror_mode": {
    "name": "ipython",
    "version": 3
   },
   "file_extension": ".py",
   "mimetype": "text/x-python",
   "name": "python",
   "nbconvert_exporter": "python",
   "pygments_lexer": "ipython3",
   "version": "3.12.9"
  }
 },
 "nbformat": 4,
 "nbformat_minor": 5
}
