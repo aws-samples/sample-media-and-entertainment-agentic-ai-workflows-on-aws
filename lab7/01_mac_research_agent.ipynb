{
 "cells": [
  {
   "cell_type": "markdown",
   "id": "fba82deecbecbb15",
   "metadata": {},
   "source": [
    "# Multi Agent Collaboration - News Writer\n",
    "When you need more than a single agent to handle a complex task, you can create additional specialized agents to address different aspects of the process. However, managing these agents becomes technically challenging as tasks grow in complexity. As a developer using open source solutions, you may find yourself navigating the complexities of agent orchestration, session handling, memory management, and other technical aspects that require manual implementation.\n",
    "\n",
    "With the fully managed multi-agent collaboration capability on Amazon Bedrock, specialized agents work within their domains of expertise, coordinated by a supervisor agent. The supervisor breaks down requests, delegates tasks, and consolidates outputs into a final response. For example, an investment advisory multi-agent system might include agents specialized in financial data analysis, research, forecasting, and investment recommendations. Similarly, a retail operations multi-agent system could handle demand forecasting, inventory allocation, supply chain coordination, and pricing optimization.\n",
    "\n",
    "In this lab, we will build a multi-agent system where facts about a news event collected by a journalist are used to generate a news story. As shown in the diagram below, multiple agents will be responsible for tasks which are orchestrated by the supervisor agent:\n",
    "\n",
    "<img src=\"../imgs/mac-news-generation.png\" width=\"800\">\n",
    "\n",
    "The workflow shown in the diagram above is as follows:\n",
    "\n",
    "1. Journalist uploads facts about a news event to an S3 bucket\n",
    "2. The Interface Supervisor agent sends the facts to a Research Agent.\n",
    "   1. The Research Agent is equipped with a Tool that triggers a Lambda function\n",
    "   2. The Lambda Function calls a Bedrock Flow which does the following:\n",
    "      1. Entity Extraction: These can be people, companies, products, etc.\n",
    "      2. Gather background information: This uses the Bedrock Knowledge Base.\n",
    "   3. The Lambda then returns the research to the Research Agent, which returns it to the Interface Supervisor\n",
    "3. Once additional context has been provided by the Research Agent, the Interface Supervisor sends the research and the facts to the Article Generation Supervisor, which invokes the following agents:\n",
    "   1. News Generation Agent: This writes the main news article based on the gathered information\n",
    "   2. Article Reviewer Agent: This provides feedback to the News Generation Agent and iteratively improves the quality of teh generated article.\n",
    "5. The remainder of the architecture is shown for completeness, and won't be part of this lab. Feel free to implement that if you have time at the end.\n",
    "\n",
    "Please note that this is a simplified architecture to demonstrate multi-agent collaboration, a complete architecture would incorporate storing outputs at every stage for monitoring agents, and more opportunity for human-in-the-loop capability.\n",
    "\n",
    "Let's get started!\n",
    "\n",
    "## Amazon Bedrock\n",
    "\n",
    "Amazon Bedrock Agents manages the collaboration, communication, and task delegation behind the scenes. By enabling agents to work together, you can achieve higher task success rates, accuracy, and enhanced productivity. In internal benchmark testing, multi-agent collaboration has shown marked improvements compared to single-agent systems for handling complex, multi-step tasks.\n",
    "\n",
    "Highlights of multi-agent collaboration in Amazon Bedrock\n",
    "A key challenge in building eﬀective multi-agent collaboration systems is managing the complexity and overhead of coordinating multiple specialized agents at scale. Amazon Bedrock simplifies the process of building, deploying, and orchestrating effective multi-agent collaboration systems while addressing efficiency challenges through several key features and optimizations:\n",
    "\n",
    "- __Quick setup__ – Create, deploy, and manage AI agents working together in minutes without the need for complex coding.\n",
    "- __Composability__ – Integrate your existing agents as subagents within a larger agent system, allowing them to seamlessly work together to tackle complex workflows.\n",
    "- __Efficient inter-agent communication__ – The supervisor agent can interact with subagents using a consistent interface, supporting parallel communication for more efficient task completion.\n",
    "- __Optimized collaboration modes__ – Choose between supervisor mode and supervisor with routing mode. With routing mode, the supervisor agent will route simple requests directly to specialized subagents, bypassing full orchestration. For complex queries or when no clear intention is detected, it automatically falls back to the full supervisor mode, where the supervisor agent analyzes, breaks down problems, and coordinates multiple subagents as needed.\n",
    " - __Integrated trace and debug console__ – Visualize and analyze multi-agent interactions behind the scenes using the integrated trace and debug console.\n",
    "\n",
    "These features collectively improve coordination capabilities, communication speed, and overall effectiveness of the multi-agent collaboration framework in tackling complex, real-world problems.\n",
    "\n",
    "## Create a News Research workflow using Amazon Bedrock Agents\n",
    "In this section we declare global variables that will act as helpers during the entire notebook.\n",
    "Here's a diagram that highlights the parts of the Research agent which we are going to build:\n",
    "\n",
    "<img src=\"../imgs/mac-news-research.png\" width=\"800\">\n"
   ]
  },
  {
   "cell_type": "code",
   "execution_count": null,
   "id": "e46c99c3b72ff8bb",
   "metadata": {},
   "outputs": [],
   "source": [
    "import boto3\n",
    "\n",
    "sts_client = boto3.client('sts')\n",
    "session = boto3.session.Session()\n",
    "\n",
    "account_id = sts_client.get_caller_identity()[\"Account\"]\n",
    "region = session.region_name\n",
    "\n",
    "s3_client = boto3.client('s3', region)\n",
    "bedrock_client = boto3.client('bedrock-runtime', region)\n"
   ]
  },
  {
   "cell_type": "markdown",
   "id": "b70430e905f85dd4",
   "metadata": {},
   "source": [
    "## Importing helper functions\n",
    "On following section, we're adding bedrock_agent_helper.py on Python path, so the files can be recognized and their functionalities invoked.\n",
    "\n",
    "In general, the helper functions handle common tasks including agent creation.\n"
   ]
  },
  {
   "cell_type": "code",
   "execution_count": null,
   "id": "81db80b0055cd285",
   "metadata": {},
   "outputs": [],
   "source": [
    "import sys\n",
    "\n",
    "sys.path.insert(0, \".\")\n",
    "sys.path.insert(1, \"..\")\n",
    "\n",
    "from utils.bedrock_agent_helper import (\n",
    "    AgentsForAmazonBedrock\n",
    ")\n",
    "\n",
    "agents = AgentsForAmazonBedrock()"
   ]
  },
  {
   "cell_type": "markdown",
   "id": "e2ec95e0591498e5",
   "metadata": {},
   "source": [
    "## Creating the Research Agent\n",
    "\n",
    "Let's create the Research Agent that uses a Lambda tool to get research information from a Bedrock Flow.\n",
    "\n",
    "The role of the agent is to extract, verify, and get information about entities present in the news facts input by a journalist.\n",
    "\n",
    "We will provide the following instructions to our agent:\n",
    "```\n",
    "You are given a tool called action_group_research. This tool performs research. Your job is to return the outcome from the research to the caller.\n",
    "Do not do any further modifications. Do not summarize the result.\n",
    "```\n",
    "We'll now Create a Bedrock Agent using the agent helper function"
   ]
  },
  {
   "cell_type": "code",
   "execution_count": null,
   "id": "c2d0e6ac3fac00a1",
   "metadata": {},
   "outputs": [],
   "source": [
    "agent_description = \"An agent that gathers research on facts collected regarding a news event\"\n",
    "agent_instruction = \"\"\"You are given a tool called action_group_research. This tool performs research. Your job is to return the outcome from the research to the caller.\n",
    "Do not do any further modifications. Do not summarize the result.\"\"\"\n",
    "agent_foundation_model = [\n",
    "    'us.amazon.nova-premier-v1:0'\n",
    "]\n",
    "# try: us.amazon.nova-pro-v1:0\n",
    "# try: us.amazon.nova-premier-v1:0\n",
    "# original, gets throttled: us.anthropic.claude-3-5-sonnet-20241022-v2:0"
   ]
  },
  {
   "cell_type": "code",
   "execution_count": null,
   "id": "ae8853150190600",
   "metadata": {},
   "outputs": [],
   "source": [
    "import uuid\n",
    "\n",
    "agent_suffix = str(uuid.uuid4())[:5]\n",
    "agent_name = f\"lab-7-research-agent-{agent_suffix}\"\n",
    "\n",
    "research_agent = agents.create_agent(\n",
    "    agent_name,\n",
    "    agent_description,\n",
    "    agent_instruction,\n",
    "    agent_foundation_model,\n",
    "    code_interpretation=False\n",
    ")\n",
    "\n",
    "research_agent"
   ]
  },
  {
   "cell_type": "markdown",
   "id": "8174de3877f4b554",
   "metadata": {},
   "source": [
    "## Define Agent Tools\n",
    "In the context of Bedrock agents, tools are organized as action groups. An action group defines actions that the agent can perform. For example, you could define an action group called `Get background research` that helps gather background research on entities that are provided to it. If the entities don't exist in the database, they will simply be ignored.\n",
    "\n",
    "You create an action group by performing the following steps:\n",
    "\n",
    "Define the parameters and information that the agent must elicit from the user for each action in the action group to be carried out.\n",
    "\n",
    "Decide how the agent handles the parameters and information that it receives from the user and where it sends the information it elicits from the user.\n",
    "\n",
    "To learn more about action groups, please refer to this [link](https://docs.aws.amazon.com/bedrock/latest/userguide/agents-action-create.html).\n",
    "\n",
    "The function details consist of a list of parameters, defined by their name, data type (for a list of supported data types, see ParameterDetail), and whether they are required. The agent uses these configurations to determine what information it needs to elicit from the user. You can define the function detail in a JSON file with name, description, parameters, or provide a file in the OpenAPI compatible format.\n",
    "\n",
    "To fulfill the task, you can define a Lambda function to program the business logic for an action group. After an Amazon Bedrock agent determines the API operation that it needs to invoke in an action group, it sends information from the API schema alongside relevant metadata as an input event to the Lambda function. To write your function, you must understand the following components of the Lambda function:\n",
    "\n",
    "Input event – Contains relevant metadata and populated fields from the request body of the API operation or the function parameters for the action that the agent determines must be called.\n",
    "\n",
    "Response – Contains relevant metadata and populated fields for the response body returned from the API operation or the function.\n",
    "\n",
    "For more information please refer to this [link](https://docs.aws.amazon.com/bedrock/latest/userguide/agents-lambda.html)\n",
    "\n",
    "If a Lambda function is not feasible, another option is to choose to return control to the agent developer by sending the information in the InvokeAgent response. For more information please refer to this [link](https://docs.aws.amazon.com/bedrock/latest/userguide/agents-returncontrol.html)\n",
    "\n",
    "In this lab, we'll define a an action group with a Lambda function that simulates an API call. The API returns the research material on news entities, which are obtained from the knowledge bases that the agent can access."
   ]
  },
  {
   "cell_type": "code",
   "execution_count": null,
   "id": "a4737a1db0d7cb14",
   "metadata": {},
   "outputs": [],
   "source": [
    "action_group_name = f\"action_group_research\"\n",
    "action_group_descr = \"Get background research about news entities\"\n",
    "\n",
    "function_defs = [\n",
    "    {\n",
    "        \"name\": \"get_research_information\",\n",
    "        \"description\": \"This function calls a flow to get research information.\",\n",
    "        \"parameters\": {},\n",
    "        \"requireConfirmation\": \"DISABLED\"\n",
    "    }\n",
    "]"
   ]
  },
  {
   "cell_type": "markdown",
   "id": "3f99dddfccc9d914",
   "metadata": {},
   "source": [
    "Create an action group and connect it to the lambda function that has already been written.\n",
    "\n",
    "Feel free to go to the Lambda console to look at the code of the `lab6-lambda-CallFlowLambda` function"
   ]
  },
  {
   "cell_type": "code",
   "execution_count": null,
   "id": "9c1b7a8850f9b213",
   "metadata": {},
   "outputs": [],
   "source": [
    "%store -r call_flow_lambda_arn\n",
    "%store -r call_flow_lambda_name\n",
    "\n",
    "action_group_arn = agents.add_action_group_with_lambda(agent_name,\n",
    "                                        call_flow_lambda_name, call_flow_lambda_arn,\n",
    "                                        function_defs, action_group_name, action_group_descr)"
   ]
  },
  {
   "cell_type": "markdown",
   "id": "18e12c285bcc0a08",
   "metadata": {},
   "source": [
    "## Testing the Agent\n",
    "With all the components in place, let's test out our agent. Since the news facts are already in a file in S3, we'll ask a simple question to trigger the agent."
   ]
  },
  {
   "cell_type": "code",
   "execution_count": null,
   "id": "a809ae11965e0e38",
   "metadata": {},
   "outputs": [],
   "source": [
    "%%time\n",
    "\n",
    "response = agents.invoke(\n",
    "        \"\"\"get information without modifying it\"\"\",\n",
    "        research_agent[0], enable_trace=True,\n",
    "        trace_level=\"all\"\n",
    ")\n",
    "print(\"====================\")\n",
    "print(response)\n",
    "print(\"====================\")\n",
    "print(\"You are now ready to go to the next Lab!\")"
   ]
  },
  {
   "cell_type": "code",
   "execution_count": null,
   "id": "6b61d373-b5a4-4e22-ade8-d3ade241f9f2",
   "metadata": {},
   "outputs": [],
   "source": []
  }
 ],
 "metadata": {
  "kernelspec": {
   "display_name": "Python 3 (ipykernel)",
   "language": "python",
   "name": "python3"
  },
  "language_info": {
   "codemirror_mode": {
    "name": "ipython",
    "version": 3
   },
   "file_extension": ".py",
   "mimetype": "text/x-python",
   "name": "python",
   "nbconvert_exporter": "python",
   "pygments_lexer": "ipython3",
   "version": "3.12.9"
  }
 },
 "nbformat": 4,
 "nbformat_minor": 5
}
