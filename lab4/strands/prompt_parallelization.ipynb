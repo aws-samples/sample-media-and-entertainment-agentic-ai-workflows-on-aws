{
 "cells": [
  {
   "cell_type": "markdown",
   "metadata": {},
   "source": [
    "# Prompt Parallelization Workflow\n",
    "In this notebook, we will build a content moderation system specifically designed for media and entertainment companies using the Prompt Parallelization pattern with Stands Agent. This pattern allows us to process media content through multiple specialized LLM prompts in parallel and then aggregate the results.\n",
    "\n",
    "At a high level, we'll be creating a media content moderation system that:\n",
    "\n",
    "1. Takes content as input (scripts, user comments, social posts, etc.)\n",
    "2. Analyzes it from multiple perspectives in parallel:\n",
    "  - Explicit language detection and age-appropriate terminology\n",
    "  - Inappropriate themes evaluation and cultural sensitivity\n",
    "  - Misleading content identification and copyright concerns\n",
    "  - Sentiment analysis and brand alignment assessment\n",
    "3. Aggregates the results into a comprehensive moderation report tailored for media platforms\n",
    "\n",
    "\n",
    "The following diagram depicts the workflow for a parallelization workflow implemented in Strands Agent:\n",
    "\n",
    "<img src=\"../../imgs/strands-parallel-llm-architecture.png\" width=\"800\"> \n"
   ]
  },
  {
   "cell_type": "markdown",
   "metadata": {
    "vscode": {
     "languageId": "raw"
    }
   },
   "source": [
    "## Package Installation\n",
    "This cell installs the required Strands Agent packages needed for this workflow. The `-Uq` flags ensure packages are upgraded to the latest version (`-U`) and installed quietly (`-q`) without verbose output.\n",
    "\n",
    "**Purpose**: Sets up the necessary dependencies for building and running the parallel content moderation system.\n"
   ]
  },
  {
   "cell_type": "code",
   "execution_count": null,
   "metadata": {},
   "outputs": [],
   "source": [
    "%pip install strands-agents strands-agents-tools -Uq"
   ]
  },
  {
   "cell_type": "markdown",
   "metadata": {},
   "source": [
    "## Environment Setup\n",
    "\n",
    "### Loading Environment Variables\n",
    "setting up logger, initiates strands Agent libraries"
   ]
  },
  {
   "cell_type": "code",
   "execution_count": 1,
   "metadata": {},
   "outputs": [],
   "source": [
    "from strands import Agent\n",
    "import asyncio"
   ]
  },
  {
   "cell_type": "markdown",
   "metadata": {},
   "source": [
    "## Model Configuration\n",
    "This cell defines the AWS Bedrock model to be used across all agents in the workflow. In our example, we'll use `us.amazon.nova-pro-v1:0`."
   ]
  },
  {
   "cell_type": "code",
   "execution_count": 28,
   "metadata": {},
   "outputs": [],
   "source": [
    "model_id = \"us.amazon.nova-pro-v1:0\""
   ]
  },
  {
   "cell_type": "markdown",
   "metadata": {},
   "source": [
    "## Explicit Language Analysis Agent\n",
    "In the following, we create a specialized agent focused on analyzing content for explicit language and age-appropriate terminology. The agent is configured with a detailed system prompt that instructs it to:\n",
    "\n",
    "1. **Identify explicit language and profanity**\n",
    "2. **Assess age-appropriate terminology**\n",
    "3. **Recommend content ratings (G, PG, PG-13, R, etc.)**\n",
    "4. **Provide revision recommendations**\n",
    "\n",
    "The agent returns structured JSON output with assessment, instances of inappropriate content, age rating, and revision recommendations."
   ]
  },
  {
   "cell_type": "code",
   "execution_count": 29,
   "metadata": {},
   "outputs": [],
   "source": [
    "# Create specialized agents\n",
    "explicitLanguageAnalysisAgent_system_prompt = \"\"\"You are a content moderator for a major media and entertainment company specializing in identifying explicit language and age-appropriate content.\n",
    "\n",
    "# Analyze the following content for:\n",
    "\n",
    "1. Explicit language and profanity\n",
    "2. Age-appropriate terminology\n",
    "3. Content suitable for different audience age ratings (G, PG, PG-13, R, etc.)\n",
    "4. Dialogue or descriptions that may require parental guidance\n",
    "\n",
    "## Provide a detailed report with:\n",
    "\n",
    "1. Overall assessment (Family-Friendly/Teen-Appropriate/Mature/Adult-Only)\n",
    "2. Specific instances of explicit language or age-inappropriate content found (if any)\n",
    "3. Age rating recommendation (G, PG, PG-13, R, NC-17, etc.)\n",
    "4. Recommendations for content revision to meet specific audience age targets\n",
    "\n",
    "Format your response as JSON:\n",
    "\n",
    "   {\n",
    "      \"assessment\": \"Family-Friendly/Teen-Appropriate/Mature/Adult-Only\",\n",
    "      \"instances\": [\"example1\", \"example2\"],\n",
    "      \"age_rating\": \"PG-13\",\n",
    "      \"revision_recommendations\": \"Your recommendations here\"\n",
    "   }\n",
    "\"\"\"\n",
    "explicitLanguageAnalysisAgent = Agent(model=model_id, system_prompt=explicitLanguageAnalysisAgent_system_prompt, callback_handler=None)\n"
   ]
  },
  {
   "cell_type": "markdown",
   "metadata": {},
   "source": [
    "## Inappropriate Themes Analysis Agent\n",
    "In the followiong, we create the second specialized agent that focuses on identifying inappropriate themes and cultural sensitivity issues. The agent analyzes content for:\n",
    "\n",
    "1. **Inappropriate themes** (violence, discrimination, harmful ideologies)\n",
    "2. **Cultural sensitivity concerns** across global audiences\n",
    "3. **Offensive stereotypes or representations**\n",
    "4. **Regional market appropriateness**\n",
    "\n",
    "The agent provides a structured JSON response with overall assessment, identified themes, sensitive regions, and revision recommendations."
   ]
  },
  {
   "cell_type": "code",
   "execution_count": null,
   "metadata": {},
   "outputs": [],
   "source": [
    "inappropriateThemesAnalysisAgent_system_prompt = \"\"\"You are a content moderator for a major media and entertainment company specializing in identifying inappropriate themes and cultural sensitivity issues.\n",
    "\n",
    "# Analyze the following content for:\n",
    "\n",
    "1. Inappropriate themes such as violence, discrimination, or harmful ideologies\n",
    "2. Cultural sensitivity concerns across global audiences\n",
    "3. Potentially offensive stereotypes or representations\n",
    "4. Content that may be inappropriate for certain regions or markets\n",
    "\n",
    "\n",
    "## Provide a detailed report with:\n",
    "\n",
    "1. Overall assessment (Universally Acceptable/Regionally Sensitive/Potentially Offensive)\n",
    "2. Specific inappropriate themes or cultural sensitivity issues identified (if any)\n",
    "3. Regions or demographics that may find the content problematic\n",
    "4. Recommendations for content revision to improve cultural sensitivity\n",
    "\n",
    "# Format your response as JSON:\n",
    "\n",
    "   {\n",
    "      \"assessment\": \"Universally Acceptable/Regionally Sensitive/Potentially Offensive\",\n",
    "      \"themes\": [\"theme1\", \"theme2\"],\n",
    "      \"sensitive_regions\": [\"region1\", \"region2\"],\n",
    "      \"revision_recommendations\": \"Your recommendations here\"\n",
    "   }\n",
    "\"\"\"\n",
    "inappropriateThemesAnalysisAgent = Agent(model=model_id, system_prompt=inappropriateThemesAnalysisAgent_system_prompt, callback_handler=None)\n"
   ]
  },
  {
   "cell_type": "markdown",
   "metadata": {},
   "source": [
    "## Misleading Content Analysis Agent\n",
    "The following cell creates a specialized agent responsible for identifying misleading content, factual inaccuracies, and potential copyright issues. The agent examines:\n",
    "\n",
    "1. **Misleading claims or factual inaccuracies**\n",
    "2. **Potential copyright or intellectual property concerns**\n",
    "3. **Unauthorized references** to protected brands, characters, or properties\n",
    "4. **Content requiring fact-checking or legal review**\n",
    "\n",
    "The agent returns structured JSON with factual assessment, identified inaccuracies, copyright concerns, and revision recommendations."
   ]
  },
  {
   "cell_type": "code",
   "execution_count": 31,
   "metadata": {},
   "outputs": [],
   "source": [
    "misleadingContentAnalysis_system_prompt = \"\"\"You are a content moderator for a major media and entertainment company specializing in identifying misleading content, factual inaccuracies, and potential copyright issues.\n",
    "\n",
    "# Analyze the following content for:\n",
    "\n",
    "1. Misleading claims or factual inaccuracies\n",
    "2. Potential copyright or intellectual property concerns\n",
    "3. Unauthorized references to protected brands, characters, or properties\n",
    "4. Content that may require fact-checking or legal review\n",
    "\n",
    "## Provide a detailed report with:\n",
    "\n",
    "1. Overall assessment (Factually Sound/Needs Verification/Potentially Infringing)\n",
    "2. Specific misleading claims or factual inaccuracies identified (if any)\n",
    "3. Potential copyright or IP concerns\n",
    "4. Recommendations for content revision to address factual or legal issues\n",
    "\n",
    "Format your response as JSON:\n",
    "\n",
    "   {\n",
    "      \"assessment\": \"Factually Sound/Needs Verification/Potentially Infringing\",\n",
    "      \"inaccuracies\": [\"inaccuracy1\", \"inaccuracy2\"],\n",
    "      \"copyright_concerns\": [\"concern1\", \"concern2\"],\n",
    "      \"revision_recommendations\": \"Your recommendations here\"\n",
    "   }\n",
    "\"\"\"\n",
    "misleadingContentAnalysisAgent = Agent(model=model_id, system_prompt=misleadingContentAnalysis_system_prompt, callback_handler=None)"
   ]
  },
  {
   "cell_type": "markdown",
   "metadata": {},
   "source": [
    "## Sentiment & Brand Alignment Analysis Agent\n",
    "The following cell creates our fourth specialized agent that analyzes content for sentiment and brand alignment. The agent evaluates:\n",
    "\n",
    "1. **Overall emotional tone and sentiment**\n",
    "2. **Alignment with media brand values** (positivity, inclusivity, creativity)\n",
    "3. **Potential impact on audience perception and brand reputation**\n",
    "4. **Emotional resonance with target demographics**\n",
    "\n",
    "The agent provides structured JSON output with sentiment assessment, brand alignment evaluation, emotional impact analysis, and revision recommendations."
   ]
  },
  {
   "cell_type": "code",
   "execution_count": 32,
   "metadata": {},
   "outputs": [],
   "source": [
    "sentimentBrandAnalysis_system_prompt = \"\"\"You are a content moderator for a major media and entertainment company specializing in sentiment analysis and brand alignment.\n",
    "\n",
    "# Analyze the following content for:\n",
    "\n",
    "1. Overall emotional tone and sentiment\n",
    "2. Alignment with typical media brand values (positivity, inclusivity, creativity, etc.)\n",
    "3. Potential impact on audience perception and brand reputation\n",
    "4. Emotional resonance with target demographics\n",
    "\n",
    "# Provide a detailed report with:\n",
    "1. Overall sentiment (Positive/Neutral/Negative)\n",
    "2. Brand alignment assessment (Aligned/Partially Aligned/Misaligned)\n",
    "3. Potential emotional impact on viewers/readers\n",
    "4. Recommendations for content revision to improve brand alignment\n",
    "\n",
    "Format your response as JSON:\n",
    "\n",
    "{\n",
    "    \"sentiment\": \"Positive/Neutral/Negative\",\n",
    "    \"brand_alignment\": \"Aligned/Partially Aligned/Misaligned\",\n",
    "    \"emotional_impact\": \"Your assessment here\",\n",
    "    \"revision_recommendations\": \"Your recommendations here\"\n",
    "}\n",
    "\"\"\"\n",
    "sentimentBrandAnalysisAgent = Agent(model=model_id, system_prompt=sentimentBrandAnalysis_system_prompt, callback_handler=None)\n"
   ]
  },
  {
   "cell_type": "markdown",
   "metadata": {},
   "source": [
    "## Media Platform Recommendations Agent\n",
    "This following cell creates our  aggregation agent that synthesizes all previous analyses into comprehensive platform-specific recommendations. This senior moderator agent:\n",
    "\n",
    "1. **Aggregates results** from all four specialized agents\n",
    "2. **Makes overall moderation decisions** (Approve/Revise/Reject)\n",
    "3. **Provides platform-specific recommendations** for different distribution channels\n",
    "4. **Suggests content tags and warnings**\n",
    "5. **Justifies decisions** with comprehensive reasoning\n",
    "\n",
    "The agent uses a template to combine all previous reports and generates actionable recommendations for streaming platforms, broadcast TV, social media, and international distribution."
   ]
  },
  {
   "cell_type": "code",
   "execution_count": 38,
   "metadata": {},
   "outputs": [],
   "source": [
    "mediaPlatformRecommendations_system_prompt = \"\"\"You are a senior content moderator for a major media and entertainment company responsible for creating comprehensive moderation reports with platform-specific recommendations.\n",
    "\n",
    "   You are given the moderation analysis reports as described below:\n",
    "   \n",
    "   - Explicit Language & Age-Appropriate Analysis\n",
    "   - Inappropriate Themes & Cultural Sensitivity Analysis\n",
    "   - Misleading Content & Copyright Analysis\n",
    "   - Sentiment & Brand Alignment Analysis\n",
    "\n",
    "\n",
    "   Based on these reports, provide:\n",
    "   1. Overall moderation decision (Approve/Revise/Reject)\n",
    "   2. Summary of key concerns from all analyses\n",
    "   3. Platform-specific recommendations for:\n",
    "      - Streaming platforms (Netflix, Disney+, Prime Video, etc.)\n",
    "      - Broadcast television\n",
    "      - Social media platforms\n",
    "      - International distribution\n",
    "   4. Specific content tags or warnings recommended\n",
    "   5. Justification for your decision\n",
    "\n",
    "   Format your response as a well-structured report with clear sections for each platform type.\n",
    "\"\"\"\n",
    "\n",
    "mediaPlatformRecommendations_prompt_template = \"\"\"## Explicit Language & Age-Appropriate Analysis Report:\n",
    "\n",
    "{explicitLanguageAnalysisAgent_report}\n",
    "\n",
    "## Inappropriate Themes & Cultural Sensitivity Analysis Report:\n",
    "\n",
    "{inappropriateThemesAnalysisAgent_report}\n",
    "\n",
    "## Misleading Content & Copyright Analysis Report:\n",
    "\n",
    "{misleadingContentAnalysisAgent_report}\n",
    "\n",
    "\n",
    "## Sentiment & Brand Alignment Analysis Report:\n",
    "\n",
    "{sentimentBrandAnalysisAgent_report}\n",
    "\n",
    "\"\"\"\n",
    "mediaPlatformRecommendationsAgent = Agent(model=model_id, system_prompt=mediaPlatformRecommendations_system_prompt, callback_handler=None)"
   ]
  },
  {
   "cell_type": "markdown",
   "metadata": {},
   "source": [
    "## Asynchronous Agent Invocation Helper\n",
    "This cell defines a simple helper function that wraps agent calls for asynchronous execution. The function takes an agent instance and a query, then returns the agent's response.\n",
    "\n",
    "**Purpose**: Enables parallel execution of multiple agents using Python's `asyncio.gather()` function, which is essential for the prompt parallelization pattern."
   ]
  },
  {
   "cell_type": "code",
   "execution_count": 34,
   "metadata": {},
   "outputs": [],
   "source": [
    "async def invoke_agent_async(agent, query):\n",
    "    return agent(query)"
   ]
  },
  {
   "cell_type": "markdown",
   "metadata": {},
   "source": [
    "## Main Parallel Workflow Function\n",
    "The following cell implements the core parallel processing workflow that orchestrates the entire content moderation system:\n",
    "\n",
    "### **Step 1: Parallel Analysis**\n",
    "- Executes all four specialized agents simultaneously using `asyncio.gather()`\n",
    "- Processes the same content through multiple analytical lenses in parallel\n",
    "- Significantly reduces total processing time compared to sequential execution\n",
    "\n",
    "### **Step 2: Result Aggregation**\n",
    "- Extracts analysis results from each agent's response\n",
    "- Combines individual reports into a structured template\n",
    "- Prepares comprehensive input for the final recommendation agent\n",
    "\n",
    "### **Step 3: Final Recommendations**\n",
    "- Passes aggregated reports to the media platform recommendations agent\n",
    "- Generates platform-specific guidance and moderation decisions\n",
    "\n",
    "**Purpose**: Implements the prompt parallelization pattern to efficiently process content through multiple specialized AI agents and produce comprehensive moderation reports."
   ]
  },
  {
   "cell_type": "code",
   "execution_count": 43,
   "metadata": {},
   "outputs": [],
   "source": [
    "# Sequential workflow processing\n",
    "async def process_parallel_workflow(query):\n",
    "    \n",
    "    # Step 1: Explicit Language Analysis Agent\n",
    "    prompt = f\"Content to analyze: {query}\"\n",
    "    parallel_call_results = await asyncio.gather(invoke_agent_async(agent=explicitLanguageAnalysisAgent, query=prompt),\n",
    "                                                invoke_agent_async(agent=inappropriateThemesAnalysisAgent, query=prompt),\n",
    "                                                invoke_agent_async(agent=misleadingContentAnalysisAgent, query=prompt),\n",
    "                                                invoke_agent_async(agent=sentimentBrandAnalysisAgent, query=prompt))\n",
    "    \n",
    "    explicitLanguageAnalysisAgent_report = parallel_call_results[0].message['content'][0]['text']\n",
    "    inappropriateThemesAnalysisAgent_report = parallel_call_results[1].message['content'][0]['text']\n",
    "    misleadingContentAnalysisAgent_report = parallel_call_results[2].message['content'][0]['text']\n",
    "    sentimentBrandAnalysisAgent_report = parallel_call_results[3].message['content'][0]['text']\n",
    "\n",
    "    mediaPlatformRecommendations_prompt = mediaPlatformRecommendations_prompt_template.replace(\"{explicitLanguageAnalysisAgent_report}\", explicitLanguageAnalysisAgent_report)\n",
    "    mediaPlatformRecommendations_prompt = mediaPlatformRecommendations_prompt.replace(\"{inappropriateThemesAnalysisAgent_report}\", inappropriateThemesAnalysisAgent_report)\n",
    "    mediaPlatformRecommendations_prompt = mediaPlatformRecommendations_prompt.replace(\"{misleadingContentAnalysisAgent_report}\", misleadingContentAnalysisAgent_report)\n",
    "    mediaPlatformRecommendations_prompt = mediaPlatformRecommendations_prompt.replace(\"{sentimentBrandAnalysisAgent_report}\", sentimentBrandAnalysisAgent_report)\n",
    "\n",
    "    mediaPlatformRecommendations_result = mediaPlatformRecommendationsAgent(mediaPlatformRecommendations_prompt)\n",
    "    return mediaPlatformRecommendations_result"
   ]
  },
  {
   "cell_type": "markdown",
   "metadata": {},
   "source": [
    "## Testing\n",
    "We are going to test the workflow using a sample script excerpt that will be used to demonstrate the content moderation workflow. \n",
    "\n",
    "The script is a crime drama scene that contains:\n",
    "\n",
    "- **Mature language** (profanity, strong expressions)\n",
    "- **Violence themes** (murder investigation, crime scene)\n",
    "- **Dark tone** (noir-style detective story)\n",
    "- **Potentially sensitive content** (smoking, explicit references)\n",
    "\n",
    "This sample represents typical content that would require thorough moderation analysis before distribution across different media platforms."
   ]
  },
  {
   "cell_type": "code",
   "execution_count": 44,
   "metadata": {},
   "outputs": [],
   "source": [
    "script = \"\"\"FADE IN:\n",
    "\n",
    "   EXT. CITY STREET - NIGHT\n",
    "\n",
    "   Rain pours down as DETECTIVE MORGAN (45, hardened) stands over a body covered by a sheet. Lightning flashes, illuminating the grim scene.\n",
    "\n",
    "   DETECTIVE MORGAN\n",
    "   (lighting a cigarette)\n",
    "   Third one this month. Same damn signature.\n",
    "\n",
    "   OFFICER JENKINS (30s) approaches, looking queasy.\n",
    "\n",
    "   OFFICER JENKINS\n",
    "   The mayor's going to have a fit. The press is already calling this guy \"The Midnight Butcher.\"\n",
    "\n",
    "   DETECTIVE MORGAN\n",
    "   I don't give a damn what they call him. I'm going to catch this son of a bitch before he cuts up another girl.\n",
    "\n",
    "   Morgan kneels down and pulls back the sheet, revealing a young woman's face, pale and lifeless.\n",
    "\n",
    "   DETECTIVE MORGAN\n",
    "   (whispering)\n",
    "   I promise you justice, sweetheart. Whatever it takes.\n",
    "\n",
    "   He stands, tosses his cigarette into a puddle.\n",
    "\n",
    "   DETECTIVE MORGAN\n",
    "   Jenkins, get me everything on the victim. And I mean everything. Where she worked, who she dated, what goddamn toothpaste she used.\n",
    "\n",
    "   OFFICER JENKINS\n",
    "   But sir, it's almost midnight and—\n",
    "\n",
    "   DETECTIVE MORGAN\n",
    "   (interrupting)\n",
    "   Evil doesn't sleep, why should we?\n",
    "\n",
    "   Morgan walks away as lightning flashes again, his silhouette momentarily frozen against the night sky.\n",
    "\n",
    "   FADE OUT.\n",
    "   \"\"\""
   ]
  },
  {
   "cell_type": "code",
   "execution_count": null,
   "metadata": {},
   "outputs": [],
   "source": [
    "response = await process_parallel_workflow(query=script)"
   ]
  },
  {
   "cell_type": "markdown",
   "metadata": {},
   "source": [
    "## Final Results\n",
    "Examine the moderation report generated by the parallel workflow. "
   ]
  },
  {
   "cell_type": "code",
   "execution_count": null,
   "metadata": {},
   "outputs": [],
   "source": [
    "print(response)"
   ]
  },
  {
   "cell_type": "markdown",
   "metadata": {},
   "source": [
    "## Summary\n",
    "This notebook demonstrated the Prompt Parallelization pattern using Strands Agent to build a comprehensive content moderation system for media and entertainment companies. The system analyzes content simultaneously from multiple specialized perspectives and aggregates results into actionable platform-specific recommendations.\n",
    "\n",
    "### Key Components Demonstrated:\n",
    "1. Specialized Analysis Agents:\n",
    "Four specialized agents were created to analyze content from different perspectives, and a recommendation agent that synthesize the results from all sub agents.\n",
    "\n",
    "- Explicit Language Analysis: Identifies profanity, age-inappropriate content, and provides content rating recommendations (G, PG, PG-13, R, etc.)\n",
    "- Inappropriate Themes Analysis: Evaluates violence, discrimination, cultural sensitivity, and regional appropriateness\n",
    "- Misleading Content Analysis: Detects factual inaccuracies, copyright concerns, and intellectual property issues\n",
    "- Sentiment & Brand Alignment: Analyzes emotional tone, brand value alignment, and audience perception impact\n",
    "- Media Platform Recommendations Agent: Synthesizes all four analyses into comprehensive platform-specific guidance\n",
    "\n",
    "2. Parallel Processing Architecture\n",
    "- Execute all four specialized agents simultaneously rather than sequentially, significantly reduced total processing time while maintaining comprehensive analysis depth\n",
    "- Demonstrated efficient resource utilization for multi-agent workflows\n",
    "\n",
    "### Pattern Benefits\n",
    "#### Performance Advantages\n",
    "- Time Efficiency: Parallel execution dramatically reduces overall processing time compared to sequential analysis\n",
    "- Resource Optimization: Multiple LLM calls executed concurrently rather than one-by-one\n",
    "- Scalability: Pattern can easily accommodate additional specialized agents without increasing sequential processing time\n",
    "\n",
    "### Analysis Quality\n",
    "- Comprehensive Coverage: Multiple specialized perspectives ensure thorough content evaluation\n",
    "- Domain Expertise: Each agent focuses on specific moderation aspects with targeted system prompts\n",
    "- Consistent Structure: All agents return structured JSON responses for reliable aggregation"
   ]
  }
 ],
 "metadata": {
  "kernelspec": {
   "display_name": "agent",
   "language": "python",
   "name": "python3"
  },
  "language_info": {
   "codemirror_mode": {
    "name": "ipython",
    "version": 3
   },
   "file_extension": ".py",
   "mimetype": "text/x-python",
   "name": "python",
   "nbconvert_exporter": "python",
   "pygments_lexer": "ipython3",
   "version": "3.12.0"
  }
 },
 "nbformat": 4,
 "nbformat_minor": 2
}
