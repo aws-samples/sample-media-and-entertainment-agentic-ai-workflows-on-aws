{
 "cells": [
  {
   "cell_type": "markdown",
   "metadata": {},
   "source": [
    "# Buding an Agent with Tool Use using Strands SDK and MCP\n",
    "One of the benefits of an agent is its ability to use Tools. Leveraging Tools enables agents to perform complex tasks beyond reasoning capabilities.\n",
    "When given a task, the agent evaluates the task requirements, then selects an appropriate Tool from its available toolkit, and strategically applies them to achieve specific goals.\n",
    "\n",
    "This process involves using the LLM to reason about tool selection, understanding how to properly utilize each Tool, and integrating the results back into the agent's workflow.\n",
    "In addition, agents could also be given access to external knowledge bases, interface with APIs to extend their problem-solving capability that can address a broader range of challenges.\n",
    "\n",
    "In this lab, we are going to walk through an example of an agent with Tool use.\n",
    "This use case focuses on answering a user's questions about media assets. Media asset details, such as titles, plot, synopsis are types of information commonly stored and available in the title management systems of media companies. These details could be leveraged by an AI agent to gather the information about the titles based on a user's questions in natural language. While title information is stored in the knowledge base, there may be additional details relevant to titles that are not readily available, for instances, getting the latest movie ratings or reviews about the given title. An agent would need to access other internal / external sources, for instance, IMDB through web APIs to gather such details.\n",
    "\n",
    "In our lab, we demonstrate calling an API through a Tool that allows the agent to gather extra information. The combination of details from knowledge bases and the API completes the user query.\n",
    "\n",
    "<img src=\"../../imgs/lab6-strands-mcp.png\" width=\"800\"> \n",
    "\n",
    "The steps shown in the above diagram are defined as followed:\n",
    "\n",
    "1. User initiates a task request. (e.g. Ask for a rating of a movie)\n",
    "2. An agent received the request, first extracts the media title information from the knowledge base.\n",
    "3. Based on the user query, the agent retrieves the rating information by invoking a Tool. The Tool makes an API  that provides the rating information for a title given the title_id.\n",
    "4. The agent receives both the title and rating information for the given title.\n",
    "5. Agent returns the final response to the user.\n",
    "\n",
    "In this noteebook, we'll implement the agentic application using [StrandsAgent SDK](https://strandsagents.com/latest/), and MCP server.  "
   ]
  },
  {
   "cell_type": "code",
   "execution_count": null,
   "metadata": {},
   "outputs": [],
   "source": [
    "!pip install strands-agents strands-agents-tools -qU"
   ]
  },
  {
   "cell_type": "markdown",
   "metadata": {},
   "source": [
    "<div class=\"alert alert-info\"> 💡 The following cell imports Strands agent packages into the kernel. Sometimes, the library might not be updated from the installation. If you run into any issues with importing the following libraries, simply restart the kernel again and rerun the notebook. \n",
    "</div>"
   ]
  },
  {
   "cell_type": "code",
   "execution_count": null,
   "metadata": {},
   "outputs": [],
   "source": [
    "from strands import Agent, tool"
   ]
  },
  {
   "cell_type": "markdown",
   "metadata": {},
   "source": [
    "restore variable for context to be used in this notebook."
   ]
  },
  {
   "cell_type": "code",
   "execution_count": null,
   "metadata": {},
   "outputs": [],
   "source": [
    "%store -r"
   ]
  },
  {
   "cell_type": "code",
   "execution_count": null,
   "metadata": {},
   "outputs": [],
   "source": [
    "import logging\n",
    "\n",
    "# Configure the root strands logger\n",
    "logging.getLogger(\"strands\").setLevel(logging.INFO)\n",
    "\n",
    "# Add a handler to see the logs\n",
    "logging.basicConfig(\n",
    "    format=\"%(levelname)s | %(name)s | %(message)s\", \n",
    "    handlers=[logging.StreamHandler()])"
   ]
  },
  {
   "cell_type": "code",
   "execution_count": null,
   "metadata": {},
   "outputs": [],
   "source": [
    "import boto3\n",
    "import os\n",
    "import uuid\n",
    "\n",
    "sts_client = boto3.client('sts')\n",
    "session = boto3.session.Session()\n",
    "\n",
    "account_id = sts_client.get_caller_identity()[\"Account\"]\n",
    "region = session.region_name\n",
    "\n",
    "bedrock_client = boto3.client('bedrock-runtime', region)\n",
    "os.environ[\"AWS_REGION\"] = region\n"
   ]
  },
  {
   "cell_type": "markdown",
   "metadata": {},
   "source": [
    "Create a default AWS profile for this user. We will associate this profile with MCP so that it could authenticate access to the relevant MCP servers."
   ]
  },
  {
   "cell_type": "code",
   "execution_count": null,
   "metadata": {},
   "outputs": [],
   "source": [
    "region"
   ]
  },
  {
   "cell_type": "code",
   "execution_count": null,
   "metadata": {},
   "outputs": [],
   "source": [
    "credentials = session.get_credentials()\n",
    "frozen_creds = credentials.get_frozen_credentials()\n",
    "\n",
    "os.makedirs(f\"{os.environ['HOME']}/.aws\", exist_ok = True) \n",
    "with open(f\"{os.environ['HOME']}/.aws/credentials\", \"w\") as f:\n",
    "    f.write(f\"\"\"[default]\n",
    "aws_access_key_id={frozen_creds.access_key}\n",
    "aws_secret_access_key={frozen_creds.secret_key}\n",
    "aws_session_token={frozen_creds.token}\n",
    "aws_default_region={region}\n",
    "\"\"\")"
   ]
  },
  {
   "cell_type": "markdown",
   "metadata": {},
   "source": [
    "# Create a Strands Media Agent\n",
    "\n",
    "We will create a media agent and equip it to have access to an `Amazon Bedrock Knowledge Base` where it retrieves the given title information, and a lambda function to retrieve additional details, such as ratings.\n",
    "\n",
    "The role of the agent is to answer user questions about movie titles, including synopsis, rating and more.\n",
    "\n",
    "We will provide the following instructions to our agent:\n",
    "```\n",
    "You are a professional media agent. Your task is to help users find the information\n",
    "related to the media based on the tool and knowledge bases available to you.\n",
    "\n",
    "You have access to the following tools:\n",
    "1. knowledge base tool with kb_id of {kb_id} that contains movie / show information including title, year, duration and genre.\n",
    "2. a rating retrieval tool that provide information about media details, including the title, ratings.\n",
    "\n",
    "\n",
    "To enable tools for the agent, we will create MCP client that connects to the tools. "
   ]
  },
  {
   "cell_type": "markdown",
   "metadata": {},
   "source": [
    "## Setup MCP Server\n",
    "In the following code block, we'll create an MCP client for each tool that we will provide to the Strand agent. \n",
    "1. Lambda MCP Client - an MCP client responsible for invoking Lambda function\n",
    "2. Knowledge Bases for Bedrock MCP Client - an MCP client respnosible for retrieving information from the given Knowledge Bases for Bedrock."
   ]
  },
  {
   "cell_type": "code",
   "execution_count": null,
   "metadata": {},
   "outputs": [],
   "source": [
    "from mcp import stdio_client, StdioServerParameters\n",
    "from strands import Agent\n",
    "from strands.tools.mcp import MCPClient\n",
    "\n",
    "# Connect to MCP server\n",
    "lambda_mcp_client = MCPClient(lambda: stdio_client(\n",
    "    StdioServerParameters(\n",
    "        command=\"uvx\", \n",
    "        args=[\"awslabs.lambda-tool-mcp-server@latest\"],\n",
    "        env = {\n",
    "        \"FUNCTION_LIST\": \"lab6-lambda\",\n",
    "        \"AWS_REGION\" : region,\n",
    "        \"AWS_PROFILE\" : \"default\"\n",
    "      }\n",
    "    )\n",
    "))\n",
    "\n",
    "kb_mcp_client = MCPClient(lambda: stdio_client(\n",
    "    StdioServerParameters(\n",
    "        command=\"uvx\", \n",
    "        args=[\"awslabs.bedrock-kb-retrieval-mcp-server@latest\"],\n",
    "        env = {\n",
    "        \"AWS_REGION\" : region,\n",
    "        \"AWS_PROFILE\" : \"default\"\n",
    "      },\n",
    "      disabled=False\n",
    "    )\n",
    "))\n",
    "\n"
   ]
  },
  {
   "cell_type": "markdown",
   "metadata": {},
   "source": [
    "## Define Strands Agent\n",
    "In order to assign tools to the agent, we need to first list all the tools available for the MCP server, and attach them to the agent. In the following block, we enable all the supported tools in these MCP servers, and assign them to the media agent.\n",
    "\n",
    "To learn more information about this MCP servers, please refer to [knowledge bases for Bedrock MCP sevrer](https://awslabs.github.io/mcp/servers/bedrock-kb-retrieval-mcp-server/) and [AWS Lambda tool MCP server](https://awslabs.github.io/mcp/servers/lambda-tool-mcp-server/). There are many useful MCP servers available to use, follow this [documentation](https://awslabs.github.io/mcp/) for a complete list of all AWS supported MCP servers."
   ]
  },
  {
   "cell_type": "code",
   "execution_count": null,
   "metadata": {},
   "outputs": [],
   "source": [
    "lab6_kb_id"
   ]
  },
  {
   "cell_type": "code",
   "execution_count": null,
   "metadata": {},
   "outputs": [],
   "source": [
    "# Create an agent with MCP tools\n",
    "with lambda_mcp_client, kb_mcp_client:\n",
    "    # Get the tools from the MCP server\n",
    "    tools = lambda_mcp_client.list_tools_sync() + kb_mcp_client.list_tools_sync()\n",
    "    print(tools)\n",
    "    agent = Agent(tools=tools, \n",
    "                  model=\"us.anthropic.claude-3-5-haiku-20241022-v1:0\", \n",
    "                  system_prompt=f\"\"\"You are a professional media agent. Your task is to help users find the information\n",
    "related to the media based on the tool and knowledge bases available to you.\n",
    "\n",
    "You have access to the following tools:\n",
    "1. knowledge base tool with kb_id of {lab6_kb_id} that contains movie / show information including title, year, duration and genre.\n",
    "2. a rating retrieval tool that provide information about media details, including the title, ratings. The tool accept title_id as input.\n",
    "\n",
    "If you need to retrieve the title_id from the knowledge base, look for the title_id column for the value.\n",
    "For example, a retrieved media contains the following data:\n",
    "\n",
    "title_id: 123\n",
    "title: Some title\n",
    "year: 2025\n",
    "duration: 100 minutes\n",
    "\"\"\",\n",
    "callback_handler=None)"
   ]
  },
  {
   "cell_type": "markdown",
   "metadata": {},
   "source": [
    "# Testing the Agent\n",
    "With all the components in place, let's test out our agent. We'll start by asking some questions about specific titles. "
   ]
  },
  {
   "cell_type": "code",
   "execution_count": null,
   "metadata": {},
   "outputs": [],
   "source": [
    "with lambda_mcp_client, kb_mcp_client:\n",
    "    output = agent(\"Tell me the genre of 'Quantum Shadows'?\")"
   ]
  },
  {
   "cell_type": "markdown",
   "metadata": {},
   "source": [
    "Prints out the output"
   ]
  },
  {
   "cell_type": "code",
   "execution_count": null,
   "metadata": {},
   "outputs": [],
   "source": [
    "print(output.message['content'][0]['text'])"
   ]
  },
  {
   "cell_type": "markdown",
   "metadata": {},
   "source": [
    "Try another question related to the previous question. Strands agent keeps tracks of the conversation history for the session. In the following example, we asked about the rating of the movie without providing the name or title information about the show. The Agent gathered the information from the previous conversation in the message history"
   ]
  },
  {
   "cell_type": "code",
   "execution_count": null,
   "metadata": {},
   "outputs": [],
   "source": [
    "with lambda_mcp_client, kb_mcp_client:\n",
    "    output = agent(\"What is the rating this movie?\")"
   ]
  },
  {
   "cell_type": "markdown",
   "metadata": {},
   "source": [
    "Prints out the output"
   ]
  },
  {
   "cell_type": "code",
   "execution_count": null,
   "metadata": {},
   "outputs": [],
   "source": [
    "print(output.message['content'][0]['text'])"
   ]
  },
  {
   "cell_type": "markdown",
   "metadata": {
    "execution": {
     "iopub.execute_input": "2025-08-02T02:55:42.109957Z",
     "iopub.status.busy": "2025-08-02T02:55:42.109653Z",
     "iopub.status.idle": "2025-08-02T02:55:42.113057Z",
     "shell.execute_reply": "2025-08-02T02:55:42.112285Z",
     "shell.execute_reply.started": "2025-08-02T02:55:42.109934Z"
    }
   },
   "source": [
    "# Clean Up"
   ]
  },
  {
   "cell_type": "code",
   "execution_count": null,
   "metadata": {},
   "outputs": [],
   "source": [
    "os.remove(f\"{os.environ['HOME']}/.aws/credentials\")"
   ]
  },
  {
   "cell_type": "markdown",
   "metadata": {},
   "source": [
    "# Conclusion\n",
    "In this lab, we demonstrated how to build a Strands Agent as an AI assistant that helps users find media information efficiently. We first created a Knowledge Base for Bedrock, which contains the media details made available to the agent to find media title information. We use the [Knowledge Bases for Bedrock MCP server](https://awslabs.github.io/mcp/servers/bedrock-kb-retrieval-mcp-server/) to connect to the knowledge base. Additionally, we connected to a [lambda MCP server](https://awslabs.github.io/mcp/servers/lambda-tool-mcp-server/) to the agent which provides real time media rating from an external system via an API call. Using these tools, the AI agent helps users answer relevant questions about the media assets in their media library / archive. "
   ]
  },
  {
   "cell_type": "code",
   "execution_count": null,
   "metadata": {},
   "outputs": [],
   "source": []
  }
 ],
 "metadata": {
  "kernelspec": {
   "display_name": "Python 3 (ipykernel)",
   "language": "python",
   "name": "python3"
  },
  "language_info": {
   "codemirror_mode": {
    "name": "ipython",
    "version": 3
   },
   "file_extension": ".py",
   "mimetype": "text/x-python",
   "name": "python",
   "nbconvert_exporter": "python",
   "pygments_lexer": "ipython3",
   "version": "3.12.9"
  }
 },
 "nbformat": 4,
 "nbformat_minor": 4
}
