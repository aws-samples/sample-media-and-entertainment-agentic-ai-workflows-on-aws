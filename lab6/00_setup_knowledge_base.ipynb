{
 "cells": [
  {
   "cell_type": "markdown",
   "metadata": {},
   "source": [
    "# Knowledge Base Setup for PR Article Generation\n",
    "\n",
    "This notebook sets up the Amazon Bedrock Knowledge Base that will be used by the the lab6 agentic notebooks. The knowledge base contains examples movie titles information that serve as reference material for matching title search.\n",
    "\n",
    "## Purpose\n",
    "- Create a Knowledge Base for Amazon Bedrock\n",
    "- Upload example movie titles to S3\n",
    "- Configure embeddings for semantic search\n",
    "- Store knowledge base ID for use in the main workflow\n",
    "\n",
    "## Prerequisites\n",
    "- AWS credentials configured\n",
    "- S3 bucket access\n",
    "- Bedrock service permissions\n",
    "- Example movie title information in the `titles` directory"
   ]
  },
  {
   "cell_type": "markdown",
   "metadata": {},
   "source": [
    "Let's get started!"
   ]
  },
  {
   "cell_type": "code",
   "execution_count": 1,
   "metadata": {
    "execution": {
     "iopub.execute_input": "2025-06-10T14:09:18.035386Z",
     "iopub.status.busy": "2025-06-10T14:09:18.035083Z",
     "iopub.status.idle": "2025-06-10T14:09:18.322840Z",
     "shell.execute_reply": "2025-06-10T14:09:18.322223Z",
     "shell.execute_reply.started": "2025-06-10T14:09:18.035356Z"
    }
   },
   "outputs": [],
   "source": [
    "import boto3\n",
    "import os\n",
    "import uuid\n",
    "import time\n",
    "\n",
    "sts_client = boto3.client('sts')\n",
    "session = boto3.session.Session()\n",
    "\n",
    "account_id = sts_client.get_caller_identity()[\"Account\"]\n",
    "region = session.region_name\n",
    "\n",
    "s3_client = boto3.client('s3', region)\n",
    "bedrock_client = boto3.client('bedrock-runtime', region)"
   ]
  },
  {
   "cell_type": "markdown",
   "metadata": {},
   "source": [
    "## Importing helper functions\n",
    "In the following section, we're adding bedrock_agent_helper.py and knowledge_base_helper on Python path, so the files can be recognized and their functionalities can be invoked.\n",
    "\n",
    "In general, the helper functions handle common tasks including agent creation, Knowledge Bases for Bedrock creation, and accessing data in S3."
   ]
  },
  {
   "cell_type": "code",
   "execution_count": 2,
   "metadata": {
    "execution": {
     "iopub.execute_input": "2025-06-10T14:09:19.779198Z",
     "iopub.status.busy": "2025-06-10T14:09:19.778863Z",
     "iopub.status.idle": "2025-06-10T14:09:20.893168Z",
     "shell.execute_reply": "2025-06-10T14:09:20.892427Z",
     "shell.execute_reply.started": "2025-06-10T14:09:19.779173Z"
    }
   },
   "outputs": [],
   "source": [
    "import sys\n",
    "\n",
    "sys.path.insert(0, \".\")\n",
    "sys.path.insert(1, \"..\")\n",
    "sys.path.insert(2, \"../..\")\n",
    "\n",
    "from utils.bedrock_agent_helper import (\n",
    "    AgentsForAmazonBedrock\n",
    ")\n",
    "from utils.knowledge_base_helper import (\n",
    "    KnowledgeBasesForAmazonBedrock, upload_directory\n",
    ")\n",
    "agents = AgentsForAmazonBedrock()\n",
    "kb = KnowledgeBasesForAmazonBedrock()"
   ]
  },
  {
   "cell_type": "markdown",
   "metadata": {},
   "source": [
    "## Create and synchronize Knowledge Base\n",
    "Before creating an agent, we need to create a Knowledge Base (KB) and associates it with the PR Generator agent.\n",
    "This KB will contain pristine examples of high quality PRs across different movies. We have synthetically generated some example PRs and stored them in the `good_prs` folder. We'll use them as the basis to create our knowledge base system.\n",
    "\n",
    "This creation process can take several minutes."
   ]
  },
  {
   "cell_type": "code",
   "execution_count": 3,
   "metadata": {
    "execution": {
     "iopub.execute_input": "2025-06-10T14:09:20.894743Z",
     "iopub.status.busy": "2025-06-10T14:09:20.894247Z",
     "iopub.status.idle": "2025-06-10T14:09:20.898157Z",
     "shell.execute_reply": "2025-06-10T14:09:20.897488Z",
     "shell.execute_reply.started": "2025-06-10T14:09:20.894712Z"
    }
   },
   "outputs": [],
   "source": [
    "knowledge_base_name = f'lab6-media-agent-kb-{str(uuid.uuid4())[:5]}'\n",
    "knowledge_base_description = \"KB containing information about media dataset\"\n",
    "s3_bucket_name = f\"labs-bucket-{region}-{account_id}\"\n",
    "bucket_prefix = \"lab6/\""
   ]
  },
  {
   "cell_type": "code",
   "execution_count": null,
   "metadata": {
    "execution": {
     "iopub.execute_input": "2025-06-10T14:09:22.866687Z",
     "iopub.status.busy": "2025-06-10T14:09:22.866413Z",
     "iopub.status.idle": "2025-06-10T14:12:55.117684Z",
     "shell.execute_reply": "2025-06-10T14:12:55.117049Z",
     "shell.execute_reply.started": "2025-06-10T14:09:22.866667Z"
    }
   },
   "outputs": [],
   "source": [
    "%%time\n",
    "lab6_kb_id, lab6_ds_id = kb.create_or_retrieve_knowledge_base(\n",
    "    knowledge_base_name,\n",
    "    knowledge_base_description,\n",
    "    s3_bucket_name,\n",
    "    \"amazon.titan-embed-text-v2:0\",\n",
    "    bucket_prefix\n",
    ")\n",
    "\n",
    "print(f\"Knowledge Base ID: {lab6_kb_id}\")\n",
    "print(f\"Data Source ID: {lab6_ds_id}\")"
   ]
  },
  {
   "cell_type": "markdown",
   "metadata": {},
   "source": [
    "## Upload title information to S3 Bucket\n",
    "For this lab, we created a few synthetic media titles that could be used for title information retrieval. \n",
    "The data can be found in the *titles* sub folder in this lab. For simplicity, we created the title with the following details:\n",
    "\n",
    "* title_id: a unique identifier for the title\n",
    "* title: name of the media\n",
    "* year: the year when the title was released\n",
    "* duration: the total duration of the title\n",
    "\n",
    "Feel free to explore these files for ideas about how to best structure the title data for optimizing media search and retrieval process."
   ]
  },
  {
   "cell_type": "code",
   "execution_count": null,
   "metadata": {
    "execution": {
     "iopub.execute_input": "2025-06-10T14:13:27.162916Z",
     "iopub.status.busy": "2025-06-10T14:13:27.162587Z",
     "iopub.status.idle": "2025-06-10T14:13:27.901791Z",
     "shell.execute_reply": "2025-06-10T14:13:27.900862Z",
     "shell.execute_reply.started": "2025-06-10T14:13:27.162893Z"
    }
   },
   "outputs": [],
   "source": [
    "upload_directory(\"titles\", s3_bucket_name, bucket_prefix)"
   ]
  },
  {
   "cell_type": "code",
   "execution_count": null,
   "metadata": {
    "execution": {
     "iopub.execute_input": "2025-06-10T14:13:39.175029Z",
     "iopub.status.busy": "2025-06-10T14:13:39.174720Z",
     "iopub.status.idle": "2025-06-10T14:14:00.646050Z",
     "shell.execute_reply": "2025-06-10T14:14:00.645436Z",
     "shell.execute_reply.started": "2025-06-10T14:13:39.175006Z"
    }
   },
   "outputs": [],
   "source": [
    "kb.synchronize_data(lab6_kb_id, lab6_ds_id)"
   ]
  },
  {
   "cell_type": "markdown",
   "metadata": {},
   "source": [
    "## Store Knowledge Base ID\n",
    "\n",
    "Store the knowledge base ID in the notebook's variable store so it can be accessed by other notebooks in the same session."
   ]
  },
  {
   "cell_type": "code",
   "execution_count": null,
   "metadata": {
    "execution": {
     "iopub.execute_input": "2025-06-10T14:15:20.218448Z",
     "iopub.status.busy": "2025-06-10T14:15:20.218098Z",
     "iopub.status.idle": "2025-06-10T14:15:20.226420Z",
     "shell.execute_reply": "2025-06-10T14:15:20.225859Z",
     "shell.execute_reply.started": "2025-06-10T14:15:20.218416Z"
    }
   },
   "outputs": [],
   "source": [
    "# Store the knowledge base ID for use in other notebooks\n",
    "%store lab6_kb_id\n",
    "%store lab6_ds_id\n",
    "\n",
    "print(f\"Stored variables:\")\n",
    "print(f\"  kb_id = {lab6_kb_id}\")\n",
    "print(f\"  ds_id = {lab6_ds_id}\")"
   ]
  }
 ],
 "metadata": {
  "kernelspec": {
   "display_name": "Python 3 (ipykernel)",
   "language": "python",
   "name": "python3"
  },
  "language_info": {
   "codemirror_mode": {
    "name": "ipython",
    "version": 3
   },
   "file_extension": ".py",
   "mimetype": "text/x-python",
   "name": "python",
   "nbconvert_exporter": "python",
   "pygments_lexer": "ipython3",
   "version": "3.12.9"
  }
 },
 "nbformat": 4,
 "nbformat_minor": 4
}
