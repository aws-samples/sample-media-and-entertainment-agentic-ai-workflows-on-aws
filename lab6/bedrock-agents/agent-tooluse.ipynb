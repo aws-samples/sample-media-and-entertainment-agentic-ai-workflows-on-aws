{
 "cells": [
  {
   "cell_type": "markdown",
   "metadata": {},
   "source": [
    "# Agent with Tool Use\n",
    "One of the benefits of an agent is its ability to use Tools. Leveraging Tools enables agents to perform complex tasks beyond reasoning capabilities.\n",
    "When given a task, the agent evaluates the task requirements, then selects an appropriate Tool from its available toolkit, and strategically applies them to achieve specific goals.\n",
    "\n",
    "This process involves using the LLM to reason about tool selection, understanding how to properly utilize each Tool, and integrating the results back into the agent's workflow.\n",
    "In addition, agents could also be given access to external knowledge bases, interface with APIs to extend their problem-solving capability that can address a broader range of challenges.\n",
    "\n",
    "In this lab, we are going to walk through an example of an agent with Tool use.\n",
    "This use case focuses on answering a user's questions about media assets. Media asset details, such as titles, plot, synopsis are types of information commonly stored and available in the title management systems of media companies. These details could be leveraged by an AI agent to gather the information about the titles based on a user's questions in natural language. While title information is stored in the knowledge base, there may be additional details relevant to titles that are not readily available, for instances, getting the latest movie ratings or reviews about the given title. An agent would need to access other internal / external sources, for instance, IMDB through web APIs to gather such details.\n",
    "\n",
    "In our lab, we demonstrate calling an API through a Tool that allows the agent to gather extra information. The combination of details from knowledge bases and the API completes the user query.\n",
    "\n",
    "<img src=\"../../imgs/agent-tooluse-architecture.png\" width=\"600\"> \n",
    "\n",
    "The steps shown in the above diagram are defined as followed:\n",
    "\n",
    "1. User initiates a task request. (e.g. Ask for a rating of a movie)\n",
    "2. An agent received the request, first extracts the media title information from the knowledge base.\n",
    "3. Based on the user query, the agent retrieves the rating information by invoking a Tool. The Tool makes an API {all that provides the rating information for a title given the title_id.\n",
    "4. The agent receives both the title and rating information for the given title.\n",
    "5. Agent returns the final response to the user."
   ]
  },
  {
   "cell_type": "markdown",
   "metadata": {},
   "source": [
    "Let's get started!"
   ]
  },
  {
   "cell_type": "code",
   "execution_count": 4,
   "metadata": {},
   "outputs": [],
   "source": [
    "import boto3\n",
    "import os\n",
    "import uuid\n",
    "import time\n",
    "\n",
    "sts_client = boto3.client('sts')\n",
    "session = boto3.session.Session()\n",
    "\n",
    "account_id = sts_client.get_caller_identity()[\"Account\"]\n",
    "region = session.region_name\n",
    "\n",
    "s3_client = boto3.client('s3', region)\n",
    "bedrock_client = boto3.client('bedrock-runtime', region)\n",
    "\n",
    "agent_foundation_model = [\n",
    "    'us.anthropic.claude-3-5-haiku-20241022-v1:0'\n",
    "]"
   ]
  },
  {
   "cell_type": "markdown",
   "metadata": {},
   "source": [
    "## Importing helper functions\n",
    "In the following section, we're adding bedrock_agent_helper.py and knowledge_base_helper on Python path, so the files can be recognized and their functionalities can be invoked.\n",
    "\n",
    "In general, the helper functions handle common tasks including agent creation, Knowledge Bases for Bedrock creation, and accessing data in S3."
   ]
  },
  {
   "cell_type": "code",
   "execution_count": 5,
   "metadata": {},
   "outputs": [],
   "source": [
    "import sys\n",
    "\n",
    "sys.path.insert(0, \".\")\n",
    "sys.path.insert(1, \"..\")\n",
    "sys.path.insert(2, \"../..\")\n",
    "\n",
    "from utils.bedrock_agent_helper import (\n",
    "    AgentsForAmazonBedrock\n",
    ")\n",
    "from utils.knowledge_base_helper import (\n",
    "    KnowledgeBasesForAmazonBedrock, upload_directory\n",
    ")\n",
    "agents = AgentsForAmazonBedrock()\n",
    "kb = KnowledgeBasesForAmazonBedrock()"
   ]
  },
  {
   "cell_type": "markdown",
   "metadata": {},
   "source": [
    "## Create and synchronize Knowledge Base\n",
    "Before creating an agent, we need to create a Knowledge Base (KB) and associates it with the PR Generator agent.\n",
    "This KB will contain pristine examples of high quality PRs across different movies. We have synthetically generated some example PRs and stored them in the `good_prs` folder. We'll use them as the basis to create our knowledge base system.\n",
    "\n",
    "This creation process can take several minutes."
   ]
  },
  {
   "cell_type": "code",
   "execution_count": 6,
   "metadata": {},
   "outputs": [],
   "source": [
    "knowledge_base_name = f'lab6-media-agent-kb-{str(uuid.uuid4())[:5]}'\n",
    "knowledge_base_description = \"KB containing information about media dataset\"\n",
    "s3_bucket_name = f\"labs-bucket-{region}-{account_id}\"\n",
    "bucket_prefix = \"lab6/\""
   ]
  },
  {
   "cell_type": "code",
   "execution_count": null,
   "metadata": {},
   "outputs": [],
   "source": [
    "%%time\n",
    "kb_id, ds_id = kb.create_or_retrieve_knowledge_base(\n",
    "    knowledge_base_name,\n",
    "    knowledge_base_description,\n",
    "    s3_bucket_name,\n",
    "    \"amazon.titan-embed-text-v2:0\",\n",
    "    bucket_prefix\n",
    ")\n",
    "\n",
    "print(f\"Knowledge Base ID: {kb_id}\")\n",
    "print(f\"Data Source ID: {ds_id}\")"
   ]
  },
  {
   "cell_type": "markdown",
   "metadata": {},
   "source": [
    "## Upload title information to S3 Bucket\n",
    "For this lab, we created a few synthetic media titles that could be used for title information retrieval. \n",
    "The data can be found in the *titles* sub folder in this lab. For simplicity, we created the title with the following details:\n",
    "\n",
    "* title_id: a unique identifier for the title\n",
    "* title: name of the media\n",
    "* year: the year when the title was released\n",
    "* duration: the total duration of the title\n",
    "\n",
    "Feel free to explore these files for ideas about how to best structure the title data for optimizing media search and retrieval process."
   ]
  },
  {
   "cell_type": "code",
   "execution_count": null,
   "metadata": {},
   "outputs": [],
   "source": [
    "upload_directory(\"../titles\", s3_bucket_name, bucket_prefix)"
   ]
  },
  {
   "cell_type": "code",
   "execution_count": null,
   "metadata": {},
   "outputs": [],
   "source": [
    "kb.synchronize_data(kb_id, ds_id)"
   ]
  },
  {
   "cell_type": "markdown",
   "metadata": {},
   "source": [
    "# Creating an Agent\n",
    "\n",
    "Create a media agent that will have access to an `Amazon Bedrock Knowledge Base` where it retrieves the given title information.\n",
    "\n",
    "The role of the agent is to answer user questions about movie titles, including synopsis, rating and more.\n",
    "\n",
    "We will provide the following instructions to our agent:\n",
    "```\n",
    "You are a professional media agent. Your task is to help users find the information\n",
    "related to the media based on the tool and knowledge bases available to you.\n",
    "\n",
    "You have access to a knowledge base and tools that provide information about media details, including the title, and title_id.\n",
    "You also have access to tools that can help provide additional information about the title, such as rating and others.\n",
    "```\n",
    "\n",
    "We will also connect a knowledge base to retrieve good PR references. Follow the instructions as described below:\n",
    "```\n",
    "This knowledge base contains information about media titles. Use this knowledge base to find information about the media, including the title and id.\n",
    "```"
   ]
  },
  {
   "cell_type": "code",
   "execution_count": null,
   "metadata": {},
   "outputs": [],
   "source": [
    "kb_info = kb.get_kb(kb_id)\n",
    "kb_arn = kb_info['knowledgeBase']['knowledgeBaseArn']"
   ]
  },
  {
   "cell_type": "markdown",
   "metadata": {},
   "source": [
    "Create a configuration for the Knowledge Base. The configuration is to be used in the agent creation process."
   ]
  },
  {
   "cell_type": "code",
   "execution_count": null,
   "metadata": {},
   "outputs": [],
   "source": [
    "kb_config = {\n",
    "    'kb_id': kb_id,\n",
    "    'kb_instruction': \"\"\"This knowledge base contains information about media titles. Use this knowledge base to find information about the media, including the title and id.\"\"\"\n",
    "}"
   ]
  },
  {
   "cell_type": "code",
   "execution_count": null,
   "metadata": {},
   "outputs": [],
   "source": [
    "agent_description = \"\"\"A media agent that helps users find media information.\"\"\"\n",
    "agent_instruction = \"\"\"You are a professional media agent. Your task is to help users find the information\n",
    "related to the media based on the tool and knowledge bases available to you.\n",
    "\n",
    "You have access to a knowledge base and tools that provide information about media details, including the title, and title_id.\n",
    "You also have access to tools that can help provide additional information about the title, such as rating.\n",
    "\n",
    "If you need to retrieve the title id from the knowledge base, look for the title_id column for the value.\n",
    "For example, a retrieved media contains the following data:\n",
    "\n",
    "title_id: 123\n",
    "title: Some title\n",
    "year: 2025\n",
    "duration: 100 minutes\n",
    "\n",
    "Based on the example above, you should retrieve the title_id of 123.\n",
    "The title_id should not be retrieved from the <source></source> XML tag.\n",
    "\"\"\""
   ]
  },
  {
   "cell_type": "markdown",
   "metadata": {},
   "source": [
    "Create a Bedrock Agent using the agent helper function "
   ]
  },
  {
   "cell_type": "code",
   "execution_count": null,
   "metadata": {},
   "outputs": [],
   "source": [
    "agent_suffix = str(uuid.uuid4())[:5]\n",
    "agent_name = f\"lab6-media_agent-{agent_suffix}\"\n",
    "\n",
    "media_agent = agents.create_agent(\n",
    "    agent_name,\n",
    "    agent_description,\n",
    "    agent_instruction,\n",
    "    agent_foundation_model,\n",
    "    kb_arns=[kb_arn],\n",
    "    code_interpretation=False\n",
    ")\n",
    "time.sleep(20) # giving some time for the agent to be in a ready state.\n",
    "media_agent"
   ]
  },
  {
   "cell_type": "markdown",
   "metadata": {},
   "source": [
    "### Associating Knowledge Base\n",
    "Now that we've created the agent, let's associate the previously created Knowledge Base to it."
   ]
  },
  {
   "cell_type": "code",
   "execution_count": null,
   "metadata": {},
   "outputs": [],
   "source": [
    "agents.associate_kb_with_agent(\n",
    "    media_agent[0], # the agent ID\n",
    "    kb_config['kb_instruction'],\n",
    "    kb_config['kb_id']\n",
    ")"
   ]
  },
  {
   "cell_type": "markdown",
   "metadata": {},
   "source": [
    "# Define Agent Tools\n",
    "In the context of Bedrock Agents, Tools are organized as Action Groups. An Action Group defines actions that the agent can help the user perform. For example, you could define an action group called `Get the title rating via an API call` that helps users get the ratings of a given title.\n",
    "\n",
    "You create an Action Group by performing the following steps:\n",
    "\n",
    "Define the parameters and information that the agent must elicit from the user for each action in the Action Group to be carried out.\n",
    "\n",
    "Decide how the agent handles the parameters and information that it receives from the user and where it sends the information it elicits from the user.\n",
    "\n",
    "To learn more about Action Groups, please refer to this [link](https://docs.aws.amazon.com/bedrock/latest/userguide/agents-action-create.html).\n",
    "\n",
    "Each Action Group supports functions that help the agent to fulfill a subtask. For instance, a function that invokes an external API to retrieve the rating of a title, or an API that retrieves the most recent reviews about a title.\n",
    "\n",
    "The function details consist of a list of parameters, defined by their name, data type (for a list of supported data types, see ParameterDetail), and whether they are required. The agent uses these configurations to determine what information it needs to elicit from the user. You can define the function detail in a JSON file with name, description, parameters, or provide a file in the OpenAPI compatible format.\n",
    "\n",
    "To fulfill the task, you can define a Lambda function to program the business logic for an Action Group. After a Amazon Bedrock agent determines the API operation that it needs to invoke in an Action Group, it sends information from the API schema alongside relevant metadata as an input event to the Lambda function. To write your function, you must understand the following components of the Lambda function:\n",
    "\n",
    "Input event – Contains relevant metadata and populated fields from the request body of the API operation or the function parameters for the action that the agent determines must be called.\n",
    "\n",
    "Response – Contains relevant metadata and populated fields for the response body returned from the API operation or the function.\n",
    "\n",
    "For more information please refer to this [link](https://docs.aws.amazon.com/bedrock/latest/userguide/agents-lambda.html)\n",
    "\n",
    "If a Lambda function is not feasible, another option is to choose to return control to the agent developer by sending the information in the InvokeAgent response. For more information please refer to this [link](https://docs.aws.amazon.com/bedrock/latest/userguide/agents-returncontrol.html)\n",
    "\n",
    "In this lab, we'll define an Action Group with a Lambda function that simulates an API call. The API returns the rating of a given title id, which is obtained from the knowledge base that the agent has access."
   ]
  },
  {
   "cell_type": "code",
   "execution_count": null,
   "metadata": {},
   "outputs": [],
   "source": [
    "action_group_name=f\"get-media-ratings-{agent_suffix}\"\n",
    "action_group_descr = \"Get the title rating via an API call\"\n",
    "lambda_code = \"lambda_handler.py\"\n",
    "function_defs = [\n",
    "    {\n",
    "          \"name\": \"get_title_rating\",\n",
    "          \"description\": \"Get the title rating via an API call\",\n",
    "          \"parameters\": {\n",
    "            \"title_id\": {\n",
    "              \"description\": \"title_id for a given title as extracted from the knowledge bases\",\n",
    "              \"required\": True,\n",
    "              \"type\": \"string\"\n",
    "            }\n",
    "          },\n",
    "          \"requireConfirmation\": \"DISABLED\"\n",
    "    }\n",
    "        ]"
   ]
  },
  {
   "cell_type": "markdown",
   "metadata": {},
   "source": [
    "Creat an Action Group with lambda function"
   ]
  },
  {
   "cell_type": "code",
   "execution_count": null,
   "metadata": {},
   "outputs": [],
   "source": [
    "lambda_function_name = f\"lab6-get-media-ratings-{agent_suffix}\"\n",
    "action_group_arn = agents.add_action_group_with_lambda(agent_name,\n",
    "                                         lambda_function_name, lambda_code, \n",
    "                                         function_defs, action_group_name, action_group_descr)"
   ]
  },
  {
   "cell_type": "markdown",
   "metadata": {},
   "source": [
    "# Testing the Agent\n",
    "With all the components in place, let's test out our agent. We'll start by asking some questions about specific titles. "
   ]
  },
  {
   "cell_type": "code",
   "execution_count": null,
   "metadata": {},
   "outputs": [],
   "source": [
    "response = agents.invoke(\n",
    "    \"\"\"Tell me the genre of \"Quantum Shadows\".\"\"\", \n",
    "    media_agent[0], enable_trace=True,\n",
    "    trace_level = \"all\"\n",
    ")\n",
    "print(\"====================\")\n",
    "print(response)"
   ]
  },
  {
   "cell_type": "code",
   "execution_count": null,
   "metadata": {},
   "outputs": [],
   "source": [
    "%%time\n",
    "response = agents.invoke(\n",
    "    \"\"\"What is the rating this movie? \n",
    "\"\"\", \n",
    "    media_agent[0], enable_trace=True,\n",
    "    trace_level = \"all\"\n",
    ")\n",
    "print(\"====================\")\n",
    "print(response)"
   ]
  },
  {
   "cell_type": "markdown",
   "metadata": {},
   "source": [
    "# Conclusion\n",
    "In this lab, we demonstrated how to build a Bedrock Agent as an AI assistant that helps users find media information efficiently. We first created a Knowledge Base for Bedrock, which contains the media details made available to the agent to find media title information. Additionally, we also created a Tool for the agent which provides real time media rating from an external system via an API call. Using these tools, the AI agent helps users answer relevant questions about the media assets in their media library / archive. In the next lab, we'll extend the agentic capabilities to incorporate multiple AI agents to work collaboratively to solve an even more complex problem. Go ahead and hop over to lab 7 to continue the workshop."
   ]
  },
  {
   "cell_type": "code",
   "execution_count": null,
   "metadata": {},
   "outputs": [],
   "source": []
  }
 ],
 "metadata": {
  "kernelspec": {
   "display_name": "Python 3 (ipykernel)",
   "language": "python",
   "name": "python3"
  },
  "language_info": {
   "codemirror_mode": {
    "name": "ipython",
    "version": 3
   },
   "file_extension": ".py",
   "mimetype": "text/x-python",
   "name": "python",
   "nbconvert_exporter": "python",
   "pygments_lexer": "ipython3",
   "version": "3.12.9"
  }
 },
 "nbformat": 4,
 "nbformat_minor": 4
}
