{
 "cells": [
  {
   "cell_type": "code",
   "execution_count": 1,
   "metadata": {},
   "outputs": [],
   "source": [
    "%load_ext dotenv\n",
    "%dotenv ../.env"
   ]
  },
  {
   "cell_type": "code",
   "execution_count": 1,
   "metadata": {},
   "outputs": [],
   "source": [
    "import logging\n",
    "\n",
    "# Configure the root strands logger\n",
    "logging.getLogger(\"strands\").setLevel(logging.INFO)\n",
    "\n",
    "# Add a handler to see the logs\n",
    "logging.basicConfig(\n",
    "    format=\"%(levelname)s | %(name)s | %(message)s\", \n",
    "    handlers=[logging.StreamHandler()])"
   ]
  },
  {
   "cell_type": "code",
   "execution_count": null,
   "metadata": {},
   "outputs": [],
   "source": [
    "from strands import Agent\n",
    "from strands.models import BedrockModel"
   ]
  },
  {
   "cell_type": "markdown",
   "metadata": {},
   "source": [
    "# Multi Agent"
   ]
  },
  {
   "cell_type": "markdown",
   "metadata": {},
   "source": [
    "## Agent Graphs: Building Multi-Agent Systems"
   ]
  },
  {
   "cell_type": "code",
   "execution_count": 12,
   "metadata": {},
   "outputs": [],
   "source": [
    "import boto3\n",
    "import os\n",
    "\n",
    "sts_client = boto3.client('sts')\n",
    "session = boto3.session.Session()\n",
    "\n",
    "account_id = sts_client.get_caller_identity()[\"Account\"]\n",
    "region = session.region_name\n",
    "\n",
    "s3_client = boto3.client('s3', region)\n",
    "bedrock_client = boto3.client('bedrock-runtime', region)"
   ]
  },
  {
   "cell_type": "code",
   "execution_count": 8,
   "metadata": {},
   "outputs": [],
   "source": [
    "import sys\n",
    "import uuid\n",
    "\n",
    "sys.path.insert(0, \".\")\n",
    "sys.path.insert(1, \"..\")\n",
    "\n",
    "from utils.knowledge_base_helper import (\n",
    "    KnowledgeBasesForAmazonBedrock\n",
    ")\n",
    "kb = KnowledgeBasesForAmazonBedrock()"
   ]
  },
  {
   "cell_type": "code",
   "execution_count": 17,
   "metadata": {},
   "outputs": [],
   "source": [
    "knowledge_base_name = f'pr-agent-kb-{str(uuid.uuid4())[:5]}'\n",
    "knowledge_base_description = \"KB containing information about pristine PR articles\"\n",
    "s3_bucket_name = f\"labs-bucket-{region}-{account_id}\"\n",
    "bucket_prefix = \"data/kb/reflection/\""
   ]
  },
  {
   "cell_type": "code",
   "execution_count": null,
   "metadata": {},
   "outputs": [],
   "source": [
    "kb_id, ds_id = kb.create_or_retrieve_knowledge_base(\n",
    "    knowledge_base_name,\n",
    "    knowledge_base_description,\n",
    "    s3_bucket_name,\n",
    "    \"amazon.titan-embed-text-v2:0\",\n",
    "    bucket_prefix\n",
    ")\n",
    "\n",
    "print(f\"Knowledge Base ID: {kb_id}\")\n",
    "print(f\"Data Source ID: {ds_id}\")"
   ]
  },
  {
   "cell_type": "code",
   "execution_count": 20,
   "metadata": {},
   "outputs": [],
   "source": [
    "def upload_directory(path, bucket_name, bucket_prefix):\n",
    "    for root,dirs,files in os.walk(path):\n",
    "        for file in files:\n",
    "            file_to_upload = os.path.join(root,file)\n",
    "            print(f\"uploading file {file_to_upload} to {bucket_name}\")\n",
    "            s3_client.upload_file(file_to_upload,bucket_name,f\"{bucket_prefix}{file}\")"
   ]
  },
  {
   "cell_type": "code",
   "execution_count": null,
   "metadata": {},
   "outputs": [],
   "source": [
    "upload_directory(\"../good_prs\", s3_bucket_name, bucket_prefix)"
   ]
  },
  {
   "cell_type": "code",
   "execution_count": null,
   "metadata": {},
   "outputs": [],
   "source": [
    "# sync knowledge base\n",
    "kb.synchronize_data(kb_id, ds_id)"
   ]
  },
  {
   "cell_type": "code",
   "execution_count": 10,
   "metadata": {},
   "outputs": [],
   "source": [
    "from strands import Agent, tool\n",
    "from strands_tools import retrieve"
   ]
  },
  {
   "cell_type": "code",
   "execution_count": 16,
   "metadata": {},
   "outputs": [],
   "source": [
    "@tool\n",
    "def pr_writer_agent(query: str) -> str:\n",
    "    \"\"\"Public Relation content writer agent.\"\"\"\n",
    "    print(\"PR Writer agent...\")\n",
    "    \n",
    "    pr_writer = Agent(\n",
    "        model=\"us.amazon.nova-pro-v1:0\",\n",
    "        system_prompt=f\"\"\"You are to write a PR news for an upcoming show/movie based on the user request, and an optional recommended changes.\n",
    "\n",
    "When writing the PR news, you should follow the following guidelines:\n",
    "\n",
    "1. Headline: Capture Attention & Key Details - Be Concise & Informative: Use active verbs like \"announces,\" \"debuts,\" or \"unveils.\" Include the title, release date/platform, and a hook (e.g., talent or franchise ties).\n",
    "Example: \"A24 Reveals Trailer for Horror Thriller ‘Nightfall’ Starring Florence Pugh, Premiering October 2024.\"\n",
    "Highlight Exclusives: If applicable, note premieres at festivals (e.g., \"Sundance 2025 Official Selection\").\n",
    "\n",
    "2. Lead Paragraph: The 5 Ws - Summarize Who (studio, talent), What (title, genre), When (release date), Where (platforms/theaters), and Why (unique angle, legacy, or cultural relevance).\n",
    "Example: \"Marvel Studios’ ‘Avengers: Legacy,’ directed by Ryan Coogler, will premiere in theaters globally on May 3, 2025, marking the MCU’s first reboot of the iconic franchise.\"\n",
    "\n",
    "3. Key Content Elements - Synopsis: Offer a 1–2 paragraph teaser without spoilers. Emphasize uniqueness (e.g., \"a dystopian love story set in 2140’s AI-dominated society\").\n",
    "Talent & Production Credentials: Highlight A-list actors, acclaimed directors, or award-winning crews. Mention prior successes (e.g., \"From the Oscar-winning producer of Parasite\").\n",
    "Behind-the-Scenes (BTS) Insights: Share filming locations, technical innovations, or adaptations (e.g., \"Shot in Iceland using cutting-edge VR cinematography\").\n",
    "\n",
    "4. Quotes: Add Authenticity - Source quotes from directors, leads, or producers that convey passion or vision.\n",
    "Example: \"‘This film redefines resilience,’ says director Jordan Peele. ‘We’re blending horror with social commentary in ways audiences haven’t seen.’\"\n",
    "\n",
    "5. Multimedia & Links - Embed or link to trailers, stills, and BTS content. Provide access to a password-protected media kit with HD assets.\n",
    "Include official social handles and hashtags (e.g., #NightfallMovie).\n",
    "\n",
    "6. Tailor for Target Audiences - Trade Outlets (Deadline, Variety): Focus on box office prospects, production budgets, or industry trends.\n",
    "Lifestyle/Cultural Press (Vulture, Rolling Stone): Highlight themes, fashion, or soundtracks.\n",
    "Local Media: Tie in filming locations or local talent.\n",
    "\n",
    "7. SEO & Discoverability - Use keywords: Title, cast names, genre, and phrases like \"upcoming sci-fi movies 2025.\"\n",
    "Link to official sites or prior related content (e.g., a franchise’s timeline).\n",
    "\n",
    "8. Logistics & Contact Info - Clearly state release platforms (e.g., \"Streaming exclusively on Netstream starting November 12\").\n",
    "List premiere events or fan screenings.\n",
    "Provide media contacts: Name, email, phone, and PR firm.\n",
    "\n",
    "9. Professional Polish - Proofread: Ensure dates, names, and titles are error-free.\n",
    "Tone: Match the project’s vibe (e.g., playful for comedies, sleek for action).\n",
    "Style Guide: Adhere to outlet-specific rules (e.g., AP style).\n",
    "\n",
    "10. Follow-Up & Amplification - Pitch Exclusives: Offer early access to trailers or interviews for top-tier outlets.\n",
    "Post-Release: Monitor coverage, engage on social media, and update with new assets (e.g., poster drops).\n",
    "\n",
    "You also have access to a knowledge base tool that contains pristine, high quality PRs that have been published in the past. You should use the knowledge base in assisting with the writing.\n",
    "The knowledge base ID you have acess to is {kb_id} and region is {region}.\n",
    "\"\"\",\n",
    "        tools=[retrieve],\n",
    "        callback_handler=None\n",
    "    )\n",
    "    return str(pr_writer(query))"
   ]
  },
  {
   "cell_type": "code",
   "execution_count": null,
   "metadata": {},
   "outputs": [],
   "source": [
    "query = \"\"\"Write a PR news for an upcoming movie given the following information: \n",
    "Title: Midnight Vendetta\n",
    "Tagline: “When the clock strikes twelve, justice wears no mask.”\n",
    "Genre: Action/Thriller\n",
    "Release Date: November 22, 2025 (Theatrical & IMAX)\n",
    "\n",
    "Logline:\n",
    "A disgraced former MI6 agent infiltrates a glittering Dubai masquerade ball to dismantle a trillion-dollar cyberweapons syndicate—but must confront his deadliest enemy: the traitor who framed him for murder.\n",
    "\n",
    "Key Production/Cast Details:\n",
    "Director: David Leitch (Atomic Blonde, Bullet Train)—promises “brutally elegant fight choreography blending Bourne-style close combat with Dubai’s opulent settings.”\n",
    "Studio: Pika Pictures (Budget: $200M)\n",
    "Filming Locations: Dubai’s Burj Khalifa, Palm Jumeirah, and a custom-built 360-degree rotating ballroom set for the climactic fight.\n",
    "Soundtrack: Pulse-pounding score by Ludwig Göransson \n",
    "\"\"\"\n",
    "\n",
    "results = pr_writer_agent(query)"
   ]
  },
  {
   "cell_type": "code",
   "execution_count": null,
   "metadata": {},
   "outputs": [],
   "source": [
    "print(results)"
   ]
  },
  {
   "cell_type": "code",
   "execution_count": 18,
   "metadata": {},
   "outputs": [],
   "source": [
    "@tool\n",
    "def pr_review_agent(query: str) -> str:\n",
    "    \"\"\"Public Relation content review agent.\"\"\"\n",
    "    print(\"PR Review agent...\")\n",
    "    \n",
    "    pr_review_agent = Agent(\n",
    "        system_prompt=\"\"\"You are an AI assistant that performs a review for a given PR article and provide any feedback to improve the quality. \n",
    "As a PR article reviewer, you are given the specific guidelines to evaluate the quality of the document.\n",
    "\n",
    "1. Write in clear, crisp sentences.\" - long or confusing sentences as \"clunky\" when they're difficult for readers to understand.\n",
    "\n",
    "Here are the tips on to identify unclear sentences:\n",
    "\n",
    "- Sentences longer than 40 words or spanning more than two lines\n",
    "- Sentences that require multiple readings to understand\n",
    "- Sentences with repeated words, especially \"and\" and \"to\"\n",
    "\n",
    "2. Be specific. Don't leave anything open to interpretation or leave your reader guessing. \n",
    "\n",
    "Here are some clues your sentence isn't specific enough: \n",
    "-  it contains qualitative or subjective adjectives and adverbs (like \"might,\" \"often,\" or \"may be\"), \n",
    "- it leaves the reader asking questions.\n",
    "\n",
    "Here are some ways to fix this problem: \n",
    "- clarify words or phrases that could be interpreted differently by different people, \n",
    "- use quantitative adjectives, like \"3X faster\" or \"50% more time\" where possible, and/or \n",
    "\n",
    "3. Write for a non-technical audience. Anyone should be able to understand your message without additional background information. Readers will often be left with questions if you've included concepts or undefined acronyms.\n",
    "\n",
    "Here are some clues your sentence might be too technical: \n",
    "- your reader is left with questions, \n",
    "- it contains abbreviations or acronyms that aren't defined, and/or \n",
    "- it describes technology that an average person would not understand.\n",
    "\n",
    "Here are some ways to fix this problem: \n",
    "3a. Include a short description of the show;\n",
    "3b. define acronyms if used in the article\n",
    "\n",
    "4. Proactively explain what makes a new show/movie interesting from similar existing show/movie. If there is any chance a reader might ask, \"Isn't this movie similar to X?\" then you need to address it. Avoid simply listing plots of the new movie.\n",
    "\n",
    "Here are some ways to fix this problem:\n",
    "- If there is an existing movie/show with similar plots as the new movie, address how they are different.\n",
    "\n",
    "5. Connect the dots in a story.  You should make it clear enough how plots are related.\n",
    "\n",
    "Here are some clues you're not connecting the dots: \n",
    "- your reader doesn't understand the plots you're writing about and/or \n",
    "\n",
    "Here is a way to fix this problem: \n",
    "Similar to unfolding the story, Have someone who hasn't heard of the story read the passage and ask them if it's clear to them and how everything is related.\n",
    "\n",
    "6. Be consistent in names and descriptions. Don't confuse your reader by switching between different names or introducing additional characters near the end of your PR. Stick to one name and don't stray from the main plots.\"\"\",\n",
    "callback_handler=None)\n",
    "    return str(pr_review_agent(query))\n",
    "    "
   ]
  },
  {
   "cell_type": "code",
   "execution_count": null,
   "metadata": {},
   "outputs": [],
   "source": [
    "review_result = pr_review_agent(results)"
   ]
  },
  {
   "cell_type": "code",
   "execution_count": null,
   "metadata": {},
   "outputs": [],
   "source": [
    "print(review_result)"
   ]
  },
  {
   "cell_type": "code",
   "execution_count": 21,
   "metadata": {},
   "outputs": [],
   "source": [
    "pr_supervisor_agent = Agent(\n",
    "        model=\"us.amazon.nova-premier-v1:0\",\n",
    "        system_prompt=f\"\"\"You are a supervisor AI agent. You are given 2 agents capable of following tasks:\n",
    "\n",
    "1. PR Writer agent - Writes a draft of PR article based on the given instructions and/or recommendations.\n",
    "\n",
    "2. PR Reviewer agent - Reviews the PR article generated by the PR Writer agent to provide recommendation to improve the PR article.\n",
    "\n",
    "You are to leverage both the agents to work collaboratively and iteratively to arrive at the best version of the PR article. \n",
    "\n",
    "Here are the guidelines:\n",
    "- You should only iterate the draft and review iterations for maximum of 3 time before returning the final version of the PR article to the user. \n",
    "\n",
    "The final draft of the PR must be a complete version formatted in markdown in the final response. Do not provide any explanation in the final response, return only the final PR article in markdown format.\"\"\",\n",
    "        tools=[pr_writer_agent, pr_review_agent],\n",
    "        callback_handler=None\n",
    "    )"
   ]
  },
  {
   "cell_type": "code",
   "execution_count": null,
   "metadata": {},
   "outputs": [],
   "source": [
    "query = \"\"\"Write a PR news for an upcoming movie given the following information: \n",
    "Title: Midnight Vendetta\n",
    "Tagline: “When the clock strikes twelve, justice wears no mask.”\n",
    "Genre: Action/Thriller\n",
    "Release Date: November 22, 2025 (Theatrical & IMAX)\n",
    "\n",
    "Logline:\n",
    "A disgraced former MI6 agent infiltrates a glittering Dubai masquerade ball to dismantle a trillion-dollar cyberweapons syndicate—but must confront his deadliest enemy: the traitor who framed him for murder.\n",
    "\n",
    "Key Production/Cast Details:\n",
    "Director: David Leitch (Atomic Blonde, Bullet Train)—promises “brutally elegant fight choreography blending Bourne-style close combat with Dubai’s opulent settings.”\n",
    "Studio: Pika Pictures (Budget: $200M)\n",
    "Filming Locations: Dubai’s Burj Khalifa, Palm Jumeirah, and a custom-built 360-degree rotating ballroom set for the climactic fight.\n",
    "Soundtrack: Pulse-pounding score by Ludwig Göransson\"\"\"\n",
    "\n",
    "pr_final_result = pr_supervisor_agent(query)"
   ]
  },
  {
   "cell_type": "code",
   "execution_count": null,
   "metadata": {},
   "outputs": [],
   "source": [
    "print(str(pr_final_result))"
   ]
  },
  {
   "cell_type": "code",
   "execution_count": null,
   "metadata": {},
   "outputs": [],
   "source": []
  }
 ],
 "metadata": {
  "kernelspec": {
   "display_name": "agent",
   "language": "python",
   "name": "python3"
  },
  "language_info": {
   "codemirror_mode": {
    "name": "ipython",
    "version": 3
   },
   "file_extension": ".py",
   "mimetype": "text/x-python",
   "name": "python",
   "nbconvert_exporter": "python",
   "pygments_lexer": "ipython3",
   "version": "3.12.0"
  }
 },
 "nbformat": 4,
 "nbformat_minor": 2
}
