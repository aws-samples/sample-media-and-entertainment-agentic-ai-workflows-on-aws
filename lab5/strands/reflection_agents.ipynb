{
 "cells": [
  {
   "cell_type": "markdown",
   "metadata": {},
   "source": [
    "## Building a Reflection Agent using Strands Agent SDK\n",
    "\n",
    "This notebook demonstrates how to build a multi-agent system using Amazon Bedrock and the Strands framework. The system consists of specialized agents that work together to create and refine PR (Public Relations) articles for movies or shows. The notebook showcases agent collaboration, knowledge base integration, and reflection capabilities.\n",
    "\n",
    "To learn more about Strands Agent SDK, please follow this [link](https://strandsagents.com/latest/)\n",
    "\n",
    "Let's get started!\n",
    "\n"
   ]
  },
  {
   "cell_type": "markdown",
   "metadata": {},
   "source": [
    "## Environment Setup\n",
    "\n",
    "### Loading Environment Variables"
   ]
  },
  {
   "cell_type": "code",
   "execution_count": null,
   "metadata": {},
   "outputs": [],
   "source": [
    "import logging\n",
    "\n",
    "# Configure the root strands logger\n",
    "logging.getLogger(\"strands\").setLevel(logging.INFO)\n",
    "\n",
    "# Add a handler to see the logs\n",
    "logging.basicConfig(\n",
    "    format=\"%(levelname)s | %(name)s | %(message)s\", \n",
    "    handlers=[logging.StreamHandler()])"
   ]
  },
  {
   "cell_type": "markdown",
   "metadata": {},
   "source": [
    "## AWS Service Setup"
   ]
  },
  {
   "cell_type": "code",
<<<<<<< HEAD
   "execution_count": 2,
=======
   "execution_count": null,
>>>>>>> 382873506206216eff843c899cdadddc15d12e8a
   "metadata": {},
   "outputs": [],
   "source": [
    "import boto3\n",
    "\n",
    "sts_client = boto3.client('sts')\n",
    "session = boto3.session.Session()\n",
    "\n",
    "account_id = sts_client.get_caller_identity()[\"Account\"]\n",
    "region = session.region_name\n",
    "\n",
    "bedrock_client = boto3.client('bedrock-runtime', region)"
   ]
  },
  {
   "cell_type": "markdown",
   "metadata": {},
   "source": [
    "## Knowledge Bases for Bedrock Setup"
   ]
  },
  {
   "cell_type": "code",
<<<<<<< HEAD
   "execution_count": 3,
=======
   "execution_count": null,
>>>>>>> 382873506206216eff843c899cdadddc15d12e8a
   "metadata": {},
   "outputs": [],
   "source": [
    "import sys\n",
    "import uuid\n",
    "\n",
    "sys.path.insert(0, \".\")\n",
    "sys.path.insert(1, \"..\")\n",
    "sys.path.insert(2, \"../..\")\n",
    "\n",
    "from utils.knowledge_base_helper import (\n",
    "    KnowledgeBasesForAmazonBedrock, upload_directory\n",
    ")\n",
    "kb = KnowledgeBasesForAmazonBedrock()"
   ]
  },
  {
   "cell_type": "markdown",
   "metadata": {},
   "source": [
    "### Knowledge Base Configuration"
   ]
  },
  {
   "cell_type": "code",
   "execution_count": null,
   "metadata": {},
   "outputs": [],
   "source": [
    "knowledge_base_name = f'pr-agent-kb-{str(uuid.uuid4())[:5]}'\n",
    "knowledge_base_description = \"KB containing information about pristine PR articles\"\n",
    "s3_bucket_name = f\"labs-bucket-{region}-{account_id}\"\n",
    "bucket_prefix = \"data/kb/reflection/\""
   ]
  },
  {
   "cell_type": "markdown",
   "metadata": {},
   "source": [
    "### Creating the Knowledge Base\n",
    "This code below creates a new knowledge base or retrieves an existing one with the specified configuration. \n",
    "It uses Amazon Titan embedding v2 model to encode the text into vector embeddings. "
   ]
  },
  {
   "cell_type": "code",
   "execution_count": null,
   "metadata": {},
   "outputs": [],
   "source": [
    "kb_id, ds_id = kb.create_or_retrieve_knowledge_base(\n",
    "    knowledge_base_name,\n",
    "    knowledge_base_description,\n",
    "    s3_bucket_name,\n",
    "    \"amazon.titan-embed-text-v2:0\",\n",
    "    bucket_prefix\n",
    ")\n",
    "\n",
    "print(f\"Knowledge Base ID: {kb_id}\")\n",
    "print(f\"Data Source ID: {ds_id}\")"
   ]
  },
  {
   "cell_type": "markdown",
   "metadata": {},
   "source": [
    "Uploads the sample PR articles to S3 location."
   ]
  },
  {
   "cell_type": "code",
   "execution_count": null,
   "metadata": {},
   "outputs": [],
   "source": [
    "upload_directory(\"../good_prs\", s3_bucket_name, bucket_prefix)"
   ]
  },
  {
   "cell_type": "markdown",
   "metadata": {},
   "source": [
    "synchronize the knowledge base with the S3 data"
   ]
  },
  {
   "cell_type": "code",
   "execution_count": null,
   "metadata": {},
   "outputs": [],
   "source": [
    "# sync knowledge base\n",
    "kb.synchronize_data(kb_id, ds_id)"
   ]
  },
  {
   "cell_type": "markdown",
   "metadata": {},
   "source": [
    "## Agent Tools Setup"
   ]
  },
  {
   "cell_type": "code",
   "execution_count": null,
   "metadata": {},
   "outputs": [],
   "source": [
    "from strands import Agent, tool\n",
    "from strands_tools import retrieve"
   ]
  },
  {
   "cell_type": "markdown",
   "metadata": {},
   "source": [
    "## PR Writer Agent Implementation\n",
    "The following code block creates a specialized agent for writing PR articles using a foundation model on Bedrock. \n",
    "Strands Agent SDK provides a @tool decorator to make it easy for developers to create tools. \n",
    "Detailed descriptions about the tool is embedded in the function description. The description is used by Strands Agent to determine the right tool to invoke within the agent loop. For more information about how to create tools, please refer to this [link](https://strandsagents.com/latest/user-guide/concepts/tools/tools_overview/)\n"
   ]
  },
  {
   "cell_type": "code",
   "execution_count": null,
   "metadata": {},
   "outputs": [],
   "source": [
    "@tool\n",
    "def pr_writer_agent(query: str) -> str:\n",
    "    \"\"\"\n",
    "    Writes a public relation article (PR) content based on the instructions given in the query.\n",
    "\n",
    "    Use this tool when you need to write a PR article given an outline, or rewriting an article to incorporate the feedback from a reviewer. \n",
    "    \n",
    "    Args:\n",
    "        query: the instructions to write the PR article.\n",
    "\n",
    "    Returns:\n",
    "        A PR article in markdown format.\n",
    "    \"\"\"\n",
    "    print(\"PR Writer agent...\")\n",
    "    \n",
    "    pr_writer = Agent(\n",
    "        model=\"us.amazon.nova-pro-v1:0\",\n",
    "        system_prompt=f\"\"\"You are to write a PR article for an upcoming show/movie based on the user request, and an optional recommended changes.\n",
    "\n",
    "When writing the PR article, you should follow the following guidelines:\n",
    "\n",
    "1. Headline: Capture Attention & Key Details - Be Concise & Informative: Use active verbs like \"announces,\" \"debuts,\" or \"unveils.\" Include the title, release date/platform, and a hook (e.g., talent or franchise ties).\n",
    "Example: \"A24 Reveals Trailer for Horror Thriller ‘Nightfall’ Starring Florence Pugh, Premiering October 2024.\"\n",
    "Highlight Exclusives: If applicable, note premieres at festivals (e.g., \"Sundance 2025 Official Selection\").\n",
    "\n",
    "2. Lead Paragraph: The 5 Ws - Summarize Who (studio, talent), What (title, genre), When (release date), Where (platforms/theaters), and Why (unique angle, legacy, or cultural relevance).\n",
    "Example: \"Marvel Studios’ ‘Avengers: Legacy,’ directed by Ryan Coogler, will premiere in theaters globally on May 3, 2025, marking the MCU’s first reboot of the iconic franchise.\"\n",
    "\n",
    "3. Key Content Elements - Synopsis: Offer a 1–2 paragraph teaser without spoilers. Emphasize uniqueness (e.g., \"a dystopian love story set in 2140’s AI-dominated society\").\n",
    "Talent & Production Credentials: Highlight A-list actors, acclaimed directors, or award-winning crews. Mention prior successes (e.g., \"From the Oscar-winning producer of Parasite\").\n",
    "Behind-the-Scenes (BTS) Insights: Share filming locations, technical innovations, or adaptations (e.g., \"Shot in Iceland using cutting-edge VR cinematography\").\n",
    "\n",
    "4. Quotes: Add Authenticity - Source quotes from directors, leads, or producers that convey passion or vision.\n",
    "Example: \"‘This film redefines resilience,’ says director Jordan Peele. ‘We’re blending horror with social commentary in ways audiences haven’t seen.’\"\n",
    "\n",
    "5. Multimedia & Links - Embed or link to trailers, stills, and BTS content. Provide access to a password-protected media kit with HD assets.\n",
    "Include official social handles and hashtags (e.g., #NightfallMovie).\n",
    "\n",
    "6. Tailor for Target Audiences - Trade Outlets (Deadline, Variety): Focus on box office prospects, production budgets, or industry trends.\n",
    "Lifestyle/Cultural Press (Vulture, Rolling Stone): Highlight themes, fashion, or soundtracks.\n",
    "Local Media: Tie in filming locations or local talent.\n",
    "\n",
    "7. SEO & Discoverability - Use keywords: Title, cast names, genre, and phrases like \"upcoming sci-fi movies 2025.\"\n",
    "Link to official sites or prior related content (e.g., a franchise’s timeline).\n",
    "\n",
    "8. Logistics & Contact Info - Clearly state release platforms (e.g., \"Streaming exclusively on Netstream starting November 12\").\n",
    "List premiere events or fan screenings.\n",
    "Provide media contacts: Name, email, phone, and PR firm.\n",
    "\n",
    "9. Professional Polish - Proofread: Ensure dates, names, and titles are error-free.\n",
    "Tone: Match the project’s vibe (e.g., playful for comedies, sleek for action).\n",
    "Style Guide: Adhere to outlet-specific rules (e.g., AP style).\n",
    "\n",
    "10. Follow-Up & Amplification - Pitch Exclusives: Offer early access to trailers or interviews for top-tier outlets.\n",
    "Post-Release: Monitor coverage, engage on social media, and update with new assets (e.g., poster drops).\n",
    "\n",
    "You also have access to a knowledge base tool that contains pristine, high quality PRs that have been published in the past. You should use the knowledge base in assisting with the writing.\n",
    "The knowledge base ID you have acess to is {kb_id} and region is {region}.\n",
    "\"\"\",\n",
    "        tools=[retrieve],\n",
    "        callback_handler=None\n",
    "    )\n",
    "    return str(pr_writer(query))"
   ]
  },
  {
   "cell_type": "markdown",
   "metadata": {},
   "source": [
    "Testing the PR Writer Agent\n",
    "The following code block tests the PR writer agent with a sample query.\n"
   ]
  },
  {
   "cell_type": "code",
   "execution_count": null,
   "metadata": {},
   "outputs": [],
   "source": [
    "query = \"\"\"Write a PR news for an upcoming movie given the following information: \n",
    "\n",
    "Title: Midnight Vendetta\n",
    "Tagline: “When the clock strikes twelve, justice wears no mask.”\n",
    "Genre: Action/Thriller\n",
    "Release Date: November 22, 2025 (Theatrical & IMAX)\n",
    "\n",
    "Logline:\n",
    "A disgraced former MI6 agent infiltrates a glittering Dubai masquerade ball to dismantle a trillion-dollar cyberweapons syndicate—but must confront his deadliest enemy: the traitor who framed him for murder.\n",
    "\n",
    "Key Production/Cast Details:\n",
    "Director: David Leitch (Atomic Blonde, Bullet Train)—promises “brutally elegant fight choreography blending Bourne-style close combat with Dubai’s opulent settings.”\n",
    "Studio: Pika Pictures (Budget: $200M)\n",
    "Filming Locations: Dubai’s Burj Khalifa, Palm Jumeirah, and a custom-built 360-degree rotating ballroom set for the climactic fight.\n",
    "Soundtrack: Pulse-pounding score by Ludwig Göransson \n",
    "\"\"\""
   ]
  },
  {
   "cell_type": "markdown",
   "metadata": {},
   "source": [
    "Calls the PR writer agent with the sample query and prints the generated PR article."
   ]
  },
  {
   "cell_type": "code",
   "execution_count": null,
   "metadata": {},
   "outputs": [],
   "source": [
    "pr_writer_results = pr_writer_agent(query)\n",
    "print(pr_writer_results)"
   ]
  },
  {
   "cell_type": "markdown",
   "metadata": {},
   "source": [
    "## PR Review Agent Implementation\n",
    "The following code block creates another specialized Strands agent for reviewing PR articles, providing feedback based on clarity, specificity, technical accessibility, and other quality metrics.\n"
   ]
  },
  {
   "cell_type": "code",
   "execution_count": null,
   "metadata": {},
   "outputs": [],
   "source": [
    "@tool\n",
    "def pr_review_agent(article: str) -> str:\n",
    "    \"\"\"\n",
    "    Review a public relation article (PR) and provide feedback.\n",
    "\n",
    "    Use this tool when you need to review a PR article given a fully written PR article for improvement.\n",
    "\n",
    "    Args:\n",
    "        article: the article to be rviewed.\n",
    "\n",
    "    Returns:\n",
    "        Feedback about the article.\n",
    "    \"\"\"\n",
    "    \n",
    "    print(\"PR Review agent...\")\n",
    "    \n",
    "    pr_review_agent = Agent(\n",
    "        system_prompt=\"\"\"You are an AI assistant that performs a review for a given PR article and provide any feedback to improve the quality. \n",
    "As a PR article reviewer, you are given the specific guidelines to evaluate the quality of the document.\n",
    "\n",
    "1. Write in clear, crisp sentences.\" - long or confusing sentences as \"clunky\" when they're difficult for readers to understand.\n",
    "\n",
    "Here are the tips on to identify unclear sentences:\n",
    "\n",
    "- Sentences longer than 40 words or spanning more than two lines\n",
    "- Sentences that require multiple readings to understand\n",
    "- Sentences with repeated words, especially \"and\" and \"to\"\n",
    "\n",
    "2. Be specific. Don't leave anything open to interpretation or leave your reader guessing. \n",
    "\n",
    "Here are some clues your sentence isn't specific enough: \n",
    "-  it contains qualitative or subjective adjectives and adverbs (like \"might,\" \"often,\" or \"may be\"), \n",
    "- it leaves the reader asking questions.\n",
    "\n",
    "Here are some ways to fix this problem: \n",
    "- clarify words or phrases that could be interpreted differently by different people, \n",
    "- use quantitative adjectives, like \"3X faster\" or \"50% more time\" where possible, and/or \n",
    "\n",
    "3. Write for a non-technical audience. Anyone should be able to understand your message without additional background information. Readers will often be left with questions if you've included concepts or undefined acronyms.\n",
    "\n",
    "Here are some clues your sentence might be too technical: \n",
    "- your reader is left with questions, \n",
    "- it contains abbreviations or acronyms that aren't defined, and/or \n",
    "- it describes technology that an average person would not understand.\n",
    "\n",
    "Here are some ways to fix this problem: \n",
    "3a. Include a short description of the show;\n",
    "3b. define acronyms if used in the article\n",
    "\n",
    "4. Proactively explain what makes a new show/movie interesting from similar existing show/movie. If there is any chance a reader might ask, \"Isn't this movie similar to X?\" then you need to address it. Avoid simply listing plots of the new movie.\n",
    "\n",
    "Here are some ways to fix this problem:\n",
    "- If there is an existing movie/show with similar plots as the new movie, address how they are different.\n",
    "\n",
    "5. Connect the dots in a story.  You should make it clear enough how plots are related.\n",
    "\n",
    "Here are some clues you're not connecting the dots: \n",
    "- your reader doesn't understand the plots you're writing about and/or \n",
    "\n",
    "Here is a way to fix this problem: \n",
    "Similar to unfolding the story, Have someone who hasn't heard of the story read the passage and ask them if it's clear to them and how everything is related.\n",
    "\n",
    "6. Be consistent in names and descriptions. Don't confuse your reader by switching between different names or introducing additional characters near the end of your PR. Stick to one name and don't stray from the main plots.\"\"\",\n",
    "callback_handler=None)\n",
    "    return str(pr_review_agent(article))\n",
    "    "
   ]
  },
  {
   "cell_type": "markdown",
   "metadata": {},
   "source": [
    "In the following, we test the PR review agent by passing result from the PR article generated by the writer agent, and prints the feedback."
   ]
  },
  {
   "cell_type": "code",
   "execution_count": null,
   "metadata": {},
   "outputs": [],
   "source": [
    "review_result = pr_review_agent(pr_writer_results)\n",
    "print(review_result)"
   ]
  },
  {
   "cell_type": "markdown",
   "metadata": {},
   "source": [
    "## PR Supervisor Agent Implementation\n",
    "Putting everything together. The following code block creates a supervisor agent that coordinates between the PR writer and reviewer agents to iteratively improve the PR article through multiple rounds of feedback.\n"
   ]
  },
  {
   "cell_type": "code",
   "execution_count": null,
   "metadata": {},
   "outputs": [],
   "source": [
    "pr_supervisor_agent = Agent(\n",
    "        model=\"us.amazon.nova-premier-v1:0\",\n",
    "        system_prompt=f\"\"\"You are a supervisor AI agent. You are given 2 agents capable of following tasks:\n",
    "\n",
    "1. PR Writer agent - Writes a draft of PR article based on the given instructions and/or recommendations.\n",
    "\n",
    "2. PR Reviewer agent - Reviews the PR article generated by the PR Writer agent to provide recommendation to improve the PR article.\n",
    "\n",
    "You are to leverage both the agents to work collaboratively and iteratively to arrive at the best version of the PR article. \n",
    "\n",
    "Here are the guidelines:\n",
    "- You should only iterate the draft and review iterations for maximum of 3 time before returning the final version of the PR article to the user. \n",
    "\n",
    "The final draft of the PR must be a complete version formatted in markdown in the final response. Do not provide any explanation in the final response, return only the final PR article in markdown format.\"\"\",\n",
    "        tools=[pr_writer_agent, pr_review_agent],\n",
    "        callback_handler=None\n",
    "    )"
   ]
  },
  {
   "cell_type": "markdown",
   "metadata": {},
   "source": [
    "## Running the Multi-Agent Workflow\n",
    "Runs the complete multi-agent workflow by passing the movie information to the supervisor agent, which coordinates the writing and review process."
   ]
  },
  {
   "cell_type": "code",
   "execution_count": null,
   "metadata": {},
   "outputs": [],
   "source": [
    "query = \"\"\"Write a PR news for an upcoming movie given the following information: \n",
    "Title: Midnight Vendetta\n",
    "Tagline: “When the clock strikes twelve, justice wears no mask.”\n",
    "Genre: Action/Thriller\n",
    "Release Date: November 22, 2025 (Theatrical & IMAX)\n",
    "\n",
    "Logline:\n",
    "A disgraced former MI6 agent infiltrates a glittering Dubai masquerade ball to dismantle a trillion-dollar cyberweapons syndicate—but must confront his deadliest enemy: the traitor who framed him for murder.\n",
    "\n",
    "Key Production/Cast Details:\n",
    "Director: David Leitch (Atomic Blonde, Bullet Train)—promises “brutally elegant fight choreography blending Bourne-style close combat with Dubai’s opulent settings.”\n",
    "Studio: Pika Pictures (Budget: $200M)\n",
    "Filming Locations: Dubai’s Burj Khalifa, Palm Jumeirah, and a custom-built 360-degree rotating ballroom set for the climactic fight.\n",
    "Soundtrack: Pulse-pounding score by Ludwig Göransson\"\"\"\n",
    "\n",
    "pr_final_result = pr_supervisor_agent(query)"
   ]
  },
  {
   "cell_type": "markdown",
   "metadata": {},
   "source": [
    "Prints the final PR article after multiple rounds of writing and review."
   ]
  },
  {
   "cell_type": "code",
   "execution_count": null,
   "metadata": {},
   "outputs": [],
   "source": [
    "print(str(pr_final_result))"
   ]
  },
  {
   "cell_type": "markdown",
   "metadata": {},
   "source": [
    "## Session and State\n",
    "Strands agents maintain conversation context, handle state management, and support persistent sessions across interactions.\n",
    "\n",
    "Strands agents maintain state in several forms:\n",
    "\n",
    "- Conversation History: The sequence of messages between the user and the agent\n",
    "- Tool State: Information about tool executions and results\n",
    "- Request State: Contextual information maintained within a single request\n",
    "\n",
    "The following code block prints the conversation history for the agent interactions processed in the previous step."
   ]
  },
  {
   "cell_type": "code",
   "execution_count": null,
   "metadata": {},
   "outputs": [],
   "source": [
    "pr_supervisor_agent.messages"
   ]
  }
 ],
 "metadata": {
  "kernelspec": {
   "display_name": "Python 3 (ipykernel)",
   "language": "python",
   "name": "python3"
  },
  "language_info": {
   "codemirror_mode": {
    "name": "ipython",
    "version": 3
   },
   "file_extension": ".py",
   "mimetype": "text/x-python",
   "name": "python",
   "nbconvert_exporter": "python",
   "pygments_lexer": "ipython3",
   "version": "3.10.14"
  }
 },
 "nbformat": 4,
 "nbformat_minor": 4
}
