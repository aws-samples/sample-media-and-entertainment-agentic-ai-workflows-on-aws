{
 "cells": [
  {
   "cell_type": "markdown",
   "metadata": {},
   "source": [
    "# PR Reviewer Agent\n",
    "The core functionality of a reflection agent is to perform evaluation and refinement of the output through a feedback loop. In our first notebook, we implemented a (Press Release) PR generator agent responsible for drafting PRs. In this notebook, we are implementing a PR reviewer agent that critically evaluates the generated output, identifying potential errors, inconsistencies, or areas for improvement. During this phase, the agent acts as its own critic, scrutinizing the quality, accuracy, and appropriateness of its response.\n",
    "\n",
    "The following diagram highlights the PR reviewer agent in the Agentic AI architecture for the PR generation workflow:\n",
    "\n",
    "<img src=\"../imgs/pr-reflection-agent-reviewer.png\" width=\"600\">\n",
    "\n",
    "Let's get started!"
   ]
  },
  {
   "cell_type": "markdown",
   "metadata": {},
   "source": "First we restore variables from the previous notebook"
  },
  {
   "cell_type": "code",
   "execution_count": null,
   "metadata": {},
   "outputs": [],
   "source": [
    "%store -r"
   ]
  },
  {
   "cell_type": "markdown",
   "metadata": {},
   "source": [
    "## Create a PR Reviewer Agent using Amazon Bedrock Agent\n",
    "In this section we declare global variables that will act as helpers during entire notebook."
   ]
  },
  {
   "cell_type": "code",
   "execution_count": null,
   "metadata": {},
   "outputs": [],
   "source": [
    "import boto3\n",
    "\n",
    "sts_client = boto3.client('sts')\n",
    "session = boto3.session.Session()\n",
    "\n",
    "account_id = sts_client.get_caller_identity()[\"Account\"]\n",
    "region = session.region_name\n",
    "\n",
    "s3_client = boto3.client('s3', region)\n",
    "bedrock_client = boto3.client('bedrock-runtime', region)\n",
    "\n",
    "agent_foundation_model = [\n",
    "    'us.amazon.nova-pro-v1:0'\n",
    "]"
   ]
  },
  {
   "cell_type": "markdown",
   "metadata": {},
   "source": [
    "## Importing helper functions\n",
    "In the following section, we're adding bedrock_agent_helper.py and knowledge_base_helper on Python path, so the files can be recognized and their functionalities can be invoked.\n",
    "\n",
    "In general, the helper functions handle common tasks including agent creation, Knowledge Bases for Bedrock creation, and accessing data in S3."
   ]
  },
  {
   "cell_type": "code",
   "execution_count": null,
   "metadata": {},
   "outputs": [],
   "source": [
    "import sys\n",
    "\n",
    "sys.path.insert(0, \".\")\n",
    "sys.path.insert(1, \"..\")\n",
    "\n",
    "from utils.bedrock_agent_helper import (\n",
    "    AgentsForAmazonBedrock\n",
    ")\n",
    "from utils.knowledge_base_helper import (\n",
    "    KnowledgeBasesForAmazonBedrock\n",
    ")\n",
    "agents = AgentsForAmazonBedrock()"
   ]
  },
  {
   "cell_type": "markdown",
   "metadata": {},
   "source": [
    "## PR Reviewer Agent\n",
    "Create the PR reviewer agent to provide a thorough review and provide feedback for the given PR article. \n",
    "\n",
    "We will provide the following instructions to our agent:\n",
    "```\n",
    "You are an AI assistant agent that performs a review for a given PR article. \n",
    "As a PR article reviewer, you are given the specific guidelines to evaluate the quality of the document.\n",
    "\n",
    "1. Write in clear, crisp sentences.\" - long or confusing sentences as \"clunky\" when they're difficult for readers to understand.\n",
    "\n",
    "Here are the tips on to identify unclear sentences:\n",
    "\n",
    "- Sentences longer than 40 words or spanning more than two lines\n",
    "- Sentences that require multiple readings to understand\n",
    "- Sentences with repeated words, especially \"and\" and \"to\"\n",
    "\n",
    "2. Be specific. Don't leave anything open to interpretation or leave your reader guessing. \n",
    "\n",
    "Here are some clues your sentence isn't specific enough: \n",
    "-  it contains qualitative or subjective adjectives and adverbs (like \"might,\" \"often,\" or \"may be\"), \n",
    "- it leaves the reader asking questions.\n",
    "\n",
    "Here are some ways to fix this problem: \n",
    "- clarify words or phrases that could be interpreted differently by different people, \n",
    "- use quantitative adjectives, like \"3X faster\" or \"50% more time\" where possible, and/or \n",
    "\n",
    "3. Write for a non-technical audience. Anyone should be able to understand your message without additional background information. Readers will often be left with questions if you've included concepts or undefined acronyms.\n",
    "\n",
    "Here are some clues your sentence might be too technical: \n",
    "- your reader is left with questions, \n",
    "- it contains abbreviations or acronyms that aren't defined, and/or \n",
    "- it describes technology that an average person would not understand.\n",
    "\n",
    "Here are some ways to fix this problem: \n",
    "3a. Include a short description of the show;\n",
    "3b. define acronyms if used in the article\n",
    "\n",
    "4. Proactively explain what makes a new show/movie interesting from similar existing show/movie. If there is any chance a reader might ask, \"Isn't this movie similar to X?\" then you need to address it. Avoid simply listing plots of the new movie.\n",
    "\n",
    "Here are some ways to fix this problem:\n",
    "- If there is an existing movie/show with similar plots as the new movie, address how they are different.\n",
    "\n",
    "5. Connect the dots in a story.  You should make it clear enough how plots are related.\n",
    "\n",
    "Here are some clues you're not connecting the dots: \n",
    "- your reader doesn't understand the plots you're writing about and/or \n",
    "\n",
    "Here is a way to fix this problem: \n",
    "Similar to unfolding the story, Have someone who hasn't heard of the story read the passage and ask them if it's clear to them and how everything is related.\n",
    "\n",
    "6. Be consistent in names and descriptions. Don't confuse your reader by switching between different names or introducing additional characters near the end of your PR. Stick to one name and don't stray from the main plots.\n",
    "```"
   ]
  },
  {
   "cell_type": "code",
   "execution_count": null,
   "metadata": {},
   "outputs": [],
   "source": [
    "agent_description = \"\"\"You are a professional PR article reviewer agent. You review PR articles for an upcoming release of new movie/shows and provides critiques and suggestions on how to improve the given article.\"\"\"\n",
    "agent_instruction = \"\"\"You are an AI assistant agent that performs a review for a given PR article and provide any feedback to improve the quality. \n",
    "As a PR article reviewer, you are given the specific guidelines to evaluate the quality of the document.\n",
    "\n",
    "1. Write in clear, crisp sentences.\" - long or confusing sentences as \"clunky\" when they're difficult for readers to understand.\n",
    "\n",
    "Here are the tips on to identify unclear sentences:\n",
    "\n",
    "- Sentences longer than 40 words or spanning more than two lines\n",
    "- Sentences that require multiple readings to understand\n",
    "- Sentences with repeated words, especially \"and\" and \"to\"\n",
    "\n",
    "2. Be specific. Don't leave anything open to interpretation or leave your reader guessing. \n",
    "\n",
    "Here are some clues your sentence isn't specific enough: \n",
    "-  it contains qualitative or subjective adjectives and adverbs (like \"might,\" \"often,\" or \"may be\"), \n",
    "- it leaves the reader asking questions.\n",
    "\n",
    "Here are some ways to fix this problem: \n",
    "- clarify words or phrases that could be interpreted differently by different people, \n",
    "- use quantitative adjectives, like \"3X faster\" or \"50% more time\" where possible, and/or \n",
    "\n",
    "3. Write for a non-technical audience. Anyone should be able to understand your message without additional background information. Readers will often be left with questions if you've included concepts or undefined acronyms.\n",
    "\n",
    "Here are some clues your sentence might be too technical: \n",
    "- your reader is left with questions, \n",
    "- it contains abbreviations or acronyms that aren't defined, and/or \n",
    "- it describes technology that an average person would not understand.\n",
    "\n",
    "Here are some ways to fix this problem: \n",
    "3a. Include a short description of the show;\n",
    "3b. define acronyms if used in the article\n",
    "\n",
    "4. Proactively explain what makes a new show/movie interesting from similar existing show/movie. If there is any chance a reader might ask, \"Isn't this movie similar to X?\" then you need to address it. Avoid simply listing plots of the new movie.\n",
    "\n",
    "Here are some ways to fix this problem:\n",
    "- If there is an existing movie/show with similar plots as the new movie, address how they are different.\n",
    "\n",
    "5. Connect the dots in a story.  You should make it clear enough how plots are related.\n",
    "\n",
    "Here are some clues you're not connecting the dots: \n",
    "- your reader doesn't understand the plots you're writing about and/or \n",
    "\n",
    "Here is a way to fix this problem: \n",
    "Similar to unfolding the story, Have someone who hasn't heard of the story read the passage and ask them if it's clear to them and how everything is related.\n",
    "\n",
    "6. Be consistent in names and descriptions. Don't confuse your reader by switching between different names or introducing additional characters near the end of your PR. Stick to one name and don't stray from the main plots.\"\"\"\n"
   ]
  },
  {
   "cell_type": "code",
   "execution_count": null,
   "metadata": {},
   "outputs": [],
   "source": [
    "pr_reviewer_agent_name = \"pr_reviewer_agent\"\n",
    "pr_reviewer_agent = agents.create_agent(\n",
    "    pr_reviewer_agent_name,\n",
    "    agent_description,\n",
    "    agent_instruction,\n",
    "    agent_foundation_model,\n",
    "    code_interpretation=False\n",
    ")\n",
    "\n",
    "pr_reviewer_agent\n"
   ]
  },
  {
   "cell_type": "code",
   "execution_count": null,
   "metadata": {},
   "outputs": [],
   "source": [
    "pr_reviewer_agent"
   ]
  },
  {
   "cell_type": "markdown",
   "metadata": {},
   "source": "Prepare the agent so that it can be invoked."
  },
  {
   "cell_type": "code",
   "execution_count": null,
   "metadata": {},
   "outputs": [],
   "source": [
    "agents.prepare(pr_reviewer_agent_name)"
   ]
  },
  {
   "cell_type": "markdown",
   "metadata": {},
   "source": [
    "## Testing the Agent\n",
    "At this point, you have successfully created a PR reviewer agent with given instructions. \n",
    "Next, we'll test the agent independently to verify that the agent follows the directions and works as intended. \n",
    "To do so we will use the default alias created: `TSTALIASID` which allows you to invoke a draft version of your agent"
   ]
  },
  {
   "cell_type": "code",
   "execution_count": null,
   "metadata": {},
   "outputs": [],
   "source": [
    "%%time\n",
    "pr_reviewer_response = agents.invoke(\n",
    "    f\"\"\"Given the following PR article:\n",
    "\n",
    "{pr_draft_article}\n",
    "    \n",
    "Provide a thorough review and recommendation on how to improve the article.\n",
    "\"\"\", \n",
    "    pr_reviewer_agent[0], enable_trace=True,\n",
    "    trace_level = \"all\"\n",
    ")"
   ]
  },
  {
   "cell_type": "code",
   "execution_count": null,
   "metadata": {},
   "outputs": [],
   "source": [
    "print(pr_reviewer_response)"
   ]
  },
  {
   "cell_type": "markdown",
   "metadata": {},
   "source": [
    "## Create an Alias\n",
    "We've just completed a test query against the PR reviewer agent using the default alias `TSTALIASID`. \n",
    "\n",
    "The default Alias is a quick way to test out agents before integrating it into your application.\n",
    "When creating a multi-agent collaboration, it's required to create an Alias explicitly so that it can be used by other agents. This is to ensure the agent is tested, validated, and the functionality is as expected.\n",
    "Since we've tested and validated our agent, let's now create an alias for it:"
   ]
  },
  {
   "cell_type": "code",
   "execution_count": null,
   "metadata": {},
   "outputs": [],
   "source": [
    "pr_reviewer_alias_id, pr_reviewer_agent_alias_arn = agents.create_agent_alias(\n",
    "    pr_reviewer_agent[0], 'v1'\n",
    ")"
   ]
  },
  {
   "cell_type": "markdown",
   "metadata": {},
   "source": [
    "## Saving information\n",
    "Let's store the environment variables to be used in other labs."
   ]
  },
  {
   "cell_type": "code",
   "execution_count": null,
   "metadata": {},
   "outputs": [],
   "source": [
    "pr_reviewer_agent_arn = agents.get_agent_arn_by_name(pr_reviewer_agent_name)\n",
    "pr_reviewer_agent_id = pr_reviewer_agent[0]\n",
    "\n",
    "%store pr_reviewer_agent_arn\n",
    "%store pr_reviewer_agent_alias_arn\n",
    "%store pr_reviewer_alias_id\n",
    "%store pr_reviewer_agent_name\n",
    "%store pr_reviewer_agent_id"
   ]
  },
  {
   "cell_type": "code",
   "execution_count": null,
   "metadata": {},
   "outputs": [],
   "source": []
  }
 ],
 "metadata": {
  "kernelspec": {
   "display_name": "Python 3 (ipykernel)",
   "language": "python",
   "name": "python3"
  },
  "language_info": {
   "codemirror_mode": {
    "name": "ipython",
    "version": 3
   },
   "file_extension": ".py",
   "mimetype": "text/x-python",
   "name": "python",
   "nbconvert_exporter": "python",
   "pygments_lexer": "ipython3",
   "version": "3.12.9"
  }
 },
 "nbformat": 4,
 "nbformat_minor": 4
}
