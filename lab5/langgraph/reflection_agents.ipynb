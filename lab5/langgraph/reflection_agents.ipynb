{
 "cells": [
  {
   "cell_type": "markdown",
   "metadata": {},
   "source": [
    "# Building a PR Article Generation Application using Crew AI\n",
    "\n",
    "This notebook demonstrates how to build a multi-agent system using [Langgraph](https://github.com/langchain-ai/langgraph) for automated PR article generation. The system uses a reflection pattern with multiple specialized agents that collaborate to write, review, and refine PR articles.\n",
    "\n",
    "## Architecture Overview\n",
    "- **PR Writer Agent**: Creates initial article drafts based on outlines\n",
    "- **PR Reviewer Agent**: Reviews articles against quality guidelines\n",
    "- **Supervisor Agent**: Orchestrates the workflow between agents\n",
    "\n",
    "The following diagram depicts the overall architecture and the worklfow:\n",
    "\n",
    "<img src=\"../../imgs/lab5-langgraph-architecture.png\" width=\"800\"> \n",
    "\n",
    "\n",
    "The system leverages AWS Bedrock for LLM capabilities and Knowledge Bases for retrieving examples of high-quality PR articles.\n",
    "\n",
    "\n",
    "\n",
    "\n"
   ]
  },
  {
   "cell_type": "markdown",
   "metadata": {},
   "source": [
    "Retrieves the variables from previous notebooks for context."
   ]
  },
  {
   "cell_type": "code",
   "execution_count": 1,
   "metadata": {
    "execution": {
     "iopub.execute_input": "2025-08-22T15:57:02.990034Z",
     "iopub.status.busy": "2025-08-22T15:57:02.989712Z",
     "iopub.status.idle": "2025-08-22T15:57:02.994693Z",
     "shell.execute_reply": "2025-08-22T15:57:02.994096Z",
     "shell.execute_reply.started": "2025-08-22T15:57:02.990009Z"
    }
   },
   "outputs": [],
   "source": [
    "%store -r"
   ]
  },
  {
   "cell_type": "markdown",
   "metadata": {},
   "source": [
    "## AWS Service Setup\n",
    "\n",
    "In the following cell, we initializes AWS clients needed for the notebook:\n",
    "\n",
    "1. Creates an STS (Security Token Service) client to get the AWS account ID\n",
    "2. Initializes a boto3 session to determine the current AWS region\n",
    "3. Creates clients for Amazon S3 (for storage), Amazon Bedrock Runtime (for model inference), and Bedrock Agent Runtime\n",
    "4. Imports ChatBedrockConverse from langchain_aws for interacting with Bedrock models\n"
   ]
  },
  {
   "cell_type": "code",
   "execution_count": 2,
   "metadata": {
    "execution": {
     "iopub.execute_input": "2025-08-22T15:57:05.120189Z",
     "iopub.status.busy": "2025-08-22T15:57:05.119669Z",
     "iopub.status.idle": "2025-08-22T15:57:06.243904Z",
     "shell.execute_reply": "2025-08-22T15:57:06.243246Z",
     "shell.execute_reply.started": "2025-08-22T15:57:05.120163Z"
    }
   },
   "outputs": [],
   "source": [
    "import boto3\n",
    "from langchain_aws import ChatBedrockConverse\n",
    "from typing import Optional\n",
    "\n",
    "sts_client = boto3.client('sts')\n",
    "session = boto3.session.Session()\n",
    "\n",
    "account_id = sts_client.get_caller_identity()[\"Account\"]\n",
    "region = session.region_name\n",
    "\n",
    "s3_client = boto3.client('s3', region)\n",
    "bedrock_client = boto3.client('bedrock-runtime', region)\n",
    "bedrock_agent_runtime_client = boto3.client(\"bedrock-agent-runtime\", region)"
   ]
  },
  {
   "cell_type": "markdown",
   "metadata": {},
   "source": [
    "## Langraph State Definition\n",
    "At its core, LangGraph models agent workflows as graphs. The main component that allows communication between different nodes is done using State object.\n",
    "\n",
    "[State](https://langchain-ai.github.io/langgraph/concepts/low_level/#state) is a shared data structure that represents the current snapshot of the agentic AI application. A state It can be any Python type, but is typically a TypedDict or Pydantic BaseModel.\n",
    "\n",
    "Working with our example, we create a state object to keep track of the generated article and review feedback. Later, we'll use a supervisor agent to orchestrate the PR article generation workflow. Each subagent (i.e. PR Revieewr, PR Writer) would perform it's corresponding task and emits updates to the State object to indicate the results. Using a State object improves consistency when information are being passed between the supervisor agent and the subagents. \n",
    "\n",
    "In particular, our State object consists of:\n",
    "\n",
    "- `feedback`: To store review feedback on PR articles\n",
    "- `article`: To store the PR article content\n",
    "- `messages` To store the message history through the interaction (inherited)"
   ]
  },
  {
   "cell_type": "code",
   "execution_count": 3,
   "metadata": {
    "execution": {
     "iopub.execute_input": "2025-08-22T15:57:06.323257Z",
     "iopub.status.busy": "2025-08-22T15:57:06.322861Z",
     "iopub.status.idle": "2025-08-22T15:57:06.374339Z",
     "shell.execute_reply": "2025-08-22T15:57:06.373730Z",
     "shell.execute_reply.started": "2025-08-22T15:57:06.323234Z"
    }
   },
   "outputs": [],
   "source": [
    "from langgraph.graph import MessagesState\n",
    "from langgraph.graph import StateGraph\n",
    "from langgraph.types import Command\n",
    "from langchain_core.tools import tool, InjectedToolCallId\n",
    "from typing import Annotated\n",
    "from langgraph.graph import StateGraph, MessagesState, START\n",
    "from langchain_core.messages import HumanMessage, SystemMessage, AIMessage, ToolMessage\n",
    "from langchain_core.tools import tool\n",
    "\n",
    "class CustomState(MessagesState):\n",
    "    feedback: str\n",
    "    article: str"
   ]
  },
  {
   "cell_type": "markdown",
   "metadata": {},
   "source": [
    "# Define Knowledge Bases as a tool\n",
    "In the following section, we define a function that will be served as a tool for our PR Writer. This tool provides the PR Writer with high quality examples of PR articles for specific genres. The PR Writer agent is configured to use this tool to get a reference of similar PR articles before writing a draft. "
   ]
  },
  {
   "cell_type": "code",
   "execution_count": 4,
   "metadata": {
    "execution": {
     "iopub.execute_input": "2025-08-22T15:57:07.437118Z",
     "iopub.status.busy": "2025-08-22T15:57:07.436795Z",
     "iopub.status.idle": "2025-08-22T15:57:07.441362Z",
     "shell.execute_reply": "2025-08-22T15:57:07.440607Z",
     "shell.execute_reply.started": "2025-08-22T15:57:07.437095Z"
    }
   },
   "outputs": [],
   "source": [
    "from langchain_aws.retrievers import AmazonKnowledgeBasesRetriever\n",
    "\n",
    "def invoke_kb(query: str, kb_id: str, region: str) -> str:\n",
    "    \"\"\"Invoke the knowledge base tool.\"\"\"\n",
    "    print(\"Retrieving from knowledge base...\")\n",
    "    bedrock_retriever = AmazonKnowledgeBasesRetriever(\n",
    "        knowledge_base_id=lab5_kb_id,\n",
    "        region_name = region,\n",
    "        retrieval_config={\"vectorSearchConfiguration\": {\"numberOfResults\": 4}},\n",
    "    )\n",
    "    results = \"\\n\".join([ x.page_content for x in bedrock_retriever.invoke(query) ])\n",
    "    return results\n"
   ]
  },
  {
   "cell_type": "markdown",
   "metadata": {},
   "source": [
    "## PR Writer Agent Setup\n",
    "The following cell setups a PR Writer agent as followed:\n",
    "\n",
    "1. Sets up the PR Writer agent by using a Bedrock foundation model (i.e. Amazon Nova Premier). \n",
    "2. Creates a detailed system prompt with guidelines for writing effective PR articles\n",
    "3. Creates a ReAct agent using the LangGraph `create_react_agent` function with:\n",
    "   - The specified LLM\n",
    "   - The knowledge base tool\n",
    "   - The detailed system prompt"
   ]
  },
  {
   "cell_type": "code",
   "execution_count": 12,
   "metadata": {
    "execution": {
     "iopub.execute_input": "2025-08-22T15:59:16.456610Z",
     "iopub.status.busy": "2025-08-22T15:59:16.456259Z",
     "iopub.status.idle": "2025-08-22T15:59:16.471298Z",
     "shell.execute_reply": "2025-08-22T15:59:16.470639Z",
     "shell.execute_reply.started": "2025-08-22T15:59:16.456585Z"
    }
   },
   "outputs": [],
   "source": [
    "from langchain_aws.retrievers import AmazonKnowledgeBasesRetriever\n",
    "from langgraph.prebuilt import create_react_agent\n",
    "from IPython.display import Image, display\n",
    "\n",
    "pr_writer_model_id = \"us.anthropic.claude-3-5-haiku-20241022-v1:0\"\n",
    "pr_writer_llm = ChatBedrockConverse(\n",
    "    model=pr_writer_model_id,\n",
    "    temperature=0.3,\n",
    "    max_tokens=None,\n",
    "    client=bedrock_client,\n",
    ")\n",
    "\n",
    "pr_writer_system_prompt_template = f\"\"\"You are to write a PR article for an upcoming show/movie based on the user request, and an optional recommended changes.\n",
    "\n",
    "When writing the PR article, you should follow the following guidelines:\n",
    "\n",
    "1. Headline: Capture Attention & Key Details - Be Concise & Informative: Use active verbs like \"announces,\" \"debuts,\" or \"unveils.\" Include the title, release date/platform, and a hook (e.g., talent or franchise ties).\n",
    "Example: \"A24 Reveals Trailer for Horror Thriller ‘Nightfall’ Starring Florence Pugh, Premiering October 2024.\"\n",
    "Highlight Exclusives: If applicable, note premieres at festivals (e.g., \"Sundance 2025 Official Selection\").\n",
    "\n",
    "2. Lead Paragraph: The 5 Ws - Summarize Who (studio, talent), What (title, genre), When (release date), Where (platforms/theaters), and Why (unique angle, legacy, or cultural relevance).\n",
    "Example: \"Marvel Studios’ ‘Avengers: Legacy,’ directed by Ryan Coogler, will premiere in theaters globally on May 3, 2025, marking the MCU’s first reboot of the iconic franchise.\"\n",
    "\n",
    "3. Key Content Elements - Synopsis: Offer a 1–2 paragraph teaser without spoilers. Emphasize uniqueness (e.g., \"a dystopian love story set in 2140’s AI-dominated society\").\n",
    "Talent & Production Credentials: Highlight A-list actors, acclaimed directors, or award-winning crews. Mention prior successes (e.g., \"From the Oscar-winning producer of Parasite\").\n",
    "Behind-the-Scenes (BTS) Insights: Share filming locations, technical innovations, or adaptations (e.g., \"Shot in Iceland using cutting-edge VR cinematography\").\n",
    "\n",
    "You also have access to a knowledge base tool that contains pristine, high quality PRs that have been published in the past. You should use the knowledge base in assisting with the writing.\n",
    "The knowledge base ID you have acess to is {lab5_kb_id} and region is {region}.\n",
    "\n",
    "\n",
    "Finally, the article content should be in markdown format. Put the entire article content in a <article> XML tag. Do not provide any other text other than the article. \n",
    "\"\"\"\n",
    "\n",
    "pr_writer_agent = create_react_agent(\n",
    "    model=pr_writer_llm,\n",
    "    tools=[invoke_kb],\n",
    "    prompt=pr_writer_system_prompt_template,\n",
    "   name=\"pr_writer_agent\"\n",
    ")"
   ]
  },
  {
   "cell_type": "markdown",
   "metadata": {},
   "source": [
    "### Define PR Write node\n",
    "This cell defines the PR Writer node function that checks for any feedback exists in the state object (Populated by the PR Reviewer agent later), and perform the PR writing task. Notice the agent updates the state with the generated article. This step is to ensure the PR Reviewer has access to the PR article generated by this agent. "
   ]
  },
  {
   "cell_type": "code",
   "execution_count": 13,
   "metadata": {
    "execution": {
     "iopub.execute_input": "2025-08-22T15:59:19.995286Z",
     "iopub.status.busy": "2025-08-22T15:59:19.994992Z",
     "iopub.status.idle": "2025-08-22T15:59:20.000307Z",
     "shell.execute_reply": "2025-08-22T15:59:19.999549Z",
     "shell.execute_reply.started": "2025-08-22T15:59:19.995264Z"
    }
   },
   "outputs": [],
   "source": [
    "def pr_writer(state: CustomState) -> Command:\n",
    "    \"\"\"PR writing tool that performs article writing.\n",
    "    \n",
    "    Args:\n",
    "        state: The state dictionary\n",
    "    \"\"\"\n",
    "    print(\"PR Writer....\")\n",
    "    if 'feedback' in state:\n",
    "        print(\"Feedback found...\")\n",
    "        feedback = state[\"feedback\"]\n",
    "        feedback_prompt = f\"\"\"Here's the feedback from the reviewer:\n",
    "---------\n",
    "{feedback}        \n",
    "---------\n",
    "        \"\"\"\n",
    "        pr_writing_message = {\"messages\": [{\"role\": \"user\", \"content\": feedback_prompt}]}\n",
    "        pr_writing_response = pr_writer_agent.invoke(pr_writing_message)\n",
    "        return Command(update={\n",
    "            \"article\": pr_writing_response[\"messages\"][-1].content,\n",
    "        })\n",
    "    else:\n",
    "        last_state_message = state[\"messages\"][-1].content\n",
    "        pr_writing_message = {\"messages\": [{\"role\": \"user\", \"content\": last_state_message}]}\n",
    "        pr_writing_response = pr_writer_agent.invoke(pr_writing_message)\n",
    "        return Command(update={ \"article\": pr_writing_response[\"messages\"][-1].content})\n"
   ]
  },
  {
   "cell_type": "markdown",
   "metadata": {},
   "source": [
    "Once the PR Writer agent is defined, we can start running some tests.\n",
    "We provide a test query for the PR Writer agent that contains information about an outline of a fictional movie including the title, tagline, genre, release date, logline, and key production details.\n"
   ]
  },
  {
   "cell_type": "code",
   "execution_count": 8,
   "metadata": {
    "execution": {
     "iopub.execute_input": "2025-08-22T15:57:49.843111Z",
     "iopub.status.busy": "2025-08-22T15:57:49.842765Z",
     "iopub.status.idle": "2025-08-22T15:57:49.846872Z",
     "shell.execute_reply": "2025-08-22T15:57:49.846145Z",
     "shell.execute_reply.started": "2025-08-22T15:57:49.843086Z"
    }
   },
   "outputs": [],
   "source": [
    "pr_writer_test_query = \"\"\"Write a PR news for an upcoming movie given the following outline: \n",
    "Title: Midnight Vendetta\n",
    "Tagline: “When the clock strikes twelve, justice wears no mask.”\n",
    "Genre: Action/Thriller\n",
    "Release Date: November 22, 2025 (Theatrical & IMAX)\n",
    "\n",
    "Logline:\n",
    "A disgraced former MI6 agent infiltrates a glittering Dubai masquerade ball to dismantle a trillion-dollar cyberweapons syndicate—but must confront his deadliest enemy: the traitor who framed him for murder.\n",
    "\n",
    "Key Production/Cast Details:\n",
    "Director: David Leitch (Atomic Blonde, Bullet Train)—promises “brutally elegant fight choreography blending Bourne-style close combat with Dubai’s opulent settings.”\n",
    "Studio: Pika Pictures (Budget: $200M)\n",
    "Filming Locations: Dubai’s Burj Khalifa, Palm Jumeirah, and a custom-built 360-degree rotating ballroom set for the climactic fight.\n",
    "Soundtrack: Pulse-pounding score by Ludwig Göransson \n",
    "\"\"\""
   ]
  },
  {
   "cell_type": "markdown",
   "metadata": {},
   "source": [
    "## Create Langgraph State Graph\n",
    "In Langgraph, a State Graph is a graph whose nodes communicate by reading and writing to a shared state. We prepare the agent graph by defining the graph nodes and edges. Finally, we compile the state graph into an agent graph to make it ready to invoke. "
   ]
  },
  {
   "cell_type": "code",
   "execution_count": 9,
   "metadata": {
    "execution": {
     "iopub.execute_input": "2025-08-22T15:57:51.749480Z",
     "iopub.status.busy": "2025-08-22T15:57:51.749145Z",
     "iopub.status.idle": "2025-08-22T15:57:51.755295Z",
     "shell.execute_reply": "2025-08-22T15:57:51.754524Z",
     "shell.execute_reply.started": "2025-08-22T15:57:51.749456Z"
    }
   },
   "outputs": [],
   "source": [
    "pr_writer_builder = StateGraph(CustomState)\n",
    "pr_writer_builder.add_node(\"pr_writer\", pr_writer)\n",
    "# define the flow explicitly\n",
    "pr_writer_builder.add_edge(START, \"pr_writer\")\n",
    "pr_writer_agent_graph = pr_writer_builder.compile( name=\"pr_writer\")\n"
   ]
  },
  {
   "cell_type": "markdown",
   "metadata": {},
   "source": [
    "Invoke the PR Writing agent and printing the results"
   ]
  },
  {
   "cell_type": "code",
   "execution_count": 10,
   "metadata": {
    "execution": {
     "iopub.execute_input": "2025-08-22T15:57:53.539986Z",
     "iopub.status.busy": "2025-08-22T15:57:53.539659Z",
     "iopub.status.idle": "2025-08-22T15:58:07.833824Z",
     "shell.execute_reply": "2025-08-22T15:58:07.833114Z",
     "shell.execute_reply.started": "2025-08-22T15:57:53.539963Z"
    }
   },
   "outputs": [
    {
     "name": "stdout",
     "output_type": "stream",
     "text": [
      "PR Writer....\n",
      "Retrieving from knowledge base...\n",
      "{'messages': [HumanMessage(content='Write a PR news for an upcoming movie given the following outline: \\nTitle: Midnight Vendetta\\nTagline: “When the clock strikes twelve, justice wears no mask.”\\nGenre: Action/Thriller\\nRelease Date: November 22, 2025 (Theatrical & IMAX)\\n\\nLogline:\\nA disgraced former MI6 agent infiltrates a glittering Dubai masquerade ball to dismantle a trillion-dollar cyberweapons syndicate—but must confront his deadliest enemy: the traitor who framed him for murder.\\n\\nKey Production/Cast Details:\\nDirector: David Leitch (Atomic Blonde, Bullet Train)—promises “brutally elegant fight choreography blending Bourne-style close combat with Dubai’s opulent settings.”\\nStudio: Pika Pictures (Budget: $200M)\\nFilming Locations: Dubai’s Burj Khalifa, Palm Jumeirah, and a custom-built 360-degree rotating ballroom set for the climactic fight.\\nSoundtrack: Pulse-pounding score by Ludwig Göransson \\n', additional_kwargs={}, response_metadata={}, id='60e0a54a-3416-4f58-a645-ba6edaa9eb25')], 'article': '<article>\\n# Pika Pictures Unveils High-Octane Spy Thriller \\'Midnight Vendetta\\' with David Leitch at the Helm\\n\\n**Dubai\\'s Glittering Underworld Becomes the Ultimate Battleground in $200M Action Spectacle**\\n\\nPika Pictures is set to electrify global audiences with \"Midnight Vendetta,\" a pulse-pounding action thriller directed by David Leitch that promises to redefine the international espionage genre. Scheduled for a theatrical and IMAX release on November 22, 2025, the film will transport viewers into a world of high-stakes intrigue against the breathtaking backdrop of Dubai\\'s most luxurious and dangerous landscapes.\\n\\n## A Masquerade of Vengeance\\n\\nIn this razor-sharp narrative, a disgraced former MI6 agent embarks on a mission of redemption and retribution, infiltrating a glittering masquerade ball to dismantle a trillion-dollar cyberweapons syndicate. The film\\'s tagline, \"When the clock strikes twelve, justice wears no mask,\" hints at the relentless pursuit of truth that drives the protagonist\\'s dangerous quest.\\n\\n## Behind the Spectacle: Precision and Passion\\n\\nAcclaimed director David Leitch, known for his visceral work in \"Atomic Blonde\" and \"Bullet Train,\" brings his signature style to \"Midnight Vendetta.\" Promising \"brutally elegant fight choreography,\" Leitch aims to blend the intense close-combat techniques reminiscent of the Bourne series with the opulent settings of Dubai\\'s most iconic locations.\\n\\n### Cinematic Landscape: Beyond Boundaries\\n\\nThe film\\'s ambitious production spans Dubai\\'s most recognizable landmarks, including:\\n- The towering Burj Khalifa\\n- The luxurious Palm Jumeirah\\n- A custom-built 360-degree rotating ballroom set designed for an unprecedented climactic fight sequence\\n\\nAdding to the film\\'s immersive experience, Grammy-winning composer Ludwig Göransson will deliver a pulse-pounding score that promises to elevate the film\\'s already intense narrative.\\n\\n## Production Details\\n\\n- **Studio**: Pika Pictures\\n- **Budget**: $200 Million\\n- **Release Platform**: Theatrical & IMAX\\n- **Release Date**: November 22, 2025\\n\\n\"Midnight Vendetta\" is not just a film—it\\'s a high-stakes journey into the heart of international espionage, where every moment could be the difference between justice and oblivion.\\n</article>'}\n"
     ]
    }
   ],
   "source": [
    "pr_writing_response = pr_writer_agent_graph.invoke({\"messages\": [{\"role\": \"user\", \"content\": pr_writer_test_query}]})\n",
    "print(pr_writing_response)"
   ]
  },
  {
   "cell_type": "markdown",
   "metadata": {},
   "source": [
    "Test with writing an article with review feedback, then prints the response to validate the output from the interaction."
   ]
  },
  {
   "cell_type": "code",
   "execution_count": 11,
   "metadata": {
    "execution": {
     "iopub.execute_input": "2025-08-22T15:58:07.835567Z",
     "iopub.status.busy": "2025-08-22T15:58:07.835274Z",
     "iopub.status.idle": "2025-08-22T15:58:22.583528Z",
     "shell.execute_reply": "2025-08-22T15:58:22.582787Z",
     "shell.execute_reply.started": "2025-08-22T15:58:07.835539Z"
    }
   },
   "outputs": [
    {
     "name": "stdout",
     "output_type": "stream",
     "text": [
      "PR Writer....\n",
      "Feedback found...\n",
      "Retrieving from knowledge base...\n",
      "{'messages': [HumanMessage(content='rewrite the article', additional_kwargs={}, response_metadata={}, id='0552abaa-a626-4e12-817b-4f1a91acf155')], 'feedback': '<feedback>\\n  - The press release is generally clear and engaging, but there are a few areas that could be improved for clarity and specificity.\\n  - The sentence \"When a trillion-dollar cyberweapons syndicate threatens global security, only one man stands between chaos and order: Alex Kane, a former spy framed for murder.\" is a bit clunky and could be split into two sentences for better readability.\\n  - The phrase \"a globe-trotting action thriller\" could be more specific. Consider adding details about the locations or the type of action sequences.\\n  - The sentence \"But as he navigates opulent ballrooms and high-stakes auctions, he discovers his deadliest enemy isn’t the cartel—it’s the ghost from his past who sold him out.\" could be simplified to avoid confusion.\\n  - The phrase \"Bourne-style intimacy with Mission: Impossible spectacle\" is quite technical and might not be clear to a non-technical audience. Consider explaining what this means in simpler terms.\\n  - The production budget of $200M is a good quantitative detail, but consider adding more specific information about the expected audience or box office expectations to give readers a clearer picture.\\n</feedback>', 'article': 'I\\'ll revise the press release to address the specific feedback points, making it more clear, concise, and engaging:\\n\\n<article>\\n# Universal Pictures Unveils High-Octane Spy Thriller \\'Rogue Protocol\\' Starring Chris Hemsworth\\n\\nUniversal Pictures has announced its upcoming global action thriller \"Rogue Protocol,\" set to explode into theaters worldwide on September 15, 2024. Directed by Justin Lin and starring Chris Hemsworth, the film promises a pulse-pounding narrative of betrayal, redemption, and international intrigue.\\n\\n## A Spy\\'s Last Stand\\n\\nAlex Kane\\'s world is about to unravel. A former elite intelligence operative framed for a murder he didn\\'t commit, Kane finds himself at the center of a dangerous global conspiracy. A trillion-dollar cyberweapons syndicate threatens international security, and he\\'s the only one who can stop them.\\n\\nThe film takes viewers on a breathtaking journey across multiple continents, from the neon-lit streets of Tokyo to the historic districts of Prague and the sun-baked landscapes of Dubai. Each location becomes a high-stakes battleground where Kane must outmaneuver sophisticated enemies using a combination of tactical intelligence and raw survival instinct.\\n\\n## Behind the Scenes\\n\\nWith a production budget of $200 million, \"Rogue Protocol\" represents a massive investment in cutting-edge action cinema. The film blends intimate hand-to-hand combat sequences with large-scale technological espionage, creating a unique visual experience that combines personal stakes with global consequences.\\n\\nChris Hemsworth brings his signature intensity to the role of Alex Kane, delivering a performance that balances physical prowess with emotional depth. Director Justin Lin, known for reinvigorating the \"Fast & Furious\" franchise, brings his expertise in crafting complex action narratives to this original spy thriller.\\n\\n\"This isn\\'t just another spy movie,\" says Lin. \"We\\'re exploring the human cost of global conflict, the thin line between justice and revenge, and how one person can make a difference in a world of complex moral shadows.\"\\n\\n## What to Expect\\n\\nAudiences can anticipate a film that transcends traditional spy genre boundaries. \"Rogue Protocol\" offers a visceral, intelligent thriller that combines the personal stakes of Jason Bourne with the global scope of Mission: Impossible, promising an adrenaline-fueled cinematic experience that will keep viewers on the edge of their seats.\\n\\n**\"Rogue Protocol\" arrives in theaters nationwide on September 15, 2024.**\\n</article>'}\n"
     ]
    }
   ],
   "source": [
    "test_feedback = \"\"\"<feedback>\n",
    "  - The press release is generally clear and engaging, but there are a few areas that could be improved for clarity and specificity.\n",
    "  - The sentence \"When a trillion-dollar cyberweapons syndicate threatens global security, only one man stands between chaos and order: Alex Kane, a former spy framed for murder.\" is a bit clunky and could be split into two sentences for better readability.\n",
    "  - The phrase \"a globe-trotting action thriller\" could be more specific. Consider adding details about the locations or the type of action sequences.\n",
    "  - The sentence \"But as he navigates opulent ballrooms and high-stakes auctions, he discovers his deadliest enemy isn’t the cartel—it’s the ghost from his past who sold him out.\" could be simplified to avoid confusion.\n",
    "  - The phrase \"Bourne-style intimacy with Mission: Impossible spectacle\" is quite technical and might not be clear to a non-technical audience. Consider explaining what this means in simpler terms.\n",
    "  - The production budget of $200M is a good quantitative detail, but consider adding more specific information about the expected audience or box office expectations to give readers a clearer picture.\n",
    "</feedback>\"\"\"\n",
    "test_article = pr_writing_response[\"article\"]\n",
    "pr_writing_response = pr_writer_agent_graph.invoke({\"messages\": [{\"role\": \"user\", \"content\": \"rewrite the article\"}], \"article\" : test_article, \"feedback\": test_feedback})\n",
    "print(pr_writing_response)"
   ]
  },
  {
   "cell_type": "markdown",
   "metadata": {},
   "source": [
    "## PR Review Agent Setup\n",
    "Similar to the PR Writer agent, we define a PR Review agent to perform review and provide feedback to improve the quality of the generated article. The agent is setup with:\n",
    "\n",
    "1. A foundation model (Nova Pro) from Amazon Bedrock\n",
    "2. Creates a system prompt with guidelines for reviewing PR articles, focusing on:\n",
    "   - Clear and crisp sentences\n",
    "   - Specificity\n",
    "   - Writing for a non-technical audience"
   ]
  },
  {
   "cell_type": "code",
   "execution_count": 14,
   "metadata": {
    "execution": {
     "iopub.execute_input": "2025-08-22T15:59:29.342237Z",
     "iopub.status.busy": "2025-08-22T15:59:29.341905Z",
     "iopub.status.idle": "2025-08-22T15:59:29.346438Z",
     "shell.execute_reply": "2025-08-22T15:59:29.345718Z",
     "shell.execute_reply.started": "2025-08-22T15:59:29.342212Z"
    }
   },
   "outputs": [],
   "source": [
    "pr_review_agent_model_id = \"us.amazon.nova-pro-v1:0\"\n",
    "pr_review_llm = ChatBedrockConverse(\n",
    "    model=pr_review_agent_model_id,  # or another Claude model\n",
    "    temperature=0.3,\n",
    "    max_tokens=None,\n",
    "    client=bedrock_client,\n",
    ")\n",
    "pr_reviewer_system_prompt = \"\"\"You are an AI assistant that performs a review for a given PR article and provide any feedback to improve the quality. \n",
    "As a PR article reviewer, you are given the specific guidelines to evaluate the quality of the document.\n",
    "\n",
    "1. Write in clear, crisp sentences.\" - long or confusing sentences as \"clunky\" when they're difficult for readers to understand.\n",
    "\n",
    "Here are the tips on to identify unclear sentences:\n",
    "\n",
    "- Sentences longer than 40 words or spanning more than two lines\n",
    "- Sentences that require multiple readings to understand\n",
    "- Sentences with repeated words, especially \"and\" and \"to\"\n",
    "\n",
    "2. Be specific. Don't leave anything open to interpretation or leave your reader guessing. \n",
    "\n",
    "Here are some clues your sentence isn't specific enough: \n",
    "- it contains qualitative or subjective adjectives and adverbs (like \"might,\" \"often,\" or \"may be\"), \n",
    "- it leaves the reader asking questions.\n",
    "\n",
    "Finally, provide your feedback in a <feedback> XML tag. Return only the feedback and nothing else.\n",
    "\"\"\""
   ]
  },
  {
   "cell_type": "markdown",
   "metadata": {},
   "source": [
    "## PR Reviewer Node Function\n",
    "In the following cell, we create a PR Reviewer node function that reads the state object for the article, and invoke a foundation model for review and feedback. Finally, the function returns a Command object with updates to the state with the feedback returned from the foundation model invocation.\n"
   ]
  },
  {
   "cell_type": "code",
   "execution_count": 15,
   "metadata": {
    "execution": {
     "iopub.execute_input": "2025-08-22T15:59:31.876145Z",
     "iopub.status.busy": "2025-08-22T15:59:31.875789Z",
     "iopub.status.idle": "2025-08-22T15:59:31.880550Z",
     "shell.execute_reply": "2025-08-22T15:59:31.879790Z",
     "shell.execute_reply.started": "2025-08-22T15:59:31.876120Z"
    }
   },
   "outputs": [],
   "source": [
    "def pr_reviewer(state: CustomState) -> Command:\n",
    "    \"\"\"PR review tool that performs review and provide feedback for the given article.\n",
    "    \n",
    "    Args:\n",
    "        tool_call_id: the id of the tool\n",
    "        state: The state dictionary\n",
    "    \"\"\"\n",
    "    print(\"PR Reviewer....\")\n",
    "    print(f\"custom state in PR Reviewer: {state}\")\n",
    "    if 'article' in state:\n",
    "        print(\"Article found...\")\n",
    "        article = state[\"article\"]\n",
    "        messages = [ \n",
    "        (\"system\", pr_reviewer_system_prompt),\n",
    "        (\"human\", f\"\"\"Review the given article: \n",
    "         \n",
    "                  {article}\n",
    "\n",
    "Return only the review feedback in <feedback> XML tag. Do not provide any other information.\"\"\")]\n",
    "        response = pr_review_llm.invoke(messages)\n",
    "        review_feedback = response.content\n",
    "        \n",
    "        return Command(update={\n",
    "            \"feedback\": review_feedback,\n",
    "        })\n"
   ]
  },
  {
   "cell_type": "markdown",
   "metadata": {},
   "source": [
    "## Create Graph for PR Reviewer.\n",
    "Similar to the PR Writer agent, we define PR Reviewer as a State graph by defining the graph nodes and edges. Finally, we compile the state graph into an agent graph to make it ready to invoke. "
   ]
  },
  {
   "cell_type": "code",
   "execution_count": 16,
   "metadata": {
    "execution": {
     "iopub.execute_input": "2025-08-22T15:59:34.699310Z",
     "iopub.status.busy": "2025-08-22T15:59:34.698980Z",
     "iopub.status.idle": "2025-08-22T15:59:34.704752Z",
     "shell.execute_reply": "2025-08-22T15:59:34.704035Z",
     "shell.execute_reply.started": "2025-08-22T15:59:34.699286Z"
    }
   },
   "outputs": [],
   "source": [
    "pr_reviewer_builder = StateGraph(CustomState)\n",
    "pr_reviewer_builder.add_node(\"pr_reviewer\", pr_reviewer)\n",
    "# define the flow explicitly\n",
    "pr_reviewer_builder.add_edge(START, \"pr_reviewer\")\n",
    "pr_reviewer_agent_graph = pr_reviewer_builder.compile( name=\"pr_reviewer\")"
   ]
  },
  {
   "cell_type": "markdown",
   "metadata": {},
   "source": [
    "Invokes the PR Reviewer graph with a synthetic article to review. The PR Reviewer analyzes the article and provides feedback."
   ]
  },
  {
   "cell_type": "code",
   "execution_count": 17,
   "metadata": {
    "execution": {
     "iopub.execute_input": "2025-08-22T15:59:35.475195Z",
     "iopub.status.busy": "2025-08-22T15:59:35.474869Z",
     "iopub.status.idle": "2025-08-22T15:59:39.411741Z",
     "shell.execute_reply": "2025-08-22T15:59:39.410986Z",
     "shell.execute_reply.started": "2025-08-22T15:59:35.475171Z"
    }
   },
   "outputs": [
    {
     "name": "stdout",
     "output_type": "stream",
     "text": [
      "PR Reviewer....\n",
      "custom state in PR Reviewer: {'messages': [HumanMessage(content='review the given article', additional_kwargs={}, response_metadata={}, id='f7483cd0-18f7-4d3e-936d-82ecc8ab5a67')], 'article': 'I\\'ll revise the press release to address the specific feedback points, making it more clear, concise, and engaging:\\n\\n<article>\\n# Universal Pictures Unveils High-Octane Spy Thriller \\'Rogue Protocol\\' Starring Chris Hemsworth\\n\\nUniversal Pictures has announced its upcoming global action thriller \"Rogue Protocol,\" set to explode into theaters worldwide on September 15, 2024. Directed by Justin Lin and starring Chris Hemsworth, the film promises a pulse-pounding narrative of betrayal, redemption, and international intrigue.\\n\\n## A Spy\\'s Last Stand\\n\\nAlex Kane\\'s world is about to unravel. A former elite intelligence operative framed for a murder he didn\\'t commit, Kane finds himself at the center of a dangerous global conspiracy. A trillion-dollar cyberweapons syndicate threatens international security, and he\\'s the only one who can stop them.\\n\\nThe film takes viewers on a breathtaking journey across multiple continents, from the neon-lit streets of Tokyo to the historic districts of Prague and the sun-baked landscapes of Dubai. Each location becomes a high-stakes battleground where Kane must outmaneuver sophisticated enemies using a combination of tactical intelligence and raw survival instinct.\\n\\n## Behind the Scenes\\n\\nWith a production budget of $200 million, \"Rogue Protocol\" represents a massive investment in cutting-edge action cinema. The film blends intimate hand-to-hand combat sequences with large-scale technological espionage, creating a unique visual experience that combines personal stakes with global consequences.\\n\\nChris Hemsworth brings his signature intensity to the role of Alex Kane, delivering a performance that balances physical prowess with emotional depth. Director Justin Lin, known for reinvigorating the \"Fast & Furious\" franchise, brings his expertise in crafting complex action narratives to this original spy thriller.\\n\\n\"This isn\\'t just another spy movie,\" says Lin. \"We\\'re exploring the human cost of global conflict, the thin line between justice and revenge, and how one person can make a difference in a world of complex moral shadows.\"\\n\\n## What to Expect\\n\\nAudiences can anticipate a film that transcends traditional spy genre boundaries. \"Rogue Protocol\" offers a visceral, intelligent thriller that combines the personal stakes of Jason Bourne with the global scope of Mission: Impossible, promising an adrenaline-fueled cinematic experience that will keep viewers on the edge of their seats.\\n\\n**\"Rogue Protocol\" arrives in theaters nationwide on September 15, 2024.**\\n</article>'}\n",
      "Article found...\n"
     ]
    },
    {
     "data": {
      "text/plain": [
       "{'messages': [HumanMessage(content='review the given article', additional_kwargs={}, response_metadata={}, id='f7483cd0-18f7-4d3e-936d-82ecc8ab5a67')],\n",
       " 'feedback': '<feedback>\\n- The sentence \"A former elite intelligence operative framed for a murder he didn\\'t commit, Kane finds himself at the center of a dangerous global conspiracy\" is a bit clunky. Consider splitting it into two sentences for clarity: \"A former elite intelligence operative framed for a murder he didn\\'t commit, Kane finds himself at the center of a dangerous global conspiracy.\"\\n- The phrase \"A trillion-dollar cyberweapons syndicate threatens international security, and he\\'s the only one who can stop them\" could be more specific. Clarify what the syndicate is doing and how Kane plans to stop them.\\n- The sentence \"The film takes viewers on a breathtaking journey across multiple continents, from the neon-lit streets of Tokyo to the historic districts of Prague and the sun-baked landscapes of Dubai\" is long. Consider breaking it into two: \"The film takes viewers on a breathtaking journey across multiple continents. From the neon-lit streets of Tokyo to the historic districts of Prague and the sun-baked landscapes of Dubai, each location becomes a high-stakes battleground where Kane must outmaneuver sophisticated enemies using a combination of tactical intelligence and raw survival instinct.\"\\n- The phrase \"combining personal stakes with global consequences\" is somewhat vague. Be more specific about how these elements are integrated into the film.\\n- The quote from Justin Lin is excellent but could be more concise. Consider trimming it to: \"We\\'re exploring the human cost of global conflict and how one person can make a difference in a world of complex moral shadows.\"\\n- The sentence \"Audiences can anticipate a film that transcends traditional spy genre boundaries\" is a bit vague. Specify what boundaries the film transcends.\\n</feedback>',\n",
       " 'article': 'I\\'ll revise the press release to address the specific feedback points, making it more clear, concise, and engaging:\\n\\n<article>\\n# Universal Pictures Unveils High-Octane Spy Thriller \\'Rogue Protocol\\' Starring Chris Hemsworth\\n\\nUniversal Pictures has announced its upcoming global action thriller \"Rogue Protocol,\" set to explode into theaters worldwide on September 15, 2024. Directed by Justin Lin and starring Chris Hemsworth, the film promises a pulse-pounding narrative of betrayal, redemption, and international intrigue.\\n\\n## A Spy\\'s Last Stand\\n\\nAlex Kane\\'s world is about to unravel. A former elite intelligence operative framed for a murder he didn\\'t commit, Kane finds himself at the center of a dangerous global conspiracy. A trillion-dollar cyberweapons syndicate threatens international security, and he\\'s the only one who can stop them.\\n\\nThe film takes viewers on a breathtaking journey across multiple continents, from the neon-lit streets of Tokyo to the historic districts of Prague and the sun-baked landscapes of Dubai. Each location becomes a high-stakes battleground where Kane must outmaneuver sophisticated enemies using a combination of tactical intelligence and raw survival instinct.\\n\\n## Behind the Scenes\\n\\nWith a production budget of $200 million, \"Rogue Protocol\" represents a massive investment in cutting-edge action cinema. The film blends intimate hand-to-hand combat sequences with large-scale technological espionage, creating a unique visual experience that combines personal stakes with global consequences.\\n\\nChris Hemsworth brings his signature intensity to the role of Alex Kane, delivering a performance that balances physical prowess with emotional depth. Director Justin Lin, known for reinvigorating the \"Fast & Furious\" franchise, brings his expertise in crafting complex action narratives to this original spy thriller.\\n\\n\"This isn\\'t just another spy movie,\" says Lin. \"We\\'re exploring the human cost of global conflict, the thin line between justice and revenge, and how one person can make a difference in a world of complex moral shadows.\"\\n\\n## What to Expect\\n\\nAudiences can anticipate a film that transcends traditional spy genre boundaries. \"Rogue Protocol\" offers a visceral, intelligent thriller that combines the personal stakes of Jason Bourne with the global scope of Mission: Impossible, promising an adrenaline-fueled cinematic experience that will keep viewers on the edge of their seats.\\n\\n**\"Rogue Protocol\" arrives in theaters nationwide on September 15, 2024.**\\n</article>'}"
      ]
     },
     "execution_count": 17,
     "metadata": {},
     "output_type": "execute_result"
    }
   ],
   "source": [
    "pr_reviewer_agent_graph.invoke({\"messages\": [{\"role\": \"user\", \"content\": \"review the given article\"}], \"article\": pr_writing_response[\"article\"]})"
   ]
  },
  {
   "cell_type": "markdown",
   "metadata": {},
   "source": [
    "# Supervisor Agent Setup\n",
    "In the following cell, we create a supervisor agent to manage the interactions between the PR Writer and PR Reviewer. The intent for the supervisor is to use reflection pattern to iteratively perform article writing and review feedback to improve the performance and accuracy of the PR article. Langgraph provides a prebuilt `supervisor agent` module. This is ideal for scenarios where no customizartion is required for the subagent. However, given we made modification to both the PR Writer and Reviwer agents, we'll create a supervisor step by step. The code is adapted from Langgraph supervisor example [here](https://langchain-ai.github.io/langgraph/tutorials/multi_agent/agent_supervisor/)"
   ]
  },
  {
   "cell_type": "code",
   "execution_count": 20,
   "metadata": {
    "execution": {
     "iopub.execute_input": "2025-08-22T16:00:10.477169Z",
     "iopub.status.busy": "2025-08-22T16:00:10.476822Z",
     "iopub.status.idle": "2025-08-22T16:00:10.502985Z",
     "shell.execute_reply": "2025-08-22T16:00:10.502229Z",
     "shell.execute_reply.started": "2025-08-22T16:00:10.477147Z"
    }
   },
   "outputs": [],
   "source": [
    "from langgraph.prebuilt import InjectedState\n",
    "\n",
    "def create_handoff_tool(*, agent_name: str, description: str | None = None):\n",
    "    name = f\"transfer_to_{agent_name}\"\n",
    "    description = description or f\"Ask {agent_name} for help.\"\n",
    "\n",
    "    @tool(name, description=description)\n",
    "    def handoff_tool(\n",
    "        state: Annotated[MessagesState, InjectedState],\n",
    "        tool_call_id: Annotated[str, InjectedToolCallId],\n",
    "    ) -> Command:\n",
    "        tool_message = {\n",
    "            \"role\": \"tool\",\n",
    "            \"content\": f\"Successfully transferred to {agent_name}\",\n",
    "            \"name\": name,\n",
    "            \"tool_call_id\": tool_call_id,\n",
    "        }\n",
    "        print(f\"calling handoff to : {agent_name}\")\n",
    "        print(f\"state: {state}\")\n",
    "        return Command(\n",
    "            goto=agent_name,  \n",
    "            update={**state, \"messages\": state[\"messages\"] + [tool_message]},  \n",
    "            graph=Command.PARENT,  \n",
    "        )\n",
    "\n",
    "    return handoff_tool\n",
    "\n",
    "\n",
    "# Handoffs\n",
    "assign_to_pr_writer_agent = create_handoff_tool(\n",
    "    agent_name=\"pr_writer\",\n",
    "    description=\"Assign task to a pr_writer agent.\",\n",
    ")\n",
    "\n",
    "assign_to_pr_reviewer_agent = create_handoff_tool(\n",
    "    agent_name=\"pr_reviewer\",\n",
    "    description=\"Assign task to a pr_reviewer agent.\",\n",
    ")\n",
    "\n",
    "supervisor_model_id = \"us.anthropic.claude-3-5-haiku-20241022-v1:0\"\n",
    "# supervisor_model_id = \"us.amazon.nova-premier-v1:0\"\n",
    "\n",
    "supervisor_llm = ChatBedrockConverse(\n",
    "    model=supervisor_model_id,  # or another Claude model\n",
    "    temperature=0.5,\n",
    "    max_tokens=None,\n",
    "    client=bedrock_client,\n",
    ")\n",
    "\n",
    "supervisor_agent = create_react_agent(\n",
    "    model=supervisor_llm,\n",
    "    tools=[assign_to_pr_writer_agent, assign_to_pr_reviewer_agent],\n",
    "    prompt=f\"\"\"You are a supervisor AI agent. You are given the following subagents capable of following tasks:\n",
    "\n",
    "1. pr_writer - Writes a PR article based on the given outline or rewrite a PR article based on the given feedback.\n",
    "\n",
    "2. pr_reviewer - Reviews the PR article generated by the pr_writer to provide recommendation to improve the PR article.\n",
    "\n",
    "You job is to delegate the writng and reviewing tasks to the given tools. Use these tool to write and review the article iteratively to arrive at the best version of the PR article. You should not make any changes to the articles.\n",
    "Once you have completed the final review of the article, return the final article to the user.\n",
    "\n",
    "Here are the guidelines:\n",
    "- You must first write a draft article using the writing tool before performing any reviews. \n",
    "- You should only iterate the PR writing and review iterations for maximum of 1 time before returning the final version of the PR article to the user. \n",
    "The final draft of the PR must be a complete version formatted in markdown in the final response. Do not provide any explanation in the final response, return only the final PR article in markdown format.\"\"\",\n",
    "    name=\"supervisor_agent\"\n",
    ")"
   ]
  },
  {
   "cell_type": "markdown",
   "metadata": {},
   "source": [
    "## Create a Multi Agent Graph\n",
    "Similar to the PR Writer and PR Reviewer agents, we used a StateGraph to define the graphs by adding each as a Node, and Edges to connect these agents: \n",
    "\n",
    "- The Supervisor agent with possible destinations to PR Writer, PR Reviewer, or END\n",
    "- The PR Reviewer agent graph\n",
    "- The PR Writer agent graph\n",
    "\n",
    "Once the graph is compiled, it'll be ready to use. \n",
    "In the example, we also displays a visual representation of the graph to better understand the relationships between the nodes.\n"
   ]
  },
  {
   "cell_type": "code",
   "execution_count": 21,
   "metadata": {
    "execution": {
     "iopub.execute_input": "2025-08-22T16:00:12.969614Z",
     "iopub.status.busy": "2025-08-22T16:00:12.969292Z",
     "iopub.status.idle": "2025-08-22T16:00:13.240585Z",
     "shell.execute_reply": "2025-08-22T16:00:13.239952Z",
     "shell.execute_reply.started": "2025-08-22T16:00:12.969592Z"
    }
   },
   "outputs": [
    {
     "data": {
      "image/png": "[encoded data removed]",
      "text/plain": [
       "<IPython.core.display.Image object>"
      ]
     },
     "metadata": {},
     "output_type": "display_data"
    }
   ],
   "source": [
    "from langgraph.graph import END\n",
    "\n",
    "builder = StateGraph(CustomState)\n",
    "builder.add_node(\"supervisor_agent\", supervisor_agent, destinations=(\"pr_writer\", \"pr_reviewer\", END))\n",
    "builder.add_node(\"pr_reviewer\", pr_reviewer_agent_graph)\n",
    "builder.add_node(\"pr_writer\", pr_writer_agent_graph)\n",
    "\n",
    "builder.add_edge(START, \"supervisor_agent\")\n",
    "builder.add_edge(\"pr_writer\", \"supervisor_agent\")\n",
    "builder.add_edge(\"pr_reviewer\", \"supervisor_agent\")\n",
    "graph = builder.compile()\n",
    "display(Image(graph.get_graph().draw_mermaid_png()))"
   ]
  },
  {
   "cell_type": "markdown",
   "metadata": {},
   "source": [
    "Defines a test query for the supervisor agent."
   ]
  },
  {
   "cell_type": "code",
   "execution_count": 22,
   "metadata": {
    "execution": {
     "iopub.execute_input": "2025-08-22T16:00:24.921560Z",
     "iopub.status.busy": "2025-08-22T16:00:24.921232Z",
     "iopub.status.idle": "2025-08-22T16:00:24.925027Z",
     "shell.execute_reply": "2025-08-22T16:00:24.924276Z",
     "shell.execute_reply.started": "2025-08-22T16:00:24.921537Z"
    }
   },
   "outputs": [],
   "source": [
    "query = \"\"\"Write a PR article for an upcoming movie. Here's an outline: \n",
    "\n",
    "Title: Midnight Vendetta\n",
    "Tagline: “When the clock strikes twelve, justice wears no mask.”\n",
    "Genre: Action/Thriller\n",
    "Release Date: November 22, 2025 (Theatrical & IMAX)\n",
    "\n",
    "Logline:\n",
    "A disgraced former MI6 agent infiltrates a glittering Dubai masquerade ball to dismantle a trillion-dollar cyberweapons syndicate—but must confront his deadliest enemy: the traitor who framed him for murder.\n",
    "\n",
    "Key Production/Cast Details:\n",
    "Director: David Leitch (Atomic Blonde, Bullet Train)—promises “brutally elegant fight choreography blending Bourne-style close combat with Dubai’s opulent settings.”\n",
    "Studio: Pika Pictures (Budget: $200M)\n",
    "Filming Locations: Dubai’s Burj Khalifa, Palm Jumeirah, and a custom-built 360-degree rotating ballroom set for the climactic fight.\n",
    "Soundtrack: Pulse-pounding score by Ludwig Göransson \n",
    "\"\"\""
   ]
  },
  {
   "cell_type": "markdown",
   "metadata": {},
   "source": [
    "Invoke the supervisor agent graph with the test query and prints the final PR article generated by the system after multiple rounds of writing and reviewing"
   ]
  },
  {
   "cell_type": "code",
   "execution_count": 23,
   "metadata": {
    "execution": {
     "iopub.execute_input": "2025-08-22T16:00:26.296534Z",
     "iopub.status.busy": "2025-08-22T16:00:26.296206Z",
     "iopub.status.idle": "2025-08-22T16:00:44.565503Z",
     "shell.execute_reply": "2025-08-22T16:00:44.564759Z",
     "shell.execute_reply.started": "2025-08-22T16:00:26.296511Z"
    }
   },
   "outputs": [
    {
     "name": "stdout",
     "output_type": "stream",
     "text": [
      "calling handoff to : pr_writer\n",
      "state: {'messages': [HumanMessage(content=\"Write a PR article for an upcoming movie. Here's an outline: \\n\\nTitle: Midnight Vendetta\\nTagline: “When the clock strikes twelve, justice wears no mask.”\\nGenre: Action/Thriller\\nRelease Date: November 22, 2025 (Theatrical & IMAX)\\n\\nLogline:\\nA disgraced former MI6 agent infiltrates a glittering Dubai masquerade ball to dismantle a trillion-dollar cyberweapons syndicate—but must confront his deadliest enemy: the traitor who framed him for murder.\\n\\nKey Production/Cast Details:\\nDirector: David Leitch (Atomic Blonde, Bullet Train)—promises “brutally elegant fight choreography blending Bourne-style close combat with Dubai’s opulent settings.”\\nStudio: Pika Pictures (Budget: $200M)\\nFilming Locations: Dubai’s Burj Khalifa, Palm Jumeirah, and a custom-built 360-degree rotating ballroom set for the climactic fight.\\nSoundtrack: Pulse-pounding score by Ludwig Göransson \\n\", additional_kwargs={}, response_metadata={}, id='ae51385e-2a5f-4780-ae27-a968b1f9ee66'), AIMessage(content=[{'type': 'text', 'text': 'I\\'ll help you create a PR article for \"Midnight Vendetta\" by first using the pr_writer tool to draft the article.'}, {'type': 'tool_use', 'name': 'transfer_to_pr_writer', 'input': {}, 'id': 'tooluse_pW1kBBfpTPikxgj9SjqUzA'}], additional_kwargs={}, response_metadata={'ResponseMetadata': {'RequestId': 'c5197e47-301e-4d31-843a-2383a97c2768', 'HTTPStatusCode': 200, 'HTTPHeaders': {'date': 'Fri, 22 Aug 2025 16:00:28 GMT', 'content-type': 'application/json', 'content-length': '510', 'connection': 'keep-alive', 'x-amzn-requestid': 'c5197e47-301e-4d31-843a-2383a97c2768'}, 'RetryAttempts': 0}, 'stopReason': 'tool_use', 'metrics': {'latencyMs': [1857]}, 'model_name': 'us.anthropic.claude-3-5-haiku-20241022-v1:0'}, name='supervisor_agent', id='run--9b29efec-c1f3-4fce-a3ce-4109c78a0203-0', tool_calls=[{'name': 'transfer_to_pr_writer', 'args': {}, 'id': 'tooluse_pW1kBBfpTPikxgj9SjqUzA', 'type': 'tool_call'}], usage_metadata={'input_tokens': 858, 'output_tokens': 70, 'total_tokens': 928, 'input_token_details': {'cache_creation': 0, 'cache_read': 0}})]}\n",
      "PR Writer....\n",
      "calling handoff to : pr_reviewer\n",
      "state: {'messages': [HumanMessage(content=\"Write a PR article for an upcoming movie. Here's an outline: \\n\\nTitle: Midnight Vendetta\\nTagline: “When the clock strikes twelve, justice wears no mask.”\\nGenre: Action/Thriller\\nRelease Date: November 22, 2025 (Theatrical & IMAX)\\n\\nLogline:\\nA disgraced former MI6 agent infiltrates a glittering Dubai masquerade ball to dismantle a trillion-dollar cyberweapons syndicate—but must confront his deadliest enemy: the traitor who framed him for murder.\\n\\nKey Production/Cast Details:\\nDirector: David Leitch (Atomic Blonde, Bullet Train)—promises “brutally elegant fight choreography blending Bourne-style close combat with Dubai’s opulent settings.”\\nStudio: Pika Pictures (Budget: $200M)\\nFilming Locations: Dubai’s Burj Khalifa, Palm Jumeirah, and a custom-built 360-degree rotating ballroom set for the climactic fight.\\nSoundtrack: Pulse-pounding score by Ludwig Göransson \\n\", additional_kwargs={}, response_metadata={}, id='ae51385e-2a5f-4780-ae27-a968b1f9ee66'), AIMessage(content=[{'type': 'text', 'text': 'I\\'ll help you create a PR article for \"Midnight Vendetta\" by first using the pr_writer tool to draft the article.'}, {'type': 'tool_use', 'name': 'transfer_to_pr_writer', 'input': {}, 'id': 'tooluse_pW1kBBfpTPikxgj9SjqUzA'}], additional_kwargs={}, response_metadata={'ResponseMetadata': {'RequestId': 'c5197e47-301e-4d31-843a-2383a97c2768', 'HTTPStatusCode': 200, 'HTTPHeaders': {'date': 'Fri, 22 Aug 2025 16:00:28 GMT', 'content-type': 'application/json', 'content-length': '510', 'connection': 'keep-alive', 'x-amzn-requestid': 'c5197e47-301e-4d31-843a-2383a97c2768'}, 'RetryAttempts': 0}, 'stopReason': 'tool_use', 'metrics': {'latencyMs': [1857]}, 'model_name': 'us.anthropic.claude-3-5-haiku-20241022-v1:0'}, name='supervisor_agent', id='run--9b29efec-c1f3-4fce-a3ce-4109c78a0203-0', tool_calls=[{'name': 'transfer_to_pr_writer', 'args': {}, 'id': 'tooluse_pW1kBBfpTPikxgj9SjqUzA', 'type': 'tool_call'}], usage_metadata={'input_tokens': 858, 'output_tokens': 70, 'total_tokens': 928, 'input_token_details': {'cache_creation': 0, 'cache_read': 0}}), ToolMessage(content='Successfully transferred to pr_writer', name='transfer_to_pr_writer', id='013d6bd8-2185-4ca6-ac8c-c922727bdf39', tool_call_id='tooluse_pW1kBBfpTPikxgj9SjqUzA'), AIMessage(content=[{'type': 'text', 'text': \"Now, I'll have the pr_reviewer review the draft:\"}, {'type': 'tool_use', 'name': 'transfer_to_pr_reviewer', 'input': {}, 'id': 'tooluse_hTJIBYVQRQKD6x53UfAAgg'}], additional_kwargs={}, response_metadata={'ResponseMetadata': {'RequestId': '6728f499-c441-4568-8c25-2ffdb9fbebbf', 'HTTPStatusCode': 200, 'HTTPHeaders': {'date': 'Fri, 22 Aug 2025 16:00:32 GMT', 'content-type': 'application/json', 'content-length': '446', 'connection': 'keep-alive', 'x-amzn-requestid': '6728f499-c441-4568-8c25-2ffdb9fbebbf'}, 'RetryAttempts': 0}, 'stopReason': 'tool_use', 'metrics': {'latencyMs': [1401]}, 'model_name': 'us.anthropic.claude-3-5-haiku-20241022-v1:0'}, name='supervisor_agent', id='run--02bbbaa0-2fa7-4bf8-9c46-4fc6d6129b90-0', tool_calls=[{'name': 'transfer_to_pr_reviewer', 'args': {}, 'id': 'tooluse_hTJIBYVQRQKD6x53UfAAgg', 'type': 'tool_call'}], usage_metadata={'input_tokens': 945, 'output_tokens': 55, 'total_tokens': 1000, 'input_token_details': {'cache_creation': 0, 'cache_read': 0}})]}\n",
      "PR Reviewer....\n",
      "custom state in PR Reviewer: {'messages': [HumanMessage(content=\"Write a PR article for an upcoming movie. Here's an outline: \\n\\nTitle: Midnight Vendetta\\nTagline: “When the clock strikes twelve, justice wears no mask.”\\nGenre: Action/Thriller\\nRelease Date: November 22, 2025 (Theatrical & IMAX)\\n\\nLogline:\\nA disgraced former MI6 agent infiltrates a glittering Dubai masquerade ball to dismantle a trillion-dollar cyberweapons syndicate—but must confront his deadliest enemy: the traitor who framed him for murder.\\n\\nKey Production/Cast Details:\\nDirector: David Leitch (Atomic Blonde, Bullet Train)—promises “brutally elegant fight choreography blending Bourne-style close combat with Dubai’s opulent settings.”\\nStudio: Pika Pictures (Budget: $200M)\\nFilming Locations: Dubai’s Burj Khalifa, Palm Jumeirah, and a custom-built 360-degree rotating ballroom set for the climactic fight.\\nSoundtrack: Pulse-pounding score by Ludwig Göransson \\n\", additional_kwargs={}, response_metadata={}, id='ae51385e-2a5f-4780-ae27-a968b1f9ee66'), AIMessage(content=[{'type': 'text', 'text': 'I\\'ll help you create a PR article for \"Midnight Vendetta\" by first using the pr_writer tool to draft the article.'}, {'type': 'tool_use', 'name': 'transfer_to_pr_writer', 'input': {}, 'id': 'tooluse_pW1kBBfpTPikxgj9SjqUzA'}], additional_kwargs={}, response_metadata={'ResponseMetadata': {'RequestId': 'c5197e47-301e-4d31-843a-2383a97c2768', 'HTTPStatusCode': 200, 'HTTPHeaders': {'date': 'Fri, 22 Aug 2025 16:00:28 GMT', 'content-type': 'application/json', 'content-length': '510', 'connection': 'keep-alive', 'x-amzn-requestid': 'c5197e47-301e-4d31-843a-2383a97c2768'}, 'RetryAttempts': 0}, 'stopReason': 'tool_use', 'metrics': {'latencyMs': [1857]}, 'model_name': 'us.anthropic.claude-3-5-haiku-20241022-v1:0'}, name='supervisor_agent', id='run--9b29efec-c1f3-4fce-a3ce-4109c78a0203-0', tool_calls=[{'name': 'transfer_to_pr_writer', 'args': {}, 'id': 'tooluse_pW1kBBfpTPikxgj9SjqUzA', 'type': 'tool_call'}], usage_metadata={'input_tokens': 858, 'output_tokens': 70, 'total_tokens': 928, 'input_token_details': {'cache_creation': 0, 'cache_read': 0}}), ToolMessage(content='Successfully transferred to pr_writer', name='transfer_to_pr_writer', id='013d6bd8-2185-4ca6-ac8c-c922727bdf39', tool_call_id='tooluse_pW1kBBfpTPikxgj9SjqUzA'), AIMessage(content=[{'type': 'text', 'text': \"Now, I'll have the pr_reviewer review the draft:\"}, {'type': 'tool_use', 'name': 'transfer_to_pr_reviewer', 'input': {}, 'id': 'tooluse_hTJIBYVQRQKD6x53UfAAgg'}], additional_kwargs={}, response_metadata={'ResponseMetadata': {'RequestId': '6728f499-c441-4568-8c25-2ffdb9fbebbf', 'HTTPStatusCode': 200, 'HTTPHeaders': {'date': 'Fri, 22 Aug 2025 16:00:32 GMT', 'content-type': 'application/json', 'content-length': '446', 'connection': 'keep-alive', 'x-amzn-requestid': '6728f499-c441-4568-8c25-2ffdb9fbebbf'}, 'RetryAttempts': 0}, 'stopReason': 'tool_use', 'metrics': {'latencyMs': [1401]}, 'model_name': 'us.anthropic.claude-3-5-haiku-20241022-v1:0'}, name='supervisor_agent', id='run--02bbbaa0-2fa7-4bf8-9c46-4fc6d6129b90-0', tool_calls=[{'name': 'transfer_to_pr_reviewer', 'args': {}, 'id': 'tooluse_hTJIBYVQRQKD6x53UfAAgg', 'type': 'tool_call'}], usage_metadata={'input_tokens': 945, 'output_tokens': 55, 'total_tokens': 1000, 'input_token_details': {'cache_creation': 0, 'cache_read': 0}}), ToolMessage(content='Successfully transferred to pr_reviewer', name='transfer_to_pr_reviewer', id='c2ffb8a9-3016-4fe0-bbba-4e424a2f4479', tool_call_id='tooluse_hTJIBYVQRQKD6x53UfAAgg')], 'article': \"I understand that I'm now in the PR writer mode. I'm ready to help you craft a compelling press release article for an upcoming show or movie. Please provide me with the details about the project you'd like me to write a PR article for, such as:\\n\\n1. Title of the show/movie\\n2. Genre\\n3. Main cast\\n4. Director/Creator\\n5. Release date/platform\\n6. Any unique selling points or background information\\n\\nOnce you provide these details, I'll use the knowledge base tool to help craft a professional and engaging press release in markdown format.\"}\n",
      "Article found...\n",
      "Since we've completed one iteration of writing and reviewing, I'll now return the final PR article:\n",
      "\n",
      "# Midnight Vendetta: A High-Octane Espionage Thriller Redefines Action Cinema\n",
      "\n",
      "**\"When the clock strikes twelve, justice wears no mask.\"**\n",
      "\n",
      "Pika Pictures is set to electrify the action genre with \"Midnight Vendetta,\" a pulse-pounding espionage thriller directed by the visionary David Leitch, slated for a theatrical and IMAX release on November 22, 2025.\n",
      "\n",
      "## A Cinematic Spectacle of Precision and Intrigue\n",
      "\n",
      "From the mastermind behind \"Atomic Blonde\" and \"Bullet Train\" comes a heart-stopping narrative that promises to push the boundaries of action filmmaking. Set against the breathtaking backdrop of Dubai's most iconic locations, \"Midnight Vendetta\" follows a disgraced former MI6 agent on a razor-sharp mission of redemption and revenge.\n",
      "\n",
      "### Behind the Lens: David Leitch's Vision\n",
      "\n",
      "Leitch promises \"brutally elegant fight choreography\" that seamlessly blends Bourne-style close combat with the opulent settings of Dubai. The film will showcase spectacular action sequences filmed in some of the city's most recognizable locations, including:\n",
      "- The towering Burj Khalifa\n",
      "- The stunning Palm Jumeirah\n",
      "- A groundbreaking 360-degree rotating ballroom set designed for the film's climactic confrontation\n",
      "\n",
      "### Technical Marvel and Artistic Ambition\n",
      "\n",
      "- **Studio:** Pika Pictures\n",
      "- **Budget:** $200 Million\n",
      "- **Soundtrack:** Composed by Ludwig Göransson, delivering a pulse-pounding musical landscape\n",
      "\n",
      "The film centers on a former MI6 agent who must infiltrate a glittering Dubai masquerade ball to dismantle a trillion-dollar cyberweapons syndicate. His ultimate challenge? Confronting the traitor who framed him for murder—a personal vendetta that promises to keep audiences on the edge of their seats.\n",
      "\n",
      "\"Midnight Vendetta\" is not just a film—it's a high-stakes journey of redemption, betrayal, and justice, set to redefine the action thriller genre when it hits theaters and IMAX on November 22, 2025.\n",
      "\n",
      "**Get ready. When midnight strikes, nothing is as it seems.**\n"
     ]
    }
   ],
   "source": [
    "supervisor_agent_response = graph.invoke({\"messages\": [{\"role\": \"user\", \"content\": query}]})\n",
    "print(supervisor_agent_response['messages'][-1].content)"
   ]
  },
  {
   "cell_type": "markdown",
   "metadata": {},
   "source": [
    "## Summary\n",
    "This notebook demonstrates a multi-agent system built with Amazon Bedrock and LangGraph. The system consists of:\n",
    "\n",
    "1. A PR Writer agent that generates PR articles based on provided information and can incorporate feedback\n",
    "2. A PR Review agent that evaluates PR articles and provides detailed feedback\n",
    "3. A Supervisor agent that orchestrates the collaboration between the Writer and Reviewer\n",
    "\n",
    "The agents work together iteratively to produce a polished PR article, with each iteration improving the quality based on the reviewer's feedback. The system leverages a knowledge base of high-quality PR examples to guide the writing process.\n",
    "\n",
    "Key technical components include:\n",
    "- Custom state management with LangGraph's StateGraph\n",
    "- Tool-using agents created with LangGraph's create_react_agent\n",
    "- Agent handoff mechanisms for coordinating multiple specialized agents\n",
    "- Knowledge base integration using Amazon Bedrock Knowledge Bases\n",
    "- Structured feedback loops for iterative improvement\n",
    "\n",
    "This pattern of agent collaboration can be applied to many other domains where specialized agents can work together to solve complex problems or create high-quality outputs."
   ]
  },
  {
   "cell_type": "code",
   "execution_count": null,
   "metadata": {},
   "outputs": [],
   "source": []
  }
 ],
 "metadata": {
  "kernelspec": {
   "display_name": "Python 3 (ipykernel)",
   "language": "python",
   "name": "python3"
  },
  "language_info": {
   "codemirror_mode": {
    "name": "ipython",
    "version": 3
   },
   "file_extension": ".py",
   "mimetype": "text/x-python",
   "name": "python",
   "nbconvert_exporter": "python",
   "pygments_lexer": "ipython3",
   "version": "3.12.9"
  }
 },
 "nbformat": 4,
 "nbformat_minor": 4
}
