{
 "cells": [
  {
   "cell_type": "markdown",
   "metadata": {},
   "source": [
    "# Reflection Agent using Langgraph\n",
    "This notebook demonstrates how to build a multi-agent system using Amazon Bedrock foundation model and LangGraph to create and refine PR (Public Relations) articles for movies or shows.\n"
   ]
  },
  {
   "cell_type": "markdown",
   "metadata": {},
   "source": [
    "## AWS Service Setup\n",
    "\n",
    "In the following cell, we initializes AWS clients needed for the notebook:\n",
    "\n",
    "1. Creates an STS (Security Token Service) client to get the AWS account ID\n",
    "2. Initializes a boto3 session to determine the current AWS region\n",
    "3. Creates clients for Amazon S3 (for storage), Amazon Bedrock Runtime (for model inference), and Bedrock Agent Runtime\n",
    "4. Imports ChatBedrockConverse from langchain_aws for interacting with Bedrock models\n"
   ]
  },
  {
   "cell_type": "code",
   "execution_count": 2,
   "metadata": {},
   "outputs": [],
   "source": [
    "import boto3\n",
    "from langchain_aws import ChatBedrockConverse\n",
    "from typing import Optional\n",
    "\n",
    "sts_client = boto3.client('sts')\n",
    "session = boto3.session.Session()\n",
    "\n",
    "account_id = sts_client.get_caller_identity()[\"Account\"]\n",
    "region = session.region_name\n",
    "\n",
    "s3_client = boto3.client('s3', region)\n",
    "bedrock_client = boto3.client('bedrock-runtime', region)\n",
    "bedrock_agent_runtime_client = boto3.client(\"bedrock-agent-runtime\", region)"
   ]
  },
  {
   "cell_type": "markdown",
   "metadata": {},
   "source": [
    "## Amazon Bedrock Knowledge Bases Setup\n",
    "\n",
    "The following cell uses the given utility functions for working with Amazon Bedrock Knowledge Bases as followed:\n",
    "\n",
    "1. Creates a knowledge base helper instance\n",
    "2. Sets up the configuration for the knowledge base with a unique name using UUID\n",
    "3. Creatie a new Knowledge Bases "
   ]
  },
  {
   "cell_type": "code",
   "execution_count": null,
   "metadata": {},
   "outputs": [],
   "source": [
    "import sys\n",
    "import uuid\n",
    "\n",
    "sys.path.insert(0, \".\")\n",
    "sys.path.insert(1, \"..\")\n",
    "sys.path.insert(2, \"../..\")\n",
    "\n",
    "from utils.knowledge_base_helper import (\n",
    "    KnowledgeBasesForAmazonBedrock, upload_directory\n",
    ")\n",
    "kb = KnowledgeBasesForAmazonBedrock()\n",
    "\n",
    "knowledge_base_name = f'pr-agent-kb-{str(uuid.uuid4())[:5]}'\n",
    "knowledge_base_description = \"KB containing information about pristine PR articles\"\n",
    "s3_bucket_name = f\"labs-bucket-{region}-{account_id}\"\n",
    "bucket_prefix = \"data/kb/reflection/\"\n",
    "\n",
    "kb_id, ds_id = kb.create_or_retrieve_knowledge_base(\n",
    "    knowledge_base_name,\n",
    "    knowledge_base_description,\n",
    "    s3_bucket_name,\n",
    "    \"amazon.titan-embed-text-v2:0\",\n",
    "    bucket_prefix\n",
    ")\n",
    "\n",
    "print(f\"Knowledge Base ID: {kb_id}\")\n",
    "print(f\"Data Source ID: {ds_id}\")"
   ]
  },
  {
   "cell_type": "markdown",
   "metadata": {},
   "source": [
    "## Langraph State Definition\n",
    "At its core, LangGraph models agent workflows as graphs. The main component that allows communication between different nodes is done using State object.\n",
    "\n",
    "[State](https://langchain-ai.github.io/langgraph/concepts/low_level/#state) is a shared data structure that represents the current snapshot of the agentic AI application. A state It can be any Python type, but is typically a TypedDict or Pydantic BaseModel.\n",
    "\n",
    "Working with our example, we create a state object to keep track of the generated article and review feedback. Later, we'll use a supervisor agent to orchestrate the PR article generation workflow. Each subagent (i.e. PR Revieewr, PR Writer) would perform it's corresponding task and emits updates to the State object to indicate the results. Using a State object improves consistency when information are being passed between the supervisor agent and the subagents. \n",
    "\n",
    "In particular, our State object consists of:\n",
    "\n",
    "- `feedback`: To store review feedback on PR articles\n",
    "- `article`: To store the PR article content\n",
    "- `messages` To store the message history through the interaction (inherited)"
   ]
  },
  {
   "cell_type": "code",
   "execution_count": 4,
   "metadata": {},
   "outputs": [],
   "source": [
    "from langgraph.graph import MessagesState\n",
    "from langgraph.graph import StateGraph\n",
    "from langgraph.types import Command\n",
    "from langchain_core.tools import tool, InjectedToolCallId\n",
    "from typing import Annotated\n",
    "from langgraph.graph import StateGraph, MessagesState, START\n",
    "from langchain_core.messages import HumanMessage, SystemMessage, AIMessage, ToolMessage\n",
    "from langchain_core.tools import tool\n",
    "\n",
    "class CustomState(MessagesState):\n",
    "    feedback: str\n",
    "    article: str"
   ]
  },
  {
   "cell_type": "markdown",
   "metadata": {},
   "source": [
    "# Define Knowledge Bases as a tool\n",
    "In the following section, we define a function that will be served as a tool for our PR Writer. This tool provides the PR Writer with high quality examples of PR articles for specific genres. The PR Writer agent is configured to use this tool to get a reference of similar PR articles before writing a draft. "
   ]
  },
  {
   "cell_type": "code",
   "execution_count": null,
   "metadata": {},
   "outputs": [],
   "source": [
    "from langchain_aws.retrievers import AmazonKnowledgeBasesRetriever\n",
    "\n",
    "def invoke_kb(query: str, kb_id: str, region: str) -> str:\n",
    "    \"\"\"Invoke the knowledge base tool.\"\"\"\n",
    "    print(\"Retrieving from knowledge base...\")\n",
    "    bedrock_retriever = AmazonKnowledgeBasesRetriever(\n",
    "        knowledge_base_id=kb_id,\n",
    "        region_name = region,\n",
    "        retrieval_config={\"vectorSearchConfiguration\": {\"numberOfResults\": 4}},\n",
    "    )\n",
    "    results = \"\\n\".join([ x.page_content for x in bedrock_retriever.invoke(query) ])\n",
    "    return results\n"
   ]
  },
  {
   "cell_type": "markdown",
   "metadata": {},
   "source": [
    "## PR Writer Agent Setup\n",
    "The following cell setups a PR Writer agent as followed:\n",
    "\n",
    "1. Sets up the PR Writer agent by using a Bedrock foundation model (i.e. Amazon Nova Premier). \n",
    "2. Creates a detailed system prompt with guidelines for writing effective PR articles\n",
    "3. Creates a ReAct agent using the LangGraph `create_react_agent` function with:\n",
    "   - The specified LLM\n",
    "   - The knowledge base tool\n",
    "   - The detailed system prompt"
   ]
  },
  {
   "cell_type": "code",
   "execution_count": 5,
   "metadata": {},
   "outputs": [],
   "source": [
    "from langchain_aws.retrievers import AmazonKnowledgeBasesRetriever\n",
    "from langgraph.prebuilt import create_react_agent\n",
    "from IPython.display import Image, display\n",
    "\n",
    "pr_writer_model_id = \"us.amazon.nova-premier-v1:0\"\n",
    "pr_writer_llm = ChatBedrockConverse(\n",
    "    model=pr_writer_model_id,  # or another Claude model\n",
    "    temperature=0.3,\n",
    "    max_tokens=None,\n",
    "    client=bedrock_client,\n",
    ")\n",
    "\n",
    "pr_writer_system_prompt_template = f\"\"\"You are to write a PR news for an upcoming show/movie based on the user request. You could be given an optional recommended changes to improve the quality of a PR article.\n",
    "Your task is to writing a PR article by incorporating feedback, or using the guidelines below:\n",
    "\n",
    "\n",
    "1. Headline: Capture Attention & Key Details - Be Concise & Informative: Use active verbs like \"announces,\" \"debuts,\" or \"unveils.\" Include the title, release date/platform, and a hook (e.g., talent or franchise ties).\n",
    "Example: \"A24 Reveals Trailer for Horror Thriller ‘Nightfall’ Starring Florence Pugh, Premiering October 2024.\"\n",
    "Highlight Exclusives: If applicable, note premieres at festivals (e.g., \"Sundance 2025 Official Selection\").\n",
    "\n",
    "2. Lead Paragraph: The 5 Ws - Summarize Who (studio, talent), What (title, genre), When (release date), Where (platforms/theaters), and Why (unique angle, legacy, or cultural relevance).\n",
    "Example: \"Marvel Studios’ ‘Avengers: Legacy,’ directed by Ryan Coogler, will premiere in theaters globally on May 3, 2025, marking the MCU’s first reboot of the iconic franchise.\"\n",
    "\n",
    "3. Key Content Elements - Synopsis: Offer a 1–2 paragraph teaser without spoilers. Emphasize uniqueness (e.g., \"a dystopian love story set in 2140’s AI-dominated society\").\n",
    "Talent & Production Credentials: Highlight A-list actors, acclaimed directors, or award-winning crews. Mention prior successes (e.g., \"From the Oscar-winning producer of Parasite\").\n",
    "Behind-the-Scenes (BTS) Insights: Share filming locations, technical innovations, or adaptations (e.g., \"Shot in Iceland using cutting-edge VR cinematography\").\n",
    "\n",
    "4. Quotes: Add Authenticity - Source quotes from directors, leads, or producers that convey passion or vision.\n",
    "Example: \"‘This film redefines resilience,’ says director Jordan Peele. ‘We’re blending horror with social commentary in ways audiences haven’t seen.’\"\n",
    "\n",
    "5. Multimedia & Links - Embed or link to trailers, stills, and BTS content. Provide access to a password-protected media kit with HD assets.\n",
    "Include official social handles and hashtags (e.g., #NightfallMovie).\n",
    "\n",
    "6. Tailor for Target Audiences - Trade Outlets (Deadline, Variety): Focus on box office prospects, production budgets, or industry trends.\n",
    "Lifestyle/Cultural Press (Vulture, Rolling Stone): Highlight themes, fashion, or soundtracks.\n",
    "Local Media: Tie in filming locations or local talent.\n",
    "\n",
    "7. SEO & Discoverability - Use keywords: Title, cast names, genre, and phrases like \"upcoming sci-fi movies 2025.\"\n",
    "Link to official sites or prior related content (e.g., a franchise’s timeline).\n",
    "\n",
    "8. Logistics & Contact Info - Clearly state release platforms (e.g., \"Streaming exclusively on Netstream starting November 12\").\n",
    "List premiere events or fan screenings.\n",
    "Provide media contacts: Name, email, phone, and PR firm.\n",
    "\n",
    "9. Professional Polish - Proofread: Ensure dates, names, and titles are error-free.\n",
    "Tone: Match the project’s vibe (e.g., playful for comedies, sleek for action).\n",
    "Style Guide: Adhere to outlet-specific rules (e.g., AP style).\n",
    "\n",
    "10. Follow-Up & Amplification - Pitch Exclusives: Offer early access to trailers or interviews for top-tier outlets.\n",
    "Post-Release: Monitor coverage, engage on social media, and update with new assets (e.g., poster drops).\n",
    "\n",
    "You have access to a knowledge base tool that contains pristine, high quality PRs that have been published in the past. You should use the knowledge base in assisting with the writing when no feedback was given.\n",
    "The knowledge base ID you have acess to is {kb_id} and region is {region}. \n",
    "\n",
    "Put the article content in <article> XML tag, then return only the <article> XML tag. NEVER provide any other information such as thinking tag or explain any improvements.\n",
    "\"\"\"\n",
    "\n",
    "pr_writer_agent = create_react_agent(\n",
    "    model=pr_writer_llm,\n",
    "    tools=[invoke_kb],\n",
    "    prompt=pr_writer_system_prompt_template,\n",
    "   name=\"pr_writer_agent\"\n",
    ")"
   ]
  },
  {
   "cell_type": "markdown",
   "metadata": {},
   "source": [
    "### Define PR Write node\n",
    "This cell defines the PR Writer node function that checks for any feedback exists in the state object (Populated by the PR Reviewer agent later), and perform the PR writing task. Notice the agent updates the state with the generated article. This step is to ensure the PR Reviewer has access to the PR article generated by this agent. "
   ]
  },
  {
   "cell_type": "code",
   "execution_count": 6,
   "metadata": {},
   "outputs": [],
   "source": [
    "def pr_writer(state: CustomState) -> Command:\n",
    "    \"\"\"PR writing tool that performs article writing.\n",
    "    \n",
    "    Args:\n",
    "        state: The state dictionary\n",
    "    \"\"\"\n",
    "    print(\"PR Writer....\")\n",
    "    if 'feedback' in state:\n",
    "        print(\"Feedback found...\")\n",
    "        feedback = state[\"feedback\"]\n",
    "        feedback_prompt = f\"\"\"Here's the feedback from the reviewer:\n",
    "---------\n",
    "{feedback}        \n",
    "---------\n",
    "        \"\"\"\n",
    "        pr_writing_message = {\"messages\": [{\"role\": \"user\", \"content\": feedback_prompt}]}\n",
    "        pr_writing_response = pr_writer_agent.invoke(pr_writing_message)\n",
    "        return Command(update={\n",
    "            \"article\": pr_writing_response[\"messages\"][-1].content,\n",
    "        })\n",
    "    else:\n",
    "        last_state_message = state[\"messages\"][-1].content\n",
    "        pr_writing_message = {\"messages\": [{\"role\": \"user\", \"content\": last_state_message}]}\n",
    "        pr_writing_response = pr_writer_agent.invoke(pr_writing_message)\n",
    "        return Command(update={ \"article\": pr_writing_response[\"messages\"][-1].content})\n"
   ]
  },
  {
   "cell_type": "markdown",
   "metadata": {},
   "source": [
    "Once the PR Writer agent is defined, we can start running some tests.\n",
    "We provide a test query for the PR Writer agent that contains information about an outline of a fictional movie including the title, tagline, genre, release date, logline, and key production details.\n"
   ]
  },
  {
   "cell_type": "code",
   "execution_count": 7,
   "metadata": {},
   "outputs": [],
   "source": [
    "pr_writer_test_query = \"\"\"Write a PR news for an upcoming movie given the following outline: \n",
    "Title: Midnight Vendetta\n",
    "Tagline: “When the clock strikes twelve, justice wears no mask.”\n",
    "Genre: Action/Thriller\n",
    "Release Date: November 22, 2025 (Theatrical & IMAX)\n",
    "\n",
    "Logline:\n",
    "A disgraced former MI6 agent infiltrates a glittering Dubai masquerade ball to dismantle a trillion-dollar cyberweapons syndicate—but must confront his deadliest enemy: the traitor who framed him for murder.\n",
    "\n",
    "Key Production/Cast Details:\n",
    "Director: David Leitch (Atomic Blonde, Bullet Train)—promises “brutally elegant fight choreography blending Bourne-style close combat with Dubai’s opulent settings.”\n",
    "Studio: Pika Pictures (Budget: $200M)\n",
    "Filming Locations: Dubai’s Burj Khalifa, Palm Jumeirah, and a custom-built 360-degree rotating ballroom set for the climactic fight.\n",
    "Soundtrack: Pulse-pounding score by Ludwig Göransson \n",
    "\"\"\""
   ]
  },
  {
   "cell_type": "markdown",
   "metadata": {},
   "source": [
    "## Create Langgraph State Graph\n",
    "In Langgraph, a State Graph is a graph whose nodes communicate by reading and writing to a shared state. We prepare the agent graph by defining the graph nodes and edges. Finally, we compile the state graph into an agent graph to make it ready to invoke. "
   ]
  },
  {
   "cell_type": "code",
   "execution_count": 8,
   "metadata": {},
   "outputs": [],
   "source": [
    "pr_writer_builder = StateGraph(CustomState)\n",
    "pr_writer_builder.add_node(\"pr_writer\", pr_writer)\n",
    "# define the flow explicitly\n",
    "pr_writer_builder.add_edge(START, \"pr_writer\")\n",
    "pr_writer_agent_graph = pr_writer_builder.compile( name=\"pr_writer\")\n"
   ]
  },
  {
   "cell_type": "markdown",
   "metadata": {},
   "source": [
    "Invoke the PR Writing agent and printing the results"
   ]
  },
  {
   "cell_type": "code",
   "execution_count": null,
   "metadata": {},
   "outputs": [],
   "source": [
    "pr_writing_response = pr_writer_agent_graph.invoke({\"messages\": [{\"role\": \"user\", \"content\": pr_writer_test_query}]})\n",
    "print(pr_writing_response)"
   ]
  },
  {
   "cell_type": "markdown",
   "metadata": {},
   "source": [
    "Test with writing an article with review feedback, then prints the response to validate the output from the interaction."
   ]
  },
  {
   "cell_type": "code",
   "execution_count": null,
   "metadata": {},
   "outputs": [],
   "source": [
    "test_feedback = \"\"\"<feedback>\n",
    "  - The press release is generally clear and engaging, but there are a few areas that could be improved for clarity and specificity.\n",
    "  - The sentence \"When a trillion-dollar cyberweapons syndicate threatens global security, only one man stands between chaos and order: Alex Kane, a former spy framed for murder.\" is a bit clunky and could be split into two sentences for better readability.\n",
    "  - The phrase \"a globe-trotting action thriller\" could be more specific. Consider adding details about the locations or the type of action sequences.\n",
    "  - The sentence \"But as he navigates opulent ballrooms and high-stakes auctions, he discovers his deadliest enemy isn’t the cartel—it’s the ghost from his past who sold him out.\" could be simplified to avoid confusion.\n",
    "  - The phrase \"Bourne-style intimacy with Mission: Impossible spectacle\" is quite technical and might not be clear to a non-technical audience. Consider explaining what this means in simpler terms.\n",
    "  - The production budget of $200M is a good quantitative detail, but consider adding more specific information about the expected audience or box office expectations to give readers a clearer picture.\n",
    "</feedback>\"\"\"\n",
    "test_article = pr_writing_response[\"article\"]\n",
    "pr_writing_response = pr_writer_agent_graph.invoke({\"messages\": [{\"role\": \"user\", \"content\": \"rewrite the article\"}], \"article\" : test_article, \"feedback\": test_feedback})\n",
    "print(pr_writing_response)"
   ]
  },
  {
   "cell_type": "markdown",
   "metadata": {},
   "source": [
    "## PR Review Agent Setup\n",
    "Similar to the PR Writer agent, we define a PR Review agent to perform review and provide feedback to improve the quality of the generated article. The agent is setup with:\n",
    "\n",
    "1. A foundation model (Nova Pro) from Amazon Bedrock\n",
    "2. Creates a system prompt with guidelines for reviewing PR articles, focusing on:\n",
    "   - Clear and crisp sentences\n",
    "   - Specificity\n",
    "   - Writing for a non-technical audience"
   ]
  },
  {
   "cell_type": "code",
   "execution_count": 11,
   "metadata": {},
   "outputs": [],
   "source": [
    "\n",
    "\n",
    "pr_review_agent_model_id = \"us.amazon.nova-pro-v1:0\"\n",
    "pr_review_llm = ChatBedrockConverse(\n",
    "    model=pr_review_agent_model_id,  # or another Claude model\n",
    "    temperature=0.3,\n",
    "    max_tokens=None,\n",
    "    client=bedrock_client,\n",
    ")\n",
    "pr_reviewer_system_prompt = \"\"\"As a PR article reviewer, you are given the specific guidelines to evaluate the quality of the document.\n",
    "\n",
    "1. Write in clear, crisp sentences.\" - long or confusing sentences as \"clunky\" when they're difficult for readers to understand.\n",
    "\n",
    "Here are the tips on to identify unclear sentences:\n",
    "\n",
    "- Sentences longer than 40 words or spanning more than two lines\n",
    "- Sentences that require multiple readings to understand\n",
    "- Sentences with repeated words, especially \"and\" and \"to\"\n",
    "\n",
    "2. Be specific. Don't leave anything open to interpretation or leave your reader guessing. \n",
    "\n",
    "Here are some clues your sentence isn't specific enough: \n",
    "-  it contains qualitative or subjective adjectives and adverbs (like \"might,\" \"often,\" or \"may be\"), \n",
    "- it leaves the reader asking questions.\n",
    "\n",
    "Here are some ways to fix this problem: \n",
    "- clarify words or phrases that could be interpreted differently by different people, \n",
    "- use quantitative adjectives, like \"3X faster\" or \"50% more time\" where possible, and/or \n",
    "\n",
    "3. Write for a non-technical audience. Anyone should be able to understand your message without additional background information. Readers will often be left with questions if you've included concepts or undefined acronyms.\n",
    "\n",
    "Here are some clues your sentence might be too technical: \n",
    "- your reader is left with questions, \n",
    "- it contains abbreviations or acronyms that aren't defined, and/or \n",
    "- it describes technology that an average person would not understand.\n",
    "\"\"\""
   ]
  },
  {
   "cell_type": "markdown",
   "metadata": {},
   "source": [
    "## PR Reviewer Node Function\n",
    "In the following cell, we create a PR Reviewer node function that reads the state object for the article, and invoke a foundation model for review and feedback. Finally, the function returns a Command object with updates to the state with the feedback returned from the foundation model invocation.\n"
   ]
  },
  {
   "cell_type": "code",
   "execution_count": 12,
   "metadata": {},
   "outputs": [],
   "source": [
    "def pr_reviewer(state: CustomState) -> Command:\n",
    "    \"\"\"PR review tool that performs review and provide feedback for the given article.\n",
    "    \n",
    "    Args:\n",
    "        tool_call_id: the id of the tool\n",
    "        state: The state dictionary\n",
    "    \"\"\"\n",
    "    print(\"PR Reviewer....\")\n",
    "    print(f\"custom state in PR Reviewer: {state}\")\n",
    "    if 'article' in state:\n",
    "        print(\"Article found...\")\n",
    "        article = state[\"article\"]\n",
    "        messages = [ \n",
    "        (\"system\", pr_reviewer_system_prompt),\n",
    "        (\"human\", f\"\"\"Review the given article: \n",
    "         \n",
    "                  {article}\n",
    "\n",
    "Return only the review feedback in <feedback> XML tag. Do not provide any other information.\"\"\")]\n",
    "        response = pr_review_llm.invoke(messages)\n",
    "        review_feedback = response.content\n",
    "        \n",
    "        return Command(update={\n",
    "            \"feedback\": review_feedback,\n",
    "        })\n"
   ]
  },
  {
   "cell_type": "markdown",
   "metadata": {},
   "source": [
    "## Create Graph for PR Reviewer.\n",
    "Similar to the PR Writer agent, we define PR Reviewer as a State graph by defining the graph nodes and edges. Finally, we compile the state graph into an agent graph to make it ready to invoke. "
   ]
  },
  {
   "cell_type": "code",
   "execution_count": 13,
   "metadata": {},
   "outputs": [],
   "source": [
    "pr_reviewer_builder = StateGraph(CustomState)\n",
    "pr_reviewer_builder.add_node(\"pr_reviewer\", pr_reviewer)\n",
    "# define the flow explicitly\n",
    "pr_reviewer_builder.add_edge(START, \"pr_reviewer\")\n",
    "pr_reviewer_agent_graph = pr_reviewer_builder.compile( name=\"pr_reviewer\")"
   ]
  },
  {
   "cell_type": "markdown",
   "metadata": {},
   "source": [
    "Invokes the PR Reviewer graph with a synthetic article to review. The PR Reviewer analyzes the article and provides feedback."
   ]
  },
  {
   "cell_type": "code",
   "execution_count": 14,
   "metadata": {},
   "outputs": [],
   "source": [
    "pr_reviewer_agent_graph.invoke({\"messages\": [{\"role\": \"user\", \"content\": \"review the given article\"}], \"article\": pr_writing_response[\"article\"]})"
   ]
  },
  {
   "cell_type": "markdown",
   "metadata": {},
   "source": [
    "# Supervisor Agent Setup\n",
    "In the following cell, we create a supervisor agent to manage the interactions between the PR Writer and PR Reviewer. The intent for the supervisor is to use reflection pattern to iteratively perform article writing and review feedback to improve the performance and accuracy of the PR article. Langgraph provides a prebuilt `supervisor agent` module. This is ideal for scenarios where no customizartion is required for the subagent. However, given we made modification to both the PR Writer and Reviwer agents, we'll create a supervisor step by step. The code is adapted from Langgraph supervisor example [here](https://langchain-ai.github.io/langgraph/tutorials/multi_agent/agent_supervisor/)"
   ]
  },
  {
   "cell_type": "code",
   "execution_count": 15,
   "metadata": {},
   "outputs": [],
   "source": [
    "from langgraph.prebuilt import InjectedState\n",
    "\n",
    "def create_handoff_tool(*, agent_name: str, description: str | None = None):\n",
    "    name = f\"transfer_to_{agent_name}\"\n",
    "    description = description or f\"Ask {agent_name} for help.\"\n",
    "\n",
    "    @tool(name, description=description)\n",
    "    def handoff_tool(\n",
    "        state: Annotated[MessagesState, InjectedState],\n",
    "        tool_call_id: Annotated[str, InjectedToolCallId],\n",
    "    ) -> Command:\n",
    "        tool_message = {\n",
    "            \"role\": \"tool\",\n",
    "            \"content\": f\"Successfully transferred to {agent_name}\",\n",
    "            \"name\": name,\n",
    "            \"tool_call_id\": tool_call_id,\n",
    "        }\n",
    "        print(f\"calling handoff to : {agent_name}\")\n",
    "        print(f\"state: {state}\")\n",
    "        return Command(\n",
    "            goto=agent_name,  \n",
    "            update={**state, \"messages\": state[\"messages\"] + [tool_message]},  \n",
    "            graph=Command.PARENT,  \n",
    "        )\n",
    "\n",
    "    return handoff_tool\n",
    "\n",
    "\n",
    "# Handoffs\n",
    "assign_to_pr_writer_agent = create_handoff_tool(\n",
    "    agent_name=\"pr_writer\",\n",
    "    description=\"Assign task to a pr_writer agent.\",\n",
    ")\n",
    "\n",
    "assign_to_pr_reviewer_agent = create_handoff_tool(\n",
    "    agent_name=\"pr_reviewer\",\n",
    "    description=\"Assign task to a pr_reviewer agent.\",\n",
    ")\n",
    "\n",
    "# supervisor_model_id = \"us.anthropic.claude-3-5-haiku-20241022-v1:0\"\n",
    "supervisor_model_id = \"us.amazon.nova-premier-v1:0\"\n",
    "\n",
    "supervisor_llm = ChatBedrockConverse(\n",
    "    model=supervisor_model_id,  # or another Claude model\n",
    "    temperature=0.5,\n",
    "    max_tokens=None,\n",
    "    client=bedrock_client,\n",
    ")\n",
    "\n",
    "supervisor_agent = create_react_agent(\n",
    "    model=supervisor_llm,\n",
    "    tools=[assign_to_pr_writer_agent, assign_to_pr_reviewer_agent],\n",
    "    prompt=f\"\"\"You are a supervisor AI agent. You are given the following subagents capable of following tasks:\n",
    "\n",
    "1. pr_writer - Writes a PR article based on the given outline or rewrite a PR article based on the given feedback.\n",
    "\n",
    "2. pr_reviewer - Reviews the PR article generated by the pr_writer to provide recommendation to improve the PR article.\n",
    "\n",
    "You job is to delegate the writng and reviewing tasks to the given tools. Use these tool to write and review the article iteratively to arrive at the best version of the PR article. You should not make any changes to the articles.\n",
    "Once you have completed the final review of the article, return the final article to the user.\n",
    "\n",
    "Here are the guidelines:\n",
    "- You must first write a draft article using the writing tool before performing any reviews. \n",
    "- You should only iterate the PR writing and review iterations for maximum of 2 time before returning the final version of the PR article to the user. \n",
    "The final draft of the PR must be a complete version formatted in markdown in the final response. Do not provide any explanation in the final response, return only the final PR article in markdown format.\"\"\",\n",
    "    name=\"supervisor_agent\"\n",
    ")"
   ]
  },
  {
   "cell_type": "markdown",
   "metadata": {},
   "source": [
    "## Create a Multi Agent Graph\n",
    "Similar to the PR Writer and PR Reviewer agents, we used a StateGraph to define the graphs by adding each as a Node, and Edges to connect these agents: \n",
    "\n",
    "- The Supervisor agent with possible destinations to PR Writer, PR Reviewer, or END\n",
    "- The PR Reviewer agent graph\n",
    "- The PR Writer agent graph\n",
    "\n",
    "Once the graph is compiled, it'll be ready to use. \n",
    "In the example, we also displays a visual representation of the graph to better understand the relationships between the nodes.\n"
   ]
  },
  {
   "cell_type": "code",
   "execution_count": null,
   "metadata": {},
   "outputs": [],
   "source": [
    "from langgraph.graph import END\n",
    "\n",
    "builder = StateGraph(CustomState)\n",
    "builder.add_node(\"supervisor_agent\", supervisor_agent, destinations=(\"pr_writer\", \"pr_reviewer\", END))\n",
    "builder.add_node(\"pr_reviewer\", pr_reviewer_agent_graph)\n",
    "builder.add_node(\"pr_writer\", pr_writer_agent_graph)\n",
    "\n",
    "builder.add_edge(START, \"supervisor_agent\")\n",
    "builder.add_edge(\"pr_writer\", \"supervisor_agent\")\n",
    "builder.add_edge(\"pr_reviewer\", \"supervisor_agent\")\n",
    "graph = builder.compile()\n",
    "display(Image(graph.get_graph().draw_mermaid_png()))"
   ]
  },
  {
   "cell_type": "markdown",
   "metadata": {},
   "source": [
    "Defines a test query for the supervisor agent."
   ]
  },
  {
   "cell_type": "code",
   "execution_count": 18,
   "metadata": {},
   "outputs": [],
   "source": [
    "query = \"\"\"Write a PR article for an upcoming movie. Here's an outline: \n",
    "\n",
    "Title: Midnight Vendetta\n",
    "Tagline: “When the clock strikes twelve, justice wears no mask.”\n",
    "Genre: Action/Thriller\n",
    "Release Date: November 22, 2025 (Theatrical & IMAX)\n",
    "\n",
    "Logline:\n",
    "A disgraced former MI6 agent infiltrates a glittering Dubai masquerade ball to dismantle a trillion-dollar cyberweapons syndicate—but must confront his deadliest enemy: the traitor who framed him for murder.\n",
    "\n",
    "Key Production/Cast Details:\n",
    "Director: David Leitch (Atomic Blonde, Bullet Train)—promises “brutally elegant fight choreography blending Bourne-style close combat with Dubai’s opulent settings.”\n",
    "Studio: Pika Pictures (Budget: $200M)\n",
    "Filming Locations: Dubai’s Burj Khalifa, Palm Jumeirah, and a custom-built 360-degree rotating ballroom set for the climactic fight.\n",
    "Soundtrack: Pulse-pounding score by Ludwig Göransson \n",
    "\"\"\""
   ]
  },
  {
   "cell_type": "markdown",
   "metadata": {},
   "source": [
    "Invoke the supervisor agent graph with the test query and prints the final PR article generated by the system after multiple rounds of writing and reviewing"
   ]
  },
  {
   "cell_type": "code",
   "execution_count": null,
   "metadata": {},
   "outputs": [],
   "source": [
    "supervisor_agent_response = graph.invoke({\"messages\": [{\"role\": \"user\", \"content\": query}]})\n",
    "print(supervisor_agent_response['messages'][-1].content)"
   ]
  },
  {
   "cell_type": "markdown",
   "metadata": {},
   "source": [
    "## Summary\n",
    "This notebook demonstrates a multi-agent system built with Amazon Bedrock and LangGraph. The system consists of:\n",
    "\n",
    "1. A PR Writer agent that generates PR articles based on provided information and can incorporate feedback\n",
    "2. A PR Review agent that evaluates PR articles and provides detailed feedback\n",
    "3. A Supervisor agent that orchestrates the collaboration between the Writer and Reviewer\n",
    "\n",
    "The agents work together iteratively to produce a polished PR article, with each iteration improving the quality based on the reviewer's feedback. The system leverages a knowledge base of high-quality PR examples to guide the writing process.\n",
    "\n",
    "Key technical components include:\n",
    "- Custom state management with LangGraph's StateGraph\n",
    "- Tool-using agents created with LangGraph's create_react_agent\n",
    "- Agent handoff mechanisms for coordinating multiple specialized agents\n",
    "- Knowledge base integration using Amazon Bedrock Knowledge Bases\n",
    "- Structured feedback loops for iterative improvement\n",
    "\n",
    "This pattern of agent collaboration can be applied to many other domains where specialized agents can work together to solve complex problems or create high-quality outputs."
   ]
  }
 ],
 "metadata": {
  "kernelspec": {
   "display_name": "agent",
   "language": "python",
   "name": "python3"
  },
  "language_info": {
   "codemirror_mode": {
    "name": "ipython",
    "version": 3
   },
   "file_extension": ".py",
   "mimetype": "text/x-python",
   "name": "python",
   "nbconvert_exporter": "python",
   "pygments_lexer": "ipython3",
   "version": "3.12.0"
  }
 },
 "nbformat": 4,
 "nbformat_minor": 2
}
