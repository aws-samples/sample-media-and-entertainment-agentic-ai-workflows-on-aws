{
 "cells": [
  {
   "cell_type": "markdown",
   "metadata": {},
   "source": [
    "# Knowledge Base Setup for PR Article Generation\n",
    "\n",
    "This notebook sets up the Amazon Bedrock Knowledge Base that will be used by the CrewAI agents for PR article generation. The knowledge base contains examples of high-quality PR articles that serve as reference material for writing style and structure.\n",
    "\n",
    "## Purpose\n",
    "- Create a Knowledge Base for Amazon Bedrock\n",
    "- Upload example PR articles to S3\n",
    "- Configure embeddings for semantic search\n",
    "- Store knowledge base ID for use in the main workflow\n",
    "\n",
    "## Prerequisites\n",
    "- AWS credentials configured\n",
    "- S3 bucket access\n",
    "- Bedrock service permissions\n",
    "- Example PR articles in the `good_prs` directory"
   ]
  },
  {
   "cell_type": "markdown",
   "metadata": {},
   "source": [
    "## Environment Setup\n",
    "\n",
    "Load environment variables and initialize AWS clients needed for knowledge base creation."
   ]
  },
  {
   "cell_type": "code",
   "execution_count": null,
   "metadata": {},
   "outputs": [],
   "source": [
    "import boto3\n",
    "import os\n",
    "import sys\n",
    "import uuid\n",
    "from typing import Optional\n",
    "\n",
    "# Initialize AWS clients\n",
    "sts_client = boto3.client('sts')\n",
    "session = boto3.session.Session()\n",
    "\n",
    "account_id = sts_client.get_caller_identity()[\"Account\"]\n",
    "region = session.region_name\n",
    "\n",
    "s3_client = boto3.client('s3', region)\n",
    "bedrock_client = boto3.client('bedrock-runtime', region)\n",
    "bedrock_agent_runtime_client = boto3.client(\"bedrock-agent-runtime\", region)\n",
    "\n",
    "print(f\"Account ID: {account_id}\")\n",
    "print(f\"Region: {region}\")"
   ]
  },
  {
   "cell_type": "markdown",
   "metadata": {},
   "source": [
    "## Knowledge Base Helper Import\n",
    "\n",
    "Import the utility class for creating and managing Bedrock Knowledge Bases."
   ]
  },
  {
   "cell_type": "code",
   "execution_count": 4,
   "metadata": {},
   "outputs": [],
   "source": [
    "# Add parent directories to path for imports\n",
    "sys.path.insert(0, \".\")\n",
    "sys.path.insert(1, \"..\")\n",
    "\n",
    "from utils.knowledge_base_helper import (\n",
    "    KnowledgeBasesForAmazonBedrock, upload_directory\n",
    ")\n",
    "\n",
    "# Initialize the knowledge base helper\n",
    "kb = KnowledgeBasesForAmazonBedrock()"
   ]
  },
  {
   "cell_type": "markdown",
   "metadata": {},
   "source": [
    "## Knowledge Base Configuration\n",
    "\n",
    "Define the configuration parameters for the knowledge base:\n",
    "- **Name**: Unique identifier with random suffix\n",
    "- **Description**: Purpose and content description\n",
    "- **S3 Location**: Bucket and prefix for storing documents\n",
    "- **Embeddings Model**: Amazon Titan for semantic search"
   ]
  },
  {
   "cell_type": "code",
   "execution_count": null,
   "metadata": {},
   "outputs": [],
   "source": [
    "# Knowledge base configuration\n",
    "lab5_knowledge_base_name = f'pr-agent-kb-{str(uuid.uuid4())[:8]}'\n",
    "knowledge_base_description = \"Knowledge Base containing examples of pristine, high-quality PR articles for media and entertainment content\"\n",
    "s3_bucket_name = f\"labs-bucket-{region}-{account_id}\"\n",
    "bucket_prefix = \"data/kb/reflection/\"\n",
    "embedding_model = \"amazon.titan-embed-text-v2:0\"\n",
    "\n",
    "print(f\"Knowledge Base Name: {lab5_knowledge_base_name}\")\n",
    "print(f\"S3 Bucket: {s3_bucket_name}\")\n",
    "print(f\"S3 Prefix: {bucket_prefix}\")\n",
    "print(f\"Embedding Model: {embedding_model}\")"
   ]
  },
  {
   "cell_type": "markdown",
   "metadata": {},
   "source": [
    "## Upload PR Article Examples\n",
    "\n",
    "Upload the example PR articles from the local `../good_prs` directory to S3. These articles will serve as reference material for the AI agents."
   ]
  },
  {
   "cell_type": "code",
   "execution_count": null,
   "metadata": {},
   "outputs": [],
   "source": [
    "# Check if the good_prs directory exists\n",
    "pr_examples_path = \"good_prs\"\n",
    "\n",
    "if os.path.exists(pr_examples_path):\n",
    "    print(f\"Found PR examples directory: {pr_examples_path}\")\n",
    "    \n",
    "    # List files to be uploaded\n",
    "    files_to_upload = []\n",
    "    for root, dirs, files in os.walk(pr_examples_path):\n",
    "        files_to_upload.extend(files)\n",
    "    \n",
    "    print(f\"Files to upload: {files_to_upload}\")\n",
    "    \n",
    "    # Upload the files\n",
    "    uploaded_files = upload_directory(pr_examples_path, s3_bucket_name, bucket_prefix)\n",
    "else:\n",
    "    print(f\"Warning: PR examples directory not found at {pr_examples_path}\")\n",
    "    print(\"Please ensure the good_prs directory exists with example PR articles\")"
   ]
  },
  {
   "cell_type": "markdown",
   "metadata": {},
   "source": [
    "## Create Knowledge Base\n",
    "\n",
    "Create the Bedrock Knowledge Base using the uploaded documents. This process:\n",
    "1. Creates the knowledge base with specified configuration\n",
    "2. Sets up the data source pointing to the S3 location\n",
    "3. Configures the embedding model for semantic search\n",
    "4. Returns the knowledge base ID and data source ID for later use"
   ]
  },
  {
   "cell_type": "code",
   "execution_count": null,
   "metadata": {},
   "outputs": [],
   "source": [
    "# Create or retrieve the knowledge base\n",
    "print(\"Creating Knowledge Base...\")\n",
    "\n",
    "try:\n",
    "    lab5_kb_id, lab5_ds_id = kb.create_or_retrieve_knowledge_base(\n",
    "        lab5_knowledge_base_name,\n",
    "        knowledge_base_description,\n",
    "        s3_bucket_name,\n",
    "        embedding_model,\n",
    "        bucket_prefix\n",
    "    )\n",
    "    \n",
    "    print(f\"\\n✓ Knowledge Base created successfully!\")\n",
    "    print(f\"Knowledge Base ID: {lab5_kb_id}\")\n",
    "    print(f\"Data Source ID: {lab5_ds_id}\")\n",
    "    \n",
    "except Exception as e:\n",
    "    print(f\"✗ Failed to create Knowledge Base: {str(e)}\")\n",
    "    raise"
   ]
  },
  {
   "cell_type": "markdown",
   "metadata": {},
   "source": [
    "## Store Knowledge Base ID\n",
    "\n",
    "Store the knowledge base ID in the notebook's variable store so it can be accessed by other notebooks in the same session."
   ]
  },
  {
   "cell_type": "code",
   "execution_count": null,
   "metadata": {},
   "outputs": [],
   "source": [
    "# Store the knowledge base ID for use in other notebooks\n",
    "%store lab5_kb_id\n",
    "%store lab5_ds_id\n",
    "%store lab5_knowledge_base_name\n",
    "\n",
    "print(f\"Stored variables:\")\n",
    "print(f\"  kb_id = {lab5_kb_id}\")\n",
    "print(f\"  ds_id = {lab5_ds_id}\")\n",
    "print(f\"  knowledge_base_name = {lab5_knowledge_base_name}\")"
   ]
  },
  {
   "cell_type": "markdown",
   "metadata": {},
   "source": [
    "## Verification\n",
    "\n",
    "Verify that the knowledge base was created successfully and is ready for use."
   ]
  },
  {
   "cell_type": "code",
   "execution_count": null,
   "metadata": {},
   "outputs": [],
   "source": [
    "# Verify the knowledge base exists and get its status\n",
    "try:\n",
    "    bedrock_agent_client = boto3.client('bedrock-agent', region_name=region)\n",
    "    \n",
    "    response = bedrock_agent_client.get_knowledge_base(knowledgeBaseId=lab5_kb_id)\n",
    "    \n",
    "    kb_status = response['knowledgeBase']['status']\n",
    "    kb_name = response['knowledgeBase']['name']\n",
    "    \n",
    "    print(f\"Knowledge Base Status: {kb_status}\")\n",
    "    print(f\"Knowledge Base Name: {kb_name}\")\n",
    "    \n",
    "    if kb_status == 'ACTIVE':\n",
    "        print(\"✓ Knowledge Base is ready for use!\")\n",
    "    else:\n",
    "        print(f\"⚠ Knowledge Base is in {kb_status} state. It may need time to become active.\")\n",
    "        \n",
    "except Exception as e:\n",
    "    print(f\"Could not verify knowledge base status: {str(e)}\")"
   ]
  },
  {
   "cell_type": "markdown",
   "metadata": {},
   "source": [
    "## Summary\n",
    "\n",
    "This notebook has successfully:\n",
    "\n",
    "### ✓ Completed Tasks\n",
    "- **Environment Setup**: Configured AWS clients and credentials\n",
    "- **Data Upload**: Uploaded PR article examples to S3\n",
    "- **Knowledge Base Creation**: Created Bedrock Knowledge Base with semantic search\n",
    "- **Variable Storage**: Stored IDs for use in other notebooks\n",
    "- **Verification**: Confirmed knowledge base status\n",
    "\n",
    "### 📋 Next Steps\n",
    "1. **Run the main workflow**: Use `reflection_agents.ipynb` to execute the multi-agent PR generation\n",
    "2. **Load stored variables**: The main notebook will automatically load `kb_id` and other stored variables\n",
    "3. **Monitor performance**: Check knowledge base retrieval quality and adjust if needed\n",
    "\n",
    "### 🔧 Configuration Details\n",
    "- **Knowledge Base ID**: `{kb_id if 'kb_id' in locals() else 'Not yet created'}`\n",
    "- **Embedding Model**: Amazon Titan Text Embeddings v2\n",
    "- **Storage Location**: S3 with automatic indexing\n",
    "- **Search Capability**: Semantic similarity search for relevant PR examples\n",
    "\n",
    "The knowledge base is now ready to provide contextual examples to the CrewAI agents for high-quality PR article generation."
   ]
  },
  {
   "cell_type": "markdown",
   "metadata": {},
   "source": []
  }
 ],
 "metadata": {
  "kernelspec": {
   "display_name": "agent",
   "language": "python",
   "name": "python3"
  },
  "language_info": {
   "codemirror_mode": {
    "name": "ipython",
    "version": 3
   },
   "file_extension": ".py",
   "mimetype": "text/x-python",
   "name": "python",
   "nbconvert_exporter": "python",
   "pygments_lexer": "ipython3",
   "version": "3.12.0"
  }
 },
 "nbformat": 4,
 "nbformat_minor": 2
}
