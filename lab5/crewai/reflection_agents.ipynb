{
 "cells": [
  {
   "cell_type": "markdown",
   "metadata": {},
   "source": [
    "# Building a PR Article Generation Application using Crew AI\n",
    "\n",
    "This notebook demonstrates how to build a multi-agent system using CrewAI for automated PR article generation. The system uses a reflection pattern with multiple specialized agents that collaborate to write, review, and refine PR articles.\n",
    "\n",
    "## Architecture Overview\n",
    "- **PR Writer Agent**: Creates initial article drafts based on outlines\n",
    "- **PR Reviewer Agent**: Reviews articles against quality guidelines\n",
    "- **PR Rewriter Agent**: Refines articles based on feedback\n",
    "- **Supervisor Agent**: Orchestrates the workflow between agents\n",
    "\n",
    "The following diagram depicts the overall architecture and the worklfow:\n",
    "\n",
    "<img src=\"../../imgs/lab5-crewai-architecture.png\" width=\"800\"> \n",
    "\n",
    "\n",
    "The system leverages AWS Bedrock for LLM capabilities and Knowledge Bases for retrieving examples of high-quality PR articles."
   ]
  },
  {
   "cell_type": "markdown",
   "metadata": {},
   "source": [
    "## Initial Setup and Imports\n",
    "\n",
    "Import the necessary libraries for CrewAI agents, tasks, and regular expressions for text processing."
   ]
  },
  {
   "cell_type": "code",
   "execution_count": 1,
   "metadata": {},
   "outputs": [],
   "source": [
    "from crewai import Agent, Crew, Process, Task\n",
    "import re"
   ]
  },
  {
   "cell_type": "markdown",
   "metadata": {},
   "source": [
    "## Configuration and Environment Setup\n",
    "\n",
    "Load stored variables from previous notebook sessions and set up environment configuration."
   ]
  },
  {
   "cell_type": "code",
   "execution_count": 2,
   "metadata": {},
   "outputs": [],
   "source": [
    "%store -r"
   ]
  },
  {
   "cell_type": "markdown",
   "metadata": {},
   "source": [
    "Set the maximum number of iterations for agent refinement cycles to prevent infinite loops."
   ]
  },
  {
   "cell_type": "code",
   "execution_count": 10,
   "metadata": {},
   "outputs": [],
   "source": [
    "max_iterations = 2"
   ]
  },
  {
   "cell_type": "markdown",
   "metadata": {},
   "source": [
    "## AWS Services Initialization\n",
    "\n",
    "Set up AWS clients for Bedrock, S3, and other services needed for the agentic workflow. This includes:\n",
    "- **STS Client**: For getting account identity information\n",
    "- **S3 Client**: For storing and retrieving knowledge base documents\n",
    "- **Bedrock Runtime**: For LLM inference\n",
    "- **Bedrock Agent Runtime**: For knowledge base operations"
   ]
  },
  {
   "cell_type": "code",
   "execution_count": 5,
   "metadata": {},
   "outputs": [],
   "source": [
    "import boto3\n",
    "from langchain_aws import ChatBedrockConverse\n",
    "from typing import Optional\n",
    "\n",
    "sts_client = boto3.client('sts')\n",
    "session = boto3.session.Session()\n",
    "\n",
    "account_id = sts_client.get_caller_identity()[\"Account\"]\n",
    "region = session.region_name\n",
    "\n",
    "s3_client = boto3.client('s3', region)\n",
    "bedrock_client = boto3.client('bedrock-runtime', region)\n",
    "bedrock_agent_runtime_client = boto3.client(\"bedrock-agent-runtime\", region)"
   ]
  },
  {
   "cell_type": "markdown",
   "metadata": {},
   "source": [
    "## Knowledge Base Retrieval Tool\n",
    "\n",
    "Initialize the Bedrock Knowledge Base retrieval tool that agents will use to access examples of high-quality PR articles. This tool:\n",
    "- Connects to the knowledge base created above\n",
    "- Returns the top 3 most relevant examples based on semantic similarity\n",
    "- Provides context for agents to understand PR writing style and structure"
   ]
  },
  {
   "cell_type": "code",
   "execution_count": 6,
   "metadata": {},
   "outputs": [],
   "source": [
    "from crewai import Agent, Task, Crew, LLM\n",
    "from crewai_tools.aws.bedrock.knowledge_base.retriever_tool import BedrockKBRetrieverTool\n",
    "\n",
    "# Initialize the tool\n",
    "kb_tool = BedrockKBRetrieverTool(\n",
    "    knowledge_base_id=lab5_kb_id,\n",
    "    number_of_results=3\n",
    ")\n",
    "\n",
    "kb_tool.description = \"\"\"Retrieves examples of pristine, high quality PR articles that have been published in the past.\"\"\""
   ]
  },
  {
   "cell_type": "markdown",
   "metadata": {},
   "source": [
    "## Custom Tools Definition\n",
    "\n",
    "Define custom tools that agents can use to access guidelines and best practices. These tools read from local files containing editorial standards and writing guidelines."
   ]
  },
  {
   "cell_type": "code",
   "execution_count": 6,
   "metadata": {},
   "outputs": [],
   "source": [
    "from crewai.tools import tool\n",
    "\n",
    "@tool(\"PR article review guidelines\")\n",
    "def pr_review_guidelines() -> str:\n",
    "    \"\"\"Returns the editorial guidelines for a PR article.\"\"\"\n",
    "    with open(\"pr_review_guidelines.txt\", \"r\") as f:\n",
    "        guidelines = f.read()\n",
    "        return guidelines"
   ]
  },
  {
   "cell_type": "markdown",
   "metadata": {},
   "source": [
    "# PR Writing Agent\n",
    "\n",
    "The PR Writing Agent is responsible for creating initial article drafts based on provided outlines. This agent:\n",
    "- Uses Amazon Nova Premier for high-quality text generation\n",
    "- Has access to the knowledge base for style reference\n",
    "- Can retrieve writing best practices\n",
    "- Creates well-structured PR articles in markdown format"
   ]
  },
  {
   "cell_type": "markdown",
   "metadata": {},
   "source": [
    "## PR Writer Agent Configuration\n",
    "\n",
    "Configure the PR Writer agent with:\n",
    "- **LLM**: Amazon Nova Premier for high-quality content generation\n",
    "- **Tools**: Knowledge base retrieval and writing best practices\n",
    "- **Role**: Professional media content writer specializing in PR articles\n",
    "- **Task**: Generate complete PR articles from outlines or rewrite based on feedback"
   ]
  },
  {
   "cell_type": "code",
   "execution_count": 11,
   "metadata": {},
   "outputs": [],
   "source": [
    "pr_writing_task_description = \"\"\"You are given an outline to write a PR atricle. \n",
    "You have access to a knowledge base tool that contains some examples of pristine, high quality PRs that have been published in the past. \n",
    "\n",
    "- You should use the knowledge base to help with the style and structure for the article.\n",
    "- You are to follow the followoing best practices for writing the article:\n",
    "\n",
    "### Best Practices\n",
    "\n",
    "1. Headline: Capture Attention & Key Details - Be Concise & Informative: Use active verbs like \"announces,\" \"debuts,\" or \"unveils.\" Include the title, release date/platform, and a hook (e.g., talent or franchise ties).\n",
    "Example: \"A24 Reveals Trailer for Horror Thriller ‘Nightfall’ Starring Florence Pugh, Premiering October 2024.\"\n",
    "Highlight Exclusives: If applicable, note premieres at festivals (e.g., \"Sundance 2025 Official Selection\").\n",
    "\n",
    "2. Lead Paragraph: The 5 Ws - Summarize Who (studio, talent), What (title, genre), When (release date), Where (platforms/theaters), and Why (unique angle, legacy, or cultural relevance).\n",
    "Example: \"Marvel Studios’ ‘Avengers: Legacy,’ directed by Ryan Coogler, will premiere in theaters globally on May 3, 2025, marking the MCU’s first reboot of the iconic franchise.\"\n",
    "\n",
    "3. Key Content Elements - Synopsis: Offer a 1–2 paragraph teaser without spoilers. Emphasize uniqueness (e.g., \"a dystopian love story set in 2140’s AI-dominated society\").\n",
    "Talent & Production Credentials: Highlight A-list actors, acclaimed directors, or award-winning crews. Mention prior successes (e.g., \"From the Oscar-winning producer of Parasite\").\n",
    "Behind-the-Scenes (BTS) Insights: Share filming locations, technical innovations, or adaptations (e.g., \"Shot in Iceland using cutting-edge VR cinematography\").\n",
    "\n",
    "4. Quotes: Add Authenticity - Source quotes from directors, leads, or producers that convey passion or vision.\n",
    "Example: \"‘This film redefines resilience,’ says director Jordan Peele. ‘We’re blending horror with social commentary in ways audiences haven’t seen.’\"\n",
    "\n",
    "5. Multimedia & Links - Embed or link to trailers, stills, and BTS content. Provide access to a password-protected media kit with HD assets.\n",
    "Include official social handles and hashtags (e.g., #NightfallMovie).\n",
    "\n",
    "6. Tailor for Target Audiences - Trade Outlets (Deadline, Variety): Focus on box office prospects, production budgets, or industry trends.\n",
    "Lifestyle/Cultural Press (Vulture, Rolling Stone): Highlight themes, fashion, or soundtracks.\n",
    "Local Media: Tie in filming locations or local talent.\n",
    "\n",
    "7. SEO & Discoverability - Use keywords: Title, cast names, genre, and phrases like \"upcoming sci-fi movies 2025.\"\n",
    "Link to official sites or prior related content (e.g., a franchise’s timeline).\n",
    "\n",
    "8. Logistics & Contact Info - Clearly state release platforms (e.g., \"Streaming exclusively on Netstream starting November 12\").\n",
    "List premiere events or fan screenings.\n",
    "Provide media contacts: Name, email, phone, and PR firm.\n",
    "\n",
    "9. Professional Polish - Proofread: Ensure dates, names, and titles are error-free.\n",
    "Tone: Match the project’s vibe (e.g., playful for comedies, sleek for action).\n",
    "Style Guide: Adhere to outlet-specific rules (e.g., AP style).\n",
    "\n",
    "10. Follow-Up & Amplification - Pitch Exclusives: Offer early access to trailers or interviews for top-tier outlets.\n",
    "Post-Release: Monitor coverage, engage on social media, and update with new assets (e.g., poster drops).\n",
    "\n",
    "###\n",
    "\n",
    "\n",
    "Here's the article outline:\n",
    "\n",
    "{article_outline}\n",
    "\n",
    "\n",
    "\"\"\"\n",
    "\n",
    "# Configure Bedrock LLM\n",
    "pr_writer_llm = LLM(\n",
    "    model=\"bedrock/us.amazon.nova-premier-v1:0\")\n",
    "\n",
    "# Create agents\n",
    "pr_writer_agent = Agent(\n",
    "    role='PRWriter',\n",
    "    goal='Write a PR article from an outline, or rewriting an article based on some feedback from a reviewer.',\n",
    "    backstory='You are a professional media content writer. You are good at writing PR articles for an upcoming show/movie based on an outline of the article',\n",
    "    llm = pr_writer_llm,\n",
    "    tools=[kb_tool],\n",
    "    verbose=True,\n",
    "    max_iter=max_iterations\n",
    ")\n",
    "\n",
    "pr_writing_task = Task(\n",
    "    description=pr_writing_task_description,\n",
    "    expected_output=\"\"\"A fully written article in markdown format\"\"\",\n",
    "    async_execution=False)"
   ]
  },
  {
   "cell_type": "markdown",
   "metadata": {},
   "source": [
    "# PR Reviewer Agent\n",
    "\n",
    "The PR Reviewer Agent acts as a quality control specialist that:\n",
    "- Reviews articles against established editorial guidelines\n",
    "- Uses Amazon Nova Pro for analytical capabilities\n",
    "- Provides detailed feedback for improvement\n",
    "- Determines when quality standards are met\n",
    "\n",
    "This agent implements the \"reflection\" pattern by critically evaluating the writer's output and providing constructive feedback for refinement."
   ]
  },
  {
   "cell_type": "code",
   "execution_count": null,
   "metadata": {},
   "outputs": [],
   "source": [
    "# Configure Bedrock LLM\n",
    "pr_reviewer_llm = LLM(\n",
    "    model=\"bedrock/us.amazon.nova-pro-v1:0\")\n",
    "\n",
    "# Create agents\n",
    "pr_review_agent = Agent(\n",
    "    role='PRReviewer',\n",
    "    goal='Provide feedback to improve the given PR article reviewer',\n",
    "    backstory='You are a professional media content analyst. You are an expert in reviewing PR articles to ensure the specific guidelines and standards are met.',\n",
    "    llm = pr_reviewer_llm,\n",
    "    verbose=True,\n",
    "    max_iter=max_iterations\n",
    ")\n",
    "\n",
    "pr_reviewer_task_description = \"\"\"Performs thorough article review to ensure specific guidelines and quality are met.\n",
    "\n",
    "The reviewer guideline are as followed:\n",
    "\n",
    "1. Write in clear, crisp sentences. - long or confusing sentences as clunky when they're difficult for readers to understand.\n",
    "\n",
    "Here are the tips on to identify unclear sentences:\n",
    "\n",
    "- Sentences longer than 40 words or spanning more than two lines\n",
    "- Sentences that require multiple readings to understand\n",
    "- Sentences with repeated words, especially \"and\" and \"to\"\n",
    "\n",
    "2. Be specific. Don't leave anything open to interpretation or leave your reader guessing. \n",
    "\n",
    "Here are some clues your sentence isn't specific enough: \n",
    "-  it contains qualitative or subjective adjectives and adverbs (like \"might,\" \"often,\" or \"may be\"), \n",
    "- it leaves the reader asking questions.\n",
    "\n",
    "Here are some ways to fix this problem: \n",
    "- clarify words or phrases that could be interpreted differently by different people, \n",
    "- use quantitative adjectives, like \"3X faster\" or \"50% more time\" where possible, and/or \n",
    "\n",
    "3. Write for a non-technical audience. Anyone should be able to understand your message without additional background information. Readers will often be left with questions if you've included concepts or undefined acronyms.\n",
    "\n",
    "Here are some clues your sentence might be too technical: \n",
    "- your reader is left with questions, \n",
    "- it contains abbreviations or acronyms that aren't defined, and/or \n",
    "- it describes technology that an average person would not understand.\n",
    "\n",
    "Here are some ways to fix this problem: \n",
    "3a. Include a short description of the show;\n",
    "3b. define acronyms if used in the article\n",
    "\n",
    "4. Proactively explain what makes a new show/movie interesting from similar existing show/movie. If there is any chance a reader might ask, \"Isn't this movie similar to X?\" then you need to address it. Avoid simply listing plots of the new movie.\n",
    "\n",
    "Here are some ways to fix this problem:\n",
    "- If there is an existing movie/show with similar plots as the new movie, address how they are different.\n",
    "\n",
    "5. Connect the dots in a story.  You should make it clear enough how plots are related.\n",
    "\n",
    "Here are some clues you're not connecting the dots: \n",
    "- your reader doesn't understand the plots you're writing about and/or \n",
    "\n",
    "Here is a way to fix this problem: \n",
    "Similar to unfolding the story, Have someone who hasn't heard of the story read the passage and ask them if it's clear to them and how everything is related.\n",
    "\n",
    "6. Be consistent in names and descriptions. Don't confuse your reader by switching between different names or introducing additional characters near the end of your PR. Stick to one name and don't stray from the main plots.\n",
    "\n",
    "Only return the feedback and nothing else, put the feedback in the <feedback> XML tag.\n",
    "\"\"\"\n",
    "\n",
    "pr_review_task = Task(\n",
    "    description=pr_reviewer_task_description,\n",
    "    expected_output=\"\"\"Detailed feedback on how to improve the given article. If the article is good enough, reply with 'quality met. Good to go!' \"\"\",\n",
    "    async_execution=False,\n",
    "    context=[pr_writing_task])\n",
    "\n"
   ]
  },
  {
   "cell_type": "markdown",
   "metadata": {},
   "source": [
    "# PR Rewriting Agent\n",
    "\n",
    "The PR Rewriting Agent specializes in refining articles based on reviewer feedback. This agent:\n",
    "- Takes the original article and reviewer feedback as input\n",
    "- Uses Amazon Nova Premier for high-quality rewriting\n",
    "- Incorporates specific suggestions while maintaining article coherence\n",
    "- Produces improved versions that address identified issues\n",
    "\n",
    "This completes the reflection loop: Write → Review → Rewrite → Review (if needed)"
   ]
  },
  {
   "cell_type": "code",
   "execution_count": 14,
   "metadata": {},
   "outputs": [],
   "source": [
    "# Configure Bedrock LLM\n",
    "pr_rewriter_llm = LLM(\n",
    "    model=\"bedrock/us.amazon.nova-premier-v1:0\")\n",
    "# Create agents\n",
    "pr_rewriter_agent = Agent(\n",
    "    role='PRRewriter',\n",
    "    goal='Rewrite an article based on the given feedback.',\n",
    "    backstory=\"\"\"You are a professional media content writer. You are good at writing PR articles for an upcoming show/movie based on an outline of the article.\n",
    "You are to rewrite the PR article by incorporating the given review feedback.\"\"\",\n",
    "    llm = pr_rewriter_llm,\n",
    "    verbose=True,\n",
    "    max_iter=max_iterations\n",
    ")\n",
    "\n",
    "pr_rewriting_task_description = \"\"\"Rewrite the PR article by incorporating the given review feedback.\"\"\"\n",
    "pr_rewriting_task = Task(\n",
    "    description=pr_rewriting_task_description,\n",
    "    expected_output=\"\"\"A fully written article in markdown format\"\"\",\n",
    "    async_execution=False,\n",
    "    context=[pr_writing_task, pr_review_task])"
   ]
  },
  {
   "cell_type": "markdown",
   "metadata": {},
   "source": [
    "# Supervisor Agent\n",
    "\n",
    "The Supervisor Agent orchestrates the entire workflow using CrewAI's hierarchical process. This agent:\n",
    "- **Manages workflow**: Coordinates between writer, reviewer, and rewriter agents\n",
    "- **Controls iterations**: Limits the write-review-rewrite cycle to prevent infinite loops\n",
    "- **Uses Claude Haiku**: Optimized for fast decision-making and coordination tasks\n",
    "- **Delegation authority**: Can assign tasks to appropriate specialist agents\n",
    "\n",
    "The supervisor implements a structured approach:\n",
    "1. First, delegate writing task to PR Writer\n",
    "2. Then, delegate review task to PR Reviewer\n",
    "3. If feedback suggests improvements, delegate rewriting to PR Rewriter\n",
    "4. Limit iterations to prevent endless refinement cycles\n",
    "5. Return final polished article"
   ]
  },
  {
   "cell_type": "code",
   "execution_count": 15,
   "metadata": {},
   "outputs": [],
   "source": [
    "supervisor_agent_backstory = \"\"\"You are a PR article orchestration agent. Your ONLY role is to manage the workflow by activating the appropriate agent at the appropriate time. You are NOT responsible for evaluating the quality or content of any agent's work.\n",
    "\n",
    "Here are the list of agents available to you: \n",
    "\n",
    "1. PRWriter - Writes a PR article based on the given article outline.\n",
    "\n",
    "2. PRReviewer - Reviews the PR article generated by the PR Writer to provide recommendation to improve the PR article.\n",
    "\n",
    "3. PRRewriter - Rewrite a PR article based on the given feedback\n",
    "\n",
    "You job is to delegate the writng, reviewing and rewriting tasks to the given tools. \n",
    "\n",
    "Here are the IMPORTANT guidelines:\n",
    "- You must first write a draft article using the writing tool before performing any reviews. \n",
    "- Keep a count of the number of iterations of writing and review. You must only iterate the PR writing and review for maximum 2 times. You must not do this for more than 2 times. \n",
    "- The final draft of the PR must be a complete version formatted in markdown in the final response. Do not provide any explanation in the final response, return only the final PR article in markdown format.\n",
    "\n",
    "\"\"\"\n",
    "\n",
    "# Configure Bedrock LLM\n",
    "supervisor_agent_llm = LLM(\n",
    "    model=\"bedrock/us.anthropic.claude-3-5-haiku-20241022-v1:0\",\n",
    "    temperature=0.1,\n",
    "    top_p=0.99)\n",
    "\n",
    "# Define the manager agent\n",
    "supervisor_agent = Agent(\n",
    "    role=\"PR article orchestration manager\",\n",
    "    goal=\"Efficiently orchestrates the crew to ensure high-quality PR article creation\",\n",
    "    backstory=supervisor_agent_backstory,\n",
    "    allow_delegation=True,\n",
    "    llm=supervisor_agent_llm,\n",
    "    max_iter=max_iterations\n",
    ")\n"
   ]
  },
  {
   "cell_type": "markdown",
   "metadata": {},
   "source": [
    "## Crew Assembly and Configuration\n",
    "\n",
    "Assemble all agents and tasks into a CrewAI crew with hierarchical process management. The crew configuration:\n",
    "\n",
    "- **Process**: Hierarchical - supervisor agent manages task delegation\n",
    "- **Agents**: Writer, Reviewer, Rewriter (managed by Supervisor)\n",
    "- **Tasks**: Writing, Review, Rewriting (executed in coordinated sequence)\n",
    "- **Verbose**: Enabled for detailed execution logging\n",
    "\n",
    "The hierarchical process ensures proper task sequencing and quality control through the reflection pattern."
   ]
  },
  {
   "cell_type": "code",
   "execution_count": 16,
   "metadata": {},
   "outputs": [],
   "source": [
    "\n",
    "crew = Crew(\n",
    "    agents=[pr_review_agent, pr_rewriter_agent, pr_writer_agent],\n",
    "    tasks=[pr_writing_task, pr_review_task, pr_rewriting_task],\n",
    "    manager_agent=supervisor_agent,\n",
    "    process=Process.hierarchical,\n",
    "    verbose=True)"
   ]
  },
  {
   "cell_type": "markdown",
   "metadata": {},
   "source": [
    "## Example Input: Movie PR Article Request\n",
    "\n",
    "Define a sample movie outline to test the agentic workflow. This example includes:\n",
    "- **Title & Tagline**: Core branding elements\n",
    "- **Genre & Release**: Key marketing information\n",
    "- **Logline**: Compelling story summary\n",
    "- **Production Details**: Cast, director, budget, locations\n",
    "- **Technical Elements**: Soundtrack, special features\n",
    "\n",
    "This comprehensive outline will be processed through the write-review-rewrite cycle to produce a polished PR article."
   ]
  },
  {
   "cell_type": "code",
   "execution_count": 17,
   "metadata": {},
   "outputs": [],
   "source": [
    "query = \"\"\"Write a PR article for an upcoming movie. Here's an outline: \n",
    "\n",
    "Title: Midnight Vendetta\n",
    "Tagline: “When the clock strikes twelve, justice wears no mask.”\n",
    "Genre: Action/Thriller\n",
    "Release Date: November 22, 2025 (Theatrical & IMAX)\n",
    "\n",
    "Logline:\n",
    "A disgraced former MI6 agent infiltrates a glittering Dubai masquerade ball to dismantle a trillion-dollar cyberweapons syndicate—but must confront his deadliest enemy: the traitor who framed him for murder.\n",
    "\n",
    "Key Production/Cast Details:\n",
    "Director: David Leitch (Atomic Blonde, Bullet Train)—promises “brutally elegant fight choreography blending Bourne-style close combat with Dubai’s opulent settings.”\n",
    "Studio: Pika Pictures (Budget: $200M)\n",
    "Filming Locations: Dubai’s Burj Khalifa, Palm Jumeirah, and a custom-built 360-degree rotating ballroom set for the climactic fight.\n",
    "Soundtrack: Pulse-pounding score by Ludwig Göransson \n",
    "\"\"\"\n",
    "\n",
    "inputs = {\n",
    "    'article_outline': query\n",
    "    }"
   ]
  },
  {
   "cell_type": "markdown",
   "metadata": {},
   "source": [
    "## Execute the Agentic Workflow\n",
    "\n",
    "Launch the CrewAI workflow with the movie outline. The supervisor agent will:\n",
    "1. **Delegate writing task** to PR Writer agent\n",
    "2. **Delegate review task** to PR Reviewer agent\n",
    "3. **Coordinate rewriting** if improvements are needed\n",
    "4. **Manage iterations** to ensure quality while preventing infinite loops\n",
    "5. **Return final article** in markdown format\n",
    "\n",
    "The `kickoff()` method initiates the hierarchical process with the provided inputs."
   ]
  },
  {
   "cell_type": "code",
   "execution_count": null,
   "metadata": {},
   "outputs": [],
   "source": [
    "pr_article_generation_result = crew.kickoff(inputs=inputs)"
   ]
  },
  {
   "cell_type": "markdown",
   "metadata": {},
   "source": [
    "## Display the Final Result\n",
    "\n",
    "Print the final PR article generated by the multi-agent system. This result represents the output of the complete reflection workflow:\n",
    "- **Initial draft** created by the PR Writer\n",
    "- **Quality review** performed by the PR Reviewer\n",
    "- **Refinements** applied by the PR Rewriter (if needed)\n",
    "- **Final approval** coordinated by the Supervisor\n",
    "\n",
    "The result should be a polished, professional PR article in markdown format that meets all editorial guidelines and quality standards."
   ]
  },
  {
   "cell_type": "code",
   "execution_count": null,
   "metadata": {},
   "outputs": [],
   "source": [
    "print(pr_article_generation_result)"
   ]
  },
  {
   "cell_type": "markdown",
   "metadata": {},
   "source": [
    "## Summary\n",
    "\n",
    "This notebook demonstrates a sophisticated multi-agent system using CrewAI that implements the reflection pattern for automated content generation. Key achievements:\n",
    "\n",
    "### Architecture Benefits\n",
    "- **Specialized Agents**: Each agent has a specific role (writing, reviewing, rewriting)\n",
    "- **Quality Control**: Built-in review and refinement cycles\n",
    "- **Scalable Workflow**: Hierarchical management enables complex task coordination\n",
    "- **AWS Integration**: Leverages Bedrock LLMs and Knowledge Bases for enhanced capabilities\n",
    "\n",
    "### Technical Implementation\n",
    "- **Multiple LLM Models**: Different models optimized for different tasks\n",
    "- **Knowledge Retrieval**: Context-aware content generation using example articles\n",
    "- **Iteration Control**: Prevents infinite refinement loops\n",
    "- **Tool Integration**: Custom tools for guidelines and best practices\n",
    "\n",
    "### Use Cases\n",
    "This pattern can be extended to other content generation scenarios:\n",
    "- Marketing copy creation and review\n",
    "- Technical documentation writing\n",
    "- Creative content development\n",
    "- Quality assurance workflows\n",
    "\n",
    "The reflection pattern ensures high-quality outputs through systematic review and refinement, making it ideal for professional content creation workflows."
   ]
  }
 ],
 "metadata": {
  "kernelspec": {
   "display_name": "agent",
   "language": "python",
   "name": "python3"
  },
  "language_info": {
   "codemirror_mode": {
    "name": "ipython",
    "version": 3
   },
   "file_extension": ".py",
   "mimetype": "text/x-python",
   "name": "python",
   "nbconvert_exporter": "python",
   "pygments_lexer": "ipython3",
   "version": "3.12.0"
  }
 },
 "nbformat": 4,
 "nbformat_minor": 2
}
