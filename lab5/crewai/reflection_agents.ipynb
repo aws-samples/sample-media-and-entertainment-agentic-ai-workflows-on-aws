{
 "cells": [
  {
   "cell_type": "markdown",
   "metadata": {},
   "source": [
    "# Building a Crew AI Agentic Application"
   ]
  },
  {
   "cell_type": "code",
   "execution_count": 2,
   "metadata": {},
   "outputs": [],
   "source": [
    "from crewai import Agent, Crew, Process, Task\n",
    "import re"
   ]
  },
  {
   "cell_type": "code",
   "execution_count": null,
   "metadata": {},
   "outputs": [],
   "source": [
    "%store -r"
   ]
  },
  {
   "cell_type": "code",
   "execution_count": 3,
   "metadata": {},
   "outputs": [],
   "source": [
    "max_iterations = 2"
   ]
  },
  {
   "cell_type": "code",
   "execution_count": 4,
   "metadata": {},
   "outputs": [],
   "source": [
    "%load_ext dotenv\n",
    "%dotenv ../.env"
   ]
  },
  {
   "cell_type": "code",
   "execution_count": null,
   "metadata": {},
   "outputs": [],
   "source": [
    "import boto3\n",
    "from langchain_aws import ChatBedrockConverse\n",
    "from typing import Optional\n",
    "\n",
    "sts_client = boto3.client('sts')\n",
    "session = boto3.session.Session()\n",
    "\n",
    "account_id = sts_client.get_caller_identity()[\"Account\"]\n",
    "region = session.region_name\n",
    "\n",
    "s3_client = boto3.client('s3', region)\n",
    "bedrock_client = boto3.client('bedrock-runtime', region)\n",
    "bedrock_agent_runtime_client = boto3.client(\"bedrock-agent-runtime\", region)"
   ]
  },
  {
   "cell_type": "code",
   "execution_count": null,
   "metadata": {},
   "outputs": [],
   "source": [
    "import sys\n",
    "import uuid\n",
    "\n",
    "sys.path.insert(0, \".\")\n",
    "sys.path.insert(1, \"..\")\n",
    "\n",
    "from utils.knowledge_base_helper import (\n",
    "    KnowledgeBasesForAmazonBedrock\n",
    ")\n",
    "kb = KnowledgeBasesForAmazonBedrock()\n",
    "\n",
    "knowledge_base_name = f'pr-agent-kb-{str(uuid.uuid4())[:5]}'\n",
    "knowledge_base_description = \"KB containing information about pristine PR articles\"\n",
    "s3_bucket_name = f\"labs-bucket-{region}-{account_id}\"\n",
    "bucket_prefix = \"data/kb/reflection/\"\n",
    "\n",
    "kb_id, ds_id = kb.create_or_retrieve_knowledge_base(\n",
    "    knowledge_base_name,\n",
    "    knowledge_base_description,\n",
    "    s3_bucket_name,\n",
    "    \"amazon.titan-embed-text-v2:0\",\n",
    "    bucket_prefix\n",
    ")\n",
    "\n",
    "print(f\"Knowledge Base ID: {kb_id}\")\n",
    "print(f\"Data Source ID: {ds_id}\")"
   ]
  },
  {
   "cell_type": "code",
   "execution_count": null,
   "metadata": {},
   "outputs": [],
   "source": [
    "def upload_directory(path, bucket_name, bucket_prefix):\n",
    "    for root,dirs,files in os.walk(path):\n",
    "        for file in files:\n",
    "            file_to_upload = os.path.join(root,file)\n",
    "            print(f\"uploading file {file_to_upload} to {bucket_name}\")\n",
    "            s3_client.upload_file(file_to_upload,bucket_name,f\"{bucket_prefix}{file}\")"
   ]
  },
  {
   "cell_type": "code",
   "execution_count": null,
   "metadata": {},
   "outputs": [],
   "source": [
    "upload_directory(\"../good_prs\", s3_bucket_name, bucket_prefix)"
   ]
  },
  {
   "cell_type": "code",
   "execution_count": 5,
   "metadata": {},
   "outputs": [],
   "source": [
    "from crewai import Agent, Task, Crew, LLM\n",
    "from crewai_tools.aws.bedrock.knowledge_base.retriever_tool import BedrockKBRetrieverTool\n",
    "\n",
    "# Initialize the tool\n",
    "kb_tool = BedrockKBRetrieverTool(\n",
    "    knowledge_base_id=kb_id,\n",
    "    number_of_results=3\n",
    ")\n",
    "\n",
    "kb_tool.description = \"\"\"Retrieves examples of pristine, high quality PR articles that have been published in the past.\"\"\""
   ]
  },
  {
   "cell_type": "code",
   "execution_count": 6,
   "metadata": {},
   "outputs": [],
   "source": [
    "from crewai.tools import tool\n",
    "\n",
    "@tool(\"PR article review guidelines\")\n",
    "def pr_review_guidelines() -> str:\n",
    "    \"\"\"Returns the editorial guidelines for a PR article.\"\"\"\n",
    "    with open(\"pr_review_guidelines.txt\", \"r\") as f:\n",
    "        guidelines = f.read()\n",
    "        return guidelines"
   ]
  },
  {
   "cell_type": "markdown",
   "metadata": {},
   "source": [
    "# PR Writing Agent"
   ]
  },
  {
   "cell_type": "code",
   "execution_count": 7,
   "metadata": {},
   "outputs": [],
   "source": [
    "@tool(\"PR article writing best practices\")\n",
    "def pr_writing_best_practices() -> str:\n",
    "    \"\"\"Returns the editorial best practices for writing PR articles.\"\"\"\n",
    "    with open(\"pr_article_writing_best_practices.txt\", \"r\") as f:\n",
    "        best_practices = f.read()\n",
    "        return best_practices"
   ]
  },
  {
   "cell_type": "code",
   "execution_count": 8,
   "metadata": {},
   "outputs": [],
   "source": [
    "pr_writing_task_description = \"\"\"You are given an outline to write a PR atricle. \n",
    "You have access to a best practice tool to find the best practices for writing the article.\n",
    "You also have access to a knowledge base tool that contains some examples of pristine, high quality PRs that have been published in the past. \n",
    "You should use the knowledge base to help with the style and structure for the article.\n",
    "\n",
    "Here's the article outline:\n",
    "\n",
    "{article_outline}\n",
    "\n",
    "\"\"\"\n",
    "\n",
    "# Configure Bedrock LLM\n",
    "pr_writer_llm = LLM(\n",
    "    model=\"bedrock/us.amazon.nova-premier-v1:0\")\n",
    "\n",
    "# Create agents\n",
    "pr_writer_agent = Agent(\n",
    "    role='PRWriter',\n",
    "    goal='Write a PR article from an outline, or rewriting an article based on some feedback from a reviewer.',\n",
    "    backstory='You are a professional media content writer. You are good at writing PR articles for an upcoming show/movie based on an outline of the article',\n",
    "    llm = pr_writer_llm,\n",
    "    tools=[kb_tool, pr_writing_best_practices],\n",
    "    verbose=True,\n",
    "    max_iter=max_iterations\n",
    ")\n",
    "\n",
    "pr_writing_task = Task(\n",
    "    description=pr_writing_task_description,\n",
    "    expected_output=\"\"\"A fully written article in markdown format\"\"\",\n",
    "    # agent=pr_writer_agent,\n",
    "    async_execution=False)"
   ]
  },
  {
   "cell_type": "markdown",
   "metadata": {},
   "source": [
    "# PR Reviewer Agent"
   ]
  },
  {
   "cell_type": "code",
   "execution_count": 9,
   "metadata": {},
   "outputs": [],
   "source": [
    "# Configure Bedrock LLM\n",
    "pr_reviewer_llm = LLM(\n",
    "    model=\"bedrock/us.amazon.nova-pro-v1:0\")\n",
    "\n",
    "# Create agents\n",
    "pr_review_agent = Agent(\n",
    "    role='PRReviewer',\n",
    "    goal='Provide feedback to improve the given PR article reviewer',\n",
    "    backstory='You are a professional media content analyst. You are an expert in reviewing PR articles to ensure the specific guidelines and standards are met.',\n",
    "    llm = pr_reviewer_llm,\n",
    "    verbose=True,\n",
    "    tools=[pr_review_guidelines],\n",
    "    max_iter=max_iterations\n",
    ")\n",
    "\n",
    "pr_reviewer_task_description = \"\"\"Performs thorough article review to ensure specific guidelines and quality are met.\n",
    "\n",
    "You have access to a reviewer guideline tool that contains the specific guidelines to follow.\n",
    "\"\"\"\n",
    "\n",
    "pr_review_task = Task(\n",
    "    description=pr_reviewer_task_description,\n",
    "    expected_output=\"\"\"Detailed feedback on how to improve the given article. If the article is good enough, reply with 'quality met. Good to go!' \"\"\",\n",
    "    # agent=pr_review_agent,\n",
    "    async_execution=False,\n",
    "    context=[pr_writing_task])\n",
    "\n"
   ]
  },
  {
   "cell_type": "markdown",
   "metadata": {},
   "source": [
    "# PR Rewriting Agent"
   ]
  },
  {
   "cell_type": "code",
   "execution_count": 10,
   "metadata": {},
   "outputs": [],
   "source": [
    "# Configure Bedrock LLM\n",
    "pr_rewriter_llm = LLM(\n",
    "    model=\"bedrock/us.amazon.nova-premier-v1:0\")\n",
    "# Create agents\n",
    "pr_rewriter_agent = Agent(\n",
    "    role='PRRewriter',\n",
    "    goal='Rewrite an article based on the given feedback.',\n",
    "    backstory=\"\"\"You are a professional media content writer. You are good at writing PR articles for an upcoming show/movie based on an outline of the article.\n",
    "You are to rewrite the PR article by incorporating the given review feedback.\"\"\",\n",
    "    llm = pr_rewriter_llm,\n",
    "    tools = [pr_writing_best_practices],\n",
    "    verbose=True,\n",
    "    max_iter=max_iterations\n",
    ")\n",
    "\n",
    "pr_rewriting_task_description = \"\"\"Rewrite the PR article by incorporating the given review feedback.\"\"\"\n",
    "pr_rewriting_task = Task(\n",
    "    description=pr_rewriting_task_description,\n",
    "    expected_output=\"\"\"A fully written article in markdown format\"\"\",\n",
    "    # agent=pr_rewriter_agent,\n",
    "    async_execution=False,\n",
    "    context=[pr_writing_task, pr_review_task])"
   ]
  },
  {
   "cell_type": "markdown",
   "metadata": {},
   "source": [
    "# Supervisor Agent  "
   ]
  },
  {
   "cell_type": "code",
   "execution_count": null,
   "metadata": {},
   "outputs": [],
   "source": [
    "supervisor_agent_backstory = \"\"\"You are a PR article orchestration agent. Your ONLY role is to manage the workflow by activating the appropriate agent at the appropriate time. You are NOT responsible for evaluating the quality or content of any agent's work.\n",
    "\n",
    "Here are the list of agents available to you: \n",
    "\n",
    "1. PRWriter - Writes a PR article based on the given article outline.\n",
    "\n",
    "2. PRReviewer - Reviews the PR article generated by the PR Writer to provide recommendation to improve the PR article.\n",
    "\n",
    "3. PRRewriter - Rewrite a PR article based on the given feedback\n",
    "\n",
    "You job is to delegate the writng, reviewing and rewriting tasks to the given tools. \n",
    "\n",
    "Here are the IMPORTANT guidelines:\n",
    "- You must first write a draft article using the writing tool before performing any reviews. \n",
    "- Keep a count of the number of iterations of writing and review. You must only iterate the PR writing and review for maximum 2 times. You must not do this for more than 2 times. \n",
    "- The final draft of the PR must be a complete version formatted in markdown in the final response. Do not provide any explanation in the final response, return only the final PR article in markdown format.\n",
    "\n",
    "\"\"\"\n",
    "\n",
    "# Configure Bedrock LLM\n",
    "supervisor_agent_llm = LLM(\n",
    "    model=\"bedrock/us.anthropic.claude-3-5-haiku-20241022-v1:0\",\n",
    "    # model=\"bedrock/us.amazon.nova-premier-v1:0\",\n",
    "    temperature=0.1,\n",
    "    top_p=0.99)\n",
    "\n",
    "# Define the manager agent\n",
    "supervisor_agent = Agent(\n",
    "    role=\"PR article orchestration manager\",\n",
    "    goal=\"Efficiently orchestrates the crew to ensure high-quality PR article creation\",\n",
    "    backstory=supervisor_agent_backstory,\n",
    "    allow_delegation=True,\n",
    "    llm=supervisor_agent_llm,\n",
    "    max_iter=max_iterations\n",
    ")\n"
   ]
  },
  {
   "cell_type": "code",
   "execution_count": 12,
   "metadata": {},
   "outputs": [],
   "source": [
    "\n",
    "crew = Crew(\n",
    "    agents=[pr_review_agent, pr_rewriter_agent, pr_writer_agent],\n",
    "    tasks=[pr_writing_task, pr_review_task, pr_rewriting_task],\n",
    "    manager_agent=supervisor_agent,\n",
    "    process=Process.hierarchical,\n",
    "    # manager_llm=supervisor_agent_llm,\n",
    "    # chat_llm=supervisor_agent_llm,\n",
    "    # planning=True,\n",
    "    # planning_llm=supervisor_agent_llm,\n",
    "    # memory=True,\n",
    "    verbose=True)"
   ]
  },
  {
   "cell_type": "code",
   "execution_count": 13,
   "metadata": {},
   "outputs": [],
   "source": [
    "query = \"\"\"Write a PR article for an upcoming movie. Here's an outline: \n",
    "\n",
    "Title: Midnight Vendetta\n",
    "Tagline: “When the clock strikes twelve, justice wears no mask.”\n",
    "Genre: Action/Thriller\n",
    "Release Date: November 22, 2025 (Theatrical & IMAX)\n",
    "\n",
    "Logline:\n",
    "A disgraced former MI6 agent infiltrates a glittering Dubai masquerade ball to dismantle a trillion-dollar cyberweapons syndicate—but must confront his deadliest enemy: the traitor who framed him for murder.\n",
    "\n",
    "Key Production/Cast Details:\n",
    "Director: David Leitch (Atomic Blonde, Bullet Train)—promises “brutally elegant fight choreography blending Bourne-style close combat with Dubai’s opulent settings.”\n",
    "Studio: Pika Pictures (Budget: $200M)\n",
    "Filming Locations: Dubai’s Burj Khalifa, Palm Jumeirah, and a custom-built 360-degree rotating ballroom set for the climactic fight.\n",
    "Soundtrack: Pulse-pounding score by Ludwig Göransson \n",
    "\"\"\"\n",
    "\n",
    "inputs = {\n",
    "    'article_outline': query\n",
    "    }"
   ]
  },
  {
   "cell_type": "code",
   "execution_count": null,
   "metadata": {},
   "outputs": [],
   "source": [
    "pr_article_generation_result = crew.kickoff(inputs=inputs)"
   ]
  },
  {
   "cell_type": "code",
   "execution_count": null,
   "metadata": {},
   "outputs": [],
   "source": [
    "print(pr_article_generation_result)"
   ]
  },
  {
   "cell_type": "code",
   "execution_count": null,
   "metadata": {},
   "outputs": [],
   "source": []
  }
 ],
 "metadata": {
  "kernelspec": {
   "display_name": "agent",
   "language": "python",
   "name": "python3"
  },
  "language_info": {
   "codemirror_mode": {
    "name": "ipython",
    "version": 3
   },
   "file_extension": ".py",
   "mimetype": "text/x-python",
   "name": "python",
   "nbconvert_exporter": "python",
   "pygments_lexer": "ipython3",
   "version": "3.12.0"
  }
 },
 "nbformat": 4,
 "nbformat_minor": 2
}
