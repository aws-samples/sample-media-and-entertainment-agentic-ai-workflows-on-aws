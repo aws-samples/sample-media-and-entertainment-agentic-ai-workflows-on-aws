{
 "cells": [
  {
   "cell_type": "markdown",
   "metadata": {
    "vscode": {
     "languageId": "plaintext"
    }
   },
   "source": [
    "# Productionize Agentic AI Applications Using Amazon Bedrock AgentCore\n",
    "\n",
    "## Overview\n",
    "Successfully deploying AI agents to production requires a comprehensive set of capabilities that go far beyond basic model inference. This lab demonstrates the **essential production-grade components** needed for enterprise agentic workloads:\n",
    "\n",
    "### **Infrastructure & Deployment Foundation**\n",
    "- **Containerized Deployment**: Package agents with all dependencies in Docker containers for consistent, portable deployments across environments\n",
    "- **Managed Runtime Environment**: AgentCore Runtime provides auto-scaling, health monitoring, and resource management without infrastructure overhead\n",
    "- **Infrastructure as Code (IaC) Readiness**: Configuration-driven deployments that integrate seamlessly with CI/CD pipelines\n",
    "- \n",
    "\n",
    "### **Enterprise Security & Identity Management**\n",
    "- **Multi-Tenant Session Isolation**: Each user session runs in dedicated microVMs with isolated compute, memory, and filesystem resources\n",
    "- **Industry-Standard Authentication**: Support for OAuth 2.0, JWT tokens, API keys, and AWS Sigv4 for flexible identity integration\n",
    "- **Credential Management**: Secure handling of access tokens and service credentials without exposing sensitive information\n",
    "- **Access Control**: Fine-grained permissions through IAM roles and policies, ensuring agents operate with least-privilege principles\n",
    "\n",
    "### **Production Observability & Monitoring**\n",
    "- **Real-Time Metrics**: Track invocation counts, latency, error rates, throttling, and resource utilization across all agent operations\n",
    "- **Hierarchical Tracing**: Four-tier observability model (Runtime → Sessions → Traces → Spans) providing complete visibility into agent execution\n",
    "- **OpenTelemetry Compatibility**: Standards-based telemetry integration with existing monitoring stacks and enterprise observability tools\n",
    "- **Visual Debugging**: CloudWatch dashboards with trace timelines, error breakdowns, and performance analytics for rapid troubleshooting\n",
    "\n",
    "### **Scalability & Performance Optimization**\n",
    "- **Automatic Scaling**: Dynamic resource allocation based on demand without manual intervention\n",
    "- **Session-Based Resource Management**: Efficient resource utilization through intelligent session lifecycle management\n",
    "- **Cross-Session Data Protection**: Memory sanitization and resource cleanup preventing data leakage between user sessions\n",
    "- **Optimized Execution Paths**: Performance monitoring and optimization capabilities for production workload efficiency\n",
    "\n",
    "\n",
    "## Core Objectives\n",
    "In this lab, we'll transform the local multi-agent system from lab7 into a **production-ready application** deployed on [Amazon Bedrock AgentCore Runtime](https://docs.aws.amazon.com/bedrock-agentcore/latest/devguide/agents-tools-runtime.html). You'll master:\n",
    "\n",
    "**Note:** This lab depends on the completion of the Strands Agent in lab7. Please complete lab7 before running this particular lab.\n",
    "\n",
    "The workflow shown in the diagram above is as follows:\n",
    "\n",
    "1. A journalist submits facts to a front-end backed by an LLM (Interface Supervisor)\n",
    "2. The Interface Supervisor agent sends the facts to a Research agent.\n",
    "3. The Research agent is equipped with a Tool that does the following:\n",
    "   1. Entity Extraction: These can be people, companies, products, etc.\n",
    "   2. Gather background information: This uses the Bedrock Knowledge Base we created in the setup phase. If any entity has low confidence scores, i.e. not mentioned anywhere in the Knowledge Base it is discarded.\n",
    "4. The Lambda then returns the research to the Research agent, which returns it to the Interface Supervisor agent.\n",
    "5. Once additional context has been provided by the Research agent, the Interface Supervisor agent sends the research and the facts to the Article Generation agent. This agent is part of a reflection pattern we covered earlier (Lab 5):\n",
    "   1. News Generation agent: This writes the main news article based on the information provided by the Research agent.\n",
    "   2. Article Reviewer agent: This provides feedback to the News Generation agent and together, these agents iteratively improve the quality of the generated article.\n",
    "6. The remainder of the architecture is shown for completeness, and won't be part of this lab. Feel free to implement that if you have time at the end.\n",
    "\n",
    "\n",
    "### Agent Architecture\n",
    "Let's review the architecture of the agent that we built in lab7. In the following section, we will describe how to deploy an existing agent to AgentCore runtime with all the production-grade capabilities outlined above.\n",
    "\n",
    "<div style=\"text-align:left\">\n",
    "    <img src=\"../imgs/lab8-strands-local.png\" width=\"80%\"/>\n",
    "</div>\n",
    "\n",
    "This architecture transforms from a local development environment to a **cloud-native, enterprise-ready deployment** that demonstrates industry best practices for production AI agent systems.\n"
   ]
  },
  {
   "cell_type": "code",
   "execution_count": 1,
   "metadata": {},
   "outputs": [],
   "source": [
    "%load_ext dotenv\n",
    "%dotenv ./.env"
   ]
  },
  {
   "cell_type": "code",
   "execution_count": null,
   "metadata": {},
   "outputs": [],
   "source": [
    "## Prerequisites\n"
   ]
  },
  {
   "cell_type": "code",
   "execution_count": 2,
   "metadata": {},
   "outputs": [
    {
     "name": "stdout",
     "output_type": "stream",
     "text": [
      "✅ 'uv' is already installed.\n",
      "📦 Installing botocore, boto3 using uv...\n"
     ]
    },
    {
     "name": "stderr",
     "output_type": "stream",
     "text": [
      "\u001b[2mUsing Python 3.12.0 environment at: /Users/weteh/miniconda3/envs/agent\u001b[0m\n",
      "\u001b[2mAudited \u001b[1m2 packages\u001b[0m \u001b[2min 53ms\u001b[0m\u001b[0m\n"
     ]
    }
   ],
   "source": [
    "# Make sure you download the latest botocore and boto3 libraries.\n",
    "import shutil\n",
    "import subprocess\n",
    "import sys\n",
    "\n",
    "def ensure_uv_installed():\n",
    "    if shutil.which(\"uv\") is None:\n",
    "        print(\"🔧 'uv' not found. Installing with pip...\")\n",
    "        subprocess.check_call([sys.executable, \"-m\", \"pip\", \"install\", \"uv\"])\n",
    "    else:\n",
    "        print(\"✅ 'uv' is already installed.\")\n",
    "\n",
    "def uv_install(*packages):\n",
    "    ensure_uv_installed()\n",
    "    uv_path = shutil.which(\"uv\")\n",
    "    print(f\"📦 Installing {', '.join(packages)} using uv...\")\n",
    "    subprocess.check_call([uv_path, \"pip\", \"install\", *packages])\n",
    "\n",
    "uv_install(\"botocore\", \"boto3\")"
   ]
  },
  {
   "cell_type": "code",
   "execution_count": 3,
   "metadata": {},
   "outputs": [
    {
     "name": "stdout",
     "output_type": "stream",
     "text": [
      "\u001b[2mUsing Python 3.12.0 environment at: /Users/weteh/miniconda3/envs/agent\u001b[0m\n",
      "\u001b[2K\u001b[2mResolved \u001b[1m95 packages\u001b[0m \u001b[2min 461ms\u001b[0m\u001b[0m                                        \u001b[0m\n",
      "\u001b[2mAudited \u001b[1m95 packages\u001b[0m \u001b[2min 0.79ms\u001b[0m\u001b[0m\n",
      "Note: you may need to restart the kernel to use updated packages.\n"
     ]
    }
   ],
   "source": [
    "%uv pip install -r requirements.txt -U"
   ]
  },
  {
   "cell_type": "markdown",
   "metadata": {
    "vscode": {
     "languageId": "raw"
    }
   },
   "source": [
    "## Environment Setup"
   ]
  },
  {
   "cell_type": "markdown",
   "metadata": {
    "vscode": {
     "languageId": "raw"
    }
   },
   "source": [
    "Restore variables from previous notebook sessions (particularly the `lab7_kb_id` from lab7):\n"
   ]
  },
  {
   "cell_type": "code",
   "execution_count": 4,
   "metadata": {},
   "outputs": [],
   "source": [
    "%store -r"
   ]
  },
  {
   "cell_type": "markdown",
   "metadata": {
    "vscode": {
     "languageId": "raw"
    }
   },
   "source": [
    "Import the required libraries for AWS services and JSON processing:\n"
   ]
  },
  {
   "cell_type": "code",
   "execution_count": 5,
   "metadata": {},
   "outputs": [],
   "source": [
    "import boto3\n",
    "import json\n",
    "import time\n",
    "import uuid"
   ]
  },
  {
   "cell_type": "markdown",
   "metadata": {
    "vscode": {
     "languageId": "raw"
    }
   },
   "source": [
    "## Agent Configuration\n",
    "\n",
    "Define agent names and file paths. We'll create both local and runtime versions of the agent:\n"
   ]
  },
  {
   "cell_type": "code",
   "execution_count": 6,
   "metadata": {},
   "outputs": [],
   "source": [
    "agent_name = \"news_story_generator_agent\"\n",
    "news_story_agent_local_template_script = f\"{agent_name}_local_template.py\"\n",
    "news_story_agent_local_script = f\"{agent_name}_local.py\"\n",
    "news_story_agent_template_script = f\"{agent_name}_template.py\"\n",
    "news_story_agent_script = f\"{agent_name}.py\"\n",
    "agent_name = f\"{agent_name}_{str(uuid.uuid4())[:5]}\"\n"
   ]
  },
  {
   "cell_type": "markdown",
   "metadata": {
    "vscode": {
     "languageId": "raw"
    }
   },
   "source": [
    "Read the local agent template file that contains placeholder values:\n",
    "Replace the placeholder `{{lab7_kb_id}}` with the actual knowledge base ID from lab7 and write the configured agent to a new file:\n"
   ]
  },
  {
   "cell_type": "code",
   "execution_count": 7,
   "metadata": {},
   "outputs": [],
   "source": [
    "with open(news_story_agent_local_template_script, \"r\") as f:\n",
    "    agent_local_code = f.read()\n",
    "\n",
    "new_agent_local_code = agent_local_code.replace(\"{{lab7_kb_id}}\", lab7_kb_id)\n",
    "with open(news_story_agent_local_script, \"w\") as f:\n",
    "    f.write(new_agent_local_code)"
   ]
  },
  {
   "cell_type": "markdown",
   "metadata": {
    "vscode": {
     "languageId": "raw"
    }
   },
   "source": [
    "Display the generated agent code to verify the configuration:\n"
   ]
  },
  {
   "cell_type": "code",
   "execution_count": 8,
   "metadata": {},
   "outputs": [
    {
     "name": "stdout",
     "output_type": "stream",
     "text": [
      "\u001b[0;34m\u001b[0m\n",
      "\u001b[0;34m\u001b[0m\u001b[0;32mfrom\u001b[0m \u001b[0mstrands\u001b[0m \u001b[0;32mimport\u001b[0m \u001b[0mAgent\u001b[0m\u001b[0;34m,\u001b[0m \u001b[0mtool\u001b[0m\u001b[0;34m\u001b[0m\n",
      "\u001b[0;34m\u001b[0m\u001b[0;32mfrom\u001b[0m \u001b[0mstrands_tools\u001b[0m \u001b[0;32mimport\u001b[0m \u001b[0mretrieve\u001b[0m\u001b[0;34m\u001b[0m\n",
      "\u001b[0;34m\u001b[0m\u001b[0;32mfrom\u001b[0m \u001b[0mstrands\u001b[0m\u001b[0;34m.\u001b[0m\u001b[0mmodels\u001b[0m \u001b[0;32mimport\u001b[0m \u001b[0mBedrockModel\u001b[0m\u001b[0;34m\u001b[0m\n",
      "\u001b[0;34m\u001b[0m\u001b[0;32mimport\u001b[0m \u001b[0mlogging\u001b[0m\u001b[0;34m\u001b[0m\n",
      "\u001b[0;34m\u001b[0m\u001b[0;32mimport\u001b[0m \u001b[0mboto3\u001b[0m\u001b[0;34m\u001b[0m\n",
      "\u001b[0;34m\u001b[0m\u001b[0;32mimport\u001b[0m \u001b[0mtime\u001b[0m\u001b[0;34m\u001b[0m\n",
      "\u001b[0;34m\u001b[0m\u001b[0;32mimport\u001b[0m \u001b[0margparse\u001b[0m\u001b[0;34m\u001b[0m\n",
      "\u001b[0;34m\u001b[0m\u001b[0;32mimport\u001b[0m \u001b[0mjson\u001b[0m\u001b[0;34m\u001b[0m\n",
      "\u001b[0;34m\u001b[0m\u001b[0;34m\u001b[0m\n",
      "\u001b[0;34m\u001b[0m\u001b[0;31m# Configure the root strands logger\u001b[0m\u001b[0;34m\u001b[0m\n",
      "\u001b[0;34m\u001b[0m\u001b[0mlogging\u001b[0m\u001b[0;34m.\u001b[0m\u001b[0mgetLogger\u001b[0m\u001b[0;34m(\u001b[0m\u001b[0;34m\"strands\"\u001b[0m\u001b[0;34m)\u001b[0m\u001b[0;34m.\u001b[0m\u001b[0msetLevel\u001b[0m\u001b[0;34m(\u001b[0m\u001b[0mlogging\u001b[0m\u001b[0;34m.\u001b[0m\u001b[0mINFO\u001b[0m\u001b[0;34m)\u001b[0m\u001b[0;34m\u001b[0m\n",
      "\u001b[0;34m\u001b[0m\u001b[0;34m\u001b[0m\n",
      "\u001b[0;34m\u001b[0m\u001b[0;31m# Add a handler to see the logs\u001b[0m\u001b[0;34m\u001b[0m\n",
      "\u001b[0;34m\u001b[0m\u001b[0mlogging\u001b[0m\u001b[0;34m.\u001b[0m\u001b[0mbasicConfig\u001b[0m\u001b[0;34m(\u001b[0m\u001b[0;34m\u001b[0m\n",
      "\u001b[0;34m\u001b[0m    \u001b[0mformat\u001b[0m\u001b[0;34m=\u001b[0m\u001b[0;34m\"%(levelname)s | %(name)s | %(message)s\"\u001b[0m\u001b[0;34m,\u001b[0m \u001b[0;34m\u001b[0m\n",
      "\u001b[0;34m\u001b[0m    \u001b[0mhandlers\u001b[0m\u001b[0;34m=\u001b[0m\u001b[0;34m[\u001b[0m\u001b[0mlogging\u001b[0m\u001b[0;34m.\u001b[0m\u001b[0mStreamHandler\u001b[0m\u001b[0;34m(\u001b[0m\u001b[0;34m)\u001b[0m\u001b[0;34m]\u001b[0m\u001b[0;34m)\u001b[0m\u001b[0;34m\u001b[0m\n",
      "\u001b[0;34m\u001b[0m\u001b[0;34m\u001b[0m\n",
      "\u001b[0;34m\u001b[0m\u001b[0msts_client\u001b[0m \u001b[0;34m=\u001b[0m \u001b[0mboto3\u001b[0m\u001b[0;34m.\u001b[0m\u001b[0mclient\u001b[0m\u001b[0;34m(\u001b[0m\u001b[0;34m'sts'\u001b[0m\u001b[0;34m)\u001b[0m\u001b[0;34m\u001b[0m\n",
      "\u001b[0;34m\u001b[0m\u001b[0msession\u001b[0m \u001b[0;34m=\u001b[0m \u001b[0mboto3\u001b[0m\u001b[0;34m.\u001b[0m\u001b[0msession\u001b[0m\u001b[0;34m.\u001b[0m\u001b[0mSession\u001b[0m\u001b[0;34m(\u001b[0m\u001b[0;34m)\u001b[0m\u001b[0;34m\u001b[0m\n",
      "\u001b[0;34m\u001b[0m\u001b[0;34m\u001b[0m\n",
      "\u001b[0;34m\u001b[0m\u001b[0maccount_id\u001b[0m \u001b[0;34m=\u001b[0m \u001b[0msts_client\u001b[0m\u001b[0;34m.\u001b[0m\u001b[0mget_caller_identity\u001b[0m\u001b[0;34m(\u001b[0m\u001b[0;34m)\u001b[0m\u001b[0;34m[\u001b[0m\u001b[0;34m\"Account\"\u001b[0m\u001b[0;34m]\u001b[0m\u001b[0;34m\u001b[0m\n",
      "\u001b[0;34m\u001b[0m\u001b[0mregion\u001b[0m \u001b[0;34m=\u001b[0m \u001b[0msession\u001b[0m\u001b[0;34m.\u001b[0m\u001b[0mregion_name\u001b[0m\u001b[0;34m\u001b[0m\n",
      "\u001b[0;34m\u001b[0m\u001b[0;34m\u001b[0m\n",
      "\u001b[0;34m\u001b[0m\u001b[0ms3_client\u001b[0m \u001b[0;34m=\u001b[0m \u001b[0mboto3\u001b[0m\u001b[0;34m.\u001b[0m\u001b[0mclient\u001b[0m\u001b[0;34m(\u001b[0m\u001b[0;34m's3'\u001b[0m\u001b[0;34m,\u001b[0m \u001b[0mregion\u001b[0m\u001b[0;34m)\u001b[0m\u001b[0;34m\u001b[0m\n",
      "\u001b[0;34m\u001b[0m\u001b[0mbedrock_client\u001b[0m \u001b[0;34m=\u001b[0m \u001b[0mboto3\u001b[0m\u001b[0;34m.\u001b[0m\u001b[0mclient\u001b[0m\u001b[0;34m(\u001b[0m\u001b[0;34m'bedrock-runtime'\u001b[0m\u001b[0;34m,\u001b[0m \u001b[0mregion\u001b[0m\u001b[0;34m)\u001b[0m\u001b[0;34m\u001b[0m\n",
      "\u001b[0;34m\u001b[0m\u001b[0mbedrock_agent_runtime_client\u001b[0m \u001b[0;34m=\u001b[0m \u001b[0mboto3\u001b[0m\u001b[0;34m.\u001b[0m\u001b[0mclient\u001b[0m\u001b[0;34m(\u001b[0m\u001b[0;34m\"bedrock-agent-runtime\"\u001b[0m\u001b[0;34m,\u001b[0m \u001b[0mregion\u001b[0m\u001b[0;34m)\u001b[0m\u001b[0;34m\u001b[0m\n",
      "\u001b[0;34m\u001b[0m\u001b[0;34m\u001b[0m\n",
      "\u001b[0;34m\u001b[0m\u001b[0;32mdef\u001b[0m \u001b[0mextract_entities\u001b[0m\u001b[0;34m(\u001b[0m\u001b[0mnews_facts\u001b[0m\u001b[0;34m:\u001b[0m \u001b[0mstr\u001b[0m\u001b[0;34m)\u001b[0m \u001b[0;34m->\u001b[0m \u001b[0mstr\u001b[0m\u001b[0;34m:\u001b[0m\u001b[0;34m\u001b[0m\n",
      "\u001b[0;34m\u001b[0m    \u001b[0;34m\"\"\"\u001b[0m\n",
      "\u001b[0;34m    Extract entities (people, organizations, products) from news facts.\u001b[0m\n",
      "\u001b[0;34m    \u001b[0m\n",
      "\u001b[0;34m    Args:\u001b[0m\n",
      "\u001b[0;34m        news_facts: The news facts to extract entities from\u001b[0m\n",
      "\u001b[0;34m        \u001b[0m\n",
      "\u001b[0;34m    Returns:\u001b[0m\n",
      "\u001b[0;34m        Extracted entities in markdown format\u001b[0m\n",
      "\u001b[0;34m    \"\"\"\u001b[0m\u001b[0;34m\u001b[0m\n",
      "\u001b[0;34m\u001b[0m\u001b[0;34m\u001b[0m\n",
      "\u001b[0;34m\u001b[0m    \u001b[0;31m# Create a BedrockModel with specific configuration\u001b[0m\u001b[0;34m\u001b[0m\n",
      "\u001b[0;34m\u001b[0m    \u001b[0mentity_extraction_model\u001b[0m \u001b[0;34m=\u001b[0m \u001b[0mBedrockModel\u001b[0m\u001b[0;34m(\u001b[0m\u001b[0;34m\u001b[0m\n",
      "\u001b[0;34m\u001b[0m        \u001b[0mmodel_id\u001b[0m\u001b[0;34m=\u001b[0m\u001b[0;34m\"us.amazon.nova-lite-v1:0\"\u001b[0m\u001b[0;34m,\u001b[0m\u001b[0;34m\u001b[0m\n",
      "\u001b[0;34m\u001b[0m        \u001b[0mregion_name\u001b[0m\u001b[0;34m=\u001b[0m\u001b[0mregion\u001b[0m\u001b[0;34m,\u001b[0m\u001b[0;34m\u001b[0m\n",
      "\u001b[0;34m\u001b[0m        \u001b[0mtemperature\u001b[0m\u001b[0;34m=\u001b[0m\u001b[0;36m1.0\u001b[0m\u001b[0;34m,\u001b[0m\u001b[0;34m\u001b[0m\n",
      "\u001b[0;34m\u001b[0m        \u001b[0mmax_tokens\u001b[0m\u001b[0;34m=\u001b[0m\u001b[0;36m2048\u001b[0m\u001b[0;34m\u001b[0m\n",
      "\u001b[0;34m\u001b[0m    \u001b[0;34m)\u001b[0m\u001b[0;34m\u001b[0m\n",
      "\u001b[0;34m\u001b[0m    \u001b[0;34m\u001b[0m\n",
      "\u001b[0;34m\u001b[0m    \u001b[0mextract_agent\u001b[0m \u001b[0;34m=\u001b[0m \u001b[0mAgent\u001b[0m\u001b[0;34m(\u001b[0m\u001b[0;34m\u001b[0m\n",
      "\u001b[0;34m\u001b[0m        \u001b[0mmodel\u001b[0m\u001b[0;34m=\u001b[0m\u001b[0mentity_extraction_model\u001b[0m\u001b[0;34m,\u001b[0m\u001b[0;34m\u001b[0m\n",
      "\u001b[0;34m\u001b[0m        \u001b[0msystem_prompt\u001b[0m\u001b[0;34m=\u001b[0m\u001b[0;34m\"\"\"Your primary function is to extract entities (specifically people, companies/organizations, and products) from news facts collected by a journalist at a news event and output them in consistent markdown format. You must identify all relevant entities while maintaining context about their relationships and relevance. Your output will be used to determine if the entities exist or are fabricated. It is important that your output is in markdown format only.\u001b[0m\n",
      "\u001b[0;34m\u001b[0m\n",
      "\u001b[0;34mInput Processing:\u001b[0m\n",
      "\u001b[0;34m1. Accept text input of any length from journalists\u001b[0m\n",
      "\u001b[0;34m2. Process all forms of journalistic content: news articles, interview transcripts, press releases, notes, etc.\u001b[0m\n",
      "\u001b[0;34m3. Maintain the original text for reference and context\u001b[0m\n",
      "\u001b[0;34m\u001b[0m\n",
      "\u001b[0;34mEntity Recognition Methodology:\u001b[0m\n",
      "\u001b[0;34m1. Extract full names of people (first, middle, last) where available\u001b[0m\n",
      "\u001b[0;34m2. Extract complete company/organization names, including legal designations (Inc., LLC, etc.)\u001b[0m\n",
      "\u001b[0;34m3. Recognize and extract aliases, nicknames, and abbreviated forms of entities\u001b[0m\n",
      "\u001b[0;34m4. Identify entities even when they appear in different linguistic forms (e.g., possessive, plural)\u001b[0m\n",
      "\u001b[0;34m5. Consider contextual information to accurately identify entities (titles, roles, locations)\u001b[0m\n",
      "\u001b[0;34m\u001b[0m\n",
      "\u001b[0;34mEntity Classification:\u001b[0m\n",
      "\u001b[0;34mCategorize each entity as either:\u001b[0m\n",
      "\u001b[0;34mPERSON: Individual human beings\u001b[0m\n",
      "\u001b[0;34mORGANIZATION: Companies, corporations, agencies, institutions, etc.\u001b[0m\n",
      "\u001b[0;34mPRODUCT: products, items, goods, etc.\u001b[0m\n",
      "\u001b[0;34m\u001b[0m\n",
      "\u001b[0;34mAssign specific sub-classifications when possible:\u001b[0m\n",
      "\u001b[0;34mFor PERSON: Political figure, executive, celebrity, expert, etc.\u001b[0m\n",
      "\u001b[0;34mFor ORGANIZATION: Corporation, government agency, non-profit, educational institution, etc.\u001b[0m\n",
      "\u001b[0;34mFor PRODUCT: type, industry\u001b[0m\n",
      "\u001b[0;34m\u001b[0m\n",
      "\u001b[0;34mContextual Information Extraction:\u001b[0m\n",
      "\u001b[0;34mFor each entity, extract and preserve:\u001b[0m\n",
      "\u001b[0;34m1. Contextual role/title (CEO, President, Senator, etc.)\u001b[0m\n",
      "\u001b[0;34m2. Associated organizations (for people)\u001b[0m\n",
      "\u001b[0;34m\u001b[0m\n",
      "\u001b[0;34mConfidence Scoring:\u001b[0m\n",
      "\u001b[0;34mAssign a confidence score (0.0-1.0).\u001b[0m\n",
      "\u001b[0;34m\u001b[0m\n",
      "\u001b[0;34mLimitations and Boundaries\u001b[0m\n",
      "\u001b[0;34m1. Do not attempt to verify entities' existence (this is for the downstream agent)\u001b[0m\n",
      "\u001b[0;34m2. Do not add information about entities not present in the input text\u001b[0m\n",
      "\u001b[0;34m3. Do not make assumptions about entities beyond what is explicitly or implicitly stated\u001b[0m\n",
      "\u001b[0;34m4. Focus only on people and organizations; ignore other entity types\u001b[0m\n",
      "\u001b[0;34m\u001b[0m\n",
      "\u001b[0;34mOutput Format\u001b[0m\n",
      "\u001b[0;34mStructure output in two sections in consistent markdown format. The first section will be titled \"Entities\" and it will be a list of the entities that you have identified. Each entity should only have the following attributes:\u001b[0m\n",
      "\u001b[0;34mentity_id: unique identifier\u001b[0m\n",
      "\u001b[0;34mtext: extracted text of the entity\u001b[0m\n",
      "\u001b[0;34mtype: PERSON or ORGANIZATION or PRODUCT\u001b[0m\n",
      "\u001b[0;34msubtype: specific classification\u001b[0m\n",
      "\u001b[0;34mconfidence: confidence score\u001b[0m\n",
      "\u001b[0;34m\u001b[0m\n",
      "\u001b[0;34mThe second section will be titled \"New Facts\" and will be followed by the original news facts.\u001b[0m\n",
      "\u001b[0;34m\u001b[0m\n",
      "\u001b[0;34mDo not add preambles to your answer. Make sure your answer is in markdown format.\"\"\"\u001b[0m\u001b[0;34m\u001b[0m\n",
      "\u001b[0;34m\u001b[0m    \u001b[0;34m)\u001b[0m\u001b[0;34m\u001b[0m\n",
      "\u001b[0;34m\u001b[0m    \u001b[0;34m\u001b[0m\n",
      "\u001b[0;34m\u001b[0m    \u001b[0;31m# Extract entities using the agent\u001b[0m\u001b[0;34m\u001b[0m\n",
      "\u001b[0;34m\u001b[0m    \u001b[0mresult\u001b[0m \u001b[0;34m=\u001b[0m \u001b[0mextract_agent\u001b[0m\u001b[0;34m(\u001b[0m\u001b[0mnews_facts\u001b[0m\u001b[0;34m)\u001b[0m\u001b[0;34m\u001b[0m\n",
      "\u001b[0;34m\u001b[0m    \u001b[0;32mreturn\u001b[0m \u001b[0mresult\u001b[0m\u001b[0;34m.\u001b[0m\u001b[0mmessage\u001b[0m\u001b[0;34m\u001b[0m\n",
      "\u001b[0;34m\u001b[0m\u001b[0;34m\u001b[0m\n",
      "\u001b[0;34m\u001b[0m\u001b[0;32mdef\u001b[0m \u001b[0mcreate_research_query\u001b[0m\u001b[0;34m(\u001b[0m\u001b[0mentities\u001b[0m\u001b[0;34m:\u001b[0m \u001b[0mstr\u001b[0m\u001b[0;34m)\u001b[0m \u001b[0;34m->\u001b[0m \u001b[0mstr\u001b[0m\u001b[0;34m:\u001b[0m\u001b[0;34m\u001b[0m\n",
      "\u001b[0;34m\u001b[0m    \u001b[0;34m\"\"\"\u001b[0m\n",
      "\u001b[0;34m    Create a research query for the entities extracted from news facts.\u001b[0m\n",
      "\u001b[0;34m    \u001b[0m\n",
      "\u001b[0;34m    Args:\u001b[0m\n",
      "\u001b[0;34m        entities: The extracted entities in markdown format\u001b[0m\n",
      "\u001b[0;34m        \u001b[0m\n",
      "\u001b[0;34m    Returns:\u001b[0m\n",
      "\u001b[0;34m        A research query for the knowledge base\u001b[0m\n",
      "\u001b[0;34m    \"\"\"\u001b[0m\u001b[0;34m\u001b[0m\n",
      "\u001b[0;34m\u001b[0m\u001b[0;34m\u001b[0m\n",
      "\u001b[0;34m\u001b[0m    \u001b[0;31m# Create a BedrockModel with specific configuration\u001b[0m\u001b[0;34m\u001b[0m\n",
      "\u001b[0;34m\u001b[0m    \u001b[0mresearch_query_generation_model\u001b[0m \u001b[0;34m=\u001b[0m \u001b[0mBedrockModel\u001b[0m\u001b[0;34m(\u001b[0m\u001b[0;34m\u001b[0m\n",
      "\u001b[0;34m\u001b[0m        \u001b[0mmodel_id\u001b[0m\u001b[0;34m=\u001b[0m\u001b[0;34m\"us.amazon.nova-micro-v1:0\"\u001b[0m\u001b[0;34m,\u001b[0m\u001b[0;34m\u001b[0m\n",
      "\u001b[0;34m\u001b[0m        \u001b[0mregion_name\u001b[0m\u001b[0;34m=\u001b[0m\u001b[0mregion\u001b[0m\u001b[0;34m,\u001b[0m\u001b[0;34m\u001b[0m\n",
      "\u001b[0;34m\u001b[0m        \u001b[0mtemperature\u001b[0m\u001b[0;34m=\u001b[0m\u001b[0;36m0.0\u001b[0m\u001b[0;34m,\u001b[0m\u001b[0;34m\u001b[0m\n",
      "\u001b[0;34m\u001b[0m        \u001b[0mtop_p\u001b[0m\u001b[0;34m=\u001b[0m\u001b[0;36m1.0\u001b[0m\u001b[0;34m,\u001b[0m\u001b[0;34m\u001b[0m\n",
      "\u001b[0;34m\u001b[0m        \u001b[0mmax_tokens\u001b[0m\u001b[0;34m=\u001b[0m\u001b[0;36m4096\u001b[0m\u001b[0;34m\u001b[0m\n",
      "\u001b[0;34m\u001b[0m    \u001b[0;34m)\u001b[0m\u001b[0;34m\u001b[0m\n",
      "\u001b[0;34m\u001b[0m    \u001b[0;34m\u001b[0m\n",
      "\u001b[0;34m\u001b[0m    \u001b[0mresearch_query_agent\u001b[0m \u001b[0;34m=\u001b[0m \u001b[0mAgent\u001b[0m\u001b[0;34m(\u001b[0m\u001b[0;34m\u001b[0m\n",
      "\u001b[0;34m\u001b[0m        \u001b[0mmodel\u001b[0m\u001b[0;34m=\u001b[0m\u001b[0mresearch_query_generation_model\u001b[0m\u001b[0;34m,\u001b[0m\u001b[0;34m\u001b[0m\n",
      "\u001b[0;34m\u001b[0m        \u001b[0msystem_prompt\u001b[0m\u001b[0;34m=\u001b[0m\u001b[0;34m\"\"\"You have been provided a list of entities and news facts about a news event. Create a query for an LLM that asks to find research material on the entities indentified in the news facts.\u001b[0m\n",
      "\u001b[0;34m\u001b[0m\n",
      "\u001b[0;34mSkip the preamble, your output should only include the query and nothing else.\u001b[0m\n",
      "\u001b[0;34m\u001b[0m\n",
      "\u001b[0;34mYour response must start with:\u001b[0m\n",
      "\u001b[0;34m\"Conduct indepth research about only the list of entities under the 'Entities' heading provided in markdown format at the end of this input. Find as much relevant research material of a commercial, personal, financial nature as possible. Focus on all types of information which can help in writing a news article about the entities. Only add information if it is in the knowledge base. If an entity isn't found in your knowledge base, discard it from the output.\"\u001b[0m\n",
      "\u001b[0;34m\u001b[0m\n",
      "\u001b[0;34mTo the start, add the following regarding output format:\u001b[0m\n",
      "\u001b[0;34m\"Output Format\u001b[0m\n",
      "\u001b[0;34mStructure output in two headings in consistent markdown format. The first heading will be titled \"Researched Entities\" and it will be a list of only those entities for which you found research information. Each entity should only have the following attributes:\u001b[0m\n",
      "\u001b[0;34mentity_id: unique identifier\u001b[0m\n",
      "\u001b[0;34mtext: extracted text of the entity\u001b[0m\n",
      "\u001b[0;34mtype: PERSON or ORGANIZATION or PRODUCT\u001b[0m\n",
      "\u001b[0;34msubtype: specific classification\u001b[0m\n",
      "\u001b[0;34mconfidence: confidence score\u001b[0m\n",
      "\u001b[0;34mresearch: \u001b[0m\n",
      "\u001b[0;34m - research item 1\u001b[0m\n",
      "\u001b[0;34m - research item 2\u001b[0m\n",
      "\u001b[0;34m - more research items\u001b[0m\n",
      "\u001b[0;34m\u001b[0m\n",
      "\u001b[0;34mThe second heading will be titled \"New Facts\" and will be followed by the original \"News Facts\" that were given to you.\u001b[0m\n",
      "\u001b[0;34m\u001b[0m\n",
      "\u001b[0;34mMake sure to include proper line breaks by:\u001b[0m\n",
      "\u001b[0;34m1. Using a blank line between paragraphs\u001b[0m\n",
      "\u001b[0;34m2. Adding two spaces at the end of lines where you want a soft line break\u001b[0m\n",
      "\u001b[0;34m3. Using proper markdown syntax for lists, headings, and other elements that require specific line formatting.\"\u001b[0m\n",
      "\u001b[0;34m\u001b[0m\n",
      "\u001b[0;34mYour output must be limited to the query that you've constructed for the LLM and nothing more. Do not add any preamble.\"\"\"\u001b[0m\u001b[0;34m\u001b[0m\n",
      "\u001b[0;34m\u001b[0m    \u001b[0;34m)\u001b[0m\u001b[0;34m\u001b[0m\n",
      "\u001b[0;34m\u001b[0m    \u001b[0;34m\u001b[0m\n",
      "\u001b[0;34m\u001b[0m    \u001b[0;31m# Create research query using the agent\u001b[0m\u001b[0;34m\u001b[0m\n",
      "\u001b[0;34m\u001b[0m    \u001b[0mresult\u001b[0m \u001b[0;34m=\u001b[0m \u001b[0mresearch_query_agent\u001b[0m\u001b[0;34m(\u001b[0m\u001b[0mentities\u001b[0m\u001b[0;34m)\u001b[0m\u001b[0;34m\u001b[0m\n",
      "\u001b[0;34m\u001b[0m    \u001b[0;32mreturn\u001b[0m \u001b[0mresult\u001b[0m\u001b[0;34m.\u001b[0m\u001b[0mmessage\u001b[0m\u001b[0;34m\u001b[0m\n",
      "\u001b[0;34m\u001b[0m\u001b[0;34m\u001b[0m\n",
      "\u001b[0;34m\u001b[0m\u001b[0;34m@\u001b[0m\u001b[0mtool\u001b[0m\u001b[0;34m(\u001b[0m\u001b[0mname\u001b[0m\u001b[0;34m=\u001b[0m\u001b[0;34m\"researchAgent\"\u001b[0m\u001b[0;34m)\u001b[0m\u001b[0;34m\u001b[0m\n",
      "\u001b[0;34m\u001b[0m\u001b[0;32mdef\u001b[0m \u001b[0mresearch_agent\u001b[0m\u001b[0;34m(\u001b[0m\u001b[0mnews_facts\u001b[0m\u001b[0;34m:\u001b[0m \u001b[0mstr\u001b[0m\u001b[0;34m)\u001b[0m \u001b[0;34m->\u001b[0m \u001b[0mstr\u001b[0m\u001b[0;34m:\u001b[0m\u001b[0;34m\u001b[0m\n",
      "\u001b[0;34m\u001b[0m    \u001b[0;34m\"\"\"\u001b[0m\n",
      "\u001b[0;34m    Research agent that extracts entities from news facts and gathers background information.\u001b[0m\n",
      "\u001b[0;34m    \u001b[0m\n",
      "\u001b[0;34m    Use this tool when you need to gather comprehensive research about people, organizations, \u001b[0m\n",
      "\u001b[0;34m    and products mentioned in news facts. This tool will extract entities, create optimized\u001b[0m\n",
      "\u001b[0;34m    research queries, and retrieve information from knowledge bases to provide context for\u001b[0m\n",
      "\u001b[0;34m    article generation.\u001b[0m\n",
      "\u001b[0;34m    \u001b[0m\n",
      "\u001b[0;34m    Args:\u001b[0m\n",
      "\u001b[0;34m        news_facts: The news facts to research (raw text from journalist notes)\u001b[0m\n",
      "\u001b[0;34m        \u001b[0m\n",
      "\u001b[0;34m    Returns:\u001b[0m\n",
      "\u001b[0;34m        Structured research information about entities mentioned in the news facts\u001b[0m\n",
      "\u001b[0;34m    \"\"\"\u001b[0m\u001b[0;34m\u001b[0m\n",
      "\u001b[0;34m\u001b[0m    \u001b[0mprint\u001b[0m\u001b[0;34m(\u001b[0m\u001b[0;34m\"Research agent processing...\"\u001b[0m\u001b[0;34m)\u001b[0m\u001b[0;34m\u001b[0m\n",
      "\u001b[0;34m\u001b[0m    \u001b[0;34m\u001b[0m\n",
      "\u001b[0;34m\u001b[0m    \u001b[0;31m# Get region and account info for KB access\u001b[0m\u001b[0;34m\u001b[0m\n",
      "\u001b[0;34m\u001b[0m    \u001b[0msession\u001b[0m \u001b[0;34m=\u001b[0m \u001b[0mboto3\u001b[0m\u001b[0;34m.\u001b[0m\u001b[0msession\u001b[0m\u001b[0;34m.\u001b[0m\u001b[0mSession\u001b[0m\u001b[0;34m(\u001b[0m\u001b[0;34m)\u001b[0m\u001b[0;34m\u001b[0m\n",
      "\u001b[0;34m\u001b[0m    \u001b[0mregion\u001b[0m \u001b[0;34m=\u001b[0m \u001b[0msession\u001b[0m\u001b[0;34m.\u001b[0m\u001b[0mregion_name\u001b[0m\u001b[0;34m\u001b[0m\n",
      "\u001b[0;34m\u001b[0m    \u001b[0maccount_id\u001b[0m \u001b[0;34m=\u001b[0m \u001b[0msts_client\u001b[0m\u001b[0;34m.\u001b[0m\u001b[0mget_caller_identity\u001b[0m\u001b[0;34m(\u001b[0m\u001b[0;34m)\u001b[0m\u001b[0;34m[\u001b[0m\u001b[0;34m\"Account\"\u001b[0m\u001b[0;34m]\u001b[0m\u001b[0;34m\u001b[0m\n",
      "\u001b[0;34m\u001b[0m    \u001b[0mprint\u001b[0m\u001b[0;34m(\u001b[0m\u001b[0;34m\"STEP 1: EXTRACT ENTITIES\"\u001b[0m\u001b[0;34m)\u001b[0m\u001b[0;34m\u001b[0m\n",
      "\u001b[0;34m\u001b[0m    \u001b[0mextract_entities_response\u001b[0m \u001b[0;34m=\u001b[0m \u001b[0mextract_entities\u001b[0m\u001b[0;34m(\u001b[0m\u001b[0mnews_facts\u001b[0m\u001b[0;34m)\u001b[0m\u001b[0;34m\u001b[0m\n",
      "\u001b[0;34m\u001b[0m    \u001b[0mentities\u001b[0m \u001b[0;34m=\u001b[0m \u001b[0mextract_entities_response\u001b[0m\u001b[0;34m[\u001b[0m\u001b[0;34m'content'\u001b[0m\u001b[0;34m]\u001b[0m\u001b[0;34m[\u001b[0m\u001b[0;36m0\u001b[0m\u001b[0;34m]\u001b[0m\u001b[0;34m[\u001b[0m\u001b[0;34m'text'\u001b[0m\u001b[0;34m]\u001b[0m\u001b[0;34m\u001b[0m\n",
      "\u001b[0;34m\u001b[0m    \u001b[0;31m# print(entities)\u001b[0m\u001b[0;34m\u001b[0m\n",
      "\u001b[0;34m\u001b[0m    \u001b[0mprint\u001b[0m\u001b[0;34m(\u001b[0m\u001b[0;34m\"\\n\\nSTEP 2: CREATE RESEARCH QUERIES\"\u001b[0m\u001b[0;34m)\u001b[0m\u001b[0;34m\u001b[0m\n",
      "\u001b[0;34m\u001b[0m    \u001b[0mcreate_research_query_response\u001b[0m \u001b[0;34m=\u001b[0m \u001b[0mcreate_research_query\u001b[0m\u001b[0;34m(\u001b[0m\u001b[0mentities\u001b[0m\u001b[0;34m)\u001b[0m\u001b[0;34m\u001b[0m\n",
      "\u001b[0;34m\u001b[0m    \u001b[0mresearch_query\u001b[0m \u001b[0;34m=\u001b[0m \u001b[0mcreate_research_query_response\u001b[0m\u001b[0;34m[\u001b[0m\u001b[0;34m'content'\u001b[0m\u001b[0;34m]\u001b[0m\u001b[0;34m[\u001b[0m\u001b[0;36m0\u001b[0m\u001b[0;34m]\u001b[0m\u001b[0;34m[\u001b[0m\u001b[0;34m'text'\u001b[0m\u001b[0;34m]\u001b[0m\u001b[0;34m\u001b[0m\n",
      "\u001b[0;34m\u001b[0m    \u001b[0;31m# print(research_query)\u001b[0m\u001b[0;34m\u001b[0m\n",
      "\u001b[0;34m\u001b[0m    \u001b[0mresearch_results_response\u001b[0m \u001b[0;34m=\u001b[0m \u001b[0mbedrock_agent_runtime_client\u001b[0m\u001b[0;34m.\u001b[0m\u001b[0mretrieve_and_generate\u001b[0m\u001b[0;34m(\u001b[0m\u001b[0;34m\u001b[0m\n",
      "\u001b[0;34m\u001b[0m        \u001b[0minput\u001b[0m\u001b[0;34m=\u001b[0m\u001b[0;34m{\u001b[0m \u001b[0;34m'text'\u001b[0m\u001b[0;34m:\u001b[0m \u001b[0mresearch_query\u001b[0m \u001b[0;34m}\u001b[0m\u001b[0;34m,\u001b[0m\u001b[0;34m\u001b[0m\n",
      "\u001b[0;34m\u001b[0m        \u001b[0mretrieveAndGenerateConfiguration\u001b[0m\u001b[0;34m=\u001b[0m\u001b[0;34m{\u001b[0m\u001b[0;34m\u001b[0m\n",
      "\u001b[0;34m\u001b[0m            \u001b[0;34m'knowledgeBaseConfiguration'\u001b[0m\u001b[0;34m:\u001b[0m \u001b[0;34m{\u001b[0m\u001b[0;34m\u001b[0m\n",
      "\u001b[0;34m\u001b[0m                \u001b[0;34m'knowledgeBaseId'\u001b[0m\u001b[0;34m:\u001b[0m \u001b[0;34m\"JWQDUYIJZG\"\u001b[0m\u001b[0;34m,\u001b[0m\u001b[0;34m\u001b[0m\n",
      "\u001b[0;34m\u001b[0m                \u001b[0;34m'modelArn'\u001b[0m\u001b[0;34m:\u001b[0m \u001b[0;34mf\"\u001b[0m\u001b[0;34marn:aws:bedrock:us-east-1:\u001b[0m\u001b[0;34m{\u001b[0m\u001b[0maccount_id\u001b[0m\u001b[0;34m}\u001b[0m\u001b[0;34m:inference-profile/us.amazon.nova-micro-v1:0\u001b[0m\u001b[0;34m\"\u001b[0m\u001b[0;34m,\u001b[0m\u001b[0;34m\u001b[0m\n",
      "\u001b[0;34m\u001b[0m                \u001b[0;34m'retrievalConfiguration'\u001b[0m\u001b[0;34m:\u001b[0m \u001b[0;34m{\u001b[0m\u001b[0;34m\u001b[0m\n",
      "\u001b[0;34m\u001b[0m                    \u001b[0;34m'vectorSearchConfiguration'\u001b[0m\u001b[0;34m:\u001b[0m \u001b[0;34m{\u001b[0m\u001b[0;34m\u001b[0m\n",
      "\u001b[0;34m\u001b[0m                        \u001b[0;34m'numberOfResults'\u001b[0m\u001b[0;34m:\u001b[0m \u001b[0;36m5\u001b[0m\u001b[0;34m,\u001b[0m\u001b[0;34m\u001b[0m\n",
      "\u001b[0;34m\u001b[0m                        \u001b[0;34m'overrideSearchType'\u001b[0m\u001b[0;34m:\u001b[0m \u001b[0;34m'HYBRID'\u001b[0m\u001b[0;34m\u001b[0m\n",
      "\u001b[0;34m\u001b[0m                    \u001b[0;34m}\u001b[0m\u001b[0;34m\u001b[0m\n",
      "\u001b[0;34m\u001b[0m                \u001b[0;34m}\u001b[0m\u001b[0;34m\u001b[0m\n",
      "\u001b[0;34m\u001b[0m            \u001b[0;34m}\u001b[0m\u001b[0;34m,\u001b[0m\u001b[0;34m\u001b[0m\n",
      "\u001b[0;34m\u001b[0m            \u001b[0;34m'type'\u001b[0m\u001b[0;34m:\u001b[0m \u001b[0;34m'KNOWLEDGE_BASE'\u001b[0m\u001b[0;34m\u001b[0m\n",
      "\u001b[0;34m\u001b[0m        \u001b[0;34m}\u001b[0m\u001b[0;34m\u001b[0m\n",
      "\u001b[0;34m\u001b[0m    \u001b[0;34m)\u001b[0m\u001b[0;34m\u001b[0m\n",
      "\u001b[0;34m\u001b[0m    \u001b[0mprint\u001b[0m\u001b[0;34m(\u001b[0m\u001b[0;34m\"\\n\\nSTEP 3: RETRIEVE AND GENERATE\"\u001b[0m\u001b[0;34m)\u001b[0m\u001b[0;34m\u001b[0m\n",
      "\u001b[0;34m\u001b[0m    \u001b[0mresearch_results\u001b[0m \u001b[0;34m=\u001b[0m \u001b[0mresearch_results_response\u001b[0m\u001b[0;34m[\u001b[0m\u001b[0;34m'output'\u001b[0m\u001b[0;34m]\u001b[0m\u001b[0;34m[\u001b[0m\u001b[0;34m'text'\u001b[0m\u001b[0;34m]\u001b[0m\u001b[0;34m\u001b[0m\n",
      "\u001b[0;34m\u001b[0m    \u001b[0mprint\u001b[0m\u001b[0;34m(\u001b[0m\u001b[0mresearch_results\u001b[0m\u001b[0;34m)\u001b[0m\u001b[0;34m\u001b[0m\n",
      "\u001b[0;34m\u001b[0m    \u001b[0mresponse\u001b[0m \u001b[0;34m=\u001b[0m \u001b[0;34mf\"\u001b[0m\u001b[0;34m<research_results>\u001b[0m\u001b[0;34m{\u001b[0m\u001b[0mresearch_results\u001b[0m\u001b[0;34m}\u001b[0m\u001b[0;34m</research_results>\u001b[0m\u001b[0;34m\"\u001b[0m\u001b[0;34m\u001b[0m\n",
      "\u001b[0;34m\u001b[0m    \u001b[0;32mreturn\u001b[0m \u001b[0mresponse\u001b[0m\u001b[0;34m\u001b[0m\n",
      "\u001b[0;34m\u001b[0m\u001b[0;34m\u001b[0m\n",
      "\u001b[0;34m\u001b[0m\u001b[0;34m@\u001b[0m\u001b[0mtool\u001b[0m\u001b[0;34m(\u001b[0m\u001b[0mname\u001b[0m\u001b[0;34m=\u001b[0m\u001b[0;34m\"articleWritingAgent\"\u001b[0m\u001b[0;34m)\u001b[0m\u001b[0;34m\u001b[0m\n",
      "\u001b[0;34m\u001b[0m\u001b[0;32mdef\u001b[0m \u001b[0marticle_generation_agent\u001b[0m\u001b[0;34m(\u001b[0m\u001b[0mquery\u001b[0m\u001b[0;34m:\u001b[0m \u001b[0mstr\u001b[0m\u001b[0;34m)\u001b[0m \u001b[0;34m->\u001b[0m \u001b[0mstr\u001b[0m\u001b[0;34m:\u001b[0m\u001b[0;34m\u001b[0m\n",
      "\u001b[0;34m\u001b[0m    \u001b[0;34m\"\"\"\u001b[0m\n",
      "\u001b[0;34m    Generates a professional news article based on research data and facts.\u001b[0m\n",
      "\u001b[0;34m    \u001b[0m\n",
      "\u001b[0;34m    Use this tool when you need to write a news article based on research data, or when revising an article\u001b[0m\n",
      "\u001b[0;34m    to incorporate feedback from a reviewer.\u001b[0m\n",
      "\u001b[0;34m    \u001b[0m\n",
      "\u001b[0;34m    Args:\u001b[0m\n",
      "\u001b[0;34m        query: The research data, facts, and any feedback for article generation.\u001b[0m\n",
      "\u001b[0;34m        \u001b[0m\n",
      "\u001b[0;34m    Returns:\u001b[0m\n",
      "\u001b[0;34m        A professionally written news article.\u001b[0m\n",
      "\u001b[0;34m    \"\"\"\u001b[0m\u001b[0;34m\u001b[0m\n",
      "\u001b[0;34m\u001b[0m    \u001b[0mprint\u001b[0m\u001b[0;34m(\u001b[0m\u001b[0;34m\"Article Generation agent processing...\"\u001b[0m\u001b[0;34m)\u001b[0m\u001b[0;34m\u001b[0m\n",
      "\u001b[0;34m\u001b[0m\u001b[0;34m\u001b[0m\n",
      "\u001b[0;34m\u001b[0m    \u001b[0;31m# Create a BedrockModel with specific configuration\u001b[0m\u001b[0;34m\u001b[0m\n",
      "\u001b[0;34m\u001b[0m    \u001b[0marticle_generation_model\u001b[0m \u001b[0;34m=\u001b[0m \u001b[0mBedrockModel\u001b[0m\u001b[0;34m(\u001b[0m\u001b[0;34m\u001b[0m\n",
      "\u001b[0;34m\u001b[0m        \u001b[0;31m# model_id=\"us.anthropic.claude-3-5-haiku-20241022-v1:0\",\u001b[0m\u001b[0;34m\u001b[0m\n",
      "\u001b[0;34m\u001b[0m        \u001b[0mmodel_id\u001b[0m\u001b[0;34m=\u001b[0m\u001b[0;34m\"us.amazon.nova-pro-v1:0\"\u001b[0m\u001b[0;34m,\u001b[0m\u001b[0;34m\u001b[0m\n",
      "\u001b[0;34m\u001b[0m        \u001b[0mregion_name\u001b[0m\u001b[0;34m=\u001b[0m\u001b[0mregion\u001b[0m\u001b[0;34m,\u001b[0m\u001b[0;34m\u001b[0m\n",
      "\u001b[0;34m\u001b[0m        \u001b[0mtemperature\u001b[0m\u001b[0;34m=\u001b[0m\u001b[0;36m0.5\u001b[0m\u001b[0;34m,\u001b[0m\u001b[0;34m\u001b[0m\n",
      "\u001b[0;34m\u001b[0m        \u001b[0mtop_k\u001b[0m\u001b[0;34m=\u001b[0m\u001b[0;36m1.0\u001b[0m\u001b[0;34m,\u001b[0m\u001b[0;34m\u001b[0m\n",
      "\u001b[0;34m\u001b[0m        \u001b[0mtop_p\u001b[0m\u001b[0;34m=\u001b[0m\u001b[0;36m1.0\u001b[0m\u001b[0;34m,\u001b[0m\u001b[0;34m\u001b[0m\n",
      "\u001b[0;34m\u001b[0m        \u001b[0mmax_tokens\u001b[0m\u001b[0;34m=\u001b[0m\u001b[0;36m4096\u001b[0m\u001b[0;34m\u001b[0m\n",
      "\u001b[0;34m\u001b[0m    \u001b[0;34m)\u001b[0m\u001b[0;34m\u001b[0m\n",
      "\u001b[0;34m\u001b[0m    \u001b[0;34m\u001b[0m\n",
      "\u001b[0;34m\u001b[0m    \u001b[0marticle_writer\u001b[0m \u001b[0;34m=\u001b[0m \u001b[0mAgent\u001b[0m\u001b[0;34m(\u001b[0m\u001b[0;34m\u001b[0m\n",
      "\u001b[0;34m\u001b[0m        \u001b[0mmodel\u001b[0m\u001b[0;34m=\u001b[0m\u001b[0marticle_generation_model\u001b[0m\u001b[0;34m,\u001b[0m\u001b[0;34m\u001b[0m\n",
      "\u001b[0;34m\u001b[0m        \u001b[0msystem_prompt\u001b[0m\u001b[0;34m=\u001b[0m\u001b[0;34m\"\"\"You are an expert article writer creating engaging news, sports, and entertainment content tailored to audiences and publication requirements.\u001b[0m\n",
      "\u001b[0;34m\u001b[0m\n",
      "\u001b[0;34m## Agent Role\u001b[0m\n",
      "\u001b[0;34mYou are an expert journalist who transforms raw news facts and related research material into compelling, professionally written news articles. Your articles must be accurate, engaging, and adhere to high journalistic standards.\u001b[0m\n",
      "\u001b[0;34m\u001b[0m\n",
      "\u001b[0;34m## Input Processing\u001b[0m\n",
      "\u001b[0;34m1. Carefully analyze all news facts provided about the event\u001b[0m\n",
      "\u001b[0;34m2. Review all contextual research about entities mentioned in the news facts\u001b[0m\n",
      "\u001b[0;34m3. Identify key information, connections, and the most newsworthy elements\u001b[0m\n",
      "\u001b[0;34m4. Organize information in order of importance (inverted pyramid style)\u001b[0m\n",
      "\u001b[0;34m\u001b[0m\n",
      "\u001b[0;34m## Article Creation Guidelines\u001b[0m\n",
      "\u001b[0;34m1. Create a concise, attention-grabbing headline that accurately represents the story\u001b[0m\n",
      "\u001b[0;34m2. Write approximately 800 words (adjust if specifically requested otherwise)\u001b[0m\n",
      "\u001b[0;34m3. Begin with a strong lead paragraph that answers the key questions (who, what, when, where, why, how)\u001b[0m\n",
      "\u001b[0;34m4. Structure the article with the most important information first, followed by supporting details\u001b[0m\n",
      "\u001b[0;34m5. Incorporate relevant context from the research materials where appropriate\u001b[0m\n",
      "\u001b[0;34m6. Use direct quotes from sources when available\u001b[0m\n",
      "\u001b[0;34m7. Maintain a neutral, objective tone throughout\u001b[0m\n",
      "\u001b[0;34m8. Ensure factual accuracy - only use information provided in the input materials\u001b[0m\n",
      "\u001b[0;34m9. Avoid speculation, personal opinions, or unsupported claims\u001b[0m\n",
      "\u001b[0;34m10. Use concise, clear language accessible to general readers\u001b[0m\n",
      "\u001b[0;34m11. Break up text with appropriate paragraphs for readability\u001b[0m\n",
      "\u001b[0;34m12. Include a conclusion that ties the story together or points to future developments\u001b[0m\n",
      "\u001b[0;34m\u001b[0m\n",
      "\u001b[0;34m## Feedback Integration\u001b[0m\n",
      "\u001b[0;34m1. When receiving feedback from review agents, analyze it thoroughly\u001b[0m\n",
      "\u001b[0;34m2. Make all requested changes that align with journalistic standards\u001b[0m\n",
      "\u001b[0;34m3. Revise for clarity, accuracy, balance, or completeness as directed\u001b[0m\n",
      "\u001b[0;34m4. If feedback contains contradictory requests, prioritize factual accuracy and journalistic ethics\u001b[0m\n",
      "\u001b[0;34m5. Return the revised article with all improvements implemented\u001b[0m\n",
      "\u001b[0;34m\u001b[0m\n",
      "\u001b[0;34m## Output Format\u001b[0m\n",
      "\u001b[0;34mThe output should consist of only:\u001b[0m\n",
      "\u001b[0;34m1. A headline\u001b[0m\n",
      "\u001b[0;34m2. The article body\u001b[0m\n",
      "\u001b[0;34m\u001b[0m\n",
      "\u001b[0;34mDo not include:\u001b[0m\n",
      "\u001b[0;34m- Tags like \"Headline:\" or \"Article:\"\u001b[0m\n",
      "\u001b[0;34m- Explanations about your writing process\u001b[0m\n",
      "\u001b[0;34m- Notes about sources or research\u001b[0m\n",
      "\u001b[0;34m- Additional formatting markers\u001b[0m\n",
      "\u001b[0;34m- Thoughts or reflections on the article\u001b[0m\n",
      "\u001b[0;34m- Metadata or structural elements\u001b[0m\n",
      "\u001b[0;34m\u001b[0m\n",
      "\u001b[0;34m## Example Output Structure:\u001b[0m\n",
      "\u001b[0;34mMajor Discovery Transforms Scientific Understanding\u001b[0m\n",
      "\u001b[0;34m\u001b[0m\n",
      "\u001b[0;34mScientists at Stanford University have announced a breakthrough discovery that challenges existing theories...\u001b[0m\n",
      "\u001b[0;34m\u001b[0m\n",
      "\u001b[0;34m[Article continues for approximately 200 words]\"\"\"\u001b[0m\u001b[0;34m,\u001b[0m\u001b[0;34m\u001b[0m\n",
      "\u001b[0;34m\u001b[0m        \u001b[0mtools\u001b[0m\u001b[0;34m=\u001b[0m\u001b[0;34m[\u001b[0m\u001b[0;34m]\u001b[0m\u001b[0;34m,\u001b[0m \u001b[0;34m\u001b[0m\n",
      "\u001b[0;34m\u001b[0m        \u001b[0mcallback_handler\u001b[0m\u001b[0;34m=\u001b[0m\u001b[0;32mNone\u001b[0m\u001b[0;34m\u001b[0m\n",
      "\u001b[0;34m\u001b[0m    \u001b[0;34m)\u001b[0m\u001b[0;34m\u001b[0m\n",
      "\u001b[0;34m\u001b[0m    \u001b[0mresponse\u001b[0m \u001b[0;34m=\u001b[0m \u001b[0mstr\u001b[0m\u001b[0;34m(\u001b[0m\u001b[0marticle_writer\u001b[0m\u001b[0;34m(\u001b[0m\u001b[0mquery\u001b[0m\u001b[0;34m)\u001b[0m\u001b[0;34m)\u001b[0m\u001b[0;34m\u001b[0m\n",
      "\u001b[0;34m\u001b[0m    \u001b[0mformatted_response\u001b[0m \u001b[0;34m=\u001b[0m \u001b[0;34mf\"\u001b[0m\u001b[0;34m<article>\u001b[0m\u001b[0;34m{\u001b[0m\u001b[0mresponse\u001b[0m\u001b[0;34m}\u001b[0m\u001b[0;34m</article>\u001b[0m\u001b[0;34m\"\u001b[0m               \u001b[0;34m\u001b[0m\n",
      "\u001b[0;34m\u001b[0m    \u001b[0;32mreturn\u001b[0m \u001b[0mformatted_response\u001b[0m\u001b[0;34m\u001b[0m\n",
      "\u001b[0;34m\u001b[0m\u001b[0;34m\u001b[0m\n",
      "\u001b[0;34m\u001b[0m\u001b[0;34m@\u001b[0m\u001b[0mtool\u001b[0m\u001b[0;34m(\u001b[0m\u001b[0mname\u001b[0m\u001b[0;34m=\u001b[0m\u001b[0;34m\"articleReviewerAgent\"\u001b[0m\u001b[0;34m)\u001b[0m\u001b[0;34m\u001b[0m\n",
      "\u001b[0;34m\u001b[0m\u001b[0;32mdef\u001b[0m \u001b[0marticle_reviewer_agent\u001b[0m\u001b[0;34m(\u001b[0m\u001b[0marticle_text\u001b[0m\u001b[0;34m:\u001b[0m \u001b[0mstr\u001b[0m\u001b[0;34m)\u001b[0m \u001b[0;34m->\u001b[0m \u001b[0mstr\u001b[0m\u001b[0;34m:\u001b[0m\u001b[0;34m\u001b[0m\n",
      "\u001b[0;34m\u001b[0m    \u001b[0;34m\"\"\"\u001b[0m\n",
      "\u001b[0;34m    Reviews and provides detailed feedback on news, sports, and entertainment articles.\u001b[0m\n",
      "\u001b[0;34m    \u001b[0m\n",
      "\u001b[0;34m    Use this tool when you need professional feedback on an article's clarity, accuracy,\u001b[0m\n",
      "\u001b[0;34m    engagement, balance, and overall journalistic quality.\u001b[0m\n",
      "\u001b[0;34m    \u001b[0m\n",
      "\u001b[0;34m    Args:\u001b[0m\n",
      "\u001b[0;34m        article_text: The complete article text to be reviewed\u001b[0m\n",
      "\u001b[0;34m        \u001b[0m\n",
      "\u001b[0;34m    Returns:\u001b[0m\n",
      "\u001b[0;34m        Detailed review feedback with specific suggestions for improvement\u001b[0m\n",
      "\u001b[0;34m    \"\"\"\u001b[0m\u001b[0;34m\u001b[0m\n",
      "\u001b[0;34m\u001b[0m    \u001b[0mprint\u001b[0m\u001b[0;34m(\u001b[0m\u001b[0;34m\"Article Reviewer agent analyzing...\"\u001b[0m\u001b[0;34m)\u001b[0m\u001b[0;34m\u001b[0m\n",
      "\u001b[0;34m\u001b[0m    \u001b[0;34m\u001b[0m\n",
      "\u001b[0;34m\u001b[0m    \u001b[0;31m# Create a BedrockModel with specific configuration\u001b[0m\u001b[0;34m\u001b[0m\n",
      "\u001b[0;34m\u001b[0m    \u001b[0marticle_reviewer_model\u001b[0m \u001b[0;34m=\u001b[0m \u001b[0mBedrockModel\u001b[0m\u001b[0;34m(\u001b[0m\u001b[0;34m\u001b[0m\n",
      "\u001b[0;34m\u001b[0m        \u001b[0mmodel_id\u001b[0m\u001b[0;34m=\u001b[0m\u001b[0;34m\"us.amazon.nova-micro-v1:0\"\u001b[0m\u001b[0;34m,\u001b[0m\u001b[0;34m\u001b[0m\n",
      "\u001b[0;34m\u001b[0m        \u001b[0mregion_name\u001b[0m\u001b[0;34m=\u001b[0m\u001b[0mregion\u001b[0m\u001b[0;34m,\u001b[0m\u001b[0;34m\u001b[0m\n",
      "\u001b[0;34m\u001b[0m        \u001b[0mtemperature\u001b[0m\u001b[0;34m=\u001b[0m\u001b[0;36m0.1\u001b[0m\u001b[0;34m,\u001b[0m\u001b[0;34m\u001b[0m\n",
      "\u001b[0;34m\u001b[0m        \u001b[0mtop_k\u001b[0m\u001b[0;34m=\u001b[0m\u001b[0;36m1.0\u001b[0m\u001b[0;34m,\u001b[0m\u001b[0;34m\u001b[0m\n",
      "\u001b[0;34m\u001b[0m        \u001b[0mtop_p\u001b[0m\u001b[0;34m=\u001b[0m\u001b[0;36m1.0\u001b[0m\u001b[0;34m,\u001b[0m\u001b[0;34m\u001b[0m\n",
      "\u001b[0;34m\u001b[0m        \u001b[0mmax_tokens\u001b[0m\u001b[0;34m=\u001b[0m\u001b[0;36m4096\u001b[0m\u001b[0;34m\u001b[0m\n",
      "\u001b[0;34m\u001b[0m    \u001b[0;34m)\u001b[0m\u001b[0;34m\u001b[0m\n",
      "\u001b[0;34m\u001b[0m\u001b[0;34m\u001b[0m\n",
      "\u001b[0;34m\u001b[0m    \u001b[0marticle_reviewer\u001b[0m \u001b[0;34m=\u001b[0m \u001b[0mAgent\u001b[0m\u001b[0;34m(\u001b[0m\u001b[0;34m\u001b[0m\n",
      "\u001b[0;34m\u001b[0m        \u001b[0mmodel\u001b[0m\u001b[0;34m=\u001b[0m\u001b[0marticle_reviewer_model\u001b[0m\u001b[0;34m,\u001b[0m\u001b[0;34m\u001b[0m\n",
      "\u001b[0;34m\u001b[0m        \u001b[0msystem_prompt\u001b[0m\u001b[0;34m=\u001b[0m\u001b[0;34m\"\"\"You are a professional article reviewer for news, sports and entertainment. Provides expert analysis to improve clarity, accuracy, engagement and journalistic quality.\u001b[0m\n",
      "\u001b[0;34m\u001b[0m\n",
      "\u001b[0;34mYou are an AI assistant specialized in reviewing news, sports, and entertainment articles. Your expertise helps journalists and content creators refine their writing for clarity, engagement, and journalistic quality.\u001b[0m\n",
      "\u001b[0;34m\u001b[0m\n",
      "\u001b[0;34mYou will be provided an article in your input, when reviewing an article, analyze these key elements:\u001b[0m\n",
      "\u001b[0;34m\u001b[0m\n",
      "\u001b[0;34m1. **Clarity and Readability**\u001b[0m\n",
      "\u001b[0;34m   - Identify sentences longer than 40 words or spanning multiple lines\u001b[0m\n",
      "\u001b[0;34m   - Flag sentences requiring multiple readings to understand\u001b[0m\n",
      "\u001b[0;34m   - Point out repetitive word usage that weakens impact\u001b[0m\n",
      "\u001b[0;34m   - Suggest ways to make complex information more digestible\u001b[0m\n",
      "\u001b[0;34m   - Analyze paragraph length and structure for optimal readability\u001b[0m\n",
      "\u001b[0;34m   - Check for smooth transitions between ideas and sections\u001b[0m\n",
      "\u001b[0;34m\u001b[0m\n",
      "\u001b[0;34m2. **Accuracy and Substantiation**\u001b[0m\n",
      "\u001b[0;34m   - Check for claims that lack proper sourcing or evidence\u001b[0m\n",
      "\u001b[0;34m   - Identify potential factual inconsistencies or errors\u001b[0m\n",
      "\u001b[0;34m   - Flag misleading statistics or improper contextualization of data\u001b[0m\n",
      "\u001b[0;34m   - Suggest where additional verification or expert input might be needed\u001b[0m\n",
      "\u001b[0;34m   - Evaluate the reliability and diversity of cited sources\u001b[0m\n",
      "\u001b[0;34m   - Check dates, names, titles, and other factual details for accuracy\u001b[0m\n",
      "\u001b[0;34m\u001b[0m\n",
      "\u001b[0;34m\u001b[0m\n",
      "\u001b[0;34mFor each issue identified, provide:\u001b[0m\n",
      "\u001b[0;34m- A clear explanation of why it weakens the article\u001b[0m\n",
      "\u001b[0;34m- A specific suggestion for improvement\u001b[0m\n",
      "\u001b[0;34m- Where helpful, a rewritten example demonstrating your suggestion\u001b[0m\n",
      "\u001b[0;34m- A priority level (critical, important, or minor) for each feedback item\u001b[0m\n",
      "\u001b[0;34m\u001b[0m\n",
      "\u001b[0;34mConclude your review with:\u001b[0m\n",
      "\u001b[0;34m- A summary of the article's major strengths\u001b[0m\n",
      "\u001b[0;34m- The 3-5 most important areas for improvement\u001b[0m\n",
      "\u001b[0;34m- An overall assessment of the article's effectiveness\u001b[0m\n",
      "\u001b[0;34m\u001b[0m\n",
      "\u001b[0;34mYour feedback should be constructive and actionable, focusing on strengthening the article's journalistic quality and reader experience rather than simply pointing out flaws.\"\"\"\u001b[0m\u001b[0;34m,\u001b[0m\u001b[0;34m\u001b[0m\n",
      "\u001b[0;34m\u001b[0m        \u001b[0mtools\u001b[0m\u001b[0;34m=\u001b[0m\u001b[0;34m[\u001b[0m\u001b[0;34m]\u001b[0m\u001b[0;34m,\u001b[0m\u001b[0;34m\u001b[0m\n",
      "\u001b[0;34m\u001b[0m        \u001b[0mcallback_handler\u001b[0m\u001b[0;34m=\u001b[0m\u001b[0;32mNone\u001b[0m\u001b[0;34m,\u001b[0m\u001b[0;34m\u001b[0m\n",
      "\u001b[0;34m\u001b[0m    \u001b[0;34m)\u001b[0m\u001b[0;34m\u001b[0m\n",
      "\u001b[0;34m\u001b[0m    \u001b[0mresponse\u001b[0m \u001b[0;34m=\u001b[0m \u001b[0mstr\u001b[0m\u001b[0;34m(\u001b[0m\u001b[0marticle_reviewer\u001b[0m\u001b[0;34m(\u001b[0m\u001b[0marticle_text\u001b[0m\u001b[0;34m)\u001b[0m\u001b[0;34m)\u001b[0m\u001b[0;34m\u001b[0m\n",
      "\u001b[0;34m\u001b[0m    \u001b[0mformatted_response\u001b[0m \u001b[0;34m=\u001b[0m \u001b[0;34mf\"\u001b[0m\u001b[0;34m<review_feedback>\u001b[0m\u001b[0;34m{\u001b[0m\u001b[0mresponse\u001b[0m\u001b[0;34m}\u001b[0m\u001b[0;34m</review_feedback>\u001b[0m\u001b[0;34m\"\u001b[0m\u001b[0;34m\u001b[0m\n",
      "\u001b[0;34m\u001b[0m    \u001b[0;32mreturn\u001b[0m \u001b[0mformatted_response\u001b[0m\u001b[0;34m\u001b[0m\n",
      "\u001b[0;34m\u001b[0m\u001b[0;34m\u001b[0m\n",
      "\u001b[0;34m\u001b[0m\u001b[0;32mdef\u001b[0m \u001b[0minterface_supervisor_agent\u001b[0m\u001b[0;34m(\u001b[0m\u001b[0mpayload\u001b[0m\u001b[0;34m,\u001b[0m \u001b[0mcontext\u001b[0m\u001b[0;34m=\u001b[0m\u001b[0;32mNone\u001b[0m\u001b[0;34m)\u001b[0m\u001b[0;34m:\u001b[0m\u001b[0;34m\u001b[0m\n",
      "\u001b[0;34m\u001b[0m    \u001b[0;34m\"\"\"\u001b[0m\n",
      "\u001b[0;34m    Orchestrates a complete news article generation workflow using specialized agents.\u001b[0m\n",
      "\u001b[0;34m    \u001b[0m\n",
      "\u001b[0;34m    This tool coordinates between research, article generation, and review agents to produce\u001b[0m\n",
      "\u001b[0;34m    high-quality news articles from raw facts. It manages the entire workflow including:\u001b[0m\n",
      "\u001b[0;34m\u001b[0m\n",
      "\u001b[0;34m    1. Research on entities mentioned in the news facts\u001b[0m\n",
      "\u001b[0;34m    2. Article generation based on research and facts\u001b[0m\n",
      "\u001b[0;34m    3. Article review and improvement through feedback\u001b[0m\n",
      "\u001b[0;34m    \u001b[0m\n",
      "\u001b[0;34m    Args:\u001b[0m\n",
      "\u001b[0;34m        news_facts: Raw news facts collected by a journalist\u001b[0m\n",
      "\u001b[0;34m        \u001b[0m\n",
      "\u001b[0;34m    Returns:\u001b[0m\n",
      "\u001b[0;34m        A professionally written and reviewed news article\u001b[0m\n",
      "\u001b[0;34m    \"\"\"\u001b[0m\u001b[0;34m\u001b[0m\n",
      "\u001b[0;34m\u001b[0m    \u001b[0mprint\u001b[0m\u001b[0;34m(\u001b[0m\u001b[0;34m\"Interface Supervisor agent processing...\"\u001b[0m\u001b[0;34m)\u001b[0m\u001b[0;34m\u001b[0m\n",
      "\u001b[0;34m\u001b[0m    \u001b[0;32mif\u001b[0m \u001b[0mcontext\u001b[0m\u001b[0;34m:\u001b[0m\u001b[0;34m\u001b[0m\n",
      "\u001b[0;34m\u001b[0m        \u001b[0mprint\u001b[0m\u001b[0;34m(\u001b[0m\u001b[0;34m\"Runtime Session ID:\"\u001b[0m\u001b[0;34m,\u001b[0m \u001b[0mcontext\u001b[0m\u001b[0;34m.\u001b[0m\u001b[0msession_id\u001b[0m\u001b[0;34m)\u001b[0m\u001b[0;34m\u001b[0m\n",
      "\u001b[0;34m\u001b[0m    \u001b[0mnews_facts\u001b[0m \u001b[0;34m=\u001b[0m \u001b[0mpayload\u001b[0m\u001b[0;34m[\u001b[0m\u001b[0;34m\"query\"\u001b[0m\u001b[0;34m]\u001b[0m\u001b[0;34m\u001b[0m\n",
      "\u001b[0;34m\u001b[0m\u001b[0;34m\u001b[0m\n",
      "\u001b[0;34m\u001b[0m    \u001b[0;31m# Create a BedrockModel with specific configuration\u001b[0m\u001b[0;34m\u001b[0m\n",
      "\u001b[0;34m\u001b[0m    \u001b[0minterface_supervisor_model\u001b[0m \u001b[0;34m=\u001b[0m \u001b[0mBedrockModel\u001b[0m\u001b[0;34m(\u001b[0m\u001b[0;34m\u001b[0m\n",
      "\u001b[0;34m\u001b[0m        \u001b[0;31m# model_id=\"us.amazon.nova-pro-v1:0\",\u001b[0m\u001b[0;34m\u001b[0m\n",
      "\u001b[0;34m\u001b[0m        \u001b[0mmodel_id\u001b[0m\u001b[0;34m=\u001b[0m\u001b[0;34m\"us.anthropic.claude-3-5-haiku-20241022-v1:0\"\u001b[0m\u001b[0;34m,\u001b[0m\u001b[0;34m\u001b[0m\n",
      "\u001b[0;34m\u001b[0m        \u001b[0mregion_name\u001b[0m\u001b[0;34m=\u001b[0m\u001b[0mregion\u001b[0m\u001b[0;34m,\u001b[0m\u001b[0;34m\u001b[0m\n",
      "\u001b[0;34m\u001b[0m        \u001b[0mtemperature\u001b[0m\u001b[0;34m=\u001b[0m\u001b[0;36m0.1\u001b[0m\u001b[0;34m,\u001b[0m\u001b[0;34m\u001b[0m\n",
      "\u001b[0;34m\u001b[0m        \u001b[0mtop_k\u001b[0m\u001b[0;34m=\u001b[0m\u001b[0;36m1.0\u001b[0m\u001b[0;34m,\u001b[0m\u001b[0;34m\u001b[0m\n",
      "\u001b[0;34m\u001b[0m        \u001b[0mtop_p\u001b[0m\u001b[0;34m=\u001b[0m\u001b[0;36m1.0\u001b[0m\u001b[0;34m,\u001b[0m\u001b[0;34m\u001b[0m\n",
      "\u001b[0;34m\u001b[0m        \u001b[0mmax_tokens\u001b[0m\u001b[0;34m=\u001b[0m\u001b[0;36m4096\u001b[0m\u001b[0;34m\u001b[0m\n",
      "\u001b[0;34m\u001b[0m    \u001b[0;34m)\u001b[0m\u001b[0;34m\u001b[0m\n",
      "\u001b[0;34m\u001b[0m    \u001b[0;34m\u001b[0m\n",
      "\u001b[0;34m\u001b[0m    \u001b[0;31m# Create the interface supervisor agent\u001b[0m\u001b[0;34m\u001b[0m\n",
      "\u001b[0;34m\u001b[0m    \u001b[0minterface_supervisor\u001b[0m \u001b[0;34m=\u001b[0m \u001b[0mAgent\u001b[0m\u001b[0;34m(\u001b[0m\u001b[0;34m\u001b[0m\n",
      "\u001b[0;34m\u001b[0m        \u001b[0mmodel\u001b[0m\u001b[0;34m=\u001b[0m\u001b[0minterface_supervisor_model\u001b[0m\u001b[0;34m,\u001b[0m\u001b[0;34m\u001b[0m\n",
      "\u001b[0;34m\u001b[0m        \u001b[0msystem_prompt\u001b[0m\u001b[0;34m=\u001b[0m\u001b[0;34m\"\"\"You are a supervisor agent responsible for orchestrating a news article generation workflow.\u001b[0m\n",
      "\u001b[0;34mYour role is to only coordinate between agents.\u001b[0m\n",
      "\u001b[0;34m\u001b[0m\n",
      "\u001b[0;34mYour task is to carry out an article writing workflow that involves the following:\u001b[0m\n",
      "\u001b[0;34m\u001b[0m\n",
      "\u001b[0;34m1. You will be provided news facts from a news event about the article to write. Your task is to submit the unmodified facts to the researchAgent. \u001b[0m\n",
      "\u001b[0;34mThe research agent will provide you with additional research about the entities it identified in the news facts. The result from reseachAgent can be found in the <research_results> XML tag.\u001b[0m\n",
      "\u001b[0;34m\u001b[0m\n",
      "\u001b[0;34m2. Once the research agent is finished, submit the research information to the articleWritingAgent, which will create an article from the research and news facts. \u001b[0m\n",
      "\u001b[0;34m\u001b[0m\n",
      "\u001b[0;34m3. The article must be reviewed before returning to the user. The content of the article can be found in <article> XML tag. Use the articleReviewerAgent to perform the review.\u001b[0m\n",
      "\u001b[0;34m\u001b[0m\n",
      "\u001b[0;34m4. The review feedback can be found in <review_feedback> XML tag. You should perform the article writing and review iteratively until the reviewerAgent is satisfied with the result. \u001b[0m\n",
      "\u001b[0;34m\u001b[0m\n",
      "\u001b[0;34mFinally, you must return only the final article to the user. Do not provide any preemtive or additional explanation, just return the final article to the user.\u001b[0m\n",
      "\u001b[0;34m\u001b[0m\n",
      "\u001b[0;34m# Guidelines:\u001b[0m\n",
      "\u001b[0;34m- Do not modify, summarize, or filter the researchAgent agent's output before passing it to the articleWritingAgent agent.\u001b[0m\n",
      "\u001b[0;34m- When working with the articleReviewAgent, always provide the the article generated by the articleWritingAgent as context without any modifications or summarization.\u001b[0m\n",
      "\u001b[0;34m- Do not edit, rewrite, or enhance the articleWritingAgent agent's output before returning it to the user.\u001b[0m\n",
      "\u001b[0;34m\u001b[0m\n",
      "\u001b[0;34mYou should iterate between the writing (articleWritingAgent) and review (articleReviewAgent) process to come up with best article.\u001b[0m\n",
      "\u001b[0;34m\u001b[0m\n",
      "\u001b[0;34m- You must not iterate the writing and review iteration processes more than 1 time. If you reached the maximum iteration, return the latest draft as the final article.\u001b[0m\n",
      "\u001b[0;34m- If any agent returns an error or incomplete output, notify the user with the exact error message.\u001b[0m\n",
      "\u001b[0;34m- Write your final draft in <final> XML tag.\u001b[0m\n",
      "\u001b[0;34m\"\"\"\u001b[0m\u001b[0;34m,\u001b[0m\u001b[0;34m\u001b[0m\n",
      "\u001b[0;34m\u001b[0m        \u001b[0mtools\u001b[0m\u001b[0;34m=\u001b[0m\u001b[0;34m[\u001b[0m\u001b[0mresearch_agent\u001b[0m\u001b[0;34m,\u001b[0m \u001b[0marticle_generation_agent\u001b[0m\u001b[0;34m,\u001b[0m \u001b[0marticle_reviewer_agent\u001b[0m\u001b[0;34m]\u001b[0m\u001b[0;34m\u001b[0m\n",
      "\u001b[0;34m\u001b[0m    \u001b[0;34m)\u001b[0m\u001b[0;34m\u001b[0m\n",
      "\u001b[0;34m\u001b[0m\u001b[0;34m\u001b[0m\n",
      "\u001b[0;34m\u001b[0m    \u001b[0;32mreturn\u001b[0m \u001b[0minterface_supervisor\u001b[0m\u001b[0;34m(\u001b[0m\u001b[0mnews_facts\u001b[0m\u001b[0;34m)\u001b[0m\u001b[0;34m\u001b[0m\n",
      "\u001b[0;34m\u001b[0m\u001b[0;34m\u001b[0m\n",
      "\u001b[0;34m\u001b[0m\u001b[0;32mif\u001b[0m \u001b[0m__name__\u001b[0m \u001b[0;34m==\u001b[0m \u001b[0;34m\"__main__\"\u001b[0m\u001b[0;34m:\u001b[0m\u001b[0;34m\u001b[0m\n",
      "\u001b[0;34m\u001b[0m    \u001b[0mparser\u001b[0m \u001b[0;34m=\u001b[0m \u001b[0margparse\u001b[0m\u001b[0;34m.\u001b[0m\u001b[0mArgumentParser\u001b[0m\u001b[0;34m(\u001b[0m\u001b[0;34m)\u001b[0m\u001b[0;34m\u001b[0m\n",
      "\u001b[0;34m\u001b[0m    \u001b[0mparser\u001b[0m\u001b[0;34m.\u001b[0m\u001b[0madd_argument\u001b[0m\u001b[0;34m(\u001b[0m\u001b[0;34m\"payload\"\u001b[0m\u001b[0;34m,\u001b[0m \u001b[0mtype\u001b[0m\u001b[0;34m=\u001b[0m\u001b[0mstr\u001b[0m\u001b[0;34m)\u001b[0m\u001b[0;34m\u001b[0m\n",
      "\u001b[0;34m\u001b[0m    \u001b[0margs\u001b[0m \u001b[0;34m=\u001b[0m \u001b[0mparser\u001b[0m\u001b[0;34m.\u001b[0m\u001b[0mparse_args\u001b[0m\u001b[0;34m(\u001b[0m\u001b[0;34m)\u001b[0m\u001b[0;34m\u001b[0m\n",
      "\u001b[0;34m\u001b[0m    \u001b[0minterface_supervisor_agent\u001b[0m\u001b[0;34m(\u001b[0m\u001b[0mjson\u001b[0m\u001b[0;34m.\u001b[0m\u001b[0mloads\u001b[0m\u001b[0;34m(\u001b[0m\u001b[0margs\u001b[0m\u001b[0;34m.\u001b[0m\u001b[0mpayload\u001b[0m\u001b[0;34m)\u001b[0m\u001b[0;34m)\u001b[0m\u001b[0;34m\u001b[0m\u001b[0;34m\u001b[0m\u001b[0m\n"
     ]
    }
   ],
   "source": [
    "%pycat news_story_generator_agent_local.py"
   ]
  },
  {
   "cell_type": "markdown",
   "metadata": {},
   "source": [
    "Let's test the script locally to ensure it works as expected."
   ]
  },
  {
   "cell_type": "markdown",
   "metadata": {
    "vscode": {
     "languageId": "raw"
    }
   },
   "source": [
    "## Local Testing\n",
    "\n",
    "Create sample news facts to test our agent locally:\n"
   ]
  },
  {
   "cell_type": "code",
   "execution_count": 9,
   "metadata": {},
   "outputs": [],
   "source": [
    "news_facts = \"\"\"NeuraHealth Solutions announced its new medical diagnostic platform called \"MediScan\" at their annual developer conference yesterday.\n",
    "The system demonstrated 94% accuracy in early disease detection across a trial of 12,000 patients.\n",
    "Dr. Eliza Chen, Chief Medical Officer at NeuraHealth, revealed the system was trained on 50 million anonymized patient records.\n",
    "\"\"\"\n",
    "payload = json.dumps({ \"query\" : news_facts})"
   ]
  },
  {
   "cell_type": "markdown",
   "metadata": {
    "vscode": {
     "languageId": "raw"
    }
   },
   "source": [
    "Run the agent locally with the sample news facts and measure the execution time:\n"
   ]
  },
  {
   "cell_type": "code",
   "execution_count": null,
   "metadata": {},
   "outputs": [],
   "source": [
    "%%time\n",
    "!python news_story_generator_agent_local.py '{payload}'"
   ]
  },
  {
   "cell_type": "markdown",
   "metadata": {},
   "source": [
    "## Preparing your agent for deployment on AgentCore Runtime\n",
    "\n",
    "Let's now deploy our agents to AgentCore Runtime. To do so we need to:\n",
    "* Import the Runtime App with `from bedrock_agentcore.runtime import BedrockAgentCoreApp`\n",
    "* Initialize the App in our code with `app = BedrockAgentCoreApp()`\n",
    "* Decorate the invocation function with the `@app.entrypoint` decorator\n",
    "* Let AgentCoreRuntime control the running of the agent with `app.run()`"
   ]
  },
  {
   "cell_type": "markdown",
   "metadata": {
    "vscode": {
     "languageId": "raw"
    }
   },
   "source": [
    "Prepare the deployment version of the agent by reading the template and configuring it with the knowledge base ID:\n"
   ]
  },
  {
   "cell_type": "code",
   "execution_count": 10,
   "metadata": {},
   "outputs": [],
   "source": [
    "with open(news_story_agent_template_script, \"r\") as f:\n",
    "    new_agent_code = f.read()\n",
    "\n",
    "new_agent_code = new_agent_code.replace(\"{{lab7_kb_id}}\", lab7_kb_id)\n",
    "with open(news_story_agent_script, \"w\") as f:\n",
    "    f.write(new_agent_code)"
   ]
  },
  {
   "cell_type": "markdown",
   "metadata": {
    "vscode": {
     "languageId": "raw"
    }
   },
   "source": [
    "Optional: Uncomment the following line to test the agent locally before deployment:\n"
   ]
  },
  {
   "cell_type": "code",
   "execution_count": 11,
   "metadata": {},
   "outputs": [],
   "source": [
    "# !python news_story_generator_agent.py # Uncomment this line if you want to launch the agent locally for testing purposes."
   ]
  },
  {
   "cell_type": "markdown",
   "metadata": {},
   "source": [
    "## What happens behind the scenes?\n",
    "\n",
    "When you use `BedrockAgentCoreApp`, it automatically:\n",
    "\n",
    "* Creates an HTTP server that listens on the port 8080\n",
    "* Implements the required `/invocations` endpoint for processing the agent's requirements\n",
    "* Implements the `/ping` endpoint for health checks (very important for asynchronous agents)\n",
    "* Handles proper content types and response formats\n",
    "* Manages error handling according to the AWS standards"
   ]
  },
  {
   "cell_type": "markdown",
   "metadata": {},
   "source": [
    "## Deploying the agent to AgentCore Runtime\n",
    "\n",
    "The `CreateAgentRuntime` operation supports comprehensive configuration options, letting you specify container images, environment variables and encryption settings. You can also configure protocol settings (HTTP, MCP) and authorization mechanisms to control how your clients communicate with the agent. \n",
    "\n",
    "**Note:** Operations best practice is to package code as container and push to ECR using CI/CD pipelines and IaC\n",
    "\n",
    "In this tutorial can will the Amazon Bedrock AgentCore Python SDK to easily package your artifacts and deploy them to AgentCore runtime."
   ]
  },
  {
   "cell_type": "markdown",
   "metadata": {},
   "source": [
    "### Creating runtime role\n",
    "\n",
    "Before starting, let's create an IAM role for our AgentCore Runtime. We will do so using the utils function pre-developed for you."
   ]
  },
  {
   "cell_type": "markdown",
   "metadata": {
    "vscode": {
     "languageId": "raw"
    }
   },
   "source": [
    "Set up the Python path to access utility functions and create the IAM role for AgentCore Runtime:\n"
   ]
  },
  {
   "cell_type": "code",
   "execution_count": 12,
   "metadata": {},
   "outputs": [
    {
     "name": "stdout",
     "output_type": "stream",
     "text": [
      "sys.path[0]: /Users/weteh/dev/projects/aws/workshops/workshop-studio/code\n",
      "attaching role policy agentcore-news_story_generator_agent_7aebf-role\n"
     ]
    }
   ],
   "source": [
    "import sys\n",
    "import os\n",
    "\n",
    "# Get the current notebook's directory\n",
    "current_dir = os.path.dirname(os.path.abspath('__file__' if '__file__' in globals() else '.'))\n",
    "\n",
    "utils_dir = os.path.join(current_dir, '..')\n",
    "utils_dir = os.path.join(utils_dir, '..')\n",
    "utils_dir = os.path.abspath(utils_dir)\n",
    "\n",
    "# Add to sys.path\n",
    "sys.path.insert(0, utils_dir)\n",
    "print(\"sys.path[0]:\", sys.path[0])\n",
    "\n",
    "from utils import create_agentcore_role\n",
    "\n",
    "agentcore_iam_role = create_agentcore_role(agent_name=agent_name)"
   ]
  },
  {
   "cell_type": "markdown",
   "metadata": {},
   "source": [
    "### Configure AgentCore Runtime deployment\n",
    "\n",
    "Next we will use our starter toolkit to configure the AgentCore Runtime deployment with an entrypoint, the execution role we just created and a requirements file. We will also configure the starter kit to auto create the Amazon ECR repository on launch.\n",
    "\n",
    "During the configure step, your docker file will be generated based on your application code\n",
    "\n",
    "<div style=\"text-align:left\">\n",
    "    <img src=\"../imgs/agentcore-runtime-configure.png\" width=\"70%\"/>\n",
    "</div>"
   ]
  },
  {
   "cell_type": "markdown",
   "metadata": {
    "vscode": {
     "languageId": "raw"
    }
   },
   "source": [
    "Configure the AgentCore Runtime deployment using the starter toolkit with the agent script, execution role, and requirements:\n"
   ]
  },
  {
   "cell_type": "code",
   "execution_count": 15,
   "metadata": {},
   "outputs": [
    {
     "name": "stderr",
     "output_type": "stream",
     "text": [
      "Entrypoint parsed: file=/Users/weteh/dev/projects/aws/workshops/workshop-studio/code/aws-samples/sample-media-and-entertainment-agentic-ai-workflows-on-aws/lab8/news_story_generator_agent.py, bedrock_agentcore_name=news_story_generator_agent\n",
      "Configuring BedrockAgentCore agent: news_story_generator_agent_7aebf\n",
      "Generated Dockerfile: /Users/weteh/dev/projects/aws/workshops/workshop-studio/code/aws-samples/sample-media-and-entertainment-agentic-ai-workflows-on-aws/lab8/Dockerfile\n",
      "Generated .dockerignore: /Users/weteh/dev/projects/aws/workshops/workshop-studio/code/aws-samples/sample-media-and-entertainment-agentic-ai-workflows-on-aws/lab8/.dockerignore\n",
      "Changing default agent from 'movie_assistant_agent_mcp_af38c' to 'news_story_generator_agent_7aebf'\n",
      "Bedrock AgentCore configured: /Users/weteh/dev/projects/aws/workshops/workshop-studio/code/aws-samples/sample-media-and-entertainment-agentic-ai-workflows-on-aws/lab8/.bedrock_agentcore.yaml\n"
     ]
    },
    {
     "data": {
      "text/plain": [
       "ConfigureResult(config_path=PosixPath('/Users/weteh/dev/projects/aws/workshops/workshop-studio/code/aws-samples/sample-media-and-entertainment-agentic-ai-workflows-on-aws/lab8/.bedrock_agentcore.yaml'), dockerfile_path=PosixPath('/Users/weteh/dev/projects/aws/workshops/workshop-studio/code/aws-samples/sample-media-and-entertainment-agentic-ai-workflows-on-aws/lab8/Dockerfile'), dockerignore_path=PosixPath('/Users/weteh/dev/projects/aws/workshops/workshop-studio/code/aws-samples/sample-media-and-entertainment-agentic-ai-workflows-on-aws/lab8/.dockerignore'), runtime='Docker', region='us-east-1', account_id='602900100639', execution_role='arn:aws:iam::602900100639:role/agentcore-news_story_generator_agent_7aebf-role', ecr_repository=None, auto_create_ecr=True)"
      ]
     },
     "execution_count": 15,
     "metadata": {},
     "output_type": "execute_result"
    }
   ],
   "source": [
    "from bedrock_agentcore_starter_toolkit import Runtime\n",
    "from boto3.session import Session\n",
    "boto_session = Session()\n",
    "region = boto_session.region_name\n",
    "region\n",
    "\n",
    "agentcore_runtime = Runtime()\n",
    "\n",
    "response = agentcore_runtime.configure(\n",
    "    entrypoint=news_story_agent_script,\n",
    "    execution_role=agentcore_iam_role['Role']['Arn'],\n",
    "    auto_create_ecr=True,\n",
    "    requirements_file=\"requirements.txt\",\n",
    "    region=region,\n",
    "    agent_name=agent_name\n",
    ")\n",
    "response"
   ]
  },
  {
   "cell_type": "markdown",
   "metadata": {},
   "source": [
    "### Launching agent to AgentCore Runtime\n",
    "\n",
    "Now that we've got a docker file, let's launch the agent to the AgentCore Runtime. This will create the Amazon ECR repository and the AgentCore Runtime\n",
    "\n",
    "<div style=\"text-align:left\">\n",
    "    <img src=\"../imgs/agentcore-runtime-launch.png\" width=\"75%\"/>\n",
    "</div> "
   ]
  },
  {
   "cell_type": "markdown",
   "metadata": {},
   "source": [
    "Launch the Agentic AI application"
   ]
  },
  {
   "cell_type": "markdown",
   "metadata": {
    "vscode": {
     "languageId": "raw"
    }
   },
   "source": [
    "### Deploy to AgentCore Runtime\n",
    "\n",
    "Launch the agent to the AgentCore Runtime, which will build the Docker image, push it to ECR, and create the runtime:\n"
   ]
  },
  {
   "cell_type": "code",
   "execution_count": 16,
   "metadata": {},
   "outputs": [
    {
     "name": "stderr",
     "output_type": "stream",
     "text": [
      "🚀 CodeBuild mode: building in cloud (RECOMMENDED - DEFAULT)\n",
      "   • Build ARM64 containers in the cloud with CodeBuild\n",
      "   • No local Docker required\n",
      "💡 Available deployment modes:\n",
      "   • runtime.launch()                           → CodeBuild (current)\n",
      "   • runtime.launch(local=True)                 → Local development\n",
      "   • runtime.launch(local_build=True)           → Local build + cloud deploy (NEW)\n",
      "Starting CodeBuild ARM64 deployment for agent 'news_story_generator_agent_7aebf' to account 602900100639 (us-east-1)\n",
      "Starting CodeBuild ARM64 deployment for agent 'news_story_generator_agent_7aebf' to account 602900100639 (us-east-1)\n",
      "Setting up AWS resources (ECR repository, execution roles)...\n",
      "Getting or creating ECR repository for agent: news_story_generator_agent_7aebf\n"
     ]
    },
    {
     "name": "stdout",
     "output_type": "stream",
     "text": [
      "Repository doesn't exist, creating new ECR repository: bedrock-agentcore-news_story_generator_agent_7aebf\n"
     ]
    },
    {
     "name": "stderr",
     "output_type": "stream",
     "text": [
      "✅ ECR repository available: 602900100639.dkr.ecr.us-east-1.amazonaws.com/bedrock-agentcore-news_story_generator_agent_7aebf\n",
      "Using execution role from config: arn:aws:iam::602900100639:role/agentcore-news_story_generator_agent_7aebf-role\n",
      "✅ Execution role validation passed: arn:aws:iam::602900100639:role/agentcore-news_story_generator_agent_7aebf-role\n",
      "Preparing CodeBuild project and uploading source...\n",
      "Getting or creating CodeBuild execution role for agent: news_story_generator_agent_7aebf\n",
      "Role name: AmazonBedrockAgentCoreSDKCodeBuild-us-east-1-5c3e9d6953\n",
      "CodeBuild role doesn't exist, creating new role: AmazonBedrockAgentCoreSDKCodeBuild-us-east-1-5c3e9d6953\n",
      "Creating IAM role: AmazonBedrockAgentCoreSDKCodeBuild-us-east-1-5c3e9d6953\n",
      "✓ Role created: arn:aws:iam::602900100639:role/AmazonBedrockAgentCoreSDKCodeBuild-us-east-1-5c3e9d6953\n",
      "Attaching inline policy: CodeBuildExecutionPolicy to role: AmazonBedrockAgentCoreSDKCodeBuild-us-east-1-5c3e9d6953\n",
      "✓ Policy attached: CodeBuildExecutionPolicy\n",
      "Waiting for IAM role propagation...\n",
      "CodeBuild execution role creation complete: arn:aws:iam::602900100639:role/AmazonBedrockAgentCoreSDKCodeBuild-us-east-1-5c3e9d6953\n",
      "Using .dockerignore with 44 patterns\n",
      "Uploaded source to S3: news_story_generator_agent_7aebf/20250804-171443.zip\n",
      "Created CodeBuild project: bedrock-agentcore-news_story_generator_agent_7aebf-builder\n",
      "Starting CodeBuild build (this may take several minutes)...\n",
      "Starting CodeBuild monitoring...\n",
      "🔄 QUEUED started (total: 0s)\n",
      "✅ QUEUED completed in 5.1s\n",
      "🔄 PROVISIONING started (total: 5s)\n",
      "✅ PROVISIONING completed in 10.2s\n",
      "🔄 PRE_BUILD started (total: 15s)\n",
      "✅ PRE_BUILD completed in 10.2s\n",
      "🔄 BUILD started (total: 26s)\n",
      "✅ BUILD completed in 66.1s\n",
      "🔄 POST_BUILD started (total: 92s)\n",
      "✅ POST_BUILD completed in 15.3s\n",
      "🔄 COMPLETED started (total: 107s)\n",
      "✅ COMPLETED completed in 0.0s\n",
      "🎉 CodeBuild completed successfully in 1m 46s\n",
      "CodeBuild completed successfully\n",
      "✅ CodeBuild project configuration saved\n",
      "Deploying to Bedrock AgentCore...\n",
      "✅ Agent created/updated: arn:aws:bedrock-agentcore:us-east-1:602900100639:runtime/news_story_generator_agent_7aebf-QxArJn6H5k\n",
      "Polling for endpoint to be ready...\n",
      "Agent endpoint: arn:aws:bedrock-agentcore:us-east-1:602900100639:runtime/news_story_generator_agent_7aebf-QxArJn6H5k/runtime-endpoint/DEFAULT\n",
      "Deployment completed successfully - Agent: arn:aws:bedrock-agentcore:us-east-1:602900100639:runtime/news_story_generator_agent_7aebf-QxArJn6H5k\n",
      "Built with CodeBuild: bedrock-agentcore-news_story_generator_agent_7aebf-builder:2cd98559-d5c4-4e42-9ac7-5cf4d3ce4368\n",
      "Deployed to cloud: arn:aws:bedrock-agentcore:us-east-1:602900100639:runtime/news_story_generator_agent_7aebf-QxArJn6H5k\n",
      "ECR image: 602900100639.dkr.ecr.us-east-1.amazonaws.com/bedrock-agentcore-news_story_generator_agent_7aebf\n",
      "🔍 Agent logs available at:\n",
      "   /aws/bedrock-agentcore/runtimes/news_story_generator_agent_7aebf-QxArJn6H5k-DEFAULT\n",
      "   /aws/bedrock-agentcore/runtimes/news_story_generator_agent_7aebf-QxArJn6H5k-DEFAULT/runtime-logs\n",
      "💡 Tail logs with: aws logs tail /aws/bedrock-agentcore/runtimes/news_story_generator_agent_7aebf-QxArJn6H5k-DEFAULT --follow\n",
      "💡 Or view recent logs: aws logs tail /aws/bedrock-agentcore/runtimes/news_story_generator_agent_7aebf-QxArJn6H5k-DEFAULT --since 1h\n"
     ]
    }
   ],
   "source": [
    "launch_result = agentcore_runtime.launch()"
   ]
  },
  {
   "cell_type": "markdown",
   "metadata": {
    "vscode": {
     "languageId": "raw"
    }
   },
   "source": [
    "Monitor the agent deployment status and wait for it to be ready:\n"
   ]
  },
  {
   "cell_type": "code",
   "execution_count": 17,
   "metadata": {},
   "outputs": [
    {
     "name": "stderr",
     "output_type": "stream",
     "text": [
      "Retrieved Bedrock AgentCore status for: news_story_generator_agent_7aebf\n"
     ]
    },
    {
     "data": {
      "text/plain": [
       "'READY'"
      ]
     },
     "execution_count": 17,
     "metadata": {},
     "output_type": "execute_result"
    }
   ],
   "source": [
    "status_response = agentcore_runtime.status()\n",
    "status = status_response.endpoint['status']\n",
    "end_status = ['READY', 'CREATE_FAILED', 'DELETE_FAILED', 'UPDATE_FAILED']\n",
    "while status not in end_status:\n",
    "    time.sleep(10)\n",
    "    status_response = agentcore_runtime.status()\n",
    "    status = status_response.endpoint['status']\n",
    "    print(status)\n",
    "status"
   ]
  },
  {
   "cell_type": "markdown",
   "metadata": {},
   "source": [
    "### Invoking AgentCore Runtime with Session Management and Context Handling\n",
    "\n",
    "Finally, we can invoke our AgentCore Runtime with a payload\n",
    "\n",
    "<div style=\"text-align:left\">\n",
    "    <img src=\"../imgs/agentcore-runtime-invoke.png\" width=75%\"/>\n",
    "</div>\n",
    "\n",
    "Notice we also pass a session ID to the invoke function. AgentCore Runtime lets you isolate each user session and safely reuse context across multiple invocations in a user session. Session isolation is critical for AI agent workloads due to their unique operational characteristics:\n",
    "\n",
    "* Complete execution environment separation: Each user session in Runtime receives its own dedicated microVM with isolated Compute, memory, and filesystem resources. This prevents one user's agent from accessing another user's data. After session completion, the entire microVM is terminated and memory is sanitized to remove all session data, eliminating cross-session contamination risks.\n",
    "\n",
    "* Stateful reasoning processes: Unlike stateless functions, AI agents maintain complex contextual state throughout their execution cycle, beyond simple message history for multi-turn conversations. Runtime preserves this state securely within a session while ensuring complete isolation between different users, enabling personalized agent experiences without compromising data boundaries.\n",
    "\n",
    "* Privileged tool operations: AI agents perform privileged operations on users' behalf through integrated tools accessing various resources. Runtime's isolation model ensures these tool operations maintain proper security contexts and prevents credential sharing or permission escalation between different user sessions.\n",
    "\n",
    "* Deterministic security for non-deterministic processes: AI agent behavior can be non-deterministic due to the probabilistic nature of foundation models. Runtime provides consistent, deterministic isolation boundaries regardless of agent execution patterns, delivering the predictable security properties required for enterprise deployments.\n"
   ]
  },
  {
   "cell_type": "markdown",
   "metadata": {},
   "source": [
    "## Trace the Agent Logs\n",
    "All the log information from the agents are written to Cloudwatch by default. In the output from the `agentcore_runtime.launch()` shown in the previous output cell, you could see the command that could be used for showing the cloudwatch logs. Open a CLI terminal in your IDE and run the command to see the output from the agent. \n",
    "\n",
    "An example command: `aws logs tail /aws/bedrock-agentcore/runtimes/news_story_generator_agent_b1135-7B4Adh5eDR-DEFAULT --follow`"
   ]
  },
  {
   "cell_type": "markdown",
   "metadata": {
    "vscode": {
     "languageId": "raw"
    }
   },
   "source": [
    "Invoke the deployed agent with a unique session ID and the sample news facts payload:\n"
   ]
  },
  {
   "cell_type": "code",
   "execution_count": 18,
   "metadata": {
    "scrolled": true
   },
   "outputs": [
    {
     "name": "stderr",
     "output_type": "stream",
     "text": [
      "Invoking BedrockAgentCore agent 'news_story_generator_agent_7aebf' via cloud endpoint\n"
     ]
    }
   ],
   "source": [
    "session_id = uuid.uuid4()\n",
    "invoke_response = agentcore_runtime.invoke(json.loads(payload), session_id=str(session_id))"
   ]
  },
  {
   "cell_type": "markdown",
   "metadata": {
    "vscode": {
     "languageId": "raw"
    }
   },
   "source": [
    "Define a helper function to clean and extract the final output from the agent response:\n"
   ]
  },
  {
   "cell_type": "code",
   "execution_count": 19,
   "metadata": {},
   "outputs": [
    {
     "data": {
      "text/plain": [
       "{'ResponseMetadata': {'RequestId': '0d0ac3a7-6cc3-45b5-8fd9-a0ba002a8dd5',\n",
       "  'HTTPStatusCode': 200,\n",
       "  'HTTPHeaders': {'date': 'Mon, 04 Aug 2025 17:18:26 GMT',\n",
       "   'content-type': 'application/json',\n",
       "   'transfer-encoding': 'chunked',\n",
       "   'connection': 'keep-alive',\n",
       "   'x-amzn-requestid': '0d0ac3a7-6cc3-45b5-8fd9-a0ba002a8dd5',\n",
       "   'baggage': 'Self=1-6890eb32-6ae5d4e15904c06038664016,session.id=94608119-6bdb-46f6-8665-8b37dcc8fe6e',\n",
       "   'x-amzn-bedrock-agentcore-runtime-session-id': '94608119-6bdb-46f6-8665-8b37dcc8fe6e',\n",
       "   'x-amzn-trace-id': 'Root=1-6890eb32-61b4263f6aa86bd14cbf1149;Self=1-6890eb32-6ae5d4e15904c06038664016'},\n",
       "  'RetryAttempts': 0},\n",
       " 'runtimeSessionId': '94608119-6bdb-46f6-8665-8b37dcc8fe6e',\n",
       " 'traceId': 'Root=1-6890eb32-61b4263f6aa86bd14cbf1149;Self=1-6890eb32-6ae5d4e15904c06038664016',\n",
       " 'baggage': 'Self=1-6890eb32-6ae5d4e15904c06038664016,session.id=94608119-6bdb-46f6-8665-8b37dcc8fe6e',\n",
       " 'contentType': 'application/json',\n",
       " 'statusCode': 200,\n",
       " 'response': [b'\"<final>NeuraHealth Solutions\\' MediScan Platform Poised to Revolutionize Diagnostics\\\\n\\\\nNeuraHealth Solutions, a leading healthcare technology company, is on the brink of a significant breakthrough with its AI-powered diagnostic platform, MediScan. Currently pending FDA approval, expected in Q3 2024, MediScan promises to transform the diagnostic landscape.\\\\n\\\\nThe platform leverages advanced artificial intelligence to provide rapid and accurate diagnoses. According to Dr. Eliza Chen, founder and Chief Medical Officer of NeuraHealth Solutions, MediScan has demonstrated an impressive accuracy rate in clinical trials. \\\\\"Our platform has shown a 95% accuracy rate in preliminary tests,\\\\\" Dr. Chen stated. This high accuracy rate positions MediScan as a potentially game-changing tool for healthcare providers.\\\\n\\\\nNeuraHealth Solutions has a strong financial standing, with a market capitalization of $12.8 billion. The company reported $870 million in revenue for 2023, highlighting its robust performance in the healthca',\n",
       "  b're technology sector. These financial details underscore the company\\'s capability to invest in and bring innovative solutions like MediScan to market.\\\\n\\\\nThe journey to FDA approval has been rigorous. MediScan underwent extensive testing to ensure its reliability and effectiveness. The platform\\'s algorithms were trained on vast datasets, enabling it to recognize patterns and make precise diagnoses. This meticulous approach to development is a testament to NeuraHealth Solutions\\' commitment to excellence.\\\\n\\\\nAs MediScan awaits FDA approval, the healthcare community is abuzz with anticipation. The platform\\'s potential to enhance diagnostic accuracy and efficiency could lead to better patient outcomes and reduced healthcare costs. Dr. Chen expressed optimism about the platform\\'s future impact. \\\\\"We believe MediScan will set a new standard in diagnostics,\\\\\" she said.\\\\n\\\\nIn conclusion, NeuraHealth Solutions\\' MediScan platform represents a significant advancement in healthcare technology. With its high accuracy rate',\n",
       "  b' and the company\\'s strong financial backing, MediScan is well-positioned to make a lasting impact on the diagnostic process. As the FDA review progresses, the medical community eagerly awaits the opportunity to integrate this innovative tool into clinical practice.</final>\\\\n\"']}"
      ]
     },
     "execution_count": 19,
     "metadata": {},
     "output_type": "execute_result"
    }
   ],
   "source": [
    "invoke_response"
   ]
  },
  {
   "cell_type": "markdown",
   "metadata": {},
   "source": [
    "## Part 2 - Identity Integration\n",
    "Amazon Bedrock AgentCore Identity is an identity and credential management service designed specifically for AI agents and automated workloads. It provides secure authentication, authorization, and credential management capabilities that enable agents and tools to access AWS resources and third-party services on behalf of users while helping to maintain strict security controls and audit trails. \n",
    "\n",
    "Agent identities are implemented as workload identities with specialized attributes that enable agent-specific capabilities while helping to maintain compatibility with industry-standard workload identity patterns. The service integrates natively with Amazon Bedrock AgentCore to provide identity and credential management for agent applications, including Host agent or tools with Amazon Bedrock AgentCore Runtime and Amazon Bedrock AgentCore Gateway: Securely connect tools and other resources to your Gateway.\n",
    "\n",
    "Amazon Bedrock AgentCore Identity supports seamless integration with AWS and third-party services through Sigv4, standardized OAuth 2.0 flows, and API keys.\n",
    "\n",
    "### Provision a Cognito User Pool\n",
    "Lets provision a Cognito Userpool with an App client and one test user. Note down the 1/Cognito Discovery url and 2/the Cognito app client id. We will use it to configure our agent for Inbound Auth with Cognito.\n"
   ]
  },
  {
   "cell_type": "code",
   "execution_count": 20,
   "metadata": {},
   "outputs": [
    {
     "name": "stdout",
     "output_type": "stream",
     "text": [
      "Using AWS Region: us-east-1\n",
      "\n",
      "\u001b[1;39m{\n",
      "  \u001b[0m\u001b[1;34m\"User\"\u001b[0m\u001b[1;39m: \u001b[0m\u001b[1;39m{\n",
      "    \u001b[0m\u001b[1;34m\"Username\"\u001b[0m\u001b[1;39m: \u001b[0m\u001b[0;32m\"testuser\"\u001b[0m\u001b[1;39m,\n",
      "    \u001b[0m\u001b[1;34m\"Attributes\"\u001b[0m\u001b[1;39m: \u001b[0m\u001b[1;39m[\n",
      "      \u001b[1;39m{\n",
      "        \u001b[0m\u001b[1;34m\"Name\"\u001b[0m\u001b[1;39m: \u001b[0m\u001b[0;32m\"sub\"\u001b[0m\u001b[1;39m,\n",
      "        \u001b[0m\u001b[1;34m\"Value\"\u001b[0m\u001b[1;39m: \u001b[0m\u001b[0;32m\"14e83428-e081-70ad-152f-5941f01f904f\"\u001b[0m\u001b[1;39m\n",
      "      \u001b[1;39m}\u001b[0m\u001b[1;39m\n",
      "    \u001b[1;39m]\u001b[0m\u001b[1;39m,\n",
      "    \u001b[0m\u001b[1;34m\"UserCreateDate\"\u001b[0m\u001b[1;39m: \u001b[0m\u001b[0;39m1754328349.514\u001b[0m\u001b[1;39m,\n",
      "    \u001b[0m\u001b[1;34m\"UserLastModifiedDate\"\u001b[0m\u001b[1;39m: \u001b[0m\u001b[0;39m1754328349.514\u001b[0m\u001b[1;39m,\n",
      "    \u001b[0m\u001b[1;34m\"Enabled\"\u001b[0m\u001b[1;39m: \u001b[0m\u001b[0;39mtrue\u001b[0m\u001b[1;39m,\n",
      "    \u001b[0m\u001b[1;34m\"UserStatus\"\u001b[0m\u001b[1;39m: \u001b[0m\u001b[0;32m\"FORCE_CHANGE_PASSWORD\"\u001b[0m\u001b[1;39m\n",
      "  \u001b[1;39m}\u001b[0m\u001b[1;39m\n",
      "\u001b[1;39m}\u001b[0m\n",
      "\u001b[1;39m{\n",
      "  \u001b[0m\u001b[1;34m\"ChallengeParameters\"\u001b[0m\u001b[1;39m: \u001b[0m\u001b[1;39m{}\u001b[0m\u001b[1;39m,\n",
      "  \u001b[0m\u001b[1;34m\"AuthenticationResult\"\u001b[0m\u001b[1;39m: \u001b[0m\u001b[1;39m{\n",
      "    \u001b[0m\u001b[1;34m\"AccessToken\"\u001b[0m\u001b[1;39m: \u001b[0m\u001b[0;32m\"eyJraWQiOiJxSjlITVpWVEZKVGwxM2laMkNYOWQ4Y1JqVWpJSFJsVkQrT29PRWVpblp3PSIsImFsZyI6IlJTMjU2In0.eyJzdWIiOiIxNGU4MzQyOC1lMDgxLTcwYWQtMTUyZi01OTQxZjAxZjkwNGYiLCJpc3MiOiJodHRwczpcL1wvY29nbml0by1pZHAudXMtZWFzdC0xLmFtYXpvbmF3cy5jb21cL3VzLWVhc3QtMV83MGJCUVJqdnciLCJjbGllbnRfaWQiOiIyZXFyczRlZWZoNTdiYWM3YmZmcnVvZzVodSIsIm9yaWdpbl9qdGkiOiIwMzhhMDI4Zi1hMjdhLTQ3MjQtYTU4NC04YTBlMTY4YWVhNzIiLCJldmVudF9pZCI6ImZiZDUyYWVjLTk0OGQtNGZkMC1hNjYxLTgyYjNkODJmMDE4MyIsInRva2VuX3VzZSI6ImFjY2VzcyIsInNjb3BlIjoiYXdzLmNvZ25pdG8uc2lnbmluLnVzZXIuYWRtaW4iLCJhdXRoX3RpbWUiOjE3NTQzMjgzNTIsImV4cCI6MTc1NDMzNTU1MiwiaWF0IjoxNzU0MzI4MzUyLCJqdGkiOiI0YWI5NTI3MC03ZjY1LTRhZWEtYWQ1NC02ODJhZjVlNThiZDgiLCJ1c2VybmFtZSI6InRlc3R1c2VyIn0.EDTwqXf5Bz1rjXegfn2aTsEZDHcRZXbOdArKfudAfXE0iLwgLZ79qTNNiC2d1RaKu2viZYJfrMLvtQwybEFeSoQonRmjwhsjTMgK2Htgcah8y2rj1DIt0E8P3UjBpXI6IrxNtUeRz3wj1iO3aSL9YnqeBttZmKC01zfQIYiEA-HxW2czgz3ByIgBZX6cMMsPojxWTqD95d4G-8rE4x6BGJsgQdtr7wlZsU5lFOM0wZwdztRRG3wkTksJ02VCNnzoANkgqiCIUBsHNurjk4rRth3UZ0H7Zdr8Cwzgmmua6nKLE5D39V50TJqMnQMEAIC2I6z9lSXEbSkQX3OPNF-MrQ\"\u001b[0m\u001b[1;39m,\n",
      "    \u001b[0m\u001b[1;34m\"ExpiresIn\"\u001b[0m\u001b[1;39m: \u001b[0m\u001b[0;39m7200\u001b[0m\u001b[1;39m,\n",
      "    \u001b[0m\u001b[1;34m\"TokenType\"\u001b[0m\u001b[1;39m: \u001b[0m\u001b[0;32m\"Bearer\"\u001b[0m\u001b[1;39m,\n",
      "    \u001b[0m\u001b[1;34m\"RefreshToken\"\u001b[0m\u001b[1;39m: \u001b[0m\u001b[0;32m\"eyJjdHkiOiJKV1QiLCJlbmMiOiJBMjU2R0NNIiwiYWxnIjoiUlNBLU9BRVAifQ.DYLnL9c3KfYxec-y7OAbYYkKLHT3axvBv3oj48d6OYhk8YjxlXujgSGg7nG4unfY8gzC9puplwkaJssY3VmC0J9fAbFPhSWQe8wIh6Rkb_3RCLxKcNolU0d9PKSGA_O3kjZOLjypJ3okIZiNQwKTddM-bIG5MGAwWa1D2lVh5IR_AhA4ZLNFcZayPurkn2U095Ps467DWF4nI9FutZyikBvWE__6_-NEzzUf9JMwoTlyK8dugYfwIkHiqgcr94acTjUAaam7JLCMsy2q-p8l8TygSo9POJ1LyLZMGM-jDj-5tiy1Rr_z5uHkIDdpL_C5EVvKf5imLlTqYmJGRchGgA.EQ58MThkXxVTnu-v.5aPqv7CcdeTTyvCRLpq94gnKUSGdZHon85e3DapaxC1jT84uyXTiek176s91KPjnz-0BfPO4kBbxB0a8eDwyEE7t52Ci26HT7MI3MWLa4N24KBHjRr4RQvq0-mZirrujf_LNKFijrlvquDQqaNl0emXEpOKb-OgeH45wcrzhP9imWQDcEZyPuoTpm15QX16e9ACOPnWkQLwgEasQhp4OG5ETPkRC6dZ_WbUSCgOyRaOJ_iiNqWmOdmtQpAoLVt_-Ozd5B8X1aWZmKyaFYDygbftIUwVxgnCro2yly9TVH7hFod-kZG9M-ANYMg0amqcLIvUwDcPdaxHCJ5L7WKATgzXSR-JU1LLmx5kj8z2fo9b0wdDlASxY0crBI11Mpmy8DxUYBd-rt4XloQ67T-DN0YCAMxrOMHlHGhyeuKIgoVoZr5b5Zpye2lUd7OdbrTJTbCLRdRRSRu0M98N4y42STPh5-krrbc-MQ5P4EfRauE4olj7_b-C5_Kxd1QBMu2D2mxqXZ2h174AfLLJKMQtZ0kb43i9KDtWCcmtfue4Mn136CugSRrl5AGblF-v5EgBtpS2dU7XvSEuPHZuqDD79miG7ULxUsLyW4n1siJR0PFamw-QQ0lf6uB0L0M9OsappVakkbrWyJARl_T9fsqSv8LvHauhlh0lLSDX1RZ7Jxx93Uf_xl1L_AJLVdW3Mrz-3pYbyuOEn0gAUb4eCwkIQMf0CdPk-S6lJKud-e-U21MMzKTaBbf-CZorZ0X_H5oD5ssfZdkwe1_nPEypas2OvhZJpxeW-uQx_D7iVmABd-WUs2kEHhGYkDoA5g7-CBBtcxXkjKVK_qtE71eyNorocwzcoEptJhdQN0JsnefXgPguB543wVbFe1zKYfCMiPNGI4d4MG_tBAexUjvXJT2hE6jXiNiBUoM9jVSyXqVYWd-ywAVXKku52qp82XDEqY1d0xa6wwDvcLcDCPVcNbDeX500pBKn66c1Iq3qQkGnN72fzFwdQl_qaDLPqngwcA36rGvMjZcfSP2quF174MR5hBdG2lEL7DzWGx4RST0pQOrUEWgLTkQ15vYywpa9f4PHy9jgeze_YxTf5n8Sw_UISY3yk2l71bKTRWyYix6AEuspo1wMZQ9t3xmyyKzWIZoT1Xhx3Aq_FjD1_7wEG6Fz5o08OG0d46DPiv53OGnpuJZ7tMoV8GCXNj2AcveqXwR_7zlKylf5XVt1lj1_A5wg0SSNurH5M92jOSe0sMhO9UlwUuShvBn9KUPfOWAdKyS3wISzFKbnsdA.8dKj1pRy8f5zvQQrss0sFQ\"\u001b[0m\u001b[1;39m,\n",
      "    \u001b[0m\u001b[1;34m\"IdToken\"\u001b[0m\u001b[1;39m: \u001b[0m\u001b[0;32m\"eyJraWQiOiJITTdWVlZ4dlJzNkN4eFdma1dxdEFYZ2R1MDJwMDN3MU5YMmduOFViSEQ0PSIsImFsZyI6IlJTMjU2In0.eyJvcmlnaW5fanRpIjoiMDM4YTAyOGYtYTI3YS00NzI0LWE1ODQtOGEwZTE2OGFlYTcyIiwic3ViIjoiMTRlODM0MjgtZTA4MS03MGFkLTE1MmYtNTk0MWYwMWY5MDRmIiwiYXVkIjoiMmVxcnM0ZWVmaDU3YmFjN2JmZnJ1b2c1aHUiLCJldmVudF9pZCI6ImZiZDUyYWVjLTk0OGQtNGZkMC1hNjYxLTgyYjNkODJmMDE4MyIsInRva2VuX3VzZSI6ImlkIiwiYXV0aF90aW1lIjoxNzU0MzI4MzUyLCJpc3MiOiJodHRwczpcL1wvY29nbml0by1pZHAudXMtZWFzdC0xLmFtYXpvbmF3cy5jb21cL3VzLWVhc3QtMV83MGJCUVJqdnciLCJjb2duaXRvOnVzZXJuYW1lIjoidGVzdHVzZXIiLCJleHAiOjE3NTQzMzU1NTIsImlhdCI6MTc1NDMyODM1MiwianRpIjoiNDhmYjRlMjEtMDFiZS00N2NhLWE2NDEtZWY3YWY2NzI0MWFiIn0.fK2uz-KKDRaJtbTFr3uIBSdtXbilSgxYBarVx7q4cHPD4ykbnqoIzii5Y8lyJ58Ful0iERjtTG_Xw5gaAeBboQXcpDzIwnWgoHC_6sJ8Cku9mw35KbO6O0MoEXVqpUCDVdca8W2eTuB5v8oT3C_IOETqySfWiL7CWNgaZM6tacRIZRfpaQ9JfaJuvGMI4glH0OSfPFltynSBMgejedJqYdW_y-N_W7_eIqATBYqzaJvw1hAim2xguZmxssx1FgUSByvyRxfKLhAJNmpA5IIWGwflUuXLxSMMsHJNxOrWDOBn70WC645_Z24KxLewMST1BkSIpDr0X2t_jJiUOBsenA\"\u001b[0m\u001b[1;39m\n",
      "  \u001b[1;39m}\u001b[0m\u001b[1;39m\n",
      "\u001b[1;39m}\u001b[0m\n",
      "\n",
      "=========================================\n",
      "Cognito Setup Complete!\n",
      "=========================================\n",
      "Cognito Discovery URL: https://cognito-idp.us-east-1.amazonaws.com/us-east-1_70bBQRjvw/.well-known/openid-configuration\n",
      "App Client ID: 2eqrs4eefh57bac7bffruog5hu\n",
      "Access Token: eyJraWQiOiJxSjlITVpWVEZKVGwxM2laMkNYOWQ4Y1JqVWpJSFJsVkQrT29PRWVpblp3PSIsImFsZyI6IlJTMjU2In0.eyJzdWIiOiIxNGU4MzQyOC1lMDgxLTcwYWQtMTUyZi01OTQxZjAxZjkwNGYiLCJpc3MiOiJodHRwczpcL1wvY29nbml0by1pZHAudXMtZWFzdC0xLmFtYXpvbmF3cy5jb21cL3VzLWVhc3QtMV83MGJCUVJqdnciLCJjbGllbnRfaWQiOiIyZXFyczRlZWZoNTdiYWM3YmZmcnVvZzVodSIsIm9yaWdpbl9qdGkiOiIwMzhhMDI4Zi1hMjdhLTQ3MjQtYTU4NC04YTBlMTY4YWVhNzIiLCJldmVudF9pZCI6ImZiZDUyYWVjLTk0OGQtNGZkMC1hNjYxLTgyYjNkODJmMDE4MyIsInRva2VuX3VzZSI6ImFjY2VzcyIsInNjb3BlIjoiYXdzLmNvZ25pdG8uc2lnbmluLnVzZXIuYWRtaW4iLCJhdXRoX3RpbWUiOjE3NTQzMjgzNTIsImV4cCI6MTc1NDMzNTU1MiwiaWF0IjoxNzU0MzI4MzUyLCJqdGkiOiI0YWI5NTI3MC03ZjY1LTRhZWEtYWQ1NC02ODJhZjVlNThiZDgiLCJ1c2VybmFtZSI6InRlc3R1c2VyIn0.EDTwqXf5Bz1rjXegfn2aTsEZDHcRZXbOdArKfudAfXE0iLwgLZ79qTNNiC2d1RaKu2viZYJfrMLvtQwybEFeSoQonRmjwhsjTMgK2Htgcah8y2rj1DIt0E8P3UjBpXI6IrxNtUeRz3wj1iO3aSL9YnqeBttZmKC01zfQIYiEA-HxW2czgz3ByIgBZX6cMMsPojxWTqD95d4G-8rE4x6BGJsgQdtr7wlZsU5lFOM0wZwdztRRG3wkTksJ02VCNnzoANkgqiCIUBsHNurjk4rRth3UZ0H7Zdr8Cwzgmmua6nKLE5D39V50TJqMnQMEAIC2I6z9lSXEbSkQX3OPNF-MrQ\n",
      "=========================================\n",
      "\n"
     ]
    }
   ],
   "source": [
    "!chmod +x setup_cognito_user_pool.sh\n",
    "!bash setup_cognito_user_pool.sh"
   ]
  },
  {
   "cell_type": "markdown",
   "metadata": {
    "vscode": {
     "languageId": "raw"
    }
   },
   "source": [
    "Set up a new boto session for the identity-enabled deployment:\n"
   ]
  },
  {
   "cell_type": "markdown",
   "metadata": {},
   "source": [
    "### Configure AgentCore Runtime deployment\n",
    "\n",
    "Next we will use our starter toolkit to configure the AgentCore Runtime deployment with an entrypoint, the execution role we just created and a requirements file. We will also configure the starter kit to auto create the Amazon ECR repository on launch.\n",
    "\n",
    "During the configure step, your docker file will be generated based on your application code. \n",
    "We'll use parse the values from these files to test the new engpoint."
   ]
  },
  {
   "cell_type": "code",
   "execution_count": 21,
   "metadata": {},
   "outputs": [
    {
     "data": {
      "text/plain": [
       "'us-east-1'"
      ]
     },
     "execution_count": 21,
     "metadata": {},
     "output_type": "execute_result"
    }
   ],
   "source": [
    "from bedrock_agentcore_starter_toolkit import Runtime\n",
    "from boto3.session import Session\n",
    "boto_session = Session()\n",
    "region = boto_session.region_name\n",
    "region"
   ]
  },
  {
   "cell_type": "markdown",
   "metadata": {},
   "source": [
    "### Create IAM Role for Identity-Enabled Agent\n",
    "\n",
    "Create a new IAM role and agent name for the identity-enabled deployment:"
   ]
  },
  {
   "cell_type": "code",
   "execution_count": 22,
   "metadata": {},
   "outputs": [
    {
     "name": "stdout",
     "output_type": "stream",
     "text": [
      "attaching role policy agentcore-news_story_generator_agent_98cd2-role\n"
     ]
    }
   ],
   "source": [
    "agent_name = f\"news_story_generator_agent_{str(uuid.uuid4())[:5]}\"\n",
    "agentcore_iam_role = create_agentcore_role(agent_name=agent_name)"
   ]
  },
  {
   "cell_type": "markdown",
   "metadata": {},
   "source": [
    "Extract the identity details from the script that created the cognito user pool."
   ]
  },
  {
   "cell_type": "markdown",
   "metadata": {
    "vscode": {
     "languageId": "raw"
    }
   },
   "source": [
    "Read the Cognito configuration details from the JSON files created by the setup script:\n"
   ]
  },
  {
   "cell_type": "code",
   "execution_count": 23,
   "metadata": {},
   "outputs": [],
   "source": [
    "with open(\"client.json\", \"r\") as f:\n",
    "    client_data = f.read()\n",
    "    client_data_dict = json.loads(client_data)\n",
    "    user_pool_id = client_data_dict[\"UserPoolClient\"][\"UserPoolId\"]\n",
    "    client_id = client_data_dict[\"UserPoolClient\"][\"ClientId\"]\n",
    "\n",
    "with open(\"auth.json\", \"r\") as f:\n",
    "    auth_data = f.read()\n",
    "    auth_data_dict = json.loads(auth_data)\n",
    "    bearer_access_token = auth_data_dict[\"AuthenticationResult\"][\"AccessToken\"]\n",
    "\n",
    "cognito_discovery_url=f\"https://cognito-idp.{region}.amazonaws.com/{user_pool_id}/.well-known/openid-configuration\""
   ]
  },
  {
   "cell_type": "markdown",
   "metadata": {},
   "source": [
    "Configure the AgentCore Runtime with Cognito JWT authorization:"
   ]
  },
  {
   "cell_type": "code",
   "execution_count": 24,
   "metadata": {},
   "outputs": [
    {
     "name": "stderr",
     "output_type": "stream",
     "text": [
      "Entrypoint parsed: file=/Users/weteh/dev/projects/aws/workshops/workshop-studio/code/aws-samples/sample-media-and-entertainment-agentic-ai-workflows-on-aws/lab8/news_story_generator_agent.py, bedrock_agentcore_name=news_story_generator_agent\n",
      "Configuring BedrockAgentCore agent: news_story_generator_agent_98cd2\n",
      "Generated Dockerfile: /Users/weteh/dev/projects/aws/workshops/workshop-studio/code/aws-samples/sample-media-and-entertainment-agentic-ai-workflows-on-aws/lab8/Dockerfile\n",
      "Generated .dockerignore: /Users/weteh/dev/projects/aws/workshops/workshop-studio/code/aws-samples/sample-media-and-entertainment-agentic-ai-workflows-on-aws/lab8/.dockerignore\n",
      "Changing default agent from 'news_story_generator_agent_7aebf' to 'news_story_generator_agent_98cd2'\n",
      "Bedrock AgentCore configured: /Users/weteh/dev/projects/aws/workshops/workshop-studio/code/aws-samples/sample-media-and-entertainment-agentic-ai-workflows-on-aws/lab8/.bedrock_agentcore.yaml\n"
     ]
    },
    {
     "data": {
      "text/plain": [
       "ConfigureResult(config_path=PosixPath('/Users/weteh/dev/projects/aws/workshops/workshop-studio/code/aws-samples/sample-media-and-entertainment-agentic-ai-workflows-on-aws/lab8/.bedrock_agentcore.yaml'), dockerfile_path=PosixPath('/Users/weteh/dev/projects/aws/workshops/workshop-studio/code/aws-samples/sample-media-and-entertainment-agentic-ai-workflows-on-aws/lab8/Dockerfile'), dockerignore_path=PosixPath('/Users/weteh/dev/projects/aws/workshops/workshop-studio/code/aws-samples/sample-media-and-entertainment-agentic-ai-workflows-on-aws/lab8/.dockerignore'), runtime='Docker', region='us-east-1', account_id='602900100639', execution_role='arn:aws:iam::602900100639:role/agentcore-news_story_generator_agent_98cd2-role', ecr_repository=None, auto_create_ecr=True)"
      ]
     },
     "execution_count": 24,
     "metadata": {},
     "output_type": "execute_result"
    }
   ],
   "source": [
    "agentcore_runtime = Runtime()\n",
    "response = agentcore_runtime.configure(\n",
    "    entrypoint=news_story_agent_script,\n",
    "    execution_role=agentcore_iam_role['Role']['Arn'],\n",
    "    auto_create_ecr=True,\n",
    "    requirements_file=\"requirements.txt\",\n",
    "    region=region,\n",
    "    agent_name=agent_name,\n",
    "    authorizer_configuration={\n",
    "        \"customJWTAuthorizer\": {\n",
    "            \"discoveryUrl\": cognito_discovery_url,\n",
    "            \"allowedClients\": [client_id]\n",
    "        }\n",
    "    }\n",
    ")\n",
    "response\n"
   ]
  },
  {
   "cell_type": "markdown",
   "metadata": {
    "vscode": {
     "languageId": "raw"
    }
   },
   "source": [
    "Launch the identity-enabled agent to AgentCore Runtime:"
   ]
  },
  {
   "cell_type": "code",
   "execution_count": 25,
   "metadata": {},
   "outputs": [
    {
     "name": "stderr",
     "output_type": "stream",
     "text": [
      "🚀 CodeBuild mode: building in cloud (RECOMMENDED - DEFAULT)\n",
      "   • Build ARM64 containers in the cloud with CodeBuild\n",
      "   • No local Docker required\n",
      "💡 Available deployment modes:\n",
      "   • runtime.launch()                           → CodeBuild (current)\n",
      "   • runtime.launch(local=True)                 → Local development\n",
      "   • runtime.launch(local_build=True)           → Local build + cloud deploy (NEW)\n",
      "Starting CodeBuild ARM64 deployment for agent 'news_story_generator_agent_98cd2' to account 602900100639 (us-east-1)\n",
      "Starting CodeBuild ARM64 deployment for agent 'news_story_generator_agent_98cd2' to account 602900100639 (us-east-1)\n",
      "Setting up AWS resources (ECR repository, execution roles)...\n",
      "Getting or creating ECR repository for agent: news_story_generator_agent_98cd2\n"
     ]
    },
    {
     "name": "stdout",
     "output_type": "stream",
     "text": [
      "Repository doesn't exist, creating new ECR repository: bedrock-agentcore-news_story_generator_agent_98cd2\n"
     ]
    },
    {
     "name": "stderr",
     "output_type": "stream",
     "text": [
      "✅ ECR repository available: 602900100639.dkr.ecr.us-east-1.amazonaws.com/bedrock-agentcore-news_story_generator_agent_98cd2\n",
      "Using execution role from config: arn:aws:iam::602900100639:role/agentcore-news_story_generator_agent_98cd2-role\n",
      "✅ Execution role validation passed: arn:aws:iam::602900100639:role/agentcore-news_story_generator_agent_98cd2-role\n",
      "Preparing CodeBuild project and uploading source...\n",
      "Getting or creating CodeBuild execution role for agent: news_story_generator_agent_98cd2\n",
      "Role name: AmazonBedrockAgentCoreSDKCodeBuild-us-east-1-9b358fea56\n",
      "CodeBuild role doesn't exist, creating new role: AmazonBedrockAgentCoreSDKCodeBuild-us-east-1-9b358fea56\n",
      "Creating IAM role: AmazonBedrockAgentCoreSDKCodeBuild-us-east-1-9b358fea56\n",
      "✓ Role created: arn:aws:iam::602900100639:role/AmazonBedrockAgentCoreSDKCodeBuild-us-east-1-9b358fea56\n",
      "Attaching inline policy: CodeBuildExecutionPolicy to role: AmazonBedrockAgentCoreSDKCodeBuild-us-east-1-9b358fea56\n",
      "✓ Policy attached: CodeBuildExecutionPolicy\n",
      "Waiting for IAM role propagation...\n",
      "CodeBuild execution role creation complete: arn:aws:iam::602900100639:role/AmazonBedrockAgentCoreSDKCodeBuild-us-east-1-9b358fea56\n",
      "Using .dockerignore with 44 patterns\n",
      "Uploaded source to S3: news_story_generator_agent_98cd2/20250804-172623.zip\n",
      "Created CodeBuild project: bedrock-agentcore-news_story_generator_agent_98cd2-builder\n",
      "Starting CodeBuild build (this may take several minutes)...\n",
      "Starting CodeBuild monitoring...\n",
      "🔄 QUEUED started (total: 0s)\n",
      "✅ QUEUED completed in 5.1s\n",
      "🔄 PROVISIONING started (total: 5s)\n",
      "✅ PROVISIONING completed in 10.2s\n",
      "🔄 PRE_BUILD started (total: 15s)\n",
      "✅ PRE_BUILD completed in 10.2s\n",
      "🔄 BUILD started (total: 26s)\n",
      "✅ BUILD completed in 66.1s\n",
      "🔄 POST_BUILD started (total: 92s)\n",
      "✅ POST_BUILD completed in 15.3s\n",
      "🔄 COMPLETED started (total: 107s)\n",
      "✅ COMPLETED completed in 5.1s\n",
      "🎉 CodeBuild completed successfully in 1m 52s\n",
      "CodeBuild completed successfully\n",
      "✅ CodeBuild project configuration saved\n",
      "Deploying to Bedrock AgentCore...\n",
      "✅ Agent created/updated: arn:aws:bedrock-agentcore:us-east-1:602900100639:runtime/news_story_generator_agent_98cd2-iClqmy6tT4\n",
      "Polling for endpoint to be ready...\n",
      "Agent endpoint: arn:aws:bedrock-agentcore:us-east-1:602900100639:runtime/news_story_generator_agent_98cd2-iClqmy6tT4/runtime-endpoint/DEFAULT\n",
      "Deployment completed successfully - Agent: arn:aws:bedrock-agentcore:us-east-1:602900100639:runtime/news_story_generator_agent_98cd2-iClqmy6tT4\n",
      "Built with CodeBuild: bedrock-agentcore-news_story_generator_agent_98cd2-builder:bb732c58-ded4-45c1-9e28-46fd91a913e2\n",
      "Deployed to cloud: arn:aws:bedrock-agentcore:us-east-1:602900100639:runtime/news_story_generator_agent_98cd2-iClqmy6tT4\n",
      "ECR image: 602900100639.dkr.ecr.us-east-1.amazonaws.com/bedrock-agentcore-news_story_generator_agent_98cd2\n",
      "🔍 Agent logs available at:\n",
      "   /aws/bedrock-agentcore/runtimes/news_story_generator_agent_98cd2-iClqmy6tT4-DEFAULT\n",
      "   /aws/bedrock-agentcore/runtimes/news_story_generator_agent_98cd2-iClqmy6tT4-DEFAULT/runtime-logs\n",
      "💡 Tail logs with: aws logs tail /aws/bedrock-agentcore/runtimes/news_story_generator_agent_98cd2-iClqmy6tT4-DEFAULT --follow\n",
      "💡 Or view recent logs: aws logs tail /aws/bedrock-agentcore/runtimes/news_story_generator_agent_98cd2-iClqmy6tT4-DEFAULT --since 1h\n"
     ]
    },
    {
     "data": {
      "text/plain": [
       "LaunchResult(mode='codebuild', tag='bedrock_agentcore-news_story_generator_agent_98cd2:latest', env_vars=None, port=None, runtime=None, ecr_uri='602900100639.dkr.ecr.us-east-1.amazonaws.com/bedrock-agentcore-news_story_generator_agent_98cd2', agent_id='news_story_generator_agent_98cd2-iClqmy6tT4', agent_arn='arn:aws:bedrock-agentcore:us-east-1:602900100639:runtime/news_story_generator_agent_98cd2-iClqmy6tT4', codebuild_id='bedrock-agentcore-news_story_generator_agent_98cd2-builder:bb732c58-ded4-45c1-9e28-46fd91a913e2', build_output=None)"
      ]
     },
     "execution_count": 25,
     "metadata": {},
     "output_type": "execute_result"
    }
   ],
   "source": [
    "launch_result = agentcore_runtime.launch()\n",
    "launch_result"
   ]
  },
  {
   "cell_type": "markdown",
   "metadata": {
    "vscode": {
     "languageId": "raw"
    }
   },
   "source": [
    "Monitor the identity-enabled agent deployment status:"
   ]
  },
  {
   "cell_type": "code",
   "execution_count": 26,
   "metadata": {},
   "outputs": [
    {
     "name": "stderr",
     "output_type": "stream",
     "text": [
      "Retrieved Bedrock AgentCore status for: news_story_generator_agent_98cd2\n"
     ]
    },
    {
     "data": {
      "text/plain": [
       "'READY'"
      ]
     },
     "execution_count": 26,
     "metadata": {},
     "output_type": "execute_result"
    }
   ],
   "source": [
    "status_response = agentcore_runtime.status()\n",
    "status = status_response.endpoint['status']\n",
    "end_status = ['READY', 'CREATE_FAILED', 'DELETE_FAILED', 'UPDATE_FAILED']\n",
    "while status not in end_status:\n",
    "    time.sleep(10)\n",
    "    status_response = agentcore_runtime.status()\n",
    "    status = status_response.endpoint['status']\n",
    "    print(status)\n",
    "status"
   ]
  },
  {
   "cell_type": "markdown",
   "metadata": {},
   "source": [
    "Test the agent without any authentication. The following call is expected to fail, given no credential was provided to the AgentCore runtime invocation."
   ]
  },
  {
   "cell_type": "code",
   "execution_count": 27,
   "metadata": {},
   "outputs": [
    {
     "name": "stderr",
     "output_type": "stream",
     "text": [
      "Invoking BedrockAgentCore agent 'news_story_generator_agent_98cd2' via cloud endpoint\n"
     ]
    },
    {
     "ename": "AccessDeniedException",
     "evalue": "An error occurred (AccessDeniedException) when calling the InvokeAgentRuntime operation: Agent is configured for a different authorization token type",
     "output_type": "error",
     "traceback": [
      "\u001b[0;31m---------------------------------------------------------------------------\u001b[0m",
      "\u001b[0;31mAccessDeniedException\u001b[0m                     Traceback (most recent call last)",
      "Cell \u001b[0;32mIn[27], line 2\u001b[0m\n\u001b[1;32m      1\u001b[0m session_id \u001b[38;5;241m=\u001b[39m uuid\u001b[38;5;241m.\u001b[39muuid4()\n\u001b[0;32m----> 2\u001b[0m invoke_response \u001b[38;5;241m=\u001b[39m \u001b[43magentcore_runtime\u001b[49m\u001b[38;5;241;43m.\u001b[39;49m\u001b[43minvoke\u001b[49m\u001b[43m(\u001b[49m\u001b[43mjson\u001b[49m\u001b[38;5;241;43m.\u001b[39;49m\u001b[43mloads\u001b[49m\u001b[43m(\u001b[49m\u001b[43mpayload\u001b[49m\u001b[43m)\u001b[49m\u001b[43m,\u001b[49m\u001b[43m \u001b[49m\u001b[43msession_id\u001b[49m\u001b[38;5;241;43m=\u001b[39;49m\u001b[38;5;28;43mstr\u001b[39;49m\u001b[43m(\u001b[49m\u001b[43msession_id\u001b[49m\u001b[43m)\u001b[49m\u001b[43m)\u001b[49m\n",
      "File \u001b[0;32m~/miniconda3/envs/agent/lib/python3.12/site-packages/bedrock_agentcore_starter_toolkit/notebook/runtime/bedrock_agentcore.py:277\u001b[0m, in \u001b[0;36mRuntime.invoke\u001b[0;34m(self, payload, session_id, bearer_token, local, user_id)\u001b[0m\n\u001b[1;32m    274\u001b[0m     log\u001b[38;5;241m.\u001b[39minfo(\u001b[38;5;124m\"\u001b[39m\u001b[38;5;124m  runtime.invoke(\u001b[39m\u001b[38;5;124m{\u001b[39m\u001b[38;5;124m'\u001b[39m\u001b[38;5;124mmessage\u001b[39m\u001b[38;5;124m'\u001b[39m\u001b[38;5;124m: \u001b[39m\u001b[38;5;124m'\u001b[39m\u001b[38;5;124mHello\u001b[39m\u001b[38;5;124m'\u001b[39m\u001b[38;5;124m})\u001b[39m\u001b[38;5;124m\"\u001b[39m)\n\u001b[1;32m    275\u001b[0m     \u001b[38;5;28;01mraise\u001b[39;00m \u001b[38;5;167;01mValueError\u001b[39;00m(\u001b[38;5;124m\"\u001b[39m\u001b[38;5;124mMust configure and launch first.\u001b[39m\u001b[38;5;124m\"\u001b[39m)\n\u001b[0;32m--> 277\u001b[0m result \u001b[38;5;241m=\u001b[39m \u001b[43minvoke_bedrock_agentcore\u001b[49m\u001b[43m(\u001b[49m\n\u001b[1;32m    278\u001b[0m \u001b[43m    \u001b[49m\u001b[43mconfig_path\u001b[49m\u001b[38;5;241;43m=\u001b[39;49m\u001b[38;5;28;43mself\u001b[39;49m\u001b[38;5;241;43m.\u001b[39;49m\u001b[43m_config_path\u001b[49m\u001b[43m,\u001b[49m\n\u001b[1;32m    279\u001b[0m \u001b[43m    \u001b[49m\u001b[43mpayload\u001b[49m\u001b[38;5;241;43m=\u001b[39;49m\u001b[43mpayload\u001b[49m\u001b[43m,\u001b[49m\n\u001b[1;32m    280\u001b[0m \u001b[43m    \u001b[49m\u001b[43msession_id\u001b[49m\u001b[38;5;241;43m=\u001b[39;49m\u001b[43msession_id\u001b[49m\u001b[43m,\u001b[49m\n\u001b[1;32m    281\u001b[0m \u001b[43m    \u001b[49m\u001b[43mbearer_token\u001b[49m\u001b[38;5;241;43m=\u001b[39;49m\u001b[43mbearer_token\u001b[49m\u001b[43m,\u001b[49m\n\u001b[1;32m    282\u001b[0m \u001b[43m    \u001b[49m\u001b[43mlocal_mode\u001b[49m\u001b[38;5;241;43m=\u001b[39;49m\u001b[43mlocal\u001b[49m\u001b[43m,\u001b[49m\n\u001b[1;32m    283\u001b[0m \u001b[43m    \u001b[49m\u001b[43muser_id\u001b[49m\u001b[38;5;241;43m=\u001b[39;49m\u001b[43muser_id\u001b[49m\u001b[43m,\u001b[49m\n\u001b[1;32m    284\u001b[0m \u001b[43m\u001b[49m\u001b[43m)\u001b[49m\n\u001b[1;32m    285\u001b[0m \u001b[38;5;28;01mreturn\u001b[39;00m result\u001b[38;5;241m.\u001b[39mresponse\n",
      "File \u001b[0;32m~/miniconda3/envs/agent/lib/python3.12/site-packages/bedrock_agentcore_starter_toolkit/operations/runtime/invoke.py:95\u001b[0m, in \u001b[0;36minvoke_bedrock_agentcore\u001b[0;34m(config_path, payload, agent_name, session_id, bearer_token, user_id, local_mode)\u001b[0m\n\u001b[1;32m     92\u001b[0m     \u001b[38;5;28;01melse\u001b[39;00m:\n\u001b[1;32m     93\u001b[0m         \u001b[38;5;66;03m# Use existing boto3 client\u001b[39;00m\n\u001b[1;32m     94\u001b[0m         bedrock_agentcore_client \u001b[38;5;241m=\u001b[39m BedrockAgentCoreClient(region)\n\u001b[0;32m---> 95\u001b[0m         response \u001b[38;5;241m=\u001b[39m \u001b[43mbedrock_agentcore_client\u001b[49m\u001b[38;5;241;43m.\u001b[39;49m\u001b[43minvoke_endpoint\u001b[49m\u001b[43m(\u001b[49m\n\u001b[1;32m     96\u001b[0m \u001b[43m            \u001b[49m\u001b[43magent_arn\u001b[49m\u001b[38;5;241;43m=\u001b[39;49m\u001b[43magent_arn\u001b[49m\u001b[43m,\u001b[49m\u001b[43m \u001b[49m\u001b[43mpayload\u001b[49m\u001b[38;5;241;43m=\u001b[39;49m\u001b[43mpayload_str\u001b[49m\u001b[43m,\u001b[49m\u001b[43m \u001b[49m\u001b[43msession_id\u001b[49m\u001b[38;5;241;43m=\u001b[39;49m\u001b[43msession_id\u001b[49m\u001b[43m,\u001b[49m\u001b[43m \u001b[49m\u001b[43muser_id\u001b[49m\u001b[38;5;241;43m=\u001b[39;49m\u001b[43muser_id\u001b[49m\n\u001b[1;32m     97\u001b[0m \u001b[43m        \u001b[49m\u001b[43m)\u001b[49m\n\u001b[1;32m     99\u001b[0m \u001b[38;5;28;01mreturn\u001b[39;00m InvokeResult(\n\u001b[1;32m    100\u001b[0m     response\u001b[38;5;241m=\u001b[39mresponse,\n\u001b[1;32m    101\u001b[0m     session_id\u001b[38;5;241m=\u001b[39msession_id,\n\u001b[1;32m    102\u001b[0m     agent_arn\u001b[38;5;241m=\u001b[39magent_arn,\n\u001b[1;32m    103\u001b[0m )\n",
      "File \u001b[0;32m~/miniconda3/envs/agent/lib/python3.12/site-packages/bedrock_agentcore_starter_toolkit/services/runtime.py:386\u001b[0m, in \u001b[0;36mBedrockAgentCoreClient.invoke_endpoint\u001b[0;34m(self, agent_arn, payload, session_id, endpoint_name, user_id)\u001b[0m\n\u001b[1;32m    383\u001b[0m \u001b[38;5;28;01mif\u001b[39;00m user_id:\n\u001b[1;32m    384\u001b[0m     req[\u001b[38;5;124m\"\u001b[39m\u001b[38;5;124mruntimeUserId\u001b[39m\u001b[38;5;124m\"\u001b[39m] \u001b[38;5;241m=\u001b[39m user_id\n\u001b[0;32m--> 386\u001b[0m response \u001b[38;5;241m=\u001b[39m \u001b[38;5;28;43mself\u001b[39;49m\u001b[38;5;241;43m.\u001b[39;49m\u001b[43mdataplane_client\u001b[49m\u001b[38;5;241;43m.\u001b[39;49m\u001b[43minvoke_agent_runtime\u001b[49m\u001b[43m(\u001b[49m\u001b[38;5;241;43m*\u001b[39;49m\u001b[38;5;241;43m*\u001b[39;49m\u001b[43mreq\u001b[49m\u001b[43m)\u001b[49m\n\u001b[1;32m    387\u001b[0m \u001b[38;5;28;01mreturn\u001b[39;00m _handle_aws_response(response)\n",
      "File \u001b[0;32m~/miniconda3/envs/agent/lib/python3.12/site-packages/botocore/client.py:601\u001b[0m, in \u001b[0;36mClientCreator._create_api_method.<locals>._api_call\u001b[0;34m(self, *args, **kwargs)\u001b[0m\n\u001b[1;32m    597\u001b[0m     \u001b[38;5;28;01mraise\u001b[39;00m \u001b[38;5;167;01mTypeError\u001b[39;00m(\n\u001b[1;32m    598\u001b[0m         \u001b[38;5;124mf\u001b[39m\u001b[38;5;124m\"\u001b[39m\u001b[38;5;132;01m{\u001b[39;00mpy_operation_name\u001b[38;5;132;01m}\u001b[39;00m\u001b[38;5;124m() only accepts keyword arguments.\u001b[39m\u001b[38;5;124m\"\u001b[39m\n\u001b[1;32m    599\u001b[0m     )\n\u001b[1;32m    600\u001b[0m \u001b[38;5;66;03m# The \"self\" in this scope is referring to the BaseClient.\u001b[39;00m\n\u001b[0;32m--> 601\u001b[0m \u001b[38;5;28;01mreturn\u001b[39;00m \u001b[38;5;28;43mself\u001b[39;49m\u001b[38;5;241;43m.\u001b[39;49m\u001b[43m_make_api_call\u001b[49m\u001b[43m(\u001b[49m\u001b[43moperation_name\u001b[49m\u001b[43m,\u001b[49m\u001b[43m \u001b[49m\u001b[43mkwargs\u001b[49m\u001b[43m)\u001b[49m\n",
      "File \u001b[0;32m~/miniconda3/envs/agent/lib/python3.12/site-packages/botocore/context.py:123\u001b[0m, in \u001b[0;36mwith_current_context.<locals>.decorator.<locals>.wrapper\u001b[0;34m(*args, **kwargs)\u001b[0m\n\u001b[1;32m    121\u001b[0m \u001b[38;5;28;01mif\u001b[39;00m hook:\n\u001b[1;32m    122\u001b[0m     hook()\n\u001b[0;32m--> 123\u001b[0m \u001b[38;5;28;01mreturn\u001b[39;00m \u001b[43mfunc\u001b[49m\u001b[43m(\u001b[49m\u001b[38;5;241;43m*\u001b[39;49m\u001b[43margs\u001b[49m\u001b[43m,\u001b[49m\u001b[43m \u001b[49m\u001b[38;5;241;43m*\u001b[39;49m\u001b[38;5;241;43m*\u001b[39;49m\u001b[43mkwargs\u001b[49m\u001b[43m)\u001b[49m\n",
      "File \u001b[0;32m~/miniconda3/envs/agent/lib/python3.12/site-packages/botocore/client.py:1074\u001b[0m, in \u001b[0;36mBaseClient._make_api_call\u001b[0;34m(self, operation_name, api_params)\u001b[0m\n\u001b[1;32m   1070\u001b[0m     error_code \u001b[38;5;241m=\u001b[39m request_context\u001b[38;5;241m.\u001b[39mget(\n\u001b[1;32m   1071\u001b[0m         \u001b[38;5;124m'\u001b[39m\u001b[38;5;124merror_code_override\u001b[39m\u001b[38;5;124m'\u001b[39m\n\u001b[1;32m   1072\u001b[0m     ) \u001b[38;5;129;01mor\u001b[39;00m error_info\u001b[38;5;241m.\u001b[39mget(\u001b[38;5;124m\"\u001b[39m\u001b[38;5;124mCode\u001b[39m\u001b[38;5;124m\"\u001b[39m)\n\u001b[1;32m   1073\u001b[0m     error_class \u001b[38;5;241m=\u001b[39m \u001b[38;5;28mself\u001b[39m\u001b[38;5;241m.\u001b[39mexceptions\u001b[38;5;241m.\u001b[39mfrom_code(error_code)\n\u001b[0;32m-> 1074\u001b[0m     \u001b[38;5;28;01mraise\u001b[39;00m error_class(parsed_response, operation_name)\n\u001b[1;32m   1075\u001b[0m \u001b[38;5;28;01melse\u001b[39;00m:\n\u001b[1;32m   1076\u001b[0m     \u001b[38;5;28;01mreturn\u001b[39;00m parsed_response\n",
      "\u001b[0;31mAccessDeniedException\u001b[0m: An error occurred (AccessDeniedException) when calling the InvokeAgentRuntime operation: Agent is configured for a different authorization token type"
     ]
    }
   ],
   "source": [
    "session_id = uuid.uuid4()\n",
    "invoke_response = agentcore_runtime.invoke(json.loads(payload), session_id=str(session_id))"
   ]
  },
  {
   "cell_type": "markdown",
   "metadata": {},
   "source": [
    "### Invoking AgentCore Runtime with authorization\n",
    "\n",
    "Lets invoke the agent with the right authorization token type. In our case, it will be the Cognito access token. "
   ]
  },
  {
   "cell_type": "code",
   "execution_count": 28,
   "metadata": {},
   "outputs": [
    {
     "name": "stderr",
     "output_type": "stream",
     "text": [
      "Invoking BedrockAgentCore agent 'news_story_generator_agent_98cd2' via cloud endpoint\n"
     ]
    },
    {
     "data": {
      "text/plain": [
       "{'response': '\"<final>NeuraHealth Solutions Introduces Groundbreaking MediScan Diagnostic Platform\\\\n\\\\nNeuraHealth Solutions took center stage at their annual developer conference yesterday. They unveiled their new medical diagnostic platform, MediScan. This cutting-edge system aims to revolutionize early disease detection with an impressive 94% accuracy rate.\\\\n\\\\n\\\\\"MediScan signifies a major advancement in medical diagnostics,\\\\\" stated Dr. Eliza Chen, Chief Medical Officer at NeuraHealth Solutions, during the conference. \\\\\"Our system has undergone meticulous training using 50 million anonymized patient records. This extensive dataset ensures robust and reliable performance.\\\\\"\\\\n\\\\nMediScan\\'s standout feature is its 94% precision rate, derived from a comprehensive trial involving 12,000 patients. According to a peer-reviewed study published in the Journal of Medical Diagnostics, this performance significantly outperforms the current industry average of 85%.\\\\n\\\\nThe trial\\'s results indicate that MediScan can effectively identify a wide range of conditions with high precision. The platform\\'s accuracy was evaluated across various disease categories, with some specific conditions showing even higher detection rates.\\\\n\\\\nExperts in the field have weighed in on the significance of this development. Dr. Jonathan Lee, a renowned diagnostician unaffiliated with NeuraHealth Solutions, commented, \\\\\"Achieving such a high accuracy rate in a real-world trial is remarkable. This could potentially reduce the number of misdiagnoses and improve patient outcomes significantly.\\\\\"\\\\n\\\\nDr. Samantha Green, a leading researcher in AI-driven healthcare, added, \\\\\"The use of 50 million anonymized patient records for training is a game-changer. It ensures that the platform is well-versed in recognizing patterns and anomalies that might be missed by human practitioners.\\\\\"\\\\n\\\\nThe scope of MediScan\\'s accuracy is broad, covering a wide array of medical conditions. The platform is designed to assist healthcare professionals by providing them with valuable insights and diagnostic suggestions. However, it is important to note that MediScan is intended to augment, not replace, the expertise of medical practitioners.\\\\n\\\\nNeuraHealth Solutions, founded in 2014, has rapidly become a leader in healthcare technology. With a market capitalization of $12.8 billion and $870 million in revenue for 2023, as reported by Bloomberg and the company\\'s latest financial statements, they are well-positioned to bring MediScan to market. The platform is currently awaiting FDA approval, a crucial step before it can be widely adopted in clinical settings.\\\\n\\\\nIn conclusion, the introduction of MediScan by NeuraHealth Solutions marks a significant milestone in the field of medical diagnostics. With its high precision rate and extensive training dataset, this platform has the potential to enhance early disease detection and improve patient care. As the company awaits FDA approval, the medical community eagerly anticipates the integration of MediScan into clinical practice.</final>\\\\n\"'}"
      ]
     },
     "execution_count": 28,
     "metadata": {},
     "output_type": "execute_result"
    }
   ],
   "source": [
    "#Update the Cognito access token here. Copy the access token from the cell \"Provision a Cognito User Pool\"\n",
    "session_id = uuid.uuid4()\n",
    "invoke_response = agentcore_runtime.invoke(json.loads(payload), session_id=str(session_id), bearer_token=bearer_access_token)\n",
    "invoke_response"
   ]
  },
  {
   "cell_type": "markdown",
   "metadata": {},
   "source": [
    "# Part 3 - Agent Observability\n",
    "With AgentCore, you can trace, debug, and monitor AI agents' performance in production environments.\n",
    "\n",
    "AgentCore Observability helps you trace, debug, and monitor agent performance in production environments. It offers detailed visualizations of each step in the agent workflow, enabling you to inspect an agent's execution path, audit intermediate outputs, and debug performance bottlenecks and failures.\n",
    "\n",
    "AgentCore Observability gives you real-time visibility into agent operational performance through access to dashboards powered by Amazon CloudWatch and telemetry for key metrics such as session count, latency, duration, token usage, and error rates. Rich metadata tagging and filtering simplify issue investigation and quality maintenance at scale. AgentCore emits telemetry data in standardized OpenTelemetry (OTEL)-compatible format, enabling you to easily integrate it with your existing monitoring and observability stack.\n",
    "\n",
    "By default, AgentCore outputs a set of key built-in metrics for agents, gateway resources, and memory resources. For memory resources, AgentCore also outputs spans and log data if you enable it. You can also instrument your agent code to provide additional span and trace data and custom metrics and logs. See Add observability to your Amazon Bedrock AgentCore resources to learn more.\n",
    "\n",
    "All of the metrics, spans, and logs output by AgentCore are stored in Amazon CloudWatch, and can be viewed in the CloudWatch console or downloaded from CloudWatch using the AWS CLI or one of the AWS SDKs.\n",
    "\n",
    "In addition to the raw data stored in CloudWatch Logs, for agent runtime data only, the CloudWatch console provides an observability dashboard containing trace visualizations, graphs for custom span metrics, error breakdowns, and more. To learn more about viewing your agents' observability data, see View observability data for your Amazon Bedrock AgentCore agents.\n",
    "\n",
    "Agent observability can be categorized into 4 main components: `Runtime`, `Sessions`, `Traces` and `Spans`.\n",
    "\n",
    "`Runtime` Metrics that provides agent execution activity levels, processing latency, resource utilization, and error rates. AgentCore also provides aggregated metrics for total invocations and sessions.\n"
   ]
  },
  {
   "cell_type": "markdown",
   "metadata": {},
   "source": [
    "### The relationship between the observability components\n",
    "\n",
    "![agentcore-observability-hierarchy](../imgs/agent-observablity-hierarchy.png)\n",
    "\n",
    "`Sessions`, `traces`, and `spans` form a three-tiered hierarchical relationship in the observability framework for agents. A session contains multiple traces, with each trace representing a discrete interaction within the broader context of the session. Each trace, in turn, contains multiple spans that capture the fine-grained operations and steps within that interaction. This hierarchical structure allows you to analyze agent behavior at different levels of granularity, from high-level session patterns to mid-level interaction flows to detailed execution paths for specific operations.\n",
    "\n",
    "- Sessions (highest level) - Represent complete user conversations or interaction contexts\n",
    "- Traces (middle level) - Represent individual request-response cycles within a session\n",
    "- Spans (lowest level) - Represent specific operations or steps within a trace\n",
    "\n",
    "This multi-tiered relationship enables several important observability capabilities:\n",
    "\n",
    "- Contextual analysis of individual interactions within their broader conversation flow\n",
    "- Correlation of related requests across a user's interaction journey\n",
    "- Progressive troubleshooting from session-level anomalies to trace-level patterns to span-level root causes\n",
    "- Comprehensive performance profiling across different temporal and functional dimensions\n",
    "- Holistic understanding of agent behavior patterns and evolution throughout a conversation\n",
    "- Precise identification of performance bottlenecks at the operation level through span analysis\n",
    "\n",
    "While traces provide visibility into complete request-response cycles, spans offer deeper insights into the internal workings of those cycles. Spans reveal exactly which operations consume the most time, where errors originate, and how different components interact within a single trace. This granularity is particularly valuable when troubleshooting complex issues or optimizing performance in sophisticated agent implementations.\n",
    "\n",
    "By leveraging session, trace, and span data in your observability strategy, you can gain comprehensive insights into your agent's behavior, performance, and effectiveness at multiple levels of detail. This multi-layered approach to observability supports continuous improvement, robust troubleshooting, and informed optimization of your agent implementations, from high-level conversation patterns down to individual operation performance.\n",
    "\n",
    "In the next section, we'll dive into it each of the section in detail."
   ]
  },
  {
   "cell_type": "markdown",
   "metadata": {},
   "source": [
    "Navigate to the AWS console for [agentCore runtime](https://us-east-1.console.aws.amazon.com/bedrock-agentcore/agents), then click on the Agent runtime, then click on `Agent Details`, and click on the `Observability` link as shown in the following diagram:\n",
    "\n",
    "![agentcore-runtime-to-observability](../imgs/agentcore-runtime-to-observability.png)"
   ]
  },
  {
   "cell_type": "markdown",
   "metadata": {},
   "source": [
    "## Agent Runtime Metrics\n",
    "The runtime metrics provided by AgentCore give you visibility into your agent execution activity levels, processing latency, resource utilization, and error rates. AgentCore also provides aggregated metrics for total invocations and sessions.\n",
    "\n",
    "The following list describes the runtime metrics provided by AgentCore. Runtime metrics are batched at one minute intervals. To learn more about viewing runtime metrics, see View observability data for your Amazon Bedrock AgentCore agents.\n",
    "\n",
    "### Invocations\n",
    "Shows the total number of requests made to the Data Plane API. Each API call counts as one invocation, regardless of the request payload size or response status.\n",
    "\n",
    "### Invocations (aggregated)\n",
    "Shows the total number of invocations across all resources\n",
    "\n",
    "### Throttles\n",
    "Displays the number of requests throttled by the service due to exceeding allowed TPS (Transactions Per Second) or quota limits. These requests return ThrottlingException with HTTP status code 429. Monitor this metric to determine if you need to review your service quotas or optimize request patterns.\n",
    "\n",
    "### System Errors\n",
    "Shows the number of server-side errors encountered by AgentCore during request processing. High levels of server-side errors can indicate potential infrastructure or service issues that require investigation. See Error types for a list of possible error codes.\n",
    "\n",
    "### User Errors\n",
    "Represents the number of client-side errors resulting from invalid requests. These require user action to resolve. High levels of client-side errors can indicate issues with request formatting or permissions that need to be addressed. See Error types for a list of possible error codes.\n",
    "\n",
    "### Latency\n",
    "The total time elapsed between receiving the request and sending the final response token. Represents complete end-to-end processing time of the request.\n",
    "\n",
    "### Total Errors\n",
    "The total number of system and user errors. In the Amazon Bedrock AgentCore console, this metric displays the number of errors as a percentage of the total number of invocations.\n",
    "\n",
    "### Session Count\n",
    "Shows the total number of agent sessions. Useful for monitoring overall platform usage, capacity planning, and understanding user engagement patterns.\n",
    "\n",
    "### Sessions (aggregated)\n",
    "Shows the total number of sessions across all resources.\n",
    "From the observability landing page, you will find the metrics captured at the general levels. Under `Overview` tab, you'll see agent metrics including number of sessions, token usage counts, errors, latency, throttle counts or others as visualization. \n",
    "\n",
    "![agentcore-observability-landing](../imgs/agentcore-observability-landing.png)\n",
    "\n",
    "Agentcore observability also includes separate `Session`, `Trace` and `Spans` level metrics. We'll dive into those specific in the sections below.\n",
    "    "
   ]
  },
  {
   "cell_type": "markdown",
   "metadata": {},
   "source": [
    "## Session\n",
    "A session represents a complete interaction context between a user and an agent. Sessions encapsulate the entire conversation or interaction flow, maintaining state and context across multiple exchanges. Each session has a unique identifier and captures the full lifecycle of user engagement with the agent, from initialization to termination.\n",
    "\n",
    "Sessions provide the following capabilities for agents:\n",
    "\n",
    "Context persistence across multiple interactions within the same conversation\n",
    "\n",
    "State management for maintaining user-specific information\n",
    "\n",
    "Conversation history tracking for contextual understanding\n",
    "\n",
    "Resource allocation and management for the duration of the interaction\n",
    "\n",
    "Isolation between different user interactions with the same agent\n",
    "\n",
    "From an observability perspective, sessions provide a high-level view of user engagement patterns, allowing you to monitor agent performance across metrics, traces, and spans and to understand how users interact with your agents over time and across different use cases.\n",
    "\n",
    "By default, AgentCore provides a set of observability metrics at the session level for agents that are running in the AgentCore runtime. This page offers a variety of graphs and visualizations to help you interpret your agents' data. AgentCore also outputs a default set of metrics for memory resources, gateway resources, and built-in tools. All of these metrics can be viewed in CloudWatch. In addition to the provided metrics, logs and spans are provided by default for memory resources, and by instrumenting your agent code, you can capture custom metrics, logs, and spans for your agent which can also be viewed on the CloudWatch generative AI observability page. See the following sections and View observability data for your Amazon Bedrock AgentCore agents to learn more.\n",
    "\n",
    "![agentcore-observability-session-page](../imgs/agentcore-observability-session-page.png)\n",
    "\n"
   ]
  },
  {
   "cell_type": "markdown",
   "metadata": {},
   "source": [
    "## Traces and Spans\n",
    "\n",
    "### Trace\n",
    "A trace represents a detailed record of a single `request-response` cycle beginning from with an agent invocation and may include additional calls to other agents. Traces capture the complete execution path of a request, including all internal processing steps, external service calls, decision points, and resource utilization. Each trace is associated with a specific session and provides granular visibility into the agent's behavior for a particular interaction.\n",
    "\n",
    "Traces include the following components for agents:\n",
    "\n",
    "- Request details including timestamps, input parameters, and context\n",
    "- Processing steps showing the sequence of operations performed\n",
    "- Tool invocations with input/output parameters and execution times\n",
    "- Resource utilization metrics such as processing time\n",
    "- Error information including exception details and recovery attempts\n",
    "- Response generation details and final output\n",
    "\n",
    "From an observability perspective, traces provide deep insights into the internal workings of your agents, allowing you to troubleshoot issues, optimize performance, and understand behavior patterns. By analyzing trace data, you can identify bottlenecks, detect anomalies, and verify that your agent is functioning as expected across different scenarios and inputs.\n",
    "\n",
    "With Agentcore Runtime, agent trace is turned on by default on your behalf at deployment time so you don't have to do anything to obtain the metrics. \n",
    "\n",
    "Here's screenshot on Agentcore Summary that shows several key metrics at this level:\n",
    "\n",
    "![agentcore-observability-trace-summary](../imgs/agentcore-observability-trace-summary.png)\n",
    "\n",
    "Here is a screenshot of agent metrics at the `Trace` and `Span` level in CloudWatch:\n",
    "![agentcore-observability-traces-top](../imgs/agentcore-observability-traces-top.png)"
   ]
  },
  {
   "cell_type": "markdown",
   "metadata": {},
   "source": [
    "### Span\n",
    "\n",
    "A span represents a discrete, measurable unit of work within an agent's execution flow. Spans capture fine-grained operations that occur during request processing, providing detailed visibility into the internal components and steps that make up a complete trace. Each span has a defined start and end time, creating a precise timeline of agent activities and their durations.\n",
    "\n",
    "Spans include the following essential attributes for agent observability:\n",
    "\n",
    "- Operation name identifying the specific function or process being executed\n",
    "- Timestamps marking the exact start and end times of the operation\n",
    "- Parent-child relationships showing how operations nest within larger processes\n",
    "- Tags and attributes providing contextual metadata about the operation\n",
    "- Events marking significant occurrences within the span's lifetime\n",
    "- Status information indicating success, failure, or other completion states\n",
    "- Resource utilization metrics specific to the operation\n",
    "\n",
    "Spans form a hierarchical structure within traces, with parent spans encompassing child spans that represent more granular operations. For example, a high-level \"process user query\" span might contain child spans for \"parse input,\" \"retrieve context,\" \"generate response,\" and \"format output.\" This hierarchical organization creates a detailed execution tree that reveals the complete flow of operations within the agent.\n",
    "\n",
    "Spans' visualization is organized into `Timeline` and `Trajectory`. Timeline provides a visual representation for the duration each span took to complete an event. Trajectory shows a visualized lineage of the spans and in an hierarchical structure.\n",
    "\n",
    "Here's a screenshot that shows a `Timeline` view of a Spans within a Trace:\n",
    "\n",
    "![agentcore-observability-span-timeline](../imgs/agentcore-observability-span-timeline.png)"
   ]
  },
  {
   "cell_type": "markdown",
   "metadata": {},
   "source": [
    "Here's a screenshot for a Spans' Trajectory:\n",
    "\n",
    "![agentcore-observability-spans-trajectory](../imgs/agentcore-observability-span-trajectory.png)"
   ]
  },
  {
   "cell_type": "markdown",
   "metadata": {},
   "source": [
    "To further drill down into specific details for a span, you could use the span data to access the resource level data and the corresponding event details. Here's a screenshot of a span data:\n",
    "\n",
    "![agentcore-observability-span-data](../imgs/agentcore-observability-spans-data.png)"
   ]
  },
  {
   "cell_type": "markdown",
   "metadata": {},
   "source": [
    "You could drill down into the specific event to access the information such as the model prompts, system prompts and the response from an LLM invocation and more. \n",
    "\n",
    "Here's a screenshot of an event detail for a particular Span data:\n",
    "\n",
    "![agentcore-observability-span-event](../imgs/agentcore-observability-span-event.png)"
   ]
  },
  {
   "cell_type": "markdown",
   "metadata": {},
   "source": [
    "# Cleanup"
   ]
  },
  {
   "cell_type": "code",
   "execution_count": 48,
   "metadata": {},
   "outputs": [],
   "source": [
    "agentcore_control_client = boto3.client(\n",
    "    'bedrock-agentcore-control',\n",
    "    region_name=region\n",
    ")\n",
    "ecr_client = boto3.client(\n",
    "    'ecr',\n",
    "    region_name=region\n",
    "    \n",
    ")\n",
    "\n",
    "iam_client = boto3.client('iam')\n",
    "\n",
    "runtime_delete_response = agentcore_control_client.delete_agent_runtime(\n",
    "    agentRuntimeId=launch_result.agent_id,\n",
    "    \n",
    ")\n",
    "\n",
    "response = ecr_client.delete_repository(\n",
    "    repositoryName=launch_result.ecr_uri.split('/')[1],\n",
    "    force=True\n",
    ")\n",
    "\n",
    "policies = iam_client.list_role_policies(\n",
    "    RoleName=agentcore_iam_role['Role']['RoleName'],\n",
    "    MaxItems=100\n",
    ")\n",
    "\n",
    "for policy_name in policies['PolicyNames']:\n",
    "    iam_client.delete_role_policy(\n",
    "        RoleName=agentcore_iam_role['Role']['RoleName'],\n",
    "        PolicyName=policy_name\n",
    "    )\n",
    "iam_response = iam_client.delete_role(\n",
    "    RoleName=agentcore_iam_role['Role']['RoleName']\n",
    ")\n",
    "\n",
    "os.remove(\"client.json\")\n",
    "os.remove(\"auth.json\")\n",
    "os.remove(\"pool.json\")"
   ]
  },
  {
   "cell_type": "markdown",
   "metadata": {},
   "source": [
    "## Summary\n",
    "### **AgentCore Runtime Deployment Pipeline**\n",
    "- **Learned**: End-to-end deployment workflow using the Bedrock AgentCore Python SDK\n",
    "- **Accomplished**: \n",
    "  - Configured agent templates with dynamic knowledge base IDs\n",
    "  - Created IAM roles with appropriate permissions\n",
    "  - Built and pushed Docker containers to Amazon ECR\n",
    "  - Deployed agents with custom configuration options\n",
    "- **Key Insight**: The AgentCore starter toolkit simplifies the containerization and deployment process significantly\n",
    "\n",
    "### **Session Management & Context Isolation**\n",
    "- **Learned**: How AgentCore Runtime provides secure session isolation for multi-user environments\n",
    "- **Accomplished**: Implemented session-based agent invocations with unique session IDs\n",
    "- **Key Features Explored**:\n",
    "  - **MicroVM Isolation**: Each session gets dedicated compute, memory, and filesystem resources\n",
    "  - **State Persistence**: Maintains conversational context across multiple interactions\n",
    "  - **Security Boundaries**: Prevents cross-session data contamination\n",
    "  - **Memory Sanitization**: Automatic cleanup after session completion\n",
    "\n",
    "### **Identity & Access Management Integration**\n",
    "- **Learned**: How to secure agent endpoints with industry-standard authentication\n",
    "- **Accomplished**: \n",
    "  - Provisioned Amazon Cognito User Pool with test users\n",
    "  - Configured JWT-based authorization for agent access\n",
    "  - Implemented bearer token authentication patterns\n",
    "  - Tested both authenticated and unauthenticated access scenarios\n",
    "- **Key Insight**: AgentCore Identity supports OAuth 2.0, Sigv4, and API key authentication methods\n",
    "\n",
    "### **Production-Grade Observability**\n",
    "- **Learned**: Comprehensive monitoring and debugging capabilities for AI agents\n",
    "- **Key Components Mastered**:\n",
    "  - **Runtime Metrics**: Invocation counts, latency, error rates, throttling, session analytics\n",
    "  - **Session-Level Monitoring**: Complete user interaction lifecycle tracking\n",
    "  - **Trace Analysis**: Detailed request-response cycle visibility with execution paths\n",
    "  - **Span Granularity**: Fine-grained operation timing and hierarchical relationships\n",
    "- **Tools Explored**: CloudWatch integration, OpenTelemetry compatibility, visual trace timelines\n",
    "\n",
    "\n",
    "## **Key Takeaways**\n",
    "\n",
    "1. **Seamless Migration**: Moving from local development to cloud production is streamlined with AgentCore Runtime\n",
    "2. **Enterprise Features**: Session isolation, identity integration, and observability are built-in capabilities\n",
    "3. **Developer Experience**: The starter toolkit abstracts complex containerization and deployment tasks\n",
    "4. **Production Operations**: Comprehensive monitoring and debugging tools support enterprise requirements\n",
    "5. **Security First**: Multiple authentication methods and session isolation ensure secure multi-tenant operations\n",
    "\n",
    "## **Next Steps**\n",
    "- To learn more about AgentCore functionality, please visit [What's Amazon Bedrock AgentCore](https://docs.aws.amazon.com/bedrock-agentcore/latest/devguide/what-is-bedrock-agentcore.html) documention. \n",
    "- [Sample code](https://github.com/awslabs/amazon-bedrock-agentcore-samples) for AgentCore on github: \n"
   ]
  }
 ],
 "metadata": {
  "kernelspec": {
   "display_name": "agent",
   "language": "python",
   "name": "python3"
  },
  "language_info": {
   "codemirror_mode": {
    "name": "ipython",
    "version": 3
   },
   "file_extension": ".py",
   "mimetype": "text/x-python",
   "name": "python",
   "nbconvert_exporter": "python",
   "pygments_lexer": "ipython3",
   "version": "3.12.0"
  }
 },
 "nbformat": 4,
 "nbformat_minor": 4
}
