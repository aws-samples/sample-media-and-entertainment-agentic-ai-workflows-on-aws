{
 "cells": [
  {
   "cell_type": "markdown",
   "metadata": {
    "vscode": {
     "languageId": "plaintext"
    }
   },
   "source": [
    "# Productionize Agentic AI Applications Using Amazon Bedrock AgentCore\n",
    "\n",
    "## Overview\n",
    "Successfully deploying AI agents to production requires a comprehensive set of capabilities that go far beyond basic model inference. This lab demonstrates the **essential production-grade components** needed for enterprise agentic workloads:\n",
    "\n",
    "### **Infrastructure & Deployment Foundation**\n",
    "- **Containerized Deployment**: Package agents with all dependencies in Docker containers for consistent, portable deployments across environments\n",
    "- **Managed Runtime Environment**: AgentCore Runtime provides auto-scaling, health monitoring, and resource management without infrastructure overhead\n",
    "- **Infrastructure as Code (IaC) Readiness**: Configuration-driven deployments that integrate seamlessly with CI/CD pipelines\n",
    "- \n",
    "\n",
    "### **Enterprise Security & Identity Management**\n",
    "- **Multi-Tenant Session Isolation**: Each user session runs in dedicated microVMs with isolated compute, memory, and filesystem resources\n",
    "- **Industry-Standard Authentication**: Support for OAuth 2.0, JWT tokens, API keys, and AWS Sigv4 for flexible identity integration\n",
    "- **Credential Management**: Secure handling of access tokens and service credentials without exposing sensitive information\n",
    "- **Access Control**: Fine-grained permissions through IAM roles and policies, ensuring agents operate with least-privilege principles\n",
    "\n",
    "### **Production Observability & Monitoring**\n",
    "- **Real-Time Metrics**: Track invocation counts, latency, error rates, throttling, and resource utilization across all agent operations\n",
    "- **Hierarchical Tracing**: Four-tier observability model (Runtime → Sessions → Traces → Spans) providing complete visibility into agent execution\n",
    "- **OpenTelemetry Compatibility**: Standards-based telemetry integration with existing monitoring stacks and enterprise observability tools\n",
    "- **Visual Debugging**: CloudWatch dashboards with trace timelines, error breakdowns, and performance analytics for rapid troubleshooting\n",
    "\n",
    "### **Scalability & Performance Optimization**\n",
    "- **Automatic Scaling**: Dynamic resource allocation based on demand without manual intervention\n",
    "- **Session-Based Resource Management**: Efficient resource utilization through intelligent session lifecycle management\n",
    "- **Cross-Session Data Protection**: Memory sanitization and resource cleanup preventing data leakage between user sessions\n",
    "- **Optimized Execution Paths**: Performance monitoring and optimization capabilities for production workload efficiency\n",
    "\n",
    "\n",
    "## Core Objectives\n",
    "In this lab, we'll transform the local multi-agent system from lab7 into a **production-ready application** deployed on [Amazon Bedrock AgentCore Runtime](https://docs.aws.amazon.com/bedrock-agentcore/latest/devguide/agents-tools-runtime.html). You'll master:\n",
    "\n",
    "**Note:** This lab depends on the completion of the Strands Agent in lab7. Please complete lab7 before running this particular lab.\n",
    "\n",
    "The workflow shown in the diagram above is as follows:\n",
    "\n",
    "1. A journalist submits facts to a front-end backed by an LLM (Interface Supervisor)\n",
    "2. The Interface Supervisor agent sends the facts to a Research agent.\n",
    "3. The Research agent is equipped with a Tool that does the following:\n",
    "   1. Entity Extraction: These can be people, companies, products, etc.\n",
    "   2. Gather background information: This uses the Bedrock Knowledge Base we created in the setup phase. If any entity has low confidence scores, i.e. not mentioned anywhere in the Knowledge Base it is discarded.\n",
    "4. The Lambda then returns the research to the Research agent, which returns it to the Interface Supervisor agent.\n",
    "5. Once additional context has been provided by the Research agent, the Interface Supervisor agent sends the research and the facts to the Article Generation agent. This agent is part of a reflection pattern we covered earlier (Lab 5):\n",
    "   1. News Generation agent: This writes the main news article based on the information provided by the Research agent.\n",
    "   2. Article Reviewer agent: This provides feedback to the News Generation agent and together, these agents iteratively improve the quality of the generated article.\n",
    "6. The remainder of the architecture is shown for completeness, and won't be part of this lab. Feel free to implement that if you have time at the end.\n",
    "\n",
    "\n",
    "### Agent Architecture\n",
    "Let's review the architecture of the agent that we built in lab7. In the following section, we will describe how to deploy an existing agent to AgentCore runtime with all the production-grade capabilities outlined above.\n",
    "\n",
    "<div style=\"text-align:left\">\n",
    "    <img src=\"../imgs/lab8-strands-local.png\" width=\"80%\"/>\n",
    "</div>\n",
    "\n",
    "This architecture transforms from a local development environment to a **cloud-native, enterprise-ready deployment** that demonstrates industry best practices for production AI agent systems.\n",
    "\n",
    "### Turn On AgentCore Observability\n",
    "In this lab, we'll be using the AgentCore Observability feature to help us trace the agent orchestrations. Make sure you've turned on `Transaction Search` in Cloudwatch before running the notebook in this lab. For more information, please refer to this [link](https://docs.aws.amazon.com/bedrock-agentcore/latest/devguide/observability-configure.html).\n",
    "\n"
   ]
  },
  {
   "cell_type": "code",
   "execution_count": null,
   "metadata": {},
   "outputs": [],
   "source": [
    "# Make sure you download the latest botocore and boto3 libraries.\n",
    "import shutil\n",
    "import subprocess\n",
    "import sys\n",
    "\n",
    "def ensure_uv_installed():\n",
    "    if shutil.which(\"uv\") is None:\n",
    "        print(\"🔧 'uv' not found. Installing with pip...\")\n",
    "        subprocess.check_call([sys.executable, \"-m\", \"pip\", \"install\", \"uv\"])\n",
    "    else:\n",
    "        print(\"✅ 'uv' is already installed.\")\n",
    "\n",
    "def uv_install(*packages):\n",
    "    ensure_uv_installed()\n",
    "    uv_path = shutil.which(\"uv\")\n",
    "    print(f\"📦 Installing {', '.join(packages)} using uv...\")\n",
    "    subprocess.check_call([uv_path, \"pip\", \"install\", *packages])"
   ]
  },
  {
   "cell_type": "code",
   "execution_count": null,
   "metadata": {},
   "outputs": [],
   "source": [
    "%uv pip install -r requirements.txt -U"
   ]
  },
  {
   "cell_type": "markdown",
   "metadata": {
    "vscode": {
     "languageId": "raw"
    }
   },
   "source": [
    "## Environment Setup"
   ]
  },
  {
   "cell_type": "markdown",
   "metadata": {
    "vscode": {
     "languageId": "raw"
    }
   },
   "source": [
    "Restore variables from previous notebook sessions (particularly the `lab7_kb_id` from lab7):\n"
   ]
  },
  {
   "cell_type": "code",
   "execution_count": null,
   "metadata": {},
   "outputs": [],
   "source": [
    "%store -r"
   ]
  },
  {
   "cell_type": "markdown",
   "metadata": {
    "vscode": {
     "languageId": "raw"
    }
   },
   "source": [
    "Import the required libraries for AWS services and JSON processing:\n"
   ]
  },
  {
   "cell_type": "code",
   "execution_count": null,
   "metadata": {},
   "outputs": [],
   "source": [
    "import boto3\n",
    "import json\n",
    "import time\n",
    "import uuid"
   ]
  },
  {
   "cell_type": "markdown",
   "metadata": {
    "vscode": {
     "languageId": "raw"
    }
   },
   "source": [
    "## Agent Configuration\n",
    "\n",
    "Define agent names and file paths. We'll create both local and runtime versions of the agent:\n"
   ]
  },
  {
   "cell_type": "code",
   "execution_count": null,
   "metadata": {},
   "outputs": [],
   "source": [
    "agent_name = \"news_story_generator_agent\"\n",
    "news_story_agent_local_template_script = f\"{agent_name}_local_template.py\"\n",
    "news_story_agent_local_script = f\"{agent_name}_local.py\"\n",
    "news_story_agent_template_script = f\"{agent_name}_template.py\"\n",
    "news_story_agent_script = f\"{agent_name}.py\"\n",
    "agent_name = f\"{agent_name}_{str(uuid.uuid4())[:5]}\"\n"
   ]
  },
  {
   "cell_type": "markdown",
   "metadata": {
    "vscode": {
     "languageId": "raw"
    }
   },
   "source": [
    "Read the local agent template file that contains placeholder values:\n",
    "Replace the placeholder `{{lab7_kb_id}}` with the actual knowledge base ID from lab7 and write the configured agent to a new file:\n"
   ]
  },
  {
   "cell_type": "code",
   "execution_count": null,
   "metadata": {},
   "outputs": [],
   "source": [
    "with open(news_story_agent_local_template_script, \"r\") as f:\n",
    "    agent_local_code = f.read()\n",
    "\n",
    "new_agent_local_code = agent_local_code.replace(\"{{lab7_kb_id}}\", lab7_kb_id)\n",
    "with open(news_story_agent_local_script, \"w\") as f:\n",
    "    f.write(new_agent_local_code)"
   ]
  },
  {
   "cell_type": "markdown",
   "metadata": {
    "vscode": {
     "languageId": "raw"
    }
   },
   "source": [
    "Display the generated agent code to verify the configuration:\n"
   ]
  },
  {
   "cell_type": "code",
   "execution_count": null,
   "metadata": {},
   "outputs": [],
   "source": [
    "%pycat news_story_generator_agent_local.py"
   ]
  },
  {
   "cell_type": "markdown",
   "metadata": {},
   "source": [
    "Let's test the script locally to ensure it works as expected."
   ]
  },
  {
   "cell_type": "markdown",
   "metadata": {
    "vscode": {
     "languageId": "raw"
    }
   },
   "source": [
    "## Local Testing\n",
    "\n",
    "Create sample news facts to test our agent locally:\n"
   ]
  },
  {
   "cell_type": "code",
   "execution_count": null,
   "metadata": {},
   "outputs": [],
   "source": [
    "news_facts = \"\"\"NeuraHealth Solutions announced its new medical diagnostic platform called \"MediScan\" at their annual developer conference yesterday.\n",
    "The system demonstrated 94% accuracy in early disease detection across a trial of 12,000 patients.\n",
    "Dr. Eliza Chen, Chief Medical Officer at NeuraHealth, revealed the system was trained on 50 million anonymized patient records.\n",
    "\"\"\"\n",
    "payload = json.dumps({ \"query\" : news_facts})"
   ]
  },
  {
   "cell_type": "markdown",
   "metadata": {
    "vscode": {
     "languageId": "raw"
    }
   },
   "source": [
    "Run the agent locally with the sample news facts and measure the execution time:\n"
   ]
  },
  {
   "cell_type": "code",
   "execution_count": null,
   "metadata": {},
   "outputs": [],
   "source": [
    "%%time\n",
    "!python news_story_generator_agent_local.py '{payload}'"
   ]
  },
  {
   "cell_type": "markdown",
   "metadata": {},
   "source": [
    "## Preparing your agent for deployment on AgentCore Runtime\n",
    "\n",
    "Let's now deploy our agents to AgentCore Runtime. To do so we need to:\n",
    "* Import the Runtime App with `from bedrock_agentcore.runtime import BedrockAgentCoreApp`\n",
    "* Initialize the App in our code with `app = BedrockAgentCoreApp()`\n",
    "* Decorate the invocation function with the `@app.entrypoint` decorator\n",
    "* Let AgentCoreRuntime control the running of the agent with `app.run()`"
   ]
  },
  {
   "cell_type": "markdown",
   "metadata": {
    "vscode": {
     "languageId": "raw"
    }
   },
   "source": [
    "Prepare the deployment version of the agent by reading the template and configuring it with the knowledge base ID:\n"
   ]
  },
  {
   "cell_type": "code",
   "execution_count": null,
   "metadata": {},
   "outputs": [],
   "source": [
    "with open(news_story_agent_template_script, \"r\") as f:\n",
    "    new_agent_code = f.read()\n",
    "\n",
    "new_agent_code = new_agent_code.replace(\"{{lab7_kb_id}}\", lab7_kb_id)\n",
    "with open(news_story_agent_script, \"w\") as f:\n",
    "    f.write(new_agent_code)"
   ]
  },
  {
   "cell_type": "markdown",
   "metadata": {
    "vscode": {
     "languageId": "raw"
    }
   },
   "source": [
    "Optional: Uncomment the following line to test the agent locally before deployment:\n"
   ]
  },
  {
   "cell_type": "code",
   "execution_count": null,
   "metadata": {},
   "outputs": [],
   "source": [
    "# !python news_story_generator_agent.py # Uncomment this line if you want to launch the agent locally for testing purposes."
   ]
  },
  {
   "cell_type": "markdown",
   "metadata": {},
   "source": [
    "## What happens behind the scenes?\n",
    "\n",
    "When you use `BedrockAgentCoreApp`, it automatically:\n",
    "\n",
    "* Creates an HTTP server that listens on the port 8080\n",
    "* Implements the required `/invocations` endpoint for processing the agent's requirements\n",
    "* Implements the `/ping` endpoint for health checks (very important for asynchronous agents)\n",
    "* Handles proper content types and response formats\n",
    "* Manages error handling according to the AWS standards"
   ]
  },
  {
   "cell_type": "markdown",
   "metadata": {},
   "source": [
    "## Deploying the agent to AgentCore Runtime\n",
    "\n",
    "The `CreateAgentRuntime` operation supports comprehensive configuration options, letting you specify container images, environment variables and encryption settings. You can also configure protocol settings (HTTP, MCP) and authorization mechanisms to control how your clients communicate with the agent. \n",
    "\n",
    "**Note:** Operations best practice is to package code as container and push to ECR using CI/CD pipelines and IaC\n",
    "\n",
    "In this tutorial can will the Amazon Bedrock AgentCore Python SDK to easily package your artifacts and deploy them to AgentCore runtime."
   ]
  },
  {
   "cell_type": "markdown",
   "metadata": {},
   "source": [
    "### Creating runtime role\n",
    "\n",
    "Before starting, let's create an IAM role for our AgentCore Runtime. We will do so using the utils function pre-developed for you."
   ]
  },
  {
   "cell_type": "markdown",
   "metadata": {
    "vscode": {
     "languageId": "raw"
    }
   },
   "source": [
    "Set up the Python path to access utility functions and create the IAM role for AgentCore Runtime:\n"
   ]
  },
  {
   "cell_type": "code",
   "execution_count": null,
   "metadata": {},
   "outputs": [],
   "source": [
    "import sys\n",
    "import os\n",
    "\n",
    "# Get the current notebook's directory\n",
    "current_dir = os.path.dirname(os.path.abspath('__file__' if '__file__' in globals() else '.'))\n",
    "\n",
    "utils_dir = os.path.join(current_dir, '..')\n",
    "utils_dir = os.path.join(utils_dir, '..')\n",
    "utils_dir = os.path.abspath(utils_dir)\n",
    "\n",
    "# Add to sys.path\n",
    "sys.path.insert(0, utils_dir)\n",
    "print(\"sys.path[0]:\", sys.path[0])\n",
    "\n",
    "from utils import create_agentcore_role\n",
    "\n",
    "agentcore_iam_role = create_agentcore_role(agent_name=agent_name)"
   ]
  },
  {
   "cell_type": "markdown",
   "metadata": {},
   "source": [
    "### Configure AgentCore Runtime deployment\n",
    "\n",
    "Next we will use our starter toolkit to configure the AgentCore Runtime deployment with an entrypoint, the execution role we just created and a requirements file. We will also configure the starter kit to auto create the Amazon ECR repository on launch.\n",
    "\n",
    "During the configure step, your docker file will be generated based on your application code\n",
    "\n",
    "<div style=\"text-align:left\">\n",
    "    <img src=\"../imgs/agentcore-runtime-configure.png\" width=\"70%\"/>\n",
    "</div>"
   ]
  },
  {
   "cell_type": "markdown",
   "metadata": {
    "vscode": {
     "languageId": "raw"
    }
   },
   "source": [
    "Configure the AgentCore Runtime deployment using the starter toolkit with the agent script, execution role, and requirements:\n"
   ]
  },
  {
   "cell_type": "code",
   "execution_count": null,
   "metadata": {},
   "outputs": [],
   "source": [
    "from bedrock_agentcore_starter_toolkit import Runtime\n",
    "from boto3.session import Session\n",
    "boto_session = Session()\n",
    "region = boto_session.region_name\n",
    "region\n",
    "\n",
    "agentcore_runtime = Runtime()\n",
    "\n",
    "response = agentcore_runtime.configure(\n",
    "    entrypoint=news_story_agent_script,\n",
    "    execution_role=agentcore_iam_role['Role']['Arn'],\n",
    "    auto_create_ecr=True,\n",
    "    requirements_file=\"requirements.txt\",\n",
    "    region=region,\n",
    "    agent_name=agent_name\n",
    ")\n",
    "response"
   ]
  },
  {
   "cell_type": "markdown",
   "metadata": {},
   "source": [
    "### Launching agent to AgentCore Runtime\n",
    "\n",
    "Now that we've got a docker file, let's launch the agent to the AgentCore Runtime. This will create the Amazon ECR repository and the AgentCore Runtime\n",
    "\n",
    "<div style=\"text-align:left\">\n",
    "    <img src=\"../imgs/agentcore-runtime-launch.png\" width=\"75%\"/>\n",
    "</div> "
   ]
  },
  {
   "cell_type": "markdown",
   "metadata": {},
   "source": [
    "Launch the Agentic AI application"
   ]
  },
  {
   "cell_type": "markdown",
   "metadata": {
    "vscode": {
     "languageId": "raw"
    }
   },
   "source": [
    "### Deploy to AgentCore Runtime\n",
    "\n",
    "Launch the agent to the AgentCore Runtime, which will build the Docker image, push it to ECR, and create the runtime:\n"
   ]
  },
  {
   "cell_type": "code",
   "execution_count": null,
   "metadata": {},
   "outputs": [],
   "source": [
    "launch_result = agentcore_runtime.launch()"
   ]
  },
  {
   "cell_type": "markdown",
   "metadata": {
    "vscode": {
     "languageId": "raw"
    }
   },
   "source": [
    "Monitor the agent deployment status and wait for it to be ready:\n"
   ]
  },
  {
   "cell_type": "code",
   "execution_count": null,
   "metadata": {},
   "outputs": [],
   "source": [
    "status_response = agentcore_runtime.status()\n",
    "status = status_response.endpoint['status']\n",
    "end_status = ['READY', 'CREATE_FAILED', 'DELETE_FAILED', 'UPDATE_FAILED']\n",
    "while status not in end_status:\n",
    "    time.sleep(10)\n",
    "    status_response = agentcore_runtime.status()\n",
    "    status = status_response.endpoint['status']\n",
    "    print(status)\n",
    "status"
   ]
  },
  {
   "cell_type": "markdown",
   "metadata": {},
   "source": [
    "### Invoking AgentCore Runtime with Session Management and Context Handling\n",
    "\n",
    "Finally, we can invoke our AgentCore Runtime with a payload\n",
    "\n",
    "<div style=\"text-align:left\">\n",
    "    <img src=\"../imgs/agentcore-runtime-invoke.png\" width=75%\"/>\n",
    "</div>\n",
    "\n",
    "Notice we also pass a session ID to the invoke function. AgentCore Runtime lets you isolate each user session and safely reuse context across multiple invocations in a user session. Session isolation is critical for AI agent workloads due to their unique operational characteristics:\n",
    "\n",
    "* Complete execution environment separation: Each user session in Runtime receives its own dedicated microVM with isolated Compute, memory, and filesystem resources. This prevents one user's agent from accessing another user's data. After session completion, the entire microVM is terminated and memory is sanitized to remove all session data, eliminating cross-session contamination risks.\n",
    "\n",
    "* Stateful reasoning processes: Unlike stateless functions, AI agents maintain complex contextual state throughout their execution cycle, beyond simple message history for multi-turn conversations. Runtime preserves this state securely within a session while ensuring complete isolation between different users, enabling personalized agent experiences without compromising data boundaries.\n",
    "\n",
    "* Privileged tool operations: AI agents perform privileged operations on users' behalf through integrated tools accessing various resources. Runtime's isolation model ensures these tool operations maintain proper security contexts and prevents credential sharing or permission escalation between different user sessions.\n",
    "\n",
    "* Deterministic security for non-deterministic processes: AI agent behavior can be non-deterministic due to the probabilistic nature of foundation models. Runtime provides consistent, deterministic isolation boundaries regardless of agent execution patterns, delivering the predictable security properties required for enterprise deployments.\n"
   ]
  },
  {
   "cell_type": "markdown",
   "metadata": {},
   "source": [
    "## Trace the Agent Logs\n",
    "All the log information from the agents are written to Cloudwatch by default. In the output from the `agentcore_runtime.launch()` shown in the previous output cell, you could see the command that could be used for showing the cloudwatch logs. Open a CLI terminal in your IDE and run the command to see the output from the agent. \n",
    "\n",
    "An example command: `aws logs tail /aws/bedrock-agentcore/runtimes/news_story_generator_agent_b1135-7B4Adh5eDR-DEFAULT --follow`"
   ]
  },
  {
   "cell_type": "markdown",
   "metadata": {
    "vscode": {
     "languageId": "raw"
    }
   },
   "source": [
    "Invoke the deployed agent with a unique session ID and the sample news facts payload:\n"
   ]
  },
  {
   "cell_type": "code",
   "execution_count": null,
   "metadata": {
    "scrolled": true
   },
   "outputs": [],
   "source": [
    "session_id = uuid.uuid4()\n",
    "invoke_response = agentcore_runtime.invoke(json.loads(payload), session_id=str(session_id))"
   ]
  },
  {
   "cell_type": "markdown",
   "metadata": {
    "vscode": {
     "languageId": "raw"
    }
   },
   "source": [
    "Define a helper function to clean and extract the final output from the agent response:\n"
   ]
  },
  {
   "cell_type": "code",
   "execution_count": null,
   "metadata": {},
   "outputs": [],
   "source": [
    "invoke_response"
   ]
  },
  {
   "cell_type": "markdown",
   "metadata": {},
   "source": [
    "## Part 2 - Identity Integration\n",
    "Amazon Bedrock AgentCore Identity is an identity and credential management service designed specifically for AI agents and automated workloads. It provides secure authentication, authorization, and credential management capabilities that enable agents and tools to access AWS resources and third-party services on behalf of users while helping to maintain strict security controls and audit trails. \n",
    "\n",
    "Agent identities are implemented as workload identities with specialized attributes that enable agent-specific capabilities while helping to maintain compatibility with industry-standard workload identity patterns. The service integrates natively with Amazon Bedrock AgentCore to provide identity and credential management for agent applications, including Host agent or tools with Amazon Bedrock AgentCore Runtime and Amazon Bedrock AgentCore Gateway: Securely connect tools and other resources to your Gateway.\n",
    "\n",
    "Amazon Bedrock AgentCore Identity supports seamless integration with AWS and third-party services through Sigv4, standardized OAuth 2.0 flows, and API keys.\n",
    "\n",
    "### Provision a Cognito User Pool\n",
    "Lets provision a Cognito Userpool with an App client and one test user. Note down the 1/Cognito Discovery url and 2/the Cognito app client id. We will use it to configure our agent for Inbound Auth with Cognito.\n"
   ]
  },
  {
   "cell_type": "code",
   "execution_count": null,
   "metadata": {},
   "outputs": [],
   "source": [
    "!chmod +x setup_cognito_user_pool.sh\n",
    "!bash setup_cognito_user_pool.sh"
   ]
  },
  {
   "cell_type": "markdown",
   "metadata": {
    "vscode": {
     "languageId": "raw"
    }
   },
   "source": [
    "Set up a new boto session for the identity-enabled deployment:\n"
   ]
  },
  {
   "cell_type": "markdown",
   "metadata": {},
   "source": [
    "### Configure AgentCore Runtime deployment\n",
    "\n",
    "Next we will use our starter toolkit to configure the AgentCore Runtime deployment with an entrypoint, the execution role we just created and a requirements file. We will also configure the starter kit to auto create the Amazon ECR repository on launch.\n",
    "\n",
    "During the configure step, your docker file will be generated based on your application code. \n",
    "We'll use parse the values from these files to test the new engpoint."
   ]
  },
  {
   "cell_type": "code",
   "execution_count": null,
   "metadata": {},
   "outputs": [],
   "source": [
    "from bedrock_agentcore_starter_toolkit import Runtime\n",
    "from boto3.session import Session\n",
    "boto_session = Session()\n",
    "region = boto_session.region_name\n",
    "region"
   ]
  },
  {
   "cell_type": "markdown",
   "metadata": {},
   "source": [
    "### Create IAM Role for Identity-Enabled Agent\n",
    "\n",
    "Create a new IAM role and agent name for the identity-enabled deployment:"
   ]
  },
  {
   "cell_type": "code",
   "execution_count": null,
   "metadata": {},
   "outputs": [],
   "source": [
    "agent_name = f\"news_story_generator_agent_{str(uuid.uuid4())[:5]}\"\n",
    "agentcore_iam_role = create_agentcore_role(agent_name=agent_name)"
   ]
  },
  {
   "cell_type": "markdown",
   "metadata": {},
   "source": [
    "Extract the identity details from the script that created the cognito user pool."
   ]
  },
  {
   "cell_type": "markdown",
   "metadata": {
    "vscode": {
     "languageId": "raw"
    }
   },
   "source": [
    "Read the Cognito configuration details from the JSON files created by the setup script:\n"
   ]
  },
  {
   "cell_type": "code",
   "execution_count": null,
   "metadata": {},
   "outputs": [],
   "source": [
    "with open(\"client.json\", \"r\") as f:\n",
    "    client_data = f.read()\n",
    "    client_data_dict = json.loads(client_data)\n",
    "    user_pool_id = client_data_dict[\"UserPoolClient\"][\"UserPoolId\"]\n",
    "    client_id = client_data_dict[\"UserPoolClient\"][\"ClientId\"]\n",
    "\n",
    "with open(\"auth.json\", \"r\") as f:\n",
    "    auth_data = f.read()\n",
    "    auth_data_dict = json.loads(auth_data)\n",
    "    bearer_access_token = auth_data_dict[\"AuthenticationResult\"][\"AccessToken\"]\n",
    "\n",
    "cognito_discovery_url=f\"https://cognito-idp.{region}.amazonaws.com/{user_pool_id}/.well-known/openid-configuration\""
   ]
  },
  {
   "cell_type": "markdown",
   "metadata": {},
   "source": [
    "Configure the AgentCore Runtime with Cognito JWT authorization:"
   ]
  },
  {
   "cell_type": "code",
   "execution_count": null,
   "metadata": {},
   "outputs": [],
   "source": [
    "agentcore_runtime = Runtime()\n",
    "response = agentcore_runtime.configure(\n",
    "    entrypoint=news_story_agent_script,\n",
    "    execution_role=agentcore_iam_role['Role']['Arn'],\n",
    "    auto_create_ecr=True,\n",
    "    requirements_file=\"requirements.txt\",\n",
    "    region=region,\n",
    "    agent_name=agent_name,\n",
    "    authorizer_configuration={\n",
    "        \"customJWTAuthorizer\": {\n",
    "            \"discoveryUrl\": cognito_discovery_url,\n",
    "            \"allowedClients\": [client_id]\n",
    "        }\n",
    "    }\n",
    ")\n",
    "response\n"
   ]
  },
  {
   "cell_type": "markdown",
   "metadata": {
    "vscode": {
     "languageId": "raw"
    }
   },
   "source": [
    "Launch the identity-enabled agent to AgentCore Runtime:"
   ]
  },
  {
   "cell_type": "code",
   "execution_count": null,
   "metadata": {},
   "outputs": [],
   "source": [
    "launch_result = agentcore_runtime.launch()\n",
    "launch_result"
   ]
  },
  {
   "cell_type": "markdown",
   "metadata": {
    "vscode": {
     "languageId": "raw"
    }
   },
   "source": [
    "Monitor the identity-enabled agent deployment status:"
   ]
  },
  {
   "cell_type": "code",
   "execution_count": null,
   "metadata": {},
   "outputs": [],
   "source": [
    "status_response = agentcore_runtime.status()\n",
    "status = status_response.endpoint['status']\n",
    "end_status = ['READY', 'CREATE_FAILED', 'DELETE_FAILED', 'UPDATE_FAILED']\n",
    "while status not in end_status:\n",
    "    time.sleep(10)\n",
    "    status_response = agentcore_runtime.status()\n",
    "    status = status_response.endpoint['status']\n",
    "    print(status)\n",
    "status"
   ]
  },
  {
   "cell_type": "markdown",
   "metadata": {},
   "source": [
    "Test the agent without any authentication. The following call is expected to fail, given no credential was provided to the AgentCore runtime invocation."
   ]
  },
  {
   "cell_type": "code",
   "execution_count": null,
   "metadata": {},
   "outputs": [],
   "source": [
    "session_id = uuid.uuid4()\n",
    "invoke_response = agentcore_runtime.invoke(json.loads(payload), session_id=str(session_id))"
   ]
  },
  {
   "cell_type": "markdown",
   "metadata": {},
   "source": [
    "### Invoking AgentCore Runtime with authorization\n",
    "\n",
    "Lets invoke the agent with the right authorization token type. In our case, it will be the Cognito access token. "
   ]
  },
  {
   "cell_type": "code",
   "execution_count": null,
   "metadata": {},
   "outputs": [],
   "source": [
    "#Update the Cognito access token here. Copy the access token from the cell \"Provision a Cognito User Pool\"\n",
    "session_id = uuid.uuid4()\n",
    "invoke_response = agentcore_runtime.invoke(json.loads(payload), session_id=str(session_id), bearer_token=bearer_access_token)\n",
    "invoke_response"
   ]
  },
  {
   "cell_type": "markdown",
   "metadata": {},
   "source": [
    "# Part 3 - Agent Observability\n",
    "With AgentCore, you can trace, debug, and monitor AI agents' performance in production environments.\n",
    "\n",
    "AgentCore Observability helps you trace, debug, and monitor agent performance in production environments. It offers detailed visualizations of each step in the agent workflow, enabling you to inspect an agent's execution path, audit intermediate outputs, and debug performance bottlenecks and failures.\n",
    "\n",
    "AgentCore Observability gives you real-time visibility into agent operational performance through access to dashboards powered by Amazon CloudWatch and telemetry for key metrics such as session count, latency, duration, token usage, and error rates. Rich metadata tagging and filtering simplify issue investigation and quality maintenance at scale. AgentCore emits telemetry data in standardized OpenTelemetry (OTEL)-compatible format, enabling you to easily integrate it with your existing monitoring and observability stack.\n",
    "\n",
    "By default, AgentCore outputs a set of key built-in metrics for agents, gateway resources, and memory resources. For memory resources, AgentCore also outputs spans and log data if you enable it. You can also instrument your agent code to provide additional span and trace data and custom metrics and logs. See Add observability to your Amazon Bedrock AgentCore resources to learn more.\n",
    "\n",
    "All of the metrics, spans, and logs output by AgentCore are stored in Amazon CloudWatch, and can be viewed in the CloudWatch console or downloaded from CloudWatch using the AWS CLI or one of the AWS SDKs.\n",
    "\n",
    "In addition to the raw data stored in CloudWatch Logs, for agent runtime data only, the CloudWatch console provides an observability dashboard containing trace visualizations, graphs for custom span metrics, error breakdowns, and more. To learn more about viewing your agents' observability data, see View observability data for your Amazon Bedrock AgentCore agents.\n",
    "\n",
    "Agent observability can be categorized into 4 main components: `Runtime`, `Sessions`, `Traces` and `Spans`.\n",
    "\n",
    "`Runtime` Metrics that provides agent execution activity levels, processing latency, resource utilization, and error rates. AgentCore also provides aggregated metrics for total invocations and sessions.\n"
   ]
  },
  {
   "cell_type": "markdown",
   "metadata": {},
   "source": [
    "### The relationship between the observability components\n",
    "\n",
    "![agentcore-observability-hierarchy](../imgs/agentcore-observability-hierarchy.png)\n",
    "\n",
    "\n",
    "`Sessions`, `traces`, and `spans` form a three-tiered hierarchical relationship in the observability framework for agents. A session contains multiple traces, with each trace representing a discrete interaction within the broader context of the session. Each trace, in turn, contains multiple spans that capture the fine-grained operations and steps within that interaction. This hierarchical structure allows you to analyze agent behavior at different levels of granularity, from high-level session patterns to mid-level interaction flows to detailed execution paths for specific operations.\n",
    "\n",
    "- Sessions (highest level) - Represent complete user conversations or interaction contexts\n",
    "- Traces (middle level) - Represent individual request-response cycles within a session\n",
    "- Spans (lowest level) - Represent specific operations or steps within a trace\n",
    "\n",
    "This multi-tiered relationship enables several important observability capabilities:\n",
    "\n",
    "- Contextual analysis of individual interactions within their broader conversation flow\n",
    "- Correlation of related requests across a user's interaction journey\n",
    "- Progressive troubleshooting from session-level anomalies to trace-level patterns to span-level root causes\n",
    "- Comprehensive performance profiling across different temporal and functional dimensions\n",
    "- Holistic understanding of agent behavior patterns and evolution throughout a conversation\n",
    "- Precise identification of performance bottlenecks at the operation level through span analysis\n",
    "\n",
    "While traces provide visibility into complete request-response cycles, spans offer deeper insights into the internal workings of those cycles. Spans reveal exactly which operations consume the most time, where errors originate, and how different components interact within a single trace. This granularity is particularly valuable when troubleshooting complex issues or optimizing performance in sophisticated agent implementations.\n",
    "\n",
    "By leveraging session, trace, and span data in your observability strategy, you can gain comprehensive insights into your agent's behavior, performance, and effectiveness at multiple levels of detail. This multi-layered approach to observability supports continuous improvement, robust troubleshooting, and informed optimization of your agent implementations, from high-level conversation patterns down to individual operation performance.\n",
    "\n",
    "In the next section, we'll dive into it each of the section in detail."
   ]
  },
  {
   "cell_type": "markdown",
   "metadata": {},
   "source": [
    "Navigate to the AWS console for [agentCore runtime](https://us-east-1.console.aws.amazon.com/bedrock-agentcore/agents), then click on the Agent runtime, then click on `Agent Details`, and click on the `Observability` link as shown in the following diagram:\n",
    "\n",
    "![agentcore-runtime-to-observability](../imgs/agentcore-runtime-to-observability.png)"
   ]
  },
  {
   "cell_type": "markdown",
   "metadata": {},
   "source": [
    "## Agent Runtime Metrics\n",
    "The runtime metrics provided by AgentCore give you visibility into your agent execution activity levels, processing latency, resource utilization, and error rates. AgentCore also provides aggregated metrics for total invocations and sessions.\n",
    "\n",
    "The following list describes the runtime metrics provided by AgentCore. Runtime metrics are batched at one minute intervals. To learn more about viewing runtime metrics, see View observability data for your Amazon Bedrock AgentCore agents.\n",
    "\n",
    "### Invocations\n",
    "Shows the total number of requests made to the Data Plane API. Each API call counts as one invocation, regardless of the request payload size or response status.\n",
    "\n",
    "### Invocations (aggregated)\n",
    "Shows the total number of invocations across all resources\n",
    "\n",
    "### Throttles\n",
    "Displays the number of requests throttled by the service due to exceeding allowed TPS (Transactions Per Second) or quota limits. These requests return ThrottlingException with HTTP status code 429. Monitor this metric to determine if you need to review your service quotas or optimize request patterns.\n",
    "\n",
    "### System Errors\n",
    "Shows the number of server-side errors encountered by AgentCore during request processing. High levels of server-side errors can indicate potential infrastructure or service issues that require investigation. See Error types for a list of possible error codes.\n",
    "\n",
    "### User Errors\n",
    "Represents the number of client-side errors resulting from invalid requests. These require user action to resolve. High levels of client-side errors can indicate issues with request formatting or permissions that need to be addressed. See Error types for a list of possible error codes.\n",
    "\n",
    "### Latency\n",
    "The total time elapsed between receiving the request and sending the final response token. Represents complete end-to-end processing time of the request.\n",
    "\n",
    "### Total Errors\n",
    "The total number of system and user errors. In the Amazon Bedrock AgentCore console, this metric displays the number of errors as a percentage of the total number of invocations.\n",
    "\n",
    "### Session Count\n",
    "Shows the total number of agent sessions. Useful for monitoring overall platform usage, capacity planning, and understanding user engagement patterns.\n",
    "\n",
    "### Sessions (aggregated)\n",
    "Shows the total number of sessions across all resources.\n",
    "From the observability landing page, you will find the metrics captured at the general levels. Under `Overview` tab, you'll see agent metrics including number of sessions, token usage counts, errors, latency, throttle counts or others as visualization. \n",
    "\n",
    "![agentcore-observability-landing](../imgs/agentcore-observability-landing.png)\n",
    "\n",
    "Agentcore observability also includes separate `Session`, `Trace` and `Spans` level metrics. We'll dive into those specific in the sections below.\n",
    "    "
   ]
  },
  {
   "cell_type": "markdown",
   "metadata": {},
   "source": [
    "## Session\n",
    "A session represents a complete interaction context between a user and an agent. Sessions encapsulate the entire conversation or interaction flow, maintaining state and context across multiple exchanges. Each session has a unique identifier and captures the full lifecycle of user engagement with the agent, from initialization to termination.\n",
    "\n",
    "Sessions provide the following capabilities for agents:\n",
    "\n",
    "Context persistence across multiple interactions within the same conversation\n",
    "\n",
    "State management for maintaining user-specific information\n",
    "\n",
    "Conversation history tracking for contextual understanding\n",
    "\n",
    "Resource allocation and management for the duration of the interaction\n",
    "\n",
    "Isolation between different user interactions with the same agent\n",
    "\n",
    "From an observability perspective, sessions provide a high-level view of user engagement patterns, allowing you to monitor agent performance across metrics, traces, and spans and to understand how users interact with your agents over time and across different use cases.\n",
    "\n",
    "By default, AgentCore provides a set of observability metrics at the session level for agents that are running in the AgentCore runtime. This page offers a variety of graphs and visualizations to help you interpret your agents' data. AgentCore also outputs a default set of metrics for memory resources, gateway resources, and built-in tools. All of these metrics can be viewed in CloudWatch. In addition to the provided metrics, logs and spans are provided by default for memory resources, and by instrumenting your agent code, you can capture custom metrics, logs, and spans for your agent which can also be viewed on the CloudWatch generative AI observability page. See the following sections and View observability data for your Amazon Bedrock AgentCore agents to learn more.\n",
    "\n",
    "![agentcore-observability-session-page](../imgs/agentcore-observability-session-page.png)\n",
    "\n"
   ]
  },
  {
   "cell_type": "markdown",
   "metadata": {},
   "source": [
    "## Traces and Spans\n",
    "\n",
    "### Trace\n",
    "A trace represents a detailed record of a single `request-response` cycle beginning from with an agent invocation and may include additional calls to other agents. Traces capture the complete execution path of a request, including all internal processing steps, external service calls, decision points, and resource utilization. Each trace is associated with a specific session and provides granular visibility into the agent's behavior for a particular interaction.\n",
    "\n",
    "Traces include the following components for agents:\n",
    "\n",
    "- Request details including timestamps, input parameters, and context\n",
    "- Processing steps showing the sequence of operations performed\n",
    "- Tool invocations with input/output parameters and execution times\n",
    "- Resource utilization metrics such as processing time\n",
    "- Error information including exception details and recovery attempts\n",
    "- Response generation details and final output\n",
    "\n",
    "From an observability perspective, traces provide deep insights into the internal workings of your agents, allowing you to troubleshoot issues, optimize performance, and understand behavior patterns. By analyzing trace data, you can identify bottlenecks, detect anomalies, and verify that your agent is functioning as expected across different scenarios and inputs.\n",
    "\n",
    "With Agentcore Runtime, agent trace is turned on by default on your behalf at deployment time so you don't have to do anything to obtain the metrics. \n",
    "\n",
    "Here's screenshot on Agentcore Summary that shows several key metrics at this level:\n",
    "\n",
    "![agentcore-observability-trace-summary](../imgs/agentcore-observability-trace-summary.png)\n",
    "\n",
    "Here is a screenshot of agent metrics at the `Trace` and `Span` level in CloudWatch:\n",
    "![agentcore-observability-traces-top](../imgs/agentcore-observability-traces-top.png)"
   ]
  },
  {
   "cell_type": "markdown",
   "metadata": {},
   "source": [
    "### Span\n",
    "\n",
    "A span represents a discrete, measurable unit of work within an agent's execution flow. Spans capture fine-grained operations that occur during request processing, providing detailed visibility into the internal components and steps that make up a complete trace. Each span has a defined start and end time, creating a precise timeline of agent activities and their durations.\n",
    "\n",
    "Spans include the following essential attributes for agent observability:\n",
    "\n",
    "- Operation name identifying the specific function or process being executed\n",
    "- Timestamps marking the exact start and end times of the operation\n",
    "- Parent-child relationships showing how operations nest within larger processes\n",
    "- Tags and attributes providing contextual metadata about the operation\n",
    "- Events marking significant occurrences within the span's lifetime\n",
    "- Status information indicating success, failure, or other completion states\n",
    "- Resource utilization metrics specific to the operation\n",
    "\n",
    "Spans form a hierarchical structure within traces, with parent spans encompassing child spans that represent more granular operations. For example, a high-level \"process user query\" span might contain child spans for \"parse input,\" \"retrieve context,\" \"generate response,\" and \"format output.\" This hierarchical organization creates a detailed execution tree that reveals the complete flow of operations within the agent.\n",
    "\n",
    "Spans' visualization is organized into `Timeline` and `Trajectory`. Timeline provides a visual representation for the duration each span took to complete an event. Trajectory shows a visualized lineage of the spans and in an hierarchical structure.\n",
    "\n",
    "Here's a screenshot that shows a `Timeline` view of a Spans within a Trace:\n",
    "\n",
    "![agentcore-observability-span-timeline](../imgs/agentcore-observability-span-timeline.png)"
   ]
  },
  {
   "cell_type": "markdown",
   "metadata": {},
   "source": [
    "Here's a screenshot for a Spans' Trajectory:\n",
    "\n",
    "![agentcore-observability-spans-trajectory](../imgs/agentcore-observability-span-trajectory.png)"
   ]
  },
  {
   "cell_type": "markdown",
   "metadata": {},
   "source": [
    "To further drill down into specific details for a span, you could use the span data to access the resource level data and the corresponding event details. Here's a screenshot of a span data:\n",
    "\n",
    "![agentcore-observability-span-data](../imgs/agentcore-observability-spans-data.png)"
   ]
  },
  {
   "cell_type": "markdown",
   "metadata": {},
   "source": [
    "You could drill down into the specific event to access the information such as the model prompts, system prompts and the response from an LLM invocation and more. \n",
    "\n",
    "Here's a screenshot of an event detail for a particular Span data:\n",
    "\n",
    "![agentcore-observability-span-event](../imgs/agentcore-observability-span-event.png)"
   ]
  },
  {
   "cell_type": "markdown",
   "metadata": {},
   "source": [
    "# Cleanup"
   ]
  },
  {
   "cell_type": "code",
   "execution_count": null,
   "metadata": {},
   "outputs": [],
   "source": [
    "agentcore_control_client = boto3.client(\n",
    "    'bedrock-agentcore-control',\n",
    "    region_name=region\n",
    ")\n",
    "ecr_client = boto3.client(\n",
    "    'ecr',\n",
    "    region_name=region\n",
    "    \n",
    ")\n",
    "\n",
    "iam_client = boto3.client('iam')\n",
    "\n",
    "runtime_delete_response = agentcore_control_client.delete_agent_runtime(\n",
    "    agentRuntimeId=launch_result.agent_id,\n",
    "    \n",
    ")\n",
    "\n",
    "response = ecr_client.delete_repository(\n",
    "    repositoryName=launch_result.ecr_uri.split('/')[1],\n",
    "    force=True\n",
    ")\n",
    "\n",
    "policies = iam_client.list_role_policies(\n",
    "    RoleName=agentcore_iam_role['Role']['RoleName'],\n",
    "    MaxItems=100\n",
    ")\n",
    "\n",
    "for policy_name in policies['PolicyNames']:\n",
    "    iam_client.delete_role_policy(\n",
    "        RoleName=agentcore_iam_role['Role']['RoleName'],\n",
    "        PolicyName=policy_name\n",
    "    )\n",
    "iam_response = iam_client.delete_role(\n",
    "    RoleName=agentcore_iam_role['Role']['RoleName']\n",
    ")\n",
    "\n",
    "os.remove(\"client.json\")\n",
    "os.remove(\"auth.json\")\n",
    "os.remove(\"pool.json\")"
   ]
  },
  {
   "cell_type": "markdown",
   "metadata": {},
   "source": [
    "## Summary\n",
    "### **AgentCore Runtime Deployment Pipeline**\n",
    "- **Learned**: End-to-end deployment workflow using the Bedrock AgentCore Python SDK\n",
    "- **Accomplished**: \n",
    "  - Configured agent templates with dynamic knowledge base IDs\n",
    "  - Created IAM roles with appropriate permissions\n",
    "  - Built and pushed Docker containers to Amazon ECR\n",
    "  - Deployed agents with custom configuration options\n",
    "- **Key Insight**: The AgentCore starter toolkit simplifies the containerization and deployment process significantly\n",
    "\n",
    "### **Session Management & Context Isolation**\n",
    "- **Learned**: How AgentCore Runtime provides secure session isolation for multi-user environments\n",
    "- **Accomplished**: Implemented session-based agent invocations with unique session IDs\n",
    "- **Key Features Explored**:\n",
    "  - **MicroVM Isolation**: Each session gets dedicated compute, memory, and filesystem resources\n",
    "  - **State Persistence**: Maintains conversational context across multiple interactions\n",
    "  - **Security Boundaries**: Prevents cross-session data contamination\n",
    "  - **Memory Sanitization**: Automatic cleanup after session completion\n",
    "\n",
    "### **Identity & Access Management Integration**\n",
    "- **Learned**: How to secure agent endpoints with industry-standard authentication\n",
    "- **Accomplished**: \n",
    "  - Provisioned Amazon Cognito User Pool with test users\n",
    "  - Configured JWT-based authorization for agent access\n",
    "  - Implemented bearer token authentication patterns\n",
    "  - Tested both authenticated and unauthenticated access scenarios\n",
    "- **Key Insight**: AgentCore Identity supports OAuth 2.0, Sigv4, and API key authentication methods\n",
    "\n",
    "### **Production-Grade Observability**\n",
    "- **Learned**: Comprehensive monitoring and debugging capabilities for AI agents\n",
    "- **Key Components Mastered**:\n",
    "  - **Runtime Metrics**: Invocation counts, latency, error rates, throttling, session analytics\n",
    "  - **Session-Level Monitoring**: Complete user interaction lifecycle tracking\n",
    "  - **Trace Analysis**: Detailed request-response cycle visibility with execution paths\n",
    "  - **Span Granularity**: Fine-grained operation timing and hierarchical relationships\n",
    "- **Tools Explored**: CloudWatch integration, OpenTelemetry compatibility, visual trace timelines\n",
    "\n",
    "\n",
    "## **Key Takeaways**\n",
    "\n",
    "1. **Seamless Migration**: Moving from local development to cloud production is streamlined with AgentCore Runtime\n",
    "2. **Enterprise Features**: Session isolation, identity integration, and observability are built-in capabilities\n",
    "3. **Developer Experience**: The starter toolkit abstracts complex containerization and deployment tasks\n",
    "4. **Production Operations**: Comprehensive monitoring and debugging tools support enterprise requirements\n",
    "5. **Security First**: Multiple authentication methods and session isolation ensure secure multi-tenant operations\n",
    "\n",
    "## **Next Steps**\n",
    "- Learn how to easily convert your lambda functions into MCP server using AgentCore Gateway feature in [02-mcp-integration-agentcore.ipynb](02-mcp-integration-agentocore.ipynb)\n"
   ]
  }
 ],
 "metadata": {
  "kernelspec": {
   "display_name": "agent",
   "language": "python",
   "name": "python3"
  },
  "language_info": {
   "codemirror_mode": {
    "name": "ipython",
    "version": 3
   },
   "file_extension": ".py",
   "mimetype": "text/x-python",
   "name": "python",
   "nbconvert_exporter": "python",
   "pygments_lexer": "ipython3",
   "version": "3.12.0"
  }
 },
 "nbformat": 4,
 "nbformat_minor": 4
}
