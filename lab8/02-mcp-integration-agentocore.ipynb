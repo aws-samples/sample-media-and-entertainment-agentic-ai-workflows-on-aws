{
 "cells": [
  {
   "cell_type": "markdown",
   "metadata": {},
   "source": [
    "# Build MCP Tools with Bedrock AgentCore Gateway\n",
    "Within Media and Entertainment organizations, many data sources/services are often siloed across different departments and platforms that could be leveraged by agentic applications. From content management systems and digital asset libraries to audience analytics platforms and distribution networks, these resources remain fragmented and difficult to access programmatically. A unified Model Context Protocol (MCP) gateway presents an ideal solution to this challenge by providing a standardized interface that seamlessly connects diverse media ecosystem components. Rather than requiring agentic applications to integrate with dozens of different APIs, authentication systems, and data formats, the MCP gateway acts as a centralized hub that translates and harmonizes access to all these disparate sources. This unified approach not only dramatically reduces integration complexity but also enables more sophisticated cross-platform insights and automation—allowing AI agents to correlate content performance data with audience demographics, automatically tag assets based on distribution metrics, or orchestrate complex workflows that span from content creation to audience engagement analysis.\n",
    " \n",
    "In lab6, we built a simple movie agent assistant that demonstrated MCP servers hosted locally (i.e. stdio transport protocol) as tools to enable the movie assistant agent to answer user questions effectively. In this lab, we'll enhance the solution by creating a unified MCP gateway using Amazon Bedrock AgentCore Gateway, and use the tools provided by the AgentCore gateway to achieve the same goal. \n",
    "\n",
    "## Overview\n",
    "Amazon Bedrock AgentCore Gateway provides an easy and secure way for developers to build, deploy, discover, and connect to tools at scale. AI agents need tools to perform real-world tasks—from querying databases to sending messages to analyzing documents. With Gateway, developers can convert APIs, Lambda functions, and existing services into Model Context Protocol (MCP)-compatible tools and make them available to agents through Gateway endpoints with just a few lines of code. Gateway supports OpenAPI, Smithy, and Lambda as input types, and is the only solution that provides both comprehensive ingress authentication and egress authentication in a fully-managed service. Gateway also provides 1-click integration with several popular tools such as Salesforce, Slack, Jira, Asana, and Zendesk. Gateway eliminates weeks of custom code development, infrastructure provisioning, and security implementation so developers can focus on building innovative agent applications."
   ]
  },
  {
   "cell_type": "code",
   "execution_count": null,
   "metadata": {},
   "outputs": [],
   "source": [
    "# Make sure you download the latest botocore and boto3 libraries.\n",
    "import shutil\n",
    "import subprocess\n",
    "import sys\n",
    "\n",
    "def ensure_uv_installed():\n",
    "    if shutil.which(\"uv\") is None:\n",
    "        print(\"🔧 'uv' not found. Installing with pip...\")\n",
    "        subprocess.check_call([sys.executable, \"-m\", \"pip\", \"install\", \"uv\"])\n",
    "    else:\n",
    "        print(\"✅ 'uv' is already installed.\")\n",
    "\n",
    "def uv_install(*packages):\n",
    "    ensure_uv_installed()\n",
    "    uv_path = shutil.which(\"uv\")\n",
    "    print(f\"📦 Installing {', '.join(packages)} using uv...\")\n",
    "    subprocess.check_call([uv_path, \"pip\", \"install\", *packages])\n",
    "\n",
    "uv_install(\"botocore\", \"boto3\")"
   ]
  },
  {
   "cell_type": "code",
   "execution_count": 6,
   "metadata": {},
   "outputs": [],
   "source": [
    "import boto3\n",
    "import time\n",
    "import json\n",
    "import uuid\n",
    "import time\n",
    "import os\n",
    "import sys"
   ]
  },
  {
   "cell_type": "markdown",
   "metadata": {},
   "source": [
    "## Restore Variables from Previous Lab Sessions\n",
    "\n",
    "This cell restores any variables that were stored in previous notebook sessions using the `%store` magic command.\n"
   ]
  },
  {
   "cell_type": "code",
   "execution_count": 7,
   "metadata": {},
   "outputs": [],
   "source": [
    "%store -r"
   ]
  },
  {
   "cell_type": "markdown",
   "metadata": {},
   "source": [
    "## Setup Path and Import Utilities\n",
    "\n",
    "This cell configures the Python path to import utility modules from the parent directory, including AgentCore utilities and helper functions needed for this lab.\n"
   ]
  },
  {
   "cell_type": "code",
   "execution_count": 3,
   "metadata": {},
   "outputs": [],
   "source": [
    "# Get the directory of the current script\n",
    "if '__file__' in globals():\n",
    "    current_dir = os.path.dirname(os.path.abspath(__file__))\n",
    "else:\n",
    "    current_dir = os.getcwd()  # Fallback if __file__ is not defined (e.g., Jupyter)\n",
    "\n",
    "# Navigate to the directory containing utils.py (one level up)\n",
    "utils_dir = os.path.abspath(os.path.join(current_dir, '..'))\n",
    "\n",
    "# Add to sys.path\n",
    "sys.path.insert(0, utils_dir)\n",
    "\n",
    "# Now you can import utils\n",
    "import acg_utils\n",
    "from utils import create_agentcore_role"
   ]
  },
  {
   "cell_type": "markdown",
   "metadata": {},
   "source": [
    "## Build Lambda Deployment Package\n",
    "\n",
    "This cell executes the build script that creates a deployment package for the Lambda function. The script packages the required dependencies and code into a zip file for deployment.\n"
   ]
  },
  {
   "cell_type": "code",
   "execution_count": null,
   "metadata": {},
   "outputs": [],
   "source": [
    "!./build_lambda.sh"
   ]
  },
  {
   "cell_type": "markdown",
   "metadata": {},
   "source": [
    "## Create AWS Lambda Function for MCP Tools\n",
    "\n",
    "This cell creates an AWS Lambda function that will serve as the backend for MCP tools. The function is configured with the knowledge base ID from the previous lab and will handle movie-related queries through the AgentCore Gateway.\n"
   ]
  },
  {
   "cell_type": "code",
   "execution_count": null,
   "metadata": {},
   "outputs": [],
   "source": [
    "#### Create a sample AWS Lambda function that you want to convert into MCP tools\n",
    "lambda_deployment_package_location_path = \"lambda/my_deployment_package.zip\"\n",
    "lambda_function_name = \"lab8_lambda_mcp_acg\"\n",
    "lambda_resp = acg_utils.create_gateway_lambda(lambda_deployment_package_location_path, \n",
    "                                              lambda_function_name=lambda_function_name, \n",
    "                                              envs={ \"KB_ID\" : lab6_kb_id})\n",
    "\n",
    "if lambda_resp is not None:\n",
    "    if lambda_resp['exit_code'] == 0:\n",
    "        print(\"Lambda function created with ARN: \", lambda_resp['lambda_function_arn'])\n",
    "    else:\n",
    "        print(\"Lambda function creation failed with message: \", lambda_resp['lambda_function_arn'])"
   ]
  },
  {
   "cell_type": "markdown",
   "metadata": {},
   "source": [
    "## Create IAM Role for AgentCore Gateway\n",
    "\n",
    "This cell creates an IAM role that the AgentCore Gateway will assume. This role provides the necessary permissions for the gateway to invoke Lambda functions and manage MCP tools.\n"
   ]
  },
  {
   "cell_type": "code",
   "execution_count": null,
   "metadata": {},
   "outputs": [],
   "source": [
    "#### Create an IAM role for the Gateway to assume\n",
    "agentcore_gateway_iam_role = acg_utils.create_agentcore_gateway_role(\"lab8-lambdagateway\")\n",
    "print(\"Agentcore gateway role ARN: \", agentcore_gateway_iam_role['Role']['Arn'])"
   ]
  },
  {
   "cell_type": "markdown",
   "metadata": {},
   "source": [
    "## Setup Cognito Authentication\n",
    "\n",
    "This cell configures Amazon Cognito for authentication with the AgentCore Gateway. It creates a user pool, resource server, and client credentials that will be used to secure access to the gateway endpoints.\n"
   ]
  },
  {
   "cell_type": "code",
   "execution_count": null,
   "metadata": {},
   "outputs": [],
   "source": [
    "REGION = os.environ['AWS_DEFAULT_REGION']\n",
    "USER_POOL_NAME = \"lab8-agentcore-gateway-pool\"\n",
    "RESOURCE_SERVER_ID = \"lab8-agentcore-gateway-id\"\n",
    "RESOURCE_SERVER_NAME = \"lab8-agentcore-gateway-name\"\n",
    "CLIENT_NAME = \"lab8-agentcore-gateway-client\"\n",
    "SCOPES = [\n",
    "    {\"ScopeName\": \"gateway:read\", \"ScopeDescription\": \"Read access\"},\n",
    "    {\"ScopeName\": \"gateway:write\", \"ScopeDescription\": \"Write access\"}\n",
    "]\n",
    "scopeString = f\"{RESOURCE_SERVER_ID}/gateway:read {RESOURCE_SERVER_ID}/gateway:write\"\n",
    "\n",
    "cognito = boto3.client(\"cognito-idp\", region_name=REGION)\n",
    "\n",
    "print(\"Creating or retrieving Cognito resources...\")\n",
    "user_pool_id = acg_utils.get_or_create_user_pool(cognito, USER_POOL_NAME)\n",
    "print(f\"User Pool ID: {user_pool_id}\")\n",
    "\n",
    "acg_utils.get_or_create_resource_server(cognito, user_pool_id, RESOURCE_SERVER_ID, RESOURCE_SERVER_NAME, SCOPES)\n",
    "print(\"Resource server ensured.\")\n",
    "\n",
    "client_id, client_secret  = acg_utils.get_or_create_m2m_client(cognito, user_pool_id, CLIENT_NAME, RESOURCE_SERVER_ID)\n",
    "print(f\"Client ID: {client_id}\")\n",
    "\n",
    "# Get discovery URL  \n",
    "cognito_discovery_url = f'https://cognito-idp.{REGION}.amazonaws.com/{user_pool_id}/.well-known/openid-configuration'\n",
    "print(cognito_discovery_url)"
   ]
  },
  {
   "cell_type": "markdown",
   "metadata": {},
   "source": [
    "## Create AgentCore Gateway\n",
    "\n",
    "This cell creates the Amazon Bedrock AgentCore Gateway with Cognito JWT authorization. The gateway will serve as the MCP server endpoint that agents can connect to for accessing the Lambda-based tools.\n"
   ]
  },
  {
   "cell_type": "code",
   "execution_count": null,
   "metadata": {},
   "outputs": [],
   "source": [
    "# CreateGateway with Cognito authorizer without CMK. Use the Cognito user pool created in the previous step\n",
    "gateway_client = boto3.client('bedrock-agentcore-control', region_name = os.environ['AWS_DEFAULT_REGION'])\n",
    "gateway_name = 'AgentCoreWorkshopGateway'\n",
    "auth_config = {\n",
    "    \"customJWTAuthorizer\": { \n",
    "        \"allowedClients\": [client_id],  # Client MUST match with the ClientId configured in Cognito. Example: 7rfbikfsm51j2fpaggacgng84g\n",
    "        \"discoveryUrl\": cognito_discovery_url\n",
    "    }\n",
    "}\n",
    "create_response = gateway_client.create_gateway(name=gateway_name,\n",
    "    roleArn = agentcore_gateway_iam_role['Role']['Arn'], # The IAM Role must have permissions to create/list/get/delete Gateway \n",
    "    protocolType='MCP',\n",
    "    authorizerType='CUSTOM_JWT',\n",
    "    authorizerConfiguration=auth_config, \n",
    "    description='AgentCore Gateway with AWS Lambda target type'\n",
    ")\n",
    "print(create_response)\n",
    "# Retrieve the GatewayID used for GatewayTarget creation\n",
    "gatewayID = create_response[\"gatewayId\"]\n",
    "gatewayURL = create_response[\"gatewayUrl\"]\n",
    "print(gatewayID)"
   ]
  },
  {
   "cell_type": "markdown",
   "metadata": {},
   "source": [
    "## Configure Gateway Target with Lambda Backend\n",
    "\n",
    "This cell creates a gateway target that connects the AgentCore Gateway to the Lambda function. It defines the MCP tool schemas for `get_title_rating` and `get_show_detail` tools that the movie assistant agent will use.\n"
   ]
  },
  {
   "cell_type": "code",
   "execution_count": 14,
   "metadata": {},
   "outputs": [],
   "source": [
    "lambda_target_config = {\n",
    "    \"mcp\": {\n",
    "        \"lambda\": {\n",
    "            \"lambdaArn\": lambda_resp['lambda_function_arn'], # Replace this with your AWS Lambda function ARN\n",
    "            \"toolSchema\": {\n",
    "                \"inlinePayload\": [\n",
    "                    {\n",
    "                        \"name\": \"get_title_rating\",\n",
    "                        \"description\": \"tool that retrieves the movie rating for a given title id\",\n",
    "                        \"inputSchema\": {\n",
    "                            \"type\": \"object\",\n",
    "                            \"properties\": {\n",
    "                                \"title_id\": {\n",
    "                                    \"type\": \"string\"\n",
    "                                },\n",
    "\n",
    "                            },\n",
    "                            \"required\": [\"title_id\"]\n",
    "                        }\n",
    "                    },\n",
    "                    {\n",
    "                        \"name\": \"get_show_detail\",\n",
    "                        \"description\": \"tool that get the movie or tv show information based on user query\",\n",
    "                        \"inputSchema\": {\n",
    "                            \"type\": \"object\",\n",
    "                            \"properties\": {\n",
    "                                \"query\": {\n",
    "                                    \"type\": \"string\"\n",
    "                                },\n",
    "\n",
    "                            },\n",
    "                            \"required\": [\"query\"]\n",
    "                        }\n",
    "                    }\n",
    "                ]\n",
    "            }\n",
    "        }\n",
    "    }\n",
    "}\n",
    "\n",
    "credential_config = [ \n",
    "    {\n",
    "        \"credentialProviderType\" : \"GATEWAY_IAM_ROLE\"\n",
    "    }\n",
    "]\n",
    "targetname='MovieAssistant'\n",
    "response = gateway_client.create_gateway_target(\n",
    "    gatewayIdentifier=gatewayID,\n",
    "    name=targetname,\n",
    "    description='Lambda Target for Movie Assistant Agent',\n",
    "    targetConfiguration=lambda_target_config,\n",
    "    credentialProviderConfigurations=credential_config)"
   ]
  },
  {
   "cell_type": "code",
   "execution_count": null,
   "metadata": {},
   "outputs": [],
   "source": [
    "from boto3.session import Session\n",
    "boto_session = Session()\n",
    "region = boto_session.region_name\n",
    "region"
   ]
  },
  {
   "cell_type": "markdown",
   "metadata": {},
   "source": [
    "## Store Authentication Configuration\n",
    "\n",
    "This cell obtains access tokens from Cognito and stores the gateway configuration in AWS Systems Manager Parameter Store and Secrets Manager. This configuration will be used by the MCP client to authenticate with the gateway.\n"
   ]
  },
  {
   "cell_type": "markdown",
   "metadata": {
    "vscode": {
     "languageId": "raw"
    }
   },
   "source": [
    "## Get Current AWS Region\n",
    "\n",
    "This cell retrieves the current AWS region from the boto3 session, which will be used for subsequent AWS service calls and configuration.\n"
   ]
  },
  {
   "cell_type": "code",
   "execution_count": null,
   "metadata": {},
   "outputs": [],
   "source": [
    "token_response = acg_utils.get_token(user_pool_id, client_id, client_secret,scopeString,REGION)\n",
    "bearer_access_token = token_response[\"access_token\"]\n",
    "\n",
    "cognito_config = {\n",
    "    'pool_id': user_pool_id,\n",
    "    'client_id': client_id,\n",
    "    'client_secret' : client_secret,\n",
    "    'bearer_access_token': bearer_access_token,\n",
    "    'discovery_url': cognito_discovery_url,\n",
    "}\n",
    "# Get discovery URL  \n",
    "cognito_discovery_url = f'https://cognito-idp.{REGION}.amazonaws.com/{user_pool_id}/.well-known/openid-configuration'\n",
    "print(cognito_discovery_url)\n",
    "\n",
    "ssm_client = boto3.client('ssm', region_name=region)\n",
    "secrets_client = boto3.client('secretsmanager', region_name=region)\n",
    "\n",
    "try:\n",
    "    cognito_credentials_response = secrets_client.create_secret(\n",
    "        Name='mcp_server/cognito/credentials',\n",
    "        Description='Cognito credentials for MCP server',\n",
    "        SecretString=json.dumps(cognito_config)\n",
    "    )\n",
    "    print(\"✓ Cognito credentials stored in Secrets Manager\")\n",
    "\n",
    "except secrets_client.exceptions.ResourceExistsException:\n",
    "    secrets_client.update_secret(\n",
    "        SecretId='mcp_server/cognito/credentials',\n",
    "        SecretString=json.dumps(cognito_config)\n",
    "    )\n",
    "    print(\"✓ Cognito credentials updated in Secrets Manager\")\n",
    "\n",
    "agentcore_gateway_url_param_response = ssm_client.put_parameter(\n",
    "    Name='/mcp_server/gateway/gateway_url',\n",
    "    Value=gatewayURL,\n",
    "    Type='String',\n",
    "    Description='AgentCore Gateway URL for Lambda MCP server',\n",
    "    Overwrite=True\n",
    ")\n",
    "print(\"\\nConfiguration stored successfully!\")\n"
   ]
  },
  {
   "cell_type": "markdown",
   "metadata": {},
   "source": [
    "## Configure Agent Names and Scripts\n",
    "\n",
    "This cell sets up the naming convention for the movie assistant agent, including both local and deployed versions, and generates a unique identifier for the agent instance.\n"
   ]
  },
  {
   "cell_type": "code",
   "execution_count": 17,
   "metadata": {},
   "outputs": [],
   "source": [
    "agent_name = \"movie_assistant_agent_mcp\"\n",
    "agent_local_script = f\"{agent_name}_local.py\"\n",
    "agent_script = f\"{agent_name}.py\"\n",
    "agent_name = f\"{agent_name}_{str(uuid.uuid4())[:5]}\""
   ]
  },
  {
   "cell_type": "markdown",
   "metadata": {},
   "source": [
    "## Define Test Query\n",
    "\n",
    "This cell defines a sample query asking about the genre of \"Quantum Shadows\" and formats it as JSON payload for testing the movie assistant agent.\n"
   ]
  },
  {
   "cell_type": "code",
   "execution_count": 18,
   "metadata": {},
   "outputs": [],
   "source": [
    "query = \"\"\"What is the genre for Quantum Shadows?\"\"\"\n",
    "payload = json.dumps({ \"query\" : query})"
   ]
  },
  {
   "cell_type": "markdown",
   "metadata": {},
   "source": [
    "## Test Local Movie Assistant Agent\n",
    "\n",
    "This cell runs the movie assistant agent locally using the MCP gateway configuration. The `%%time` magic command measures execution time for performance comparison.\n"
   ]
  },
  {
   "cell_type": "code",
   "execution_count": null,
   "metadata": {},
   "outputs": [],
   "source": [
    "%%time\n",
    "!python movie_assistant_agent_mcp_local.py '{payload}'"
   ]
  },
  {
   "cell_type": "markdown",
   "metadata": {},
   "source": [
    "## Create IAM Role for AgentCore Runtime\n",
    "\n",
    "This cell creates a dedicated IAM role for the AgentCore runtime environment. This role provides the necessary permissions for the deployed agent to access AWS services and the MCP gateway.\n"
   ]
  },
  {
   "cell_type": "code",
   "execution_count": null,
   "metadata": {},
   "outputs": [],
   "source": [
    "agentcore_iam_role = create_agentcore_role(agent_name=agent_name)"
   ]
  },
  {
   "cell_type": "markdown",
   "metadata": {},
   "source": [
    "## Configure AgentCore Runtime\n",
    "\n",
    "This cell configures the AgentCore runtime environment for deploying the movie assistant agent. It specifies the entry point script, execution role, and enables automatic ECR repository creation for containerized deployment.\n"
   ]
  },
  {
   "cell_type": "code",
   "execution_count": null,
   "metadata": {},
   "outputs": [],
   "source": [
    "from bedrock_agentcore_starter_toolkit import Runtime\n",
    "from boto3.session import Session\n",
    "boto_session = Session()\n",
    "region = boto_session.region_name\n",
    "region\n",
    "\n",
    "agentcore_runtime = Runtime()\n",
    "\n",
    "response = agentcore_runtime.configure(\n",
    "    entrypoint=agent_script,\n",
    "    execution_role=agentcore_iam_role['Role']['Arn'],\n",
    "    auto_create_ecr=True,\n",
    "    requirements_file=\"requirements.txt\",\n",
    "    region=region,\n",
    "    agent_name=agent_name\n",
    ")\n",
    "response"
   ]
  },
  {
   "cell_type": "markdown",
   "metadata": {},
   "source": [
    "## Launch AgentCore Runtime\n",
    "\n",
    "This cell initiates the deployment of the movie assistant agent to the AgentCore runtime environment. The deployment process includes building the container image and deploying it to AWS infrastructure.\n"
   ]
  },
  {
   "cell_type": "code",
   "execution_count": null,
   "metadata": {},
   "outputs": [],
   "source": [
    "launch_result = agentcore_runtime.launch()\n"
   ]
  },
  {
   "cell_type": "markdown",
   "metadata": {},
   "source": [
    "## Monitor Deployment Status\n",
    "\n",
    "This cell continuously monitors the deployment status of the AgentCore runtime, polling every 10 seconds until the deployment reaches a final state (READY, CREATE_FAILED, DELETE_FAILED, or UPDATE_FAILED).\n"
   ]
  },
  {
   "cell_type": "code",
   "execution_count": null,
   "metadata": {},
   "outputs": [],
   "source": [
    "status_response = agentcore_runtime.status()\n",
    "status = status_response.endpoint['status']\n",
    "end_status = ['READY', 'CREATE_FAILED', 'DELETE_FAILED', 'UPDATE_FAILED']\n",
    "while status not in end_status:\n",
    "    time.sleep(10)\n",
    "    status_response = agentcore_runtime.status()\n",
    "    status = status_response.endpoint['status']\n",
    "    print(status)\n",
    "status"
   ]
  },
  {
   "cell_type": "markdown",
   "metadata": {},
   "source": [
    "## Generate Session ID\n",
    "\n",
    "This cell creates a unique session ID using UUID4 for tracking conversations with the deployed agent. The session ID maintains context across multiple interactions.\n"
   ]
  },
  {
   "cell_type": "code",
   "execution_count": 25,
   "metadata": {},
   "outputs": [],
   "source": [
    "session_id = uuid.uuid4()"
   ]
  },
  {
   "cell_type": "markdown",
   "metadata": {},
   "source": [
    "## Invoke Deployed Agent\n",
    "\n",
    "This cell sends the test query to the deployed AgentCore runtime instance, demonstrating how the agent uses the MCP gateway to access movie information through the Lambda-based tools.\n"
   ]
  },
  {
   "cell_type": "code",
   "execution_count": null,
   "metadata": {},
   "outputs": [],
   "source": [
    "query = \"\"\"What is the genre for Quantum Shadows?\"\"\"\n",
    "payload = json.dumps({ \"query\" : query})\n",
    "invoke_response = agentcore_runtime.invoke(json.loads(payload), session_id=str(session_id))"
   ]
  },
  {
   "cell_type": "markdown",
   "metadata": {
    "vscode": {
     "languageId": "raw"
    }
   },
   "source": [
    "## Define Output Cleaning Function\n",
    "\n",
    "This cell defines a utility function to clean and format the agent's response output by removing escape characters, thinking tags, and other formatting artifacts to make the output more readable.\n"
   ]
  },
  {
   "cell_type": "code",
   "execution_count": 27,
   "metadata": {},
   "outputs": [],
   "source": [
    "import re\n",
    "def cleaned_output(invoke_response):\n",
    "    cleaned_output = \"\".join([ x.decode(\"utf-8\").replace(\"\\\\\\\"\", \"\") for x in invoke_response[\"response\"]]).replace(\"\\n\", \"\").replace(\"\\\"\\\"\", \"\").replace('\\\\\"', \"\").replace('\\\\n', '\\n').replace(\"\\\"\", \"\")\n",
    "    cleaned_output = re.sub(r\"<thinking>.*?</thinking>\", \"\", cleaned_output, flags=re.DOTALL)\n",
    "    return cleaned_output"
   ]
  },
  {
   "cell_type": "code",
   "execution_count": null,
   "metadata": {},
   "outputs": [],
   "source": [
    "print(cleaned_output(invoke_response))"
   ]
  },
  {
   "cell_type": "markdown",
   "metadata": {},
   "source": [
    "## Test Follow-up Query with Context\n",
    "\n",
    "This cell demonstrates context retention by asking a follow-up question about the movie rating using the same session ID. The agent should understand \"this movie\" refers to \"Quantum Shadows\" from the previous query.\n"
   ]
  },
  {
   "cell_type": "code",
   "execution_count": null,
   "metadata": {},
   "outputs": [],
   "source": [
    "query=\"What is the rating of this movie?\"\n",
    "payload = json.dumps({ \"query\" : query})\n",
    "invoke_response = agentcore_runtime.invoke(json.loads(payload), session_id=str(session_id))\n",
    "print(cleaned_output(invoke_response))"
   ]
  },
  {
   "cell_type": "markdown",
   "metadata": {},
   "source": [
    "# Cleanup"
   ]
  },
  {
   "cell_type": "code",
   "execution_count": null,
   "metadata": {},
   "outputs": [],
   "source": [
    "agentcore_control_client = boto3.client(\n",
    "    'bedrock-agentcore-control',\n",
    "    region_name=region\n",
    ")\n",
    "ecr_client = boto3.client(\n",
    "    'ecr',\n",
    "    region_name=region\n",
    "    \n",
    ")\n",
    "\n",
    "iam_client = boto3.client('iam')\n",
    "\n",
    "runtime_delete_response = agentcore_control_client.delete_agent_runtime(\n",
    "    agentRuntimeId=launch_result.agent_id,\n",
    "    \n",
    ")\n",
    "\n",
    "response = ecr_client.delete_repository(\n",
    "    repositoryName=launch_result.ecr_uri.split('/')[1],\n",
    "    force=True\n",
    ")\n",
    "\n",
    "policies = iam_client.list_role_policies(\n",
    "    RoleName=agentcore_iam_role['Role']['RoleName'],\n",
    "    MaxItems=100\n",
    ")\n",
    "\n",
    "for policy_name in policies['PolicyNames']:\n",
    "    iam_client.delete_role_policy(\n",
    "        RoleName=agentcore_iam_role['Role']['RoleName'],\n",
    "        PolicyName=policy_name\n",
    "    )\n",
    "iam_response = iam_client.delete_role(\n",
    "    RoleName=agentcore_iam_role['Role']['RoleName']\n",
    ")\n",
    "\n",
    "acg_utils.delete_gateway(gateway_client,gatewayID)"
   ]
  },
  {
   "cell_type": "markdown",
   "metadata": {},
   "source": [
    "## Summary\n",
    "\n",
    "This notebook has successfully demonstrated how to create a unified Model Context Protocol (MCP) gateway using Amazon Bedrock AgentCore Gateway for media and entertainment applications.\n",
    "\n",
    "### Infrastructure Setup\n",
    "- **Lambda Function**: Created an AWS Lambda function that serves as the backend for MCP tools, configured with knowledge base access for movie data queries\n",
    "- **Cognito Authentication**: Set up Amazon Cognito user pool, resource server, and client credentials for secure gateway access\n",
    "\n",
    "### AgentCore Gateway Configuration\n",
    "- **Gateway Creation**: Built a production-ready MCP gateway with JWT authorization using Cognito\n",
    "- **Tool Definition**: Configured two MCP tools (`get_title_rating` and `get_show_detail`) with proper schemas for movie information retrieval\n",
    "- **Target Integration**: Connected the gateway to the Lambda backend using credential provider configurations\n",
    "\n",
    "### Agent Development and Testing\n",
    "- **Local Testing**: Validated the movie assistant agent locally using the MCP gateway configuration\n",
    "- **Cloud Deployment**: Successfully deployed the agent to AgentCore runtime environment with containerized packaging\n",
    "- **Functionality Verification**: Tested both individual queries and context-aware follow-up questions demonstrating session management\n",
    "\n",
    "### Key Benefits Achieved\n",
    "- **Unified Access**: Created a single MCP endpoint that standardizes access to movie data services\n",
    "- **Scalability**: Established infrastructure that can easily accommodate additional tools and data sources\n",
    "- **Security**: Implemented proper authentication and authorization using AWS native services\n",
    "- **Flexibility**: Demonstrated both local development and cloud deployment scenarios\n",
    "\n",
    "This lab showcases how MCP gateways can solve the common challenge of siloed data sources in media organizations by providing a unified, secure, and scalable interface for AI agents to access diverse content management systems and analytics platforms.\n"
   ]
  }
 ],
 "metadata": {
  "kernelspec": {
   "display_name": "agent",
   "language": "python",
   "name": "python3"
  },
  "language_info": {
   "codemirror_mode": {
    "name": "ipython",
    "version": 3
   },
   "file_extension": ".py",
   "mimetype": "text/x-python",
   "name": "python",
   "nbconvert_exporter": "python",
   "pygments_lexer": "ipython3",
   "version": "3.12.0"
  }
 },
 "nbformat": 4,
 "nbformat_minor": 2
}
