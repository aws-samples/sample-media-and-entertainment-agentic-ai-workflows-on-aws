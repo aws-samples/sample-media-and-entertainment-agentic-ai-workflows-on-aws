{
 "cells": [
  {
   "cell_type": "markdown",
   "metadata": {
    "editable": true,
    "slideshow": {
     "slide_type": ""
    },
    "tags": []
   },
   "source": [
    "# Cleanup\n",
    "\n",
    "This notebook demonstrates how to clean up all the resources created when you followed the **Getting Started in Your Own Account**  instructions.  Follow this notebook if you are running the workshop in your own account.\n",
    "\n",
    "<div class=\"alert alert-block alert-info\">\n",
    "🛑 If you are running at an AWS event, you do not need to follow these steps.  The resources will be cleaned up automatically.\n",
    "</div>\n"
   ]
  },
  {
   "cell_type": "code",
   "execution_count": null,
   "metadata": {
    "vscode": {
     "languageId": "plaintext"
    }
   },
   "outputs": [],
   "source": [
    "%store -r"
   ]
  },
  {
   "cell_type": "markdown",
   "metadata": {},
   "source": [
    "## Delete the S3 bucket \n",
    "\n",
    "Execute the cell below to find the name of the bucket you used for the workshop"
   ]
  },
  {
   "cell_type": "code",
   "execution_count": null,
   "metadata": {
    "vscode": {
     "languageId": "plaintext"
    }
   },
   "outputs": [],
   "source": [
    "session['bucket']"
   ]
  },
  {
   "cell_type": "markdown",
   "metadata": {},
   "source": [
    "1. Navigate to the [S3 console](https://us-west-2.console.aws.amazon.com/s3/home?region=us-west-2)\n",
    "2. Select the radio button next to the bucket name\n",
    "3. Click on the **Empty** button and follow the instructions in the Empty bucket dialog.  Emptying the bucket will removes all the metadata generated during the workshop.\n",
    "4. Once the bucket is empty, you can return to the [S3 console](https://us-west-2.console.aws.amazon.com/s3/home?region=us-west-2)\n",
    "5. Select the radio button again\n",
    "6. Click on the **Delete** button and follow the instructions in the Delete bucket dialog.  "
   ]
  },
  {
   "cell_type": "markdown",
   "metadata": {},
   "source": [
    "## Delete the Opensearch Serverless collection\n",
    "\n",
    "Execute the cell below to get the name of the Opensearch Serverless collection endpoint"
   ]
  },
  {
   "cell_type": "code",
   "execution_count": null,
   "metadata": {},
   "outputs": [],
   "source": [
    "session[\"AOSSCollectionEndpoint\"]"
   ]
  },
  {
   "cell_type": "markdown",
   "metadata": {},
   "source": [
    "1. Navigate to the [Opensearch Serverless console collections page](https://us-west-2.console.aws.amazon.com/aos/home?region=us-west-2#opensearch/collections)\n",
    "2. Select the radio button for the collection you created in the **Getting Started in Your Own Account** section.\n",
    "3. Click on the **Delete** button and follow the instructions."
   ]
  },
  {
   "cell_type": "markdown",
   "metadata": {},
   "source": [
    "## Delete the Sagemaker Studio Domain"
   ]
  },
  {
   "cell_type": "markdown",
   "metadata": {},
   "source": [
    "To delete a Space from a Sagemaker Studio Domain, all apps in the space need to be stopped.  \n",
    "\n",
    "1. Navigate to SageMaker Studio and open the Jupyter app\n",
    "2. Click on the `Stop` button next to the Space for the app.\n",
    "3. Navigate to the [Sagemaker console domains page](https://us-west-2.console.aws.amazon.com/sagemaker/home?region=us-west-2#/studio)\n",
    "4. Select the link for the domain you created for the workshop to navigate to the **Domain details** page\n",
    "5. Scroll down to the **Delete domain** panel.  Click the **Delete domain** button and follow the instructions."
   ]
  }
 ],
 "metadata": {
  "kernelspec": {
   "display_name": "Python 3 (ipykernel)",
   "language": "python",
   "name": "python3"
  },
  "language_info": {
   "codemirror_mode": {
    "name": "ipython",
    "version": 3
   },
   "file_extension": ".py",
   "mimetype": "text/x-python",
   "name": "python",
   "nbconvert_exporter": "python",
   "pygments_lexer": "ipython3",
   "version": "3.11.10"
  }
 },
 "nbformat": 4,
 "nbformat_minor": 4
}
